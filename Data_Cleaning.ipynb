{
  "nbformat": 4,
  "nbformat_minor": 0,
  "metadata": {
    "kernelspec": {
      "display_name": "Python 3",
      "language": "python",
      "name": "python3"
    },
    "language_info": {
      "codemirror_mode": {
        "name": "ipython",
        "version": 3
      },
      "file_extension": ".py",
      "mimetype": "text/x-python",
      "name": "python",
      "nbconvert_exporter": "python",
      "pygments_lexer": "ipython3",
      "version": "3.6.9"
    },
    "varInspector": {
      "cols": {
        "lenName": 16,
        "lenType": 16,
        "lenVar": 40
      },
      "kernels_config": {
        "python": {
          "delete_cmd_postfix": "",
          "delete_cmd_prefix": "del ",
          "library": "var_list.py",
          "varRefreshCmd": "print(var_dic_list())"
        },
        "r": {
          "delete_cmd_postfix": ") ",
          "delete_cmd_prefix": "rm(",
          "library": "var_list.r",
          "varRefreshCmd": "cat(var_dic_list()) "
        }
      },
      "types_to_exclude": [
        "module",
        "function",
        "builtin_function_or_method",
        "instance",
        "_Feature"
      ],
      "window_display": false
    },
    "colab": {
      "name": "Copy of Data_Cleaning_Lecture.ipynb",
      "provenance": [],
      "collapsed_sections": [],
      "toc_visible": true
    }
  },
  "cells": [
    {
      "cell_type": "code",
      "metadata": {
        "id": "d4cNAbGFbI9x"
      },
      "source": [
        "import numpy as np\n",
        "import pandas as pd\n",
        "# https://plotly.com/python/ \n",
        "# good for interactive graphs\n",
        "import plotly.express as px"
      ],
      "execution_count": 95,
      "outputs": []
    },
    {
      "cell_type": "markdown",
      "metadata": {
        "id": "GDXozNx8bI93"
      },
      "source": [
        "# Project - Data Cleaning \n",
        "\n"
      ]
    },
    {
      "cell_type": "code",
      "metadata": {
        "id": "d6SBrB_2bI94"
      },
      "source": [
        "df = pd.read_csv('https://raw.githubusercontent.com/ReDI-School/data-analytics/master/Class%20material/Class-11_Data_cleaning/berlin_housing_with_scraped.csv')"
      ],
      "execution_count": 96,
      "outputs": []
    },
    {
      "cell_type": "markdown",
      "metadata": {
        "id": "8EtJLvHWbI-C"
      },
      "source": [
        "## Check some basic info"
      ]
    },
    {
      "cell_type": "code",
      "metadata": {
        "id": "nlYfVEnrbI-D",
        "colab": {
          "base_uri": "https://localhost:8080/"
        },
        "outputId": "abf142f4-ff9b-424c-ef4e-92bde16571ef"
      },
      "source": [
        "df.shape"
      ],
      "execution_count": 97,
      "outputs": [
        {
          "output_type": "execute_result",
          "data": {
            "text/plain": [
              "(764, 22)"
            ]
          },
          "metadata": {},
          "execution_count": 97
        }
      ]
    },
    {
      "cell_type": "code",
      "metadata": {
        "id": "5bUCCKoBbI-J",
        "colab": {
          "base_uri": "https://localhost:8080/",
          "height": 1000
        },
        "outputId": "3e8c34a9-bdc3-4b2c-cb75-8ed7c2bfdca0"
      },
      "source": [
        "df.head(10)"
      ],
      "execution_count": 98,
      "outputs": [
        {
          "output_type": "execute_result",
          "data": {
            "text/html": [
              "\n",
              "  <div id=\"df-161bda7a-ff8b-4101-9cae-3e82eb43da3a\">\n",
              "    <div class=\"colab-df-container\">\n",
              "      <div>\n",
              "<style scoped>\n",
              "    .dataframe tbody tr th:only-of-type {\n",
              "        vertical-align: middle;\n",
              "    }\n",
              "\n",
              "    .dataframe tbody tr th {\n",
              "        vertical-align: top;\n",
              "    }\n",
              "\n",
              "    .dataframe thead th {\n",
              "        text-align: right;\n",
              "    }\n",
              "</style>\n",
              "<table border=\"1\" class=\"dataframe\">\n",
              "  <thead>\n",
              "    <tr style=\"text-align: right;\">\n",
              "      <th></th>\n",
              "      <th>url</th>\n",
              "      <th>region</th>\n",
              "      <th>condition</th>\n",
              "      <th>rooms</th>\n",
              "      <th>rent</th>\n",
              "      <th>year_construction</th>\n",
              "      <th>space</th>\n",
              "      <th>cold_rent</th>\n",
              "      <th>utilities</th>\n",
              "      <th>heating_costs</th>\n",
              "      <th>security_deposit</th>\n",
              "      <th>parking_space</th>\n",
              "      <th>renovated_date</th>\n",
              "      <th>property_condition</th>\n",
              "      <th>furnishing</th>\n",
              "      <th>heating_type</th>\n",
              "      <th>energy_sources</th>\n",
              "      <th>energy_certificate</th>\n",
              "      <th>type_of_certificate</th>\n",
              "      <th>energy_requirement</th>\n",
              "      <th>efficiency_class</th>\n",
              "      <th>tags</th>\n",
              "    </tr>\n",
              "  </thead>\n",
              "  <tbody>\n",
              "    <tr>\n",
              "      <th>0</th>\n",
              "      <td>https://www.immobilienscout24.de/expose/116051687</td>\n",
              "      <td>Mitte</td>\n",
              "      <td>first_time_use</td>\n",
              "      <td>4.0</td>\n",
              "      <td>2659.00</td>\n",
              "      <td>2019</td>\n",
              "      <td>117.20</td>\n",
              "      <td>2.199€</td>\n",
              "      <td>+460€</td>\n",
              "      <td>in</td>\n",
              "      <td>3</td>\n",
              "      <td>120€</td>\n",
              "      <td>NaN</td>\n",
              "      <td>New</td>\n",
              "      <td>NaN</td>\n",
              "      <td>Underfloor Heating</td>\n",
              "      <td>NaN</td>\n",
              "      <td>NaN</td>\n",
              "      <td>Bedarfsausweis</td>\n",
              "      <td>NaN</td>\n",
              "      <td>B</td>\n",
              "      <td>['Balkon', 'Terrasse Balkon', 'Terrasse Person...</td>\n",
              "    </tr>\n",
              "    <tr>\n",
              "      <th>1</th>\n",
              "      <td>https://www.immobilienscout24.de/expose/115338103</td>\n",
              "      <td>Kreuzberg</td>\n",
              "      <td>first_time_use</td>\n",
              "      <td>1.0</td>\n",
              "      <td>1200.00</td>\n",
              "      <td>2020</td>\n",
              "      <td>29.33</td>\n",
              "      <td>973,51€</td>\n",
              "      <td>+226,49€</td>\n",
              "      <td>in</td>\n",
              "      <td>2920,53</td>\n",
              "      <td>NaN</td>\n",
              "      <td>NaN</td>\n",
              "      <td>New</td>\n",
              "      <td>Gehobene Qualität</td>\n",
              "      <td>Central Heating</td>\n",
              "      <td>Fernwärme Energieausweis liegt vor</td>\n",
              "      <td>liegt vor</td>\n",
              "      <td>NaN</td>\n",
              "      <td>NaN</td>\n",
              "      <td>NaN</td>\n",
              "      <td>['Balkon', 'Terrasse Balkon', 'Terrasse Person...</td>\n",
              "    </tr>\n",
              "    <tr>\n",
              "      <th>2</th>\n",
              "      <td>https://www.immobilienscout24.de/expose/116458710</td>\n",
              "      <td>Köpenick</td>\n",
              "      <td>well_kept</td>\n",
              "      <td>2.0</td>\n",
              "      <td>979.00</td>\n",
              "      <td>1997</td>\n",
              "      <td>83.61</td>\n",
              "      <td>799€</td>\n",
              "      <td>+90€</td>\n",
              "      <td>+90€</td>\n",
              "      <td>Drei</td>\n",
              "      <td>NaN</td>\n",
              "      <td>NaN</td>\n",
              "      <td>Groomed</td>\n",
              "      <td>Normale Qualität</td>\n",
              "      <td>Central Heating</td>\n",
              "      <td>Fernwärme Energieausweis liegt vor</td>\n",
              "      <td>liegt vor</td>\n",
              "      <td>Verbrauchsausweis Energie­ver­brauchs­kennwert...</td>\n",
              "      <td>NaN</td>\n",
              "      <td>NaN</td>\n",
              "      <td>['Balkon', 'Terrasse Balkon', 'Terrasse Person...</td>\n",
              "    </tr>\n",
              "    <tr>\n",
              "      <th>3</th>\n",
              "      <td>https://www.immobilienscout24.de/expose/116573177</td>\n",
              "      <td>Wilmersdorf</td>\n",
              "      <td>well_kept</td>\n",
              "      <td>4.0</td>\n",
              "      <td>1830.22</td>\n",
              "      <td>1900</td>\n",
              "      <td>171.18</td>\n",
              "      <td>NaN</td>\n",
              "      <td>NaN</td>\n",
              "      <td>NaN</td>\n",
              "      <td>NaN</td>\n",
              "      <td>NaN</td>\n",
              "      <td>NaN</td>\n",
              "      <td>NaN</td>\n",
              "      <td>NaN</td>\n",
              "      <td>NaN</td>\n",
              "      <td>NaN</td>\n",
              "      <td>NaN</td>\n",
              "      <td>NaN</td>\n",
              "      <td>NaN</td>\n",
              "      <td>NaN</td>\n",
              "      <td>['Balkon', 'Terrasse Balkon', 'Terrasse Person...</td>\n",
              "    </tr>\n",
              "    <tr>\n",
              "      <th>4</th>\n",
              "      <td>https://www.immobilienscout24.de/expose/115925878</td>\n",
              "      <td>Kreuzberg</td>\n",
              "      <td>first_time_use</td>\n",
              "      <td>2.0</td>\n",
              "      <td>2272.00</td>\n",
              "      <td>2020</td>\n",
              "      <td>88.27</td>\n",
              "      <td>NaN</td>\n",
              "      <td>NaN</td>\n",
              "      <td>NaN</td>\n",
              "      <td>NaN</td>\n",
              "      <td>NaN</td>\n",
              "      <td>NaN</td>\n",
              "      <td>New</td>\n",
              "      <td>Gehobene Qualität</td>\n",
              "      <td>Central Heating</td>\n",
              "      <td>Fernwärme Energieausweis liegt zur Besichtigun...</td>\n",
              "      <td>liegt zur Besichtigung vor</td>\n",
              "      <td>NaN</td>\n",
              "      <td>NaN</td>\n",
              "      <td>NaN</td>\n",
              "      <td>['Balkon', 'Terrasse Balkon', 'Terrasse Person...</td>\n",
              "    </tr>\n",
              "    <tr>\n",
              "      <th>5</th>\n",
              "      <td>https://www.immobilienscout24.de/expose/115611847</td>\n",
              "      <td>Köpenick</td>\n",
              "      <td>well_kept</td>\n",
              "      <td>2.0</td>\n",
              "      <td>840.00</td>\n",
              "      <td>1997</td>\n",
              "      <td>73.51</td>\n",
              "      <td>652€</td>\n",
              "      <td>+110€</td>\n",
              "      <td>+78€</td>\n",
              "      <td>3</td>\n",
              "      <td>NaN</td>\n",
              "      <td>2019.0</td>\n",
              "      <td>Groomed</td>\n",
              "      <td>Normale Qualität</td>\n",
              "      <td>Central Heating</td>\n",
              "      <td>Fernwärme Energieausweis liegt vor</td>\n",
              "      <td>liegt vor</td>\n",
              "      <td>Verbrauchsausweis Energie­ver­brauchs­kennwert...</td>\n",
              "      <td>NaN</td>\n",
              "      <td>NaN</td>\n",
              "      <td>['Balkon', 'Terrasse Balkon', 'Terrasse Person...</td>\n",
              "    </tr>\n",
              "    <tr>\n",
              "      <th>6</th>\n",
              "      <td>https://www.immobilienscout24.de/expose/108376992</td>\n",
              "      <td>Mitte</td>\n",
              "      <td>mint_condition</td>\n",
              "      <td>2.0</td>\n",
              "      <td>1509.45</td>\n",
              "      <td>2015</td>\n",
              "      <td>61.61</td>\n",
              "      <td>NaN</td>\n",
              "      <td>NaN</td>\n",
              "      <td>NaN</td>\n",
              "      <td>NaN</td>\n",
              "      <td>NaN</td>\n",
              "      <td>NaN</td>\n",
              "      <td>NaN</td>\n",
              "      <td>NaN</td>\n",
              "      <td>NaN</td>\n",
              "      <td>NaN</td>\n",
              "      <td>NaN</td>\n",
              "      <td>NaN</td>\n",
              "      <td>NaN</td>\n",
              "      <td>NaN</td>\n",
              "      <td>['Balkon', 'Terrasse Balkon', 'Terrasse Person...</td>\n",
              "    </tr>\n",
              "    <tr>\n",
              "      <th>7</th>\n",
              "      <td>https://www.immobilienscout24.de/expose/116573270</td>\n",
              "      <td>Charlottenburg</td>\n",
              "      <td>well_kept</td>\n",
              "      <td>2.0</td>\n",
              "      <td>730.73</td>\n",
              "      <td>1900</td>\n",
              "      <td>72.61</td>\n",
              "      <td>540,73€</td>\n",
              "      <td>+110€</td>\n",
              "      <td>+80€</td>\n",
              "      <td>3</td>\n",
              "      <td>NaN</td>\n",
              "      <td>NaN</td>\n",
              "      <td>Groomed</td>\n",
              "      <td>NaN</td>\n",
              "      <td>Central Heating</td>\n",
              "      <td>Fernwärme Energieausweis liegt vor</td>\n",
              "      <td>liegt vor</td>\n",
              "      <td>Verbrauchsausweis End­energie­verbrauch 171,7 ...</td>\n",
              "      <td>NaN</td>\n",
              "      <td>NaN</td>\n",
              "      <td>['Balkon', 'Terrasse Balkon', 'Terrasse Person...</td>\n",
              "    </tr>\n",
              "    <tr>\n",
              "      <th>8</th>\n",
              "      <td>https://www.immobilienscout24.de/expose/116456427</td>\n",
              "      <td>Friedrichsfelde</td>\n",
              "      <td>well_kept</td>\n",
              "      <td>2.0</td>\n",
              "      <td>561.93</td>\n",
              "      <td>1971</td>\n",
              "      <td>62.40</td>\n",
              "      <td>391,93€</td>\n",
              "      <td>+110€</td>\n",
              "      <td>+60€</td>\n",
              "      <td>Drei</td>\n",
              "      <td>NaN</td>\n",
              "      <td>NaN</td>\n",
              "      <td>Groomed</td>\n",
              "      <td>Normale Qualität</td>\n",
              "      <td>District Heating</td>\n",
              "      <td>Fernwärme Energieausweis liegt vor</td>\n",
              "      <td>liegt vor</td>\n",
              "      <td>Verbrauchsausweis Energie­ver­brauchs­kennwert...</td>\n",
              "      <td>NaN</td>\n",
              "      <td>NaN</td>\n",
              "      <td>['Balkon', 'Terrasse Balkon', 'Terrasse Person...</td>\n",
              "    </tr>\n",
              "    <tr>\n",
              "      <th>9</th>\n",
              "      <td>https://www.immobilienscout24.de/expose/113934099</td>\n",
              "      <td>Tiergarten</td>\n",
              "      <td>first_time_use</td>\n",
              "      <td>3.0</td>\n",
              "      <td>1789.00</td>\n",
              "      <td>2020</td>\n",
              "      <td>77.66</td>\n",
              "      <td>1.534€</td>\n",
              "      <td>+255€</td>\n",
              "      <td>in</td>\n",
              "      <td>3</td>\n",
              "      <td>NaN</td>\n",
              "      <td>NaN</td>\n",
              "      <td>New</td>\n",
              "      <td>Luxus</td>\n",
              "      <td>Underfloor Heating</td>\n",
              "      <td>Fernwärme Energieausweis liegt vor</td>\n",
              "      <td>liegt vor</td>\n",
              "      <td>Bedarfsausweis</td>\n",
              "      <td>81,6 kWh/(m²*a)</td>\n",
              "      <td>NaN</td>\n",
              "      <td>['Balkon', 'Terrasse Balkon', 'Terrasse Person...</td>\n",
              "    </tr>\n",
              "  </tbody>\n",
              "</table>\n",
              "</div>\n",
              "      <button class=\"colab-df-convert\" onclick=\"convertToInteractive('df-161bda7a-ff8b-4101-9cae-3e82eb43da3a')\"\n",
              "              title=\"Convert this dataframe to an interactive table.\"\n",
              "              style=\"display:none;\">\n",
              "        \n",
              "  <svg xmlns=\"http://www.w3.org/2000/svg\" height=\"24px\"viewBox=\"0 0 24 24\"\n",
              "       width=\"24px\">\n",
              "    <path d=\"M0 0h24v24H0V0z\" fill=\"none\"/>\n",
              "    <path d=\"M18.56 5.44l.94 2.06.94-2.06 2.06-.94-2.06-.94-.94-2.06-.94 2.06-2.06.94zm-11 1L8.5 8.5l.94-2.06 2.06-.94-2.06-.94L8.5 2.5l-.94 2.06-2.06.94zm10 10l.94 2.06.94-2.06 2.06-.94-2.06-.94-.94-2.06-.94 2.06-2.06.94z\"/><path d=\"M17.41 7.96l-1.37-1.37c-.4-.4-.92-.59-1.43-.59-.52 0-1.04.2-1.43.59L10.3 9.45l-7.72 7.72c-.78.78-.78 2.05 0 2.83L4 21.41c.39.39.9.59 1.41.59.51 0 1.02-.2 1.41-.59l7.78-7.78 2.81-2.81c.8-.78.8-2.07 0-2.86zM5.41 20L4 18.59l7.72-7.72 1.47 1.35L5.41 20z\"/>\n",
              "  </svg>\n",
              "      </button>\n",
              "      \n",
              "  <style>\n",
              "    .colab-df-container {\n",
              "      display:flex;\n",
              "      flex-wrap:wrap;\n",
              "      gap: 12px;\n",
              "    }\n",
              "\n",
              "    .colab-df-convert {\n",
              "      background-color: #E8F0FE;\n",
              "      border: none;\n",
              "      border-radius: 50%;\n",
              "      cursor: pointer;\n",
              "      display: none;\n",
              "      fill: #1967D2;\n",
              "      height: 32px;\n",
              "      padding: 0 0 0 0;\n",
              "      width: 32px;\n",
              "    }\n",
              "\n",
              "    .colab-df-convert:hover {\n",
              "      background-color: #E2EBFA;\n",
              "      box-shadow: 0px 1px 2px rgba(60, 64, 67, 0.3), 0px 1px 3px 1px rgba(60, 64, 67, 0.15);\n",
              "      fill: #174EA6;\n",
              "    }\n",
              "\n",
              "    [theme=dark] .colab-df-convert {\n",
              "      background-color: #3B4455;\n",
              "      fill: #D2E3FC;\n",
              "    }\n",
              "\n",
              "    [theme=dark] .colab-df-convert:hover {\n",
              "      background-color: #434B5C;\n",
              "      box-shadow: 0px 1px 3px 1px rgba(0, 0, 0, 0.15);\n",
              "      filter: drop-shadow(0px 1px 2px rgba(0, 0, 0, 0.3));\n",
              "      fill: #FFFFFF;\n",
              "    }\n",
              "  </style>\n",
              "\n",
              "      <script>\n",
              "        const buttonEl =\n",
              "          document.querySelector('#df-161bda7a-ff8b-4101-9cae-3e82eb43da3a button.colab-df-convert');\n",
              "        buttonEl.style.display =\n",
              "          google.colab.kernel.accessAllowed ? 'block' : 'none';\n",
              "\n",
              "        async function convertToInteractive(key) {\n",
              "          const element = document.querySelector('#df-161bda7a-ff8b-4101-9cae-3e82eb43da3a');\n",
              "          const dataTable =\n",
              "            await google.colab.kernel.invokeFunction('convertToInteractive',\n",
              "                                                     [key], {});\n",
              "          if (!dataTable) return;\n",
              "\n",
              "          const docLinkHtml = 'Like what you see? Visit the ' +\n",
              "            '<a target=\"_blank\" href=https://colab.research.google.com/notebooks/data_table.ipynb>data table notebook</a>'\n",
              "            + ' to learn more about interactive tables.';\n",
              "          element.innerHTML = '';\n",
              "          dataTable['output_type'] = 'display_data';\n",
              "          await google.colab.output.renderOutput(dataTable, element);\n",
              "          const docLink = document.createElement('div');\n",
              "          docLink.innerHTML = docLinkHtml;\n",
              "          element.appendChild(docLink);\n",
              "        }\n",
              "      </script>\n",
              "    </div>\n",
              "  </div>\n",
              "  "
            ],
            "text/plain": [
              "                                                 url  ...                                               tags\n",
              "0  https://www.immobilienscout24.de/expose/116051687  ...  ['Balkon', 'Terrasse Balkon', 'Terrasse Person...\n",
              "1  https://www.immobilienscout24.de/expose/115338103  ...  ['Balkon', 'Terrasse Balkon', 'Terrasse Person...\n",
              "2  https://www.immobilienscout24.de/expose/116458710  ...  ['Balkon', 'Terrasse Balkon', 'Terrasse Person...\n",
              "3  https://www.immobilienscout24.de/expose/116573177  ...  ['Balkon', 'Terrasse Balkon', 'Terrasse Person...\n",
              "4  https://www.immobilienscout24.de/expose/115925878  ...  ['Balkon', 'Terrasse Balkon', 'Terrasse Person...\n",
              "5  https://www.immobilienscout24.de/expose/115611847  ...  ['Balkon', 'Terrasse Balkon', 'Terrasse Person...\n",
              "6  https://www.immobilienscout24.de/expose/108376992  ...  ['Balkon', 'Terrasse Balkon', 'Terrasse Person...\n",
              "7  https://www.immobilienscout24.de/expose/116573270  ...  ['Balkon', 'Terrasse Balkon', 'Terrasse Person...\n",
              "8  https://www.immobilienscout24.de/expose/116456427  ...  ['Balkon', 'Terrasse Balkon', 'Terrasse Person...\n",
              "9  https://www.immobilienscout24.de/expose/113934099  ...  ['Balkon', 'Terrasse Balkon', 'Terrasse Person...\n",
              "\n",
              "[10 rows x 22 columns]"
            ]
          },
          "metadata": {},
          "execution_count": 98
        }
      ]
    },
    {
      "cell_type": "code",
      "metadata": {
        "id": "w2cpt-XI9Jp4",
        "colab": {
          "base_uri": "https://localhost:8080/"
        },
        "outputId": "5f0754fb-885e-461a-fafd-4ffadd1149f0"
      },
      "source": [
        "df.info()"
      ],
      "execution_count": 99,
      "outputs": [
        {
          "output_type": "stream",
          "name": "stdout",
          "text": [
            "<class 'pandas.core.frame.DataFrame'>\n",
            "RangeIndex: 764 entries, 0 to 763\n",
            "Data columns (total 22 columns):\n",
            " #   Column               Non-Null Count  Dtype  \n",
            "---  ------               --------------  -----  \n",
            " 0   url                  764 non-null    object \n",
            " 1   region               764 non-null    object \n",
            " 2   condition            764 non-null    object \n",
            " 3   rooms                764 non-null    float64\n",
            " 4   rent                 764 non-null    float64\n",
            " 5   year_construction    764 non-null    int64  \n",
            " 6   space                764 non-null    float64\n",
            " 7   cold_rent            426 non-null    object \n",
            " 8   utilities            426 non-null    object \n",
            " 9   heating_costs        426 non-null    object \n",
            " 10  security_deposit     385 non-null    object \n",
            " 11  parking_space        90 non-null     object \n",
            " 12  renovated_date       195 non-null    float64\n",
            " 13  property_condition   501 non-null    object \n",
            " 14  furnishing           445 non-null    object \n",
            " 15  heating_type         515 non-null    object \n",
            " 16  energy_sources       494 non-null    object \n",
            " 17  energy_certificate   451 non-null    object \n",
            " 18  type_of_certificate  467 non-null    object \n",
            " 19  energy_requirement   326 non-null    object \n",
            " 20  efficiency_class     251 non-null    object \n",
            " 21  tags                 764 non-null    object \n",
            "dtypes: float64(4), int64(1), object(17)\n",
            "memory usage: 131.4+ KB\n"
          ]
        }
      ]
    },
    {
      "cell_type": "code",
      "metadata": {
        "id": "dEnuiNxnbI-Q",
        "colab": {
          "base_uri": "https://localhost:8080/"
        },
        "outputId": "0c5da676-8023-4e5a-9854-a82617983a84"
      },
      "source": [
        "(df.isna().sum() / len(df)).sort_values(ascending = False)"
      ],
      "execution_count": 100,
      "outputs": [
        {
          "output_type": "execute_result",
          "data": {
            "text/plain": [
              "parking_space          0.882199\n",
              "renovated_date         0.744764\n",
              "efficiency_class       0.671466\n",
              "energy_requirement     0.573298\n",
              "security_deposit       0.496073\n",
              "heating_costs          0.442408\n",
              "cold_rent              0.442408\n",
              "utilities              0.442408\n",
              "furnishing             0.417539\n",
              "energy_certificate     0.409686\n",
              "type_of_certificate    0.388743\n",
              "energy_sources         0.353403\n",
              "property_condition     0.344241\n",
              "heating_type           0.325916\n",
              "rooms                  0.000000\n",
              "region                 0.000000\n",
              "condition              0.000000\n",
              "tags                   0.000000\n",
              "rent                   0.000000\n",
              "year_construction      0.000000\n",
              "space                  0.000000\n",
              "url                    0.000000\n",
              "dtype: float64"
            ]
          },
          "metadata": {},
          "execution_count": 100
        }
      ]
    },
    {
      "cell_type": "markdown",
      "metadata": {
        "id": "4scSmKQm6wSD"
      },
      "source": [
        "### Clean `tags`\n",
        "\n",
        "Have a look at the tags columns. What does this information tell us? Notice that the column doesn't contain useful information. In fact, it's just the same value repeated. So we can just remove that column completely from the dataset."
      ]
    },
    {
      "cell_type": "code",
      "metadata": {
        "id": "UqH7ShmObI-T",
        "colab": {
          "base_uri": "https://localhost:8080/",
          "height": 36
        },
        "outputId": "01f8ad38-7a2d-4ff5-e97d-f0daf2c1edc3"
      },
      "source": [
        "df['tags'][0]"
      ],
      "execution_count": 101,
      "outputs": [
        {
          "output_type": "execute_result",
          "data": {
            "application/vnd.google.colaboratory.intrinsic+json": {
              "type": "string"
            },
            "text/plain": [
              "\"['Balkon', 'Terrasse Balkon', 'Terrasse Personenaufzug Personenaufzug Einbauküche Einbauküche']\""
            ]
          },
          "metadata": {},
          "execution_count": 101
        }
      ]
    },
    {
      "cell_type": "code",
      "metadata": {
        "id": "cATkm2kAbI-V",
        "colab": {
          "base_uri": "https://localhost:8080/"
        },
        "outputId": "d9079a3f-259c-4b6d-e690-2403546055df"
      },
      "source": [
        "df['tags'].unique()"
      ],
      "execution_count": 102,
      "outputs": [
        {
          "output_type": "execute_result",
          "data": {
            "text/plain": [
              "array([\"['Balkon', 'Terrasse Balkon', 'Terrasse Personenaufzug Personenaufzug Einbauküche Einbauküche']\"],\n",
              "      dtype=object)"
            ]
          },
          "metadata": {},
          "execution_count": 102
        }
      ]
    },
    {
      "cell_type": "code",
      "metadata": {
        "colab": {
          "base_uri": "https://localhost:8080/"
        },
        "id": "vJMGeOSywgdB",
        "outputId": "3222dd07-b729-43da-ae1e-40da8e71beab"
      },
      "source": [
        "\n",
        "df.nunique().sort_values()"
      ],
      "execution_count": 103,
      "outputs": [
        {
          "output_type": "execute_result",
          "data": {
            "text/plain": [
              "tags                     1\n",
              "energy_certificate       3\n",
              "heating_type             7\n",
              "efficiency_class         8\n",
              "furnishing               8\n",
              "condition                9\n",
              "property_condition       9\n",
              "region                  10\n",
              "rooms                   11\n",
              "renovated_date          12\n",
              "parking_space           21\n",
              "energy_sources          29\n",
              "type_of_certificate     85\n",
              "year_construction       93\n",
              "heating_costs          111\n",
              "energy_requirement     113\n",
              "security_deposit       216\n",
              "utilities              261\n",
              "cold_rent              354\n",
              "space                  571\n",
              "rent                   639\n",
              "url                    764\n",
              "dtype: int64"
            ]
          },
          "metadata": {},
          "execution_count": 103
        }
      ]
    },
    {
      "cell_type": "code",
      "metadata": {
        "id": "AHPF5hpubI-Y"
      },
      "source": [
        "df.drop('tags', axis=1, inplace=True)"
      ],
      "execution_count": 104,
      "outputs": []
    },
    {
      "cell_type": "code",
      "metadata": {
        "id": "DetztCg8bI-a",
        "colab": {
          "base_uri": "https://localhost:8080/"
        },
        "outputId": "27e2e6d2-6975-4766-8431-4102b9bb1345"
      },
      "source": [
        "df.shape"
      ],
      "execution_count": 105,
      "outputs": [
        {
          "output_type": "execute_result",
          "data": {
            "text/plain": [
              "(764, 21)"
            ]
          },
          "metadata": {},
          "execution_count": 105
        }
      ]
    },
    {
      "cell_type": "markdown",
      "metadata": {
        "id": "NHMXbm3zbI-d"
      },
      "source": [
        "## Clean `security_deposit`\n",
        "\n"
      ]
    },
    {
      "cell_type": "code",
      "metadata": {
        "id": "lOAl1tGte0mb"
      },
      "source": [
        "df['deposit'] = df['security_deposit']"
      ],
      "execution_count": 106,
      "outputs": []
    },
    {
      "cell_type": "code",
      "metadata": {
        "id": "AHCgGQikbI-e",
        "colab": {
          "base_uri": "https://localhost:8080/"
        },
        "outputId": "6cb67340-0204-4366-b1e5-0fe4708950e8"
      },
      "source": [
        "df['deposit'].value_counts()"
      ],
      "execution_count": 107,
      "outputs": [
        {
          "output_type": "execute_result",
          "data": {
            "text/plain": [
              "3           123\n",
              "Drei         13\n",
              "Kaution:      7\n",
              "3-fache       5\n",
              "4350          3\n",
              "           ... \n",
              "4800          1\n",
              "2.085,00      1\n",
              "2315          1\n",
              "4759          1\n",
              "3.750,00      1\n",
              "Name: deposit, Length: 216, dtype: int64"
            ]
          },
          "metadata": {},
          "execution_count": 107
        }
      ]
    },
    {
      "cell_type": "code",
      "metadata": {
        "id": "TCK7_I02uumZ",
        "colab": {
          "base_uri": "https://localhost:8080/"
        },
        "outputId": "9dacba58-2c2a-4f00-ee83-21d3ea669507"
      },
      "source": [
        "df['deposit'].unique()"
      ],
      "execution_count": 108,
      "outputs": [
        {
          "output_type": "execute_result",
          "data": {
            "text/plain": [
              "array(['3', '2920,53', 'Drei', nan, '2400', '3507.42', '2000', '2139.78',\n",
              "       '5.397,00', '3885,00', '7.950,00', '4152', '4.650,00', '1.500€',\n",
              "       '3x', '9.150,-', '4.545', '2xNKM', '6.900,00', '5.994,00',\n",
              "       '6.000,-', '7.470,00', '5.172,00', '2.145,00', '6.215,70',\n",
              "       '11.475,00', '14.850,00', '4.197,00', '2600,00', '12.900,00', '2',\n",
              "       '3450', '5000', '10.000', '3620', '1690', '1790', 'ja', '2990',\n",
              "       '1490', '9.960,00', '3159,00', '4.350,00', '5010', '4333,90',\n",
              "       '3000', '2.013,00', '2841', '4000', '2850.72', '3300.75', '2344',\n",
              "       '3645,00', '2397', '4500', '9.718,00', '3.597,00', '3900',\n",
              "       '3.780,00', '4800', '3.582', '3630', '2549.79', '3831', '2.274,00',\n",
              "       '2850', '2960', '4.680', '4350', '3500', '4080', '4050', '2338',\n",
              "       '5940,00', '8100', '3.859,17', '2.630,43', '6552', '2.700,00',\n",
              "       '1797,00', '3345', '3360', '5148', '2472', '12.000,00', '6.300,00',\n",
              "       '5.394,00€', '1.554,00', '6600€', '1.727,76', '9025,50',\n",
              "       '3.750,00', '7575', '7.650,00', '5.355,00', '5850', '4.170,00',\n",
              "       '2340,00', '5910', '6330', '5670', '1.485,00', '3.597€', '3584,82',\n",
              "       '5.421,00', '3.750€', '5097€', '3-fache', '5196,60', 'Kaution:',\n",
              "       '2500', '2115', '2.286,45€', '1600', '1200,00', '6150,00', '4650',\n",
              "       '10500', '2426', '3450,00', '2.040,00', '2.085,00', '6570.0€',\n",
              "       '6675.0€', '9333.0€', '6.945,00', '9792.0€', '3973', '1000,00',\n",
              "       '2250,00', '1755,00', '4650,00', '1074,60€', '3.900,00', 'Kaution',\n",
              "       '1.974,00', '3685', '2253', '3230', '5775,00', '4.698,00€', '3158',\n",
              "       '1688,40', '1695,48', '5.506,20', '2564', '4258', '8382,24',\n",
              "       '2958', '4.197,00€', '3354', '5400', '3.133,00', '4.104,00',\n",
              "       '4263', '3423', '3550', '2318', '2268', '2315', '3334', '3533',\n",
              "       '3548', '3544', '2297', '3502', '3437', '2262', '3461', '3482',\n",
              "       '4300', '5700', '3167', '3706', '4409', '2795', '3058', '3028',\n",
              "       '3088', '4976', '13200,00', '4264', '5.508,00', '15300,00', '3087',\n",
              "       '3627', '3188', '8160,00', '3204', '2,5', '3762', '3684,00',\n",
              "       '3355', '4552', '4519', '3.141,69', '3154', '4271', '3630,00',\n",
              "       '4.338', '3059', '4.047,00', '3543', '3.297,00', '3007', '€3500',\n",
              "       '4326', '3905', '4759', '3747', '3745', '2.000,00', '6600', '3NKM',\n",
              "       '4197', '3.237,00', '1.542,00'], dtype=object)"
            ]
          },
          "metadata": {},
          "execution_count": 108
        }
      ]
    },
    {
      "cell_type": "markdown",
      "metadata": {
        "id": "uy8EeuYdbI-j"
      },
      "source": [
        "### Remove € "
      ]
    },
    {
      "cell_type": "code",
      "metadata": {
        "id": "i5V_frtibI-k",
        "colab": {
          "base_uri": "https://localhost:8080/"
        },
        "outputId": "ad63670a-639f-4642-cafc-11a473892d84"
      },
      "source": [
        "df['deposit'][df['deposit'].str.contains(\"€\", na=False)] # Series.contains(\"€\")"
      ],
      "execution_count": 109,
      "outputs": [
        {
          "output_type": "execute_result",
          "data": {
            "text/plain": [
              "36        1.500€\n",
              "167       1.500€\n",
              "271    5.394,00€\n",
              "289        6600€\n",
              "393       3.597€\n",
              "403       3.750€\n",
              "405        5097€\n",
              "423    2.286,45€\n",
              "462      6570.0€\n",
              "464      6675.0€\n",
              "466      9333.0€\n",
              "469      9792.0€\n",
              "490     1074,60€\n",
              "507    4.698,00€\n",
              "545    4.197,00€\n",
              "697        €3500\n",
              "Name: deposit, dtype: object"
            ]
          },
          "metadata": {},
          "execution_count": 109
        }
      ]
    },
    {
      "cell_type": "code",
      "metadata": {
        "id": "tALlKJXmvpEt"
      },
      "source": [
        "df['deposit'] = df['deposit'].apply(lambda deposit: str(deposit).replace('€', ''))"
      ],
      "execution_count": 110,
      "outputs": []
    },
    {
      "cell_type": "code",
      "metadata": {
        "id": "1qh26GWkwth_",
        "colab": {
          "base_uri": "https://localhost:8080/"
        },
        "outputId": "d8e3f375-0b2d-463f-d18c-bb2461dd4f3a"
      },
      "source": [
        "df['deposit'].unique()"
      ],
      "execution_count": 111,
      "outputs": [
        {
          "output_type": "execute_result",
          "data": {
            "text/plain": [
              "array(['3', '2920,53', 'Drei', 'nan', '2400', '3507.42', '2000',\n",
              "       '2139.78', '5.397,00', '3885,00', '7.950,00', '4152', '4.650,00',\n",
              "       '1.500', '3x', '9.150,-', '4.545', '2xNKM', '6.900,00', '5.994,00',\n",
              "       '6.000,-', '7.470,00', '5.172,00', '2.145,00', '6.215,70',\n",
              "       '11.475,00', '14.850,00', '4.197,00', '2600,00', '12.900,00', '2',\n",
              "       '3450', '5000', '10.000', '3620', '1690', '1790', 'ja', '2990',\n",
              "       '1490', '9.960,00', '3159,00', '4.350,00', '5010', '4333,90',\n",
              "       '3000', '2.013,00', '2841', '4000', '2850.72', '3300.75', '2344',\n",
              "       '3645,00', '2397', '4500', '9.718,00', '3.597,00', '3900',\n",
              "       '3.780,00', '4800', '3.582', '3630', '2549.79', '3831', '2.274,00',\n",
              "       '2850', '2960', '4.680', '4350', '3500', '4080', '4050', '2338',\n",
              "       '5940,00', '8100', '3.859,17', '2.630,43', '6552', '2.700,00',\n",
              "       '1797,00', '3345', '3360', '5148', '2472', '12.000,00', '6.300,00',\n",
              "       '5.394,00', '1.554,00', '6600', '1.727,76', '9025,50', '3.750,00',\n",
              "       '7575', '7.650,00', '5.355,00', '5850', '4.170,00', '2340,00',\n",
              "       '5910', '6330', '5670', '1.485,00', '3.597', '3584,82', '5.421,00',\n",
              "       '3.750', '5097', '3-fache', '5196,60', 'Kaution:', '2500', '2115',\n",
              "       '2.286,45', '1600', '1200,00', '6150,00', '4650', '10500', '2426',\n",
              "       '3450,00', '2.040,00', '2.085,00', '6570.0', '6675.0', '9333.0',\n",
              "       '6.945,00', '9792.0', '3973', '1000,00', '2250,00', '1755,00',\n",
              "       '4650,00', '1074,60', '3.900,00', 'Kaution', '1.974,00', '3685',\n",
              "       '2253', '3230', '5775,00', '4.698,00', '3158', '1688,40',\n",
              "       '1695,48', '5.506,20', '2564', '4258', '8382,24', '2958', '3354',\n",
              "       '5400', '3.133,00', '4.104,00', '4263', '3423', '3550', '2318',\n",
              "       '2268', '2315', '3334', '3533', '3548', '3544', '2297', '3502',\n",
              "       '3437', '2262', '3461', '3482', '4300', '5700', '3167', '3706',\n",
              "       '4409', '2795', '3058', '3028', '3088', '4976', '13200,00', '4264',\n",
              "       '5.508,00', '15300,00', '3087', '3627', '3188', '8160,00', '3204',\n",
              "       '2,5', '3762', '3684,00', '3355', '4552', '4519', '3.141,69',\n",
              "       '3154', '4271', '3630,00', '4.338', '3059', '4.047,00', '3543',\n",
              "       '3.297,00', '3007', '4326', '3905', '4759', '3747', '3745',\n",
              "       '2.000,00', '3NKM', '4197', '3.237,00', '1.542,00'], dtype=object)"
            ]
          },
          "metadata": {},
          "execution_count": 111
        }
      ]
    },
    {
      "cell_type": "markdown",
      "metadata": {
        "id": "Csojm_xWwlav"
      },
      "source": [
        "### Convert values that \"look\" like numbers to parseable formats\n",
        "\n",
        "The deposit column is of type string, but most values are clearly indicating some concrete numeric value (we ignore values like `3, drei, etc.` for now). However, there is a mix of formats which makes it difficult to convert the amounts to actual numeric values.\n",
        "\n",
        "Note that the german number format has different separators for the thousand places and decimal places. Concretely, `.` separates the thousand places and `,` is for the decimals. `1.200,50` in the german format corresponds to `1,200.50` in the US format.\n",
        "\n",
        "Looking at the dataset, we have these different formats\n",
        "\n",
        "* 2920,53 --> german number format, only decimal separator (cannot be converted directly to float)\n",
        "* 4.650,00 --> german number format with thousand seperator and decimal separator (cannot be converted directly to float)\n",
        "* 2400 --> plain format (can be converted directly to float) \n",
        "* 3507.42 --> US number format (can be converted directly to float)\n",
        "* 10.000 --> german number format, only thousand decimal separator (converting to float would work but would be interpreted as 10, not 10-thousand)\n",
        "\n"
      ]
    },
    {
      "cell_type": "code",
      "metadata": {
        "id": "GcPJ1zkhbI-z"
      },
      "source": [
        "def convert_string_to_numeric_representation(value):\n",
        "    \"\"\"Replace a period with empty stringm and comma with period (decimal point).\"\"\"\n",
        "    return value.replace(\".\", \"\").replace(\",\", \".\")\n",
        "\n",
        "\n",
        "def convert_decimal(value):\n",
        "    \"\"\"Convert numeric string to a decimal number.\"\"\"\n",
        "    \n",
        "    # return NaN if missing\n",
        "    if pd.isna(value):\n",
        "        return np.nan       \n",
        "    \n",
        "    # check if wrong format without decimal i.e. 3.500\n",
        "    if len(value.split('.')[-1]) == 3:\n",
        "        return convert_string_to_numeric_representation(value)\n",
        "    \n",
        "    # convert to float\n",
        "    try:                               \n",
        "        return float(value)\n",
        "    except:\n",
        "        return convert_string_to_numeric_representation(value)"
      ],
      "execution_count": 112,
      "outputs": []
    },
    {
      "cell_type": "code",
      "metadata": {
        "id": "jfdRe96JbI-1",
        "colab": {
          "base_uri": "https://localhost:8080/"
        },
        "outputId": "43a96ecf-f902-45b6-e7ec-2a8214a03ac5"
      },
      "source": [
        "df['deposit'] = df['deposit'].apply(convert_decimal)\n",
        "df['deposit'].unique()"
      ],
      "execution_count": 113,
      "outputs": [
        {
          "output_type": "execute_result",
          "data": {
            "text/plain": [
              "array([3.0, '2920.53', 'Drei', 'nan', 2400.0, 3507.42, 2000.0, 2139.78,\n",
              "       '5397.00', '3885.00', '7950.00', 4152.0, '4650.00', '1500', '3x',\n",
              "       '9150.-', '4545', '2xNKM', '6900.00', '5994.00', '6000.-',\n",
              "       '7470.00', '5172.00', '2145.00', '6215.70', '11475.00', '14850.00',\n",
              "       '4197.00', '2600.00', '12900.00', 2.0, 3450.0, 5000.0, '10000',\n",
              "       3620.0, 1690.0, 1790.0, 'ja', 2990.0, 1490.0, '9960.00', '3159.00',\n",
              "       '4350.00', 5010.0, '4333.90', 3000.0, '2013.00', 2841.0, 4000.0,\n",
              "       2850.72, 3300.75, 2344.0, '3645.00', 2397.0, 4500.0, '9718.00',\n",
              "       '3597.00', 3900.0, '3780.00', 4800.0, '3582', 3630.0, 2549.79,\n",
              "       3831.0, '2274.00', 2850.0, 2960.0, '4680', 4350.0, 3500.0, 4080.0,\n",
              "       4050.0, 2338.0, '5940.00', 8100.0, '3859.17', '2630.43', 6552.0,\n",
              "       '2700.00', '1797.00', 3345.0, 3360.0, 5148.0, 2472.0, '12000.00',\n",
              "       '6300.00', '5394.00', '1554.00', 6600.0, '1727.76', '9025.50',\n",
              "       '3750.00', 7575.0, '7650.00', '5355.00', 5850.0, '4170.00',\n",
              "       '2340.00', 5910.0, 6330.0, 5670.0, '1485.00', '3597', '3584.82',\n",
              "       '5421.00', '3750', 5097.0, '3-fache', '5196.60', 'Kaution:',\n",
              "       2500.0, 2115.0, '2286.45', 1600.0, '1200.00', '6150.00', 4650.0,\n",
              "       10500.0, 2426.0, '3450.00', '2040.00', '2085.00', 6570.0, 6675.0,\n",
              "       9333.0, '6945.00', 9792.0, 3973.0, '1000.00', '2250.00', '1755.00',\n",
              "       '1074.60', '3900.00', 'Kaution', '1974.00', 3685.0, 2253.0, 3230.0,\n",
              "       '5775.00', '4698.00', 3158.0, '1688.40', '1695.48', '5506.20',\n",
              "       2564.0, 4258.0, '8382.24', 2958.0, 3354.0, 5400.0, '3133.00',\n",
              "       '4104.00', 4263.0, 3423.0, 3550.0, 2318.0, 2268.0, 2315.0, 3334.0,\n",
              "       3533.0, 3548.0, 3544.0, 2297.0, 3502.0, 3437.0, 2262.0, 3461.0,\n",
              "       3482.0, 4300.0, 5700.0, 3167.0, 3706.0, 4409.0, 2795.0, 3058.0,\n",
              "       3028.0, 3088.0, 4976.0, '13200.00', 4264.0, '5508.00', '15300.00',\n",
              "       3087.0, 3627.0, 3188.0, '8160.00', 3204.0, '2.5', 3762.0,\n",
              "       '3684.00', 3355.0, 4552.0, 4519.0, '3141.69', 3154.0, 4271.0,\n",
              "       '3630.00', '4338', 3059.0, '4047.00', 3543.0, '3297.00', 3007.0,\n",
              "       4326.0, 3905.0, 4759.0, 3747.0, 3745.0, '2000.00', '3NKM', 4197.0,\n",
              "       '3237.00', '1542.00'], dtype=object)"
            ]
          },
          "metadata": {},
          "execution_count": 113
        }
      ]
    },
    {
      "cell_type": "markdown",
      "metadata": {
        "id": "YI3psNl2bI-6"
      },
      "source": [
        "### Map values that cannot be interpreted as numeric"
      ]
    },
    {
      "cell_type": "code",
      "metadata": {
        "id": "GwSjFunKbI-6",
        "colab": {
          "base_uri": "https://localhost:8080/"
        },
        "outputId": "f44ce894-a835-4c89-edf7-b9f25d11238c"
      },
      "source": [
        "def is_number(value):\n",
        "  try:\n",
        "    float(value)\n",
        "    return True\n",
        "  except:\n",
        "    return False \n",
        "\n",
        "# different alternatives for negating a boolean check\n",
        "#print(~df['deposit'].apply(is_number))\n",
        "#print(df['deposit'].apply(lambda value: not is_number(value)))\n",
        "\n",
        "df['deposit'][~df['deposit'].apply(is_number)].unique()"
      ],
      "execution_count": 114,
      "outputs": [
        {
          "output_type": "execute_result",
          "data": {
            "text/plain": [
              "array(['Drei', '3x', '9150.-', '2xNKM', '6000.-', 'ja', '3-fache',\n",
              "       'Kaution:', 'Kaution', '3NKM'], dtype=object)"
            ]
          },
          "metadata": {},
          "execution_count": 114
        }
      ]
    },
    {
      "cell_type": "markdown",
      "metadata": {
        "id": "VUFeofyMbI-9"
      },
      "source": [
        "Build a map of what the values should be. This is manually set because it's a small amount of data."
      ]
    },
    {
      "cell_type": "code",
      "metadata": {
        "id": "HdsUIIfabI-9"
      },
      "source": [
        "deposit_known = {\n",
        "    'drei': 3,\n",
        "    '3x': 3,\n",
        "    '9150.-': 9150,\n",
        "    '2xnkm': 2,\n",
        "    '6000.-': 6000,\n",
        "    '3-fache': 3,\n",
        "    '3nkm': 3,    \n",
        "}\n",
        "\n",
        "deposit_unkown = ['ja', 'kaution', 'kaution:']"
      ],
      "execution_count": 115,
      "outputs": []
    },
    {
      "cell_type": "code",
      "metadata": {
        "id": "YMF9RQZ88CQ7"
      },
      "source": [
        "df['deposit'] = df['deposit'].apply(lambda value: str(value).lower())"
      ],
      "execution_count": 116,
      "outputs": []
    },
    {
      "cell_type": "code",
      "metadata": {
        "id": "-WI-rXv7bI_A"
      },
      "source": [
        "df['deposit'] = df['deposit'].apply(lambda deposit: deposit_known.get(deposit, deposit))"
      ],
      "execution_count": 117,
      "outputs": []
    },
    {
      "cell_type": "markdown",
      "metadata": {
        "id": "yQk3yhSE8X3y"
      },
      "source": [
        "### Fill in relative deposits\n",
        "There are deposits that don't have the absolute amount defined. They are instead contain some small number (1,2,3). For such rows, the deposit is relative in terms of the monthly rent. \n"
      ]
    },
    {
      "cell_type": "code",
      "metadata": {
        "id": "oNUvcUThbI_I",
        "colab": {
          "base_uri": "https://localhost:8080/"
        },
        "outputId": "e07ca3ca-e88a-4788-d584-c296fa3bb440"
      },
      "source": [
        "def convert_to_number(value):\n",
        "    if is_number(value):\n",
        "        return float(value)\n",
        "    else:\n",
        "        return np.nan\n",
        "\n",
        "converted_deposits = df['deposit'].apply(lambda x: convert_to_number(x))\n",
        "\n",
        "# check which is the most common option for \"relative\" deposits \n",
        "converted_deposits[converted_deposits <= 5].value_counts()"
      ],
      "execution_count": 118,
      "outputs": [
        {
          "output_type": "execute_result",
          "data": {
            "text/plain": [
              "3.0    144\n",
              "2.0      4\n",
              "2.5      1\n",
              "Name: deposit, dtype: int64"
            ]
          },
          "metadata": {},
          "execution_count": 118
        }
      ]
    },
    {
      "cell_type": "markdown",
      "metadata": {
        "id": "eErOOWPFbI_K"
      },
      "source": [
        "Let's assume that the unclear values are three months, as it is the most common option."
      ]
    },
    {
      "cell_type": "code",
      "metadata": {
        "id": "9BbMjRCUbI_M"
      },
      "source": [
        "# check if the value is in the list, if yes -> replace with 3, if not, leave it as is\n",
        "def replace_unknown_deposit(old_deposit):\n",
        "  if old_deposit in deposit_unkown:\n",
        "    return 3\n",
        "  else:\n",
        "    return old_deposit \n",
        " \n",
        "df['deposit'] = df['deposit'].apply(replace_unknown_deposit)\n",
        "\n",
        "# alternative with ternary operator https://book.pythontips.com/en/latest/ternary_operators.html\n",
        "# value_if_true if condition else value_if_false\n",
        "#df['deposit'] = df['deposit'].apply(lambda old_deposit: 3 if old_deposit in deposit_unkown else old_deposit)"
      ],
      "execution_count": 119,
      "outputs": []
    },
    {
      "cell_type": "code",
      "metadata": {
        "id": "VX7Ow3hWbI_P",
        "colab": {
          "base_uri": "https://localhost:8080/"
        },
        "outputId": "739038a1-e317-4088-976b-29b2009ba2ed"
      },
      "source": [
        "df['deposit'].unique()"
      ],
      "execution_count": 120,
      "outputs": [
        {
          "output_type": "execute_result",
          "data": {
            "text/plain": [
              "array(['3.0', '2920.53', 3, 'nan', '2400.0', '3507.42', '2000.0',\n",
              "       '2139.78', '5397.00', '3885.00', '7950.00', '4152.0', '4650.00',\n",
              "       '1500', 9150, '4545', 2, '6900.00', '5994.00', 6000, '7470.00',\n",
              "       '5172.00', '2145.00', '6215.70', '11475.00', '14850.00', '4197.00',\n",
              "       '2600.00', '12900.00', '2.0', '3450.0', '5000.0', '10000',\n",
              "       '3620.0', '1690.0', '1790.0', '2990.0', '1490.0', '9960.00',\n",
              "       '3159.00', '4350.00', '5010.0', '4333.90', '3000.0', '2013.00',\n",
              "       '2841.0', '4000.0', '2850.72', '3300.75', '2344.0', '3645.00',\n",
              "       '2397.0', '4500.0', '9718.00', '3597.00', '3900.0', '3780.00',\n",
              "       '4800.0', '3582', '3630.0', '2549.79', '3831.0', '2274.00',\n",
              "       '2850.0', '2960.0', '4680', '4350.0', '3500.0', '4080.0', '4050.0',\n",
              "       '2338.0', '5940.00', '8100.0', '3859.17', '2630.43', '6552.0',\n",
              "       '2700.00', '1797.00', '3345.0', '3360.0', '5148.0', '2472.0',\n",
              "       '12000.00', '6300.00', '5394.00', '1554.00', '6600.0', '1727.76',\n",
              "       '9025.50', '3750.00', '7575.0', '7650.00', '5355.00', '5850.0',\n",
              "       '4170.00', '2340.00', '5910.0', '6330.0', '5670.0', '1485.00',\n",
              "       '3597', '3584.82', '5421.00', '3750', '5097.0', '5196.60',\n",
              "       '2500.0', '2115.0', '2286.45', '1600.0', '1200.00', '6150.00',\n",
              "       '4650.0', '10500.0', '2426.0', '3450.00', '2040.00', '2085.00',\n",
              "       '6570.0', '6675.0', '9333.0', '6945.00', '9792.0', '3973.0',\n",
              "       '1000.00', '2250.00', '1755.00', '1074.60', '3900.00', '1974.00',\n",
              "       '3685.0', '2253.0', '3230.0', '5775.00', '4698.00', '3158.0',\n",
              "       '1688.40', '1695.48', '5506.20', '2564.0', '4258.0', '8382.24',\n",
              "       '2958.0', '3354.0', '5400.0', '3133.00', '4104.00', '4263.0',\n",
              "       '3423.0', '3550.0', '2318.0', '2268.0', '2315.0', '3334.0',\n",
              "       '3533.0', '3548.0', '3544.0', '2297.0', '3502.0', '3437.0',\n",
              "       '2262.0', '3461.0', '3482.0', '4300.0', '5700.0', '3167.0',\n",
              "       '3706.0', '4409.0', '2795.0', '3058.0', '3028.0', '3088.0',\n",
              "       '4976.0', '13200.00', '4264.0', '5508.00', '15300.00', '3087.0',\n",
              "       '3627.0', '3188.0', '8160.00', '3204.0', '2.5', '3762.0',\n",
              "       '3684.00', '3355.0', '4552.0', '4519.0', '3141.69', '3154.0',\n",
              "       '4271.0', '3630.00', '4338', '3059.0', '4047.00', '3543.0',\n",
              "       '3297.00', '3007.0', '4326.0', '3905.0', '4759.0', '3747.0',\n",
              "       '3745.0', '2000.00', '4197.0', '3237.00', '1542.00'], dtype=object)"
            ]
          },
          "metadata": {},
          "execution_count": 120
        }
      ]
    },
    {
      "cell_type": "markdown",
      "metadata": {
        "id": "tk5CPJdVWNb3"
      },
      "source": [
        "Let's convert all the non-na values to numbers"
      ]
    },
    {
      "cell_type": "code",
      "metadata": {
        "id": "8E6ZXe0aWL3B",
        "colab": {
          "base_uri": "https://localhost:8080/"
        },
        "outputId": "dfe11106-7024-442e-8eb5-f88e6bae3a84"
      },
      "source": [
        "print(df['deposit'].dtype)\n",
        "\n",
        "df['deposit'] = df['deposit'].astype(float) \n",
        "\n",
        "print(df['deposit'].dtype)"
      ],
      "execution_count": 121,
      "outputs": [
        {
          "output_type": "stream",
          "name": "stdout",
          "text": [
            "object\n",
            "float64\n"
          ]
        }
      ]
    },
    {
      "cell_type": "markdown",
      "metadata": {
        "id": "G8ygO5OFbI_S"
      },
      "source": [
        "The values 1, 2 and 3 refer to the number of months rent as deposit, so let's calculate those values by multiplying with the rent"
      ]
    },
    {
      "cell_type": "code",
      "metadata": {
        "id": "-bqQkaErbI_S",
        "colab": {
          "base_uri": "https://localhost:8080/"
        },
        "outputId": "6bfd9f3a-b202-4f58-a9c0-12d50a37cfa9"
      },
      "source": [
        "print(df['rent'].dtype)\n",
        "print(df['rent'].isna().sum())"
      ],
      "execution_count": 122,
      "outputs": [
        {
          "output_type": "stream",
          "name": "stdout",
          "text": [
            "float64\n",
            "0\n"
          ]
        }
      ]
    },
    {
      "cell_type": "code",
      "metadata": {
        "id": "Sd9JCZVQbI_V"
      },
      "source": [
        "def convert_deposit_relative_to_absolute(row):\n",
        "  deposit = row['deposit']\n",
        "  if deposit <= 3:\n",
        "      return row['rent'] * deposit\n",
        "  else:\n",
        "      return deposit"
      ],
      "execution_count": 123,
      "outputs": []
    },
    {
      "cell_type": "code",
      "metadata": {
        "id": "F9qeMWKTXxtj",
        "colab": {
          "base_uri": "https://localhost:8080/",
          "height": 676
        },
        "outputId": "8fd1fa0b-9987-4751-a74e-e185d4314f9b"
      },
      "source": [
        "df['deposit'] = df.apply(convert_deposit_relative_to_absolute, axis = 1)\n",
        "\n",
        "df[['security_deposit', 'deposit', 'rent']].head(20)"
      ],
      "execution_count": 124,
      "outputs": [
        {
          "output_type": "execute_result",
          "data": {
            "text/html": [
              "\n",
              "  <div id=\"df-b7807c90-4178-4991-aa85-f64f0ddd9dfd\">\n",
              "    <div class=\"colab-df-container\">\n",
              "      <div>\n",
              "<style scoped>\n",
              "    .dataframe tbody tr th:only-of-type {\n",
              "        vertical-align: middle;\n",
              "    }\n",
              "\n",
              "    .dataframe tbody tr th {\n",
              "        vertical-align: top;\n",
              "    }\n",
              "\n",
              "    .dataframe thead th {\n",
              "        text-align: right;\n",
              "    }\n",
              "</style>\n",
              "<table border=\"1\" class=\"dataframe\">\n",
              "  <thead>\n",
              "    <tr style=\"text-align: right;\">\n",
              "      <th></th>\n",
              "      <th>security_deposit</th>\n",
              "      <th>deposit</th>\n",
              "      <th>rent</th>\n",
              "    </tr>\n",
              "  </thead>\n",
              "  <tbody>\n",
              "    <tr>\n",
              "      <th>0</th>\n",
              "      <td>3</td>\n",
              "      <td>7977.00</td>\n",
              "      <td>2659.00</td>\n",
              "    </tr>\n",
              "    <tr>\n",
              "      <th>1</th>\n",
              "      <td>2920,53</td>\n",
              "      <td>2920.53</td>\n",
              "      <td>1200.00</td>\n",
              "    </tr>\n",
              "    <tr>\n",
              "      <th>2</th>\n",
              "      <td>Drei</td>\n",
              "      <td>2937.00</td>\n",
              "      <td>979.00</td>\n",
              "    </tr>\n",
              "    <tr>\n",
              "      <th>3</th>\n",
              "      <td>NaN</td>\n",
              "      <td>NaN</td>\n",
              "      <td>1830.22</td>\n",
              "    </tr>\n",
              "    <tr>\n",
              "      <th>4</th>\n",
              "      <td>NaN</td>\n",
              "      <td>NaN</td>\n",
              "      <td>2272.00</td>\n",
              "    </tr>\n",
              "    <tr>\n",
              "      <th>5</th>\n",
              "      <td>3</td>\n",
              "      <td>2520.00</td>\n",
              "      <td>840.00</td>\n",
              "    </tr>\n",
              "    <tr>\n",
              "      <th>6</th>\n",
              "      <td>NaN</td>\n",
              "      <td>NaN</td>\n",
              "      <td>1509.45</td>\n",
              "    </tr>\n",
              "    <tr>\n",
              "      <th>7</th>\n",
              "      <td>3</td>\n",
              "      <td>2192.19</td>\n",
              "      <td>730.73</td>\n",
              "    </tr>\n",
              "    <tr>\n",
              "      <th>8</th>\n",
              "      <td>Drei</td>\n",
              "      <td>1685.79</td>\n",
              "      <td>561.93</td>\n",
              "    </tr>\n",
              "    <tr>\n",
              "      <th>9</th>\n",
              "      <td>3</td>\n",
              "      <td>5367.00</td>\n",
              "      <td>1789.00</td>\n",
              "    </tr>\n",
              "    <tr>\n",
              "      <th>10</th>\n",
              "      <td>NaN</td>\n",
              "      <td>NaN</td>\n",
              "      <td>2499.00</td>\n",
              "    </tr>\n",
              "    <tr>\n",
              "      <th>11</th>\n",
              "      <td>NaN</td>\n",
              "      <td>NaN</td>\n",
              "      <td>2328.00</td>\n",
              "    </tr>\n",
              "    <tr>\n",
              "      <th>12</th>\n",
              "      <td>3</td>\n",
              "      <td>7500.00</td>\n",
              "      <td>2500.00</td>\n",
              "    </tr>\n",
              "    <tr>\n",
              "      <th>13</th>\n",
              "      <td>3</td>\n",
              "      <td>19350.00</td>\n",
              "      <td>6450.00</td>\n",
              "    </tr>\n",
              "    <tr>\n",
              "      <th>14</th>\n",
              "      <td>2400</td>\n",
              "      <td>2400.00</td>\n",
              "      <td>1399.65</td>\n",
              "    </tr>\n",
              "    <tr>\n",
              "      <th>15</th>\n",
              "      <td>3</td>\n",
              "      <td>4516.80</td>\n",
              "      <td>1505.60</td>\n",
              "    </tr>\n",
              "    <tr>\n",
              "      <th>16</th>\n",
              "      <td>3507.42</td>\n",
              "      <td>3507.42</td>\n",
              "      <td>1429.10</td>\n",
              "    </tr>\n",
              "    <tr>\n",
              "      <th>17</th>\n",
              "      <td>2000</td>\n",
              "      <td>2000.00</td>\n",
              "      <td>930.00</td>\n",
              "    </tr>\n",
              "    <tr>\n",
              "      <th>18</th>\n",
              "      <td>2139.78</td>\n",
              "      <td>2139.78</td>\n",
              "      <td>868.06</td>\n",
              "    </tr>\n",
              "    <tr>\n",
              "      <th>19</th>\n",
              "      <td>5.397,00</td>\n",
              "      <td>5397.00</td>\n",
              "      <td>2179.00</td>\n",
              "    </tr>\n",
              "  </tbody>\n",
              "</table>\n",
              "</div>\n",
              "      <button class=\"colab-df-convert\" onclick=\"convertToInteractive('df-b7807c90-4178-4991-aa85-f64f0ddd9dfd')\"\n",
              "              title=\"Convert this dataframe to an interactive table.\"\n",
              "              style=\"display:none;\">\n",
              "        \n",
              "  <svg xmlns=\"http://www.w3.org/2000/svg\" height=\"24px\"viewBox=\"0 0 24 24\"\n",
              "       width=\"24px\">\n",
              "    <path d=\"M0 0h24v24H0V0z\" fill=\"none\"/>\n",
              "    <path d=\"M18.56 5.44l.94 2.06.94-2.06 2.06-.94-2.06-.94-.94-2.06-.94 2.06-2.06.94zm-11 1L8.5 8.5l.94-2.06 2.06-.94-2.06-.94L8.5 2.5l-.94 2.06-2.06.94zm10 10l.94 2.06.94-2.06 2.06-.94-2.06-.94-.94-2.06-.94 2.06-2.06.94z\"/><path d=\"M17.41 7.96l-1.37-1.37c-.4-.4-.92-.59-1.43-.59-.52 0-1.04.2-1.43.59L10.3 9.45l-7.72 7.72c-.78.78-.78 2.05 0 2.83L4 21.41c.39.39.9.59 1.41.59.51 0 1.02-.2 1.41-.59l7.78-7.78 2.81-2.81c.8-.78.8-2.07 0-2.86zM5.41 20L4 18.59l7.72-7.72 1.47 1.35L5.41 20z\"/>\n",
              "  </svg>\n",
              "      </button>\n",
              "      \n",
              "  <style>\n",
              "    .colab-df-container {\n",
              "      display:flex;\n",
              "      flex-wrap:wrap;\n",
              "      gap: 12px;\n",
              "    }\n",
              "\n",
              "    .colab-df-convert {\n",
              "      background-color: #E8F0FE;\n",
              "      border: none;\n",
              "      border-radius: 50%;\n",
              "      cursor: pointer;\n",
              "      display: none;\n",
              "      fill: #1967D2;\n",
              "      height: 32px;\n",
              "      padding: 0 0 0 0;\n",
              "      width: 32px;\n",
              "    }\n",
              "\n",
              "    .colab-df-convert:hover {\n",
              "      background-color: #E2EBFA;\n",
              "      box-shadow: 0px 1px 2px rgba(60, 64, 67, 0.3), 0px 1px 3px 1px rgba(60, 64, 67, 0.15);\n",
              "      fill: #174EA6;\n",
              "    }\n",
              "\n",
              "    [theme=dark] .colab-df-convert {\n",
              "      background-color: #3B4455;\n",
              "      fill: #D2E3FC;\n",
              "    }\n",
              "\n",
              "    [theme=dark] .colab-df-convert:hover {\n",
              "      background-color: #434B5C;\n",
              "      box-shadow: 0px 1px 3px 1px rgba(0, 0, 0, 0.15);\n",
              "      filter: drop-shadow(0px 1px 2px rgba(0, 0, 0, 0.3));\n",
              "      fill: #FFFFFF;\n",
              "    }\n",
              "  </style>\n",
              "\n",
              "      <script>\n",
              "        const buttonEl =\n",
              "          document.querySelector('#df-b7807c90-4178-4991-aa85-f64f0ddd9dfd button.colab-df-convert');\n",
              "        buttonEl.style.display =\n",
              "          google.colab.kernel.accessAllowed ? 'block' : 'none';\n",
              "\n",
              "        async function convertToInteractive(key) {\n",
              "          const element = document.querySelector('#df-b7807c90-4178-4991-aa85-f64f0ddd9dfd');\n",
              "          const dataTable =\n",
              "            await google.colab.kernel.invokeFunction('convertToInteractive',\n",
              "                                                     [key], {});\n",
              "          if (!dataTable) return;\n",
              "\n",
              "          const docLinkHtml = 'Like what you see? Visit the ' +\n",
              "            '<a target=\"_blank\" href=https://colab.research.google.com/notebooks/data_table.ipynb>data table notebook</a>'\n",
              "            + ' to learn more about interactive tables.';\n",
              "          element.innerHTML = '';\n",
              "          dataTable['output_type'] = 'display_data';\n",
              "          await google.colab.output.renderOutput(dataTable, element);\n",
              "          const docLink = document.createElement('div');\n",
              "          docLink.innerHTML = docLinkHtml;\n",
              "          element.appendChild(docLink);\n",
              "        }\n",
              "      </script>\n",
              "    </div>\n",
              "  </div>\n",
              "  "
            ],
            "text/plain": [
              "   security_deposit   deposit     rent\n",
              "0                 3   7977.00  2659.00\n",
              "1           2920,53   2920.53  1200.00\n",
              "2              Drei   2937.00   979.00\n",
              "3               NaN       NaN  1830.22\n",
              "4               NaN       NaN  2272.00\n",
              "5                 3   2520.00   840.00\n",
              "6               NaN       NaN  1509.45\n",
              "7                 3   2192.19   730.73\n",
              "8              Drei   1685.79   561.93\n",
              "9                 3   5367.00  1789.00\n",
              "10              NaN       NaN  2499.00\n",
              "11              NaN       NaN  2328.00\n",
              "12                3   7500.00  2500.00\n",
              "13                3  19350.00  6450.00\n",
              "14             2400   2400.00  1399.65\n",
              "15                3   4516.80  1505.60\n",
              "16          3507.42   3507.42  1429.10\n",
              "17             2000   2000.00   930.00\n",
              "18          2139.78   2139.78   868.06\n",
              "19         5.397,00   5397.00  2179.00"
            ]
          },
          "metadata": {},
          "execution_count": 124
        }
      ]
    },
    {
      "cell_type": "markdown",
      "metadata": {
        "id": "fUoDxbKabI_Z"
      },
      "source": [
        "### Check Distribution and Descriptive Stats"
      ]
    },
    {
      "cell_type": "code",
      "metadata": {
        "id": "iCLbFwzjRFkf",
        "colab": {
          "base_uri": "https://localhost:8080/",
          "height": 542
        },
        "outputId": "1f814f18-f0dc-44a5-e18b-5757aef11d56"
      },
      "source": [
        "px.histogram(df, x=\"deposit\", marginal='box')"
      ],
      "execution_count": 125,
      "outputs": [
        {
          "output_type": "display_data",
          "data": {
            "text/html": [
              "<html>\n",
              "<head><meta charset=\"utf-8\" /></head>\n",
              "<body>\n",
              "    <div>\n",
              "            <script src=\"https://cdnjs.cloudflare.com/ajax/libs/mathjax/2.7.5/MathJax.js?config=TeX-AMS-MML_SVG\"></script><script type=\"text/javascript\">if (window.MathJax) {MathJax.Hub.Config({SVG: {font: \"STIX-Web\"}});}</script>\n",
              "                <script type=\"text/javascript\">window.PlotlyConfig = {MathJaxConfig: 'local'};</script>\n",
              "        <script src=\"https://cdn.plot.ly/plotly-latest.min.js\"></script>    \n",
              "            <div id=\"657ab70f-a8a7-4b3a-9305-e4222b136dcf\" class=\"plotly-graph-div\" style=\"height:525px; width:100%;\"></div>\n",
              "            <script type=\"text/javascript\">\n",
              "                \n",
              "                    window.PLOTLYENV=window.PLOTLYENV || {};\n",
              "                    \n",
              "                if (document.getElementById(\"657ab70f-a8a7-4b3a-9305-e4222b136dcf\")) {\n",
              "                    Plotly.newPlot(\n",
              "                        '657ab70f-a8a7-4b3a-9305-e4222b136dcf',\n",
              "                        [{\"alignmentgroup\": \"True\", \"bingroup\": \"x\", \"hoverlabel\": {\"namelength\": 0}, \"hovertemplate\": \"deposit=%{x}<br>count=%{y}\", \"legendgroup\": \"\", \"marker\": {\"color\": \"#636efa\"}, \"name\": \"\", \"offsetgroup\": \"\", \"orientation\": \"v\", \"showlegend\": false, \"type\": \"histogram\", \"x\": [7977.0, 2920.53, 2937.0, null, null, 2520.0, null, 2192.19, 1685.79, 5367.0, null, null, 7500.0, 19350.0, 2400.0, 4516.799999999999, 3507.42, 2000.0, 2139.78, 5397.0, null, 3885.0, null, null, 7950.0, 4152.0, null, null, null, 4650.0, null, null, null, null, null, null, 1500.0, 2547.7200000000003, 1974.33, null, null, null, 933.1200000000001, 9150.0, 4545.0, 2809.32, null, null, 3706.66, 1533.4499999999998, null, 6900.0, 5994.0, 6000.0, 7470.0, null, 5172.0, null, 2145.0, 6215.7, 11475.0, 14850.0, null, 4197.0, null, null, null, 2600.0, 12900.0, 3000.0, 5847.78, 3450.0, 5000.0, null, null, null, null, 5070.0, 10000.0, null, null, 3000.0, null, 3620.0, null, null, null, null, 5000.0, null, 1690.0, null, 1790.0, null, 8586.0, 2990.0, 1490.0, null, 2616.21, null, null, null, null, null, null, null, null, null, null, null, null, 6900.0, 9960.0, null, 3159.0, 3627.0, 2970.0, null, 4350.0, null, 6229.14, 5010.0, 4497.0, 4333.9, 4650.0, 3000.0, null, 2013.0, null, 2841.0, null, null, 4000.0, null, 2850.72, 3300.75, null, 9885.0, 2344.0, null, null, 3645.0, 2397.0, 4500.0, null, null, 5120.43, null, 9718.0, 3597.0, 3900.0, null, null, null, 3780.0, null, 3720.0, 2205.0, 6750.0, null, 4800.0, 2757.0, 1265.6100000000001, null, 2157.0, 2157.0, 2157.0, 1500.0, null, null, 1947.0, 2685.0, 2157.0, 6597.0, 1749.09, 3582.0, null, null, null, 1301.1299999999999, 4691.25, 5100.0, null, 3630.0, 3798.8999999999996, null, null, null, null, null, 2549.79, null, null, null, 3831.0, 2274.0, null, 2850.0, 2960.0, null, null, 4362.54, null, null, null, null, 1222.26, null, null, 4771.17, 4680.0, null, 4396.86, null, null, 6372.87, 4350.0, 3500.0, 4080.0, 5691.6, null, 4350.0, 4050.0, 7586.58, 5400.0, 2338.0, null, null, 2073.87, null, 3279.4800000000005, 5940.0, null, 2662.59, 1864.1399999999999, null, 6372.87, null, null, 1307.22, 8100.0, null, 3859.17, null, null, 29322.0, null, null, 2630.43, 5961.12, 6552.0, null, null, 2700.0, 1797.0, null, 3345.0, null, null, 4500.0, 3360.0, 5148.0, null, null, 2657.04, null, 2472.0, null, 12000.0, 6300.0, 1947.0, 5394.0, 4197.0, 2727.0, 1696.8899999999999, 2667.0, null, 4845.0, 1058.85, null, 1213.17, null, 842.22, 1554.0, 6540.0, null, 7476.150000000001, 6966.0599999999995, 4950.0, 6600.0, null, null, null, null, null, null, null, null, null, null, null, null, 5791.14, 1727.76, null, null, 9025.5, null, null, null, null, null, null, 1643.6999999999998, null, null, 3750.0, 7575.0, 1799.22, null, null, null, 1740.48, 7650.0, 2881.14, null, null, 5355.0, 17324.489999999998, 2265.8999999999996, 5850.0, 4350.0, null, 4479.0, 4170.0, 2277.0, null, null, null, 6180.0, null, null, null, 2340.0, null, null, 2850.0, null, null, null, null, null, null, null, null, 5910.0, null, null, null, null, null, null, 6330.0, 5670.0, null, null, null, null, null, 6120.0, null, null, 3500.0, null, null, null, null, null, null, null, null, null, null, null, null, null, null, null, null, null, 1485.0, 2892.0, null, 3597.0, 3584.82, 5421.0, null, null, null, null, null, null, null, 3750.0, null, 5097.0, null, null, 4950.0, 4950.0, null, 4950.0, null, 5196.6, null, null, 4950.0, null, null, null, 6579.0, 2500.0, 2115.0, 2286.45, 1600.0, 2661.0, null, 1200.0, null, 2946.0, null, 5265.0, 3686.25, 5259.0, 3671.94, null, 4297.799999999999, null, 6150.0, 7453.86, 4696.200000000001, 5342.700000000001, 6237.0599999999995, 4650.0, null, null, 10500.0, null, 2426.0, null, 3450.0, 2400.0, 2040.0, null, null, null, null, null, 2085.0, null, null, null, 6570.0, null, 6675.0, 5247.96, 9333.0, 6945.0, null, 9792.0, null, null, 3973.0, 1000.0, 4506.0, 3045.0, null, null, null, null, null, null, null, null, 2250.0, 1755.0, 4650.0, null, null, 5070.0, 1074.6, 3900.0, null, null, null, 6807.0, 2844.3, 1974.0, 3685.0, 2907.0, null, null, 5502.0, null, 2253.0, 3230.0, 5775.0, 4698.0, 3158.0, 4341.0, null, null, null, 1688.4, 3844.5, 2929.5, null, 1695.48, 6510.0, null, null, null, null, null, null, null, 5506.2, 2564.0, null, 1600.0, null, null, 4258.0, 7647.0, null, null, 8382.24, null, 3855.0, 2958.0, 1726.3500000000001, null, null, 4069.32, null, 4197.0, null, 3354.0, null, null, null, 5718.42, null, 5400.0, 6796.41, null, null, null, 2674.95, null, 14400.0, 4366.83, 7650.0, 4696.68, null, null, 5281.11, 3133.0, null, 13350.0, 4104.0, 1600.0, 4557.0, null, 4263.0, 3423.0, null, 3550.0, 5349.24, 2318.0, 5502.0, 2268.0, null, null, 2315.0, null, null, null, 3750.18, null, 17809.199999999997, 17809.199999999997, 14242.800000000001, 5400.0, 14242.800000000001, null, 14242.800000000001, null, null, null, 3334.0, 6450.0, null, null, null, null, 3533.0, null, null, 3548.0, 3544.0, 2297.0, null, 3502.0, null, 5100.0, null, 3437.0, null, 2262.0, 3461.0, 3482.0, 4300.0, 5700.0, null, 3167.0, 3706.0, 4409.0, 2795.0, null, 3058.0, 3028.0, null, 14034.900000000001, 3088.0, 4976.0, 9480.0, 4464.75, 3230.0, 6600.0, 5444.549999999999, 9750.0, null, null, null, 5269.08, 13200.0, 5876.07, 6864.18, 4264.0, 7068.599999999999, 5508.0, null, 15300.0, 3087.0, 7464.780000000001, null, null, 3627.0, 8947.23, 3706.0, null, 3188.0, 8160.0, 3204.0, 1312.5, 3762.0, 3058.0, 3684.0, 4409.0, 3355.0, 4552.0, 4519.0, 3141.69, 6207.780000000001, null, 3154.0, 4271.0, null, 4976.0, 3630.0, null, null, 4338.0, 3059.0, null, 4047.0, null, 4300.0, 3543.0, null, null, 3297.0, 4684.950000000001, null, 3007.0, null, 3500.0, 4326.0, null, null, 3905.0, 4759.0, 2500.0, null, 3747.0, null, 3745.0, 3028.0, 2000.0, null, 2000.0, null, null, 6600.0, null, null, null, 4650.0, null, null, null, null, null, null, null, null, 7318.799999999999, null, null, 1965.0, null, 4197.0, 6900.0, 6387.0, null, null, null, null, null, null, null, 3237.0, null, null, null, null, null, null, null, null, null, null, null, null, 1542.0, null, null, null, null, null, null, null, null], \"xaxis\": \"x\", \"yaxis\": \"y\"}, {\"alignmentgroup\": \"True\", \"hoverlabel\": {\"namelength\": 0}, \"hovertemplate\": \"deposit=%{x}\", \"legendgroup\": \"\", \"marker\": {\"color\": \"#636efa\"}, \"name\": \"\", \"notched\": true, \"offsetgroup\": \"\", \"showlegend\": false, \"type\": \"box\", \"x\": [7977.0, 2920.53, 2937.0, null, null, 2520.0, null, 2192.19, 1685.79, 5367.0, null, null, 7500.0, 19350.0, 2400.0, 4516.799999999999, 3507.42, 2000.0, 2139.78, 5397.0, null, 3885.0, null, null, 7950.0, 4152.0, null, null, null, 4650.0, null, null, null, null, null, null, 1500.0, 2547.7200000000003, 1974.33, null, null, null, 933.1200000000001, 9150.0, 4545.0, 2809.32, null, null, 3706.66, 1533.4499999999998, null, 6900.0, 5994.0, 6000.0, 7470.0, null, 5172.0, null, 2145.0, 6215.7, 11475.0, 14850.0, null, 4197.0, null, null, null, 2600.0, 12900.0, 3000.0, 5847.78, 3450.0, 5000.0, null, null, null, null, 5070.0, 10000.0, null, null, 3000.0, null, 3620.0, null, null, null, null, 5000.0, null, 1690.0, null, 1790.0, null, 8586.0, 2990.0, 1490.0, null, 2616.21, null, null, null, null, null, null, null, null, null, null, null, null, 6900.0, 9960.0, null, 3159.0, 3627.0, 2970.0, null, 4350.0, null, 6229.14, 5010.0, 4497.0, 4333.9, 4650.0, 3000.0, null, 2013.0, null, 2841.0, null, null, 4000.0, null, 2850.72, 3300.75, null, 9885.0, 2344.0, null, null, 3645.0, 2397.0, 4500.0, null, null, 5120.43, null, 9718.0, 3597.0, 3900.0, null, null, null, 3780.0, null, 3720.0, 2205.0, 6750.0, null, 4800.0, 2757.0, 1265.6100000000001, null, 2157.0, 2157.0, 2157.0, 1500.0, null, null, 1947.0, 2685.0, 2157.0, 6597.0, 1749.09, 3582.0, null, null, null, 1301.1299999999999, 4691.25, 5100.0, null, 3630.0, 3798.8999999999996, null, null, null, null, null, 2549.79, null, null, null, 3831.0, 2274.0, null, 2850.0, 2960.0, null, null, 4362.54, null, null, null, null, 1222.26, null, null, 4771.17, 4680.0, null, 4396.86, null, null, 6372.87, 4350.0, 3500.0, 4080.0, 5691.6, null, 4350.0, 4050.0, 7586.58, 5400.0, 2338.0, null, null, 2073.87, null, 3279.4800000000005, 5940.0, null, 2662.59, 1864.1399999999999, null, 6372.87, null, null, 1307.22, 8100.0, null, 3859.17, null, null, 29322.0, null, null, 2630.43, 5961.12, 6552.0, null, null, 2700.0, 1797.0, null, 3345.0, null, null, 4500.0, 3360.0, 5148.0, null, null, 2657.04, null, 2472.0, null, 12000.0, 6300.0, 1947.0, 5394.0, 4197.0, 2727.0, 1696.8899999999999, 2667.0, null, 4845.0, 1058.85, null, 1213.17, null, 842.22, 1554.0, 6540.0, null, 7476.150000000001, 6966.0599999999995, 4950.0, 6600.0, null, null, null, null, null, null, null, null, null, null, null, null, 5791.14, 1727.76, null, null, 9025.5, null, null, null, null, null, null, 1643.6999999999998, null, null, 3750.0, 7575.0, 1799.22, null, null, null, 1740.48, 7650.0, 2881.14, null, null, 5355.0, 17324.489999999998, 2265.8999999999996, 5850.0, 4350.0, null, 4479.0, 4170.0, 2277.0, null, null, null, 6180.0, null, null, null, 2340.0, null, null, 2850.0, null, null, null, null, null, null, null, null, 5910.0, null, null, null, null, null, null, 6330.0, 5670.0, null, null, null, null, null, 6120.0, null, null, 3500.0, null, null, null, null, null, null, null, null, null, null, null, null, null, null, null, null, null, 1485.0, 2892.0, null, 3597.0, 3584.82, 5421.0, null, null, null, null, null, null, null, 3750.0, null, 5097.0, null, null, 4950.0, 4950.0, null, 4950.0, null, 5196.6, null, null, 4950.0, null, null, null, 6579.0, 2500.0, 2115.0, 2286.45, 1600.0, 2661.0, null, 1200.0, null, 2946.0, null, 5265.0, 3686.25, 5259.0, 3671.94, null, 4297.799999999999, null, 6150.0, 7453.86, 4696.200000000001, 5342.700000000001, 6237.0599999999995, 4650.0, null, null, 10500.0, null, 2426.0, null, 3450.0, 2400.0, 2040.0, null, null, null, null, null, 2085.0, null, null, null, 6570.0, null, 6675.0, 5247.96, 9333.0, 6945.0, null, 9792.0, null, null, 3973.0, 1000.0, 4506.0, 3045.0, null, null, null, null, null, null, null, null, 2250.0, 1755.0, 4650.0, null, null, 5070.0, 1074.6, 3900.0, null, null, null, 6807.0, 2844.3, 1974.0, 3685.0, 2907.0, null, null, 5502.0, null, 2253.0, 3230.0, 5775.0, 4698.0, 3158.0, 4341.0, null, null, null, 1688.4, 3844.5, 2929.5, null, 1695.48, 6510.0, null, null, null, null, null, null, null, 5506.2, 2564.0, null, 1600.0, null, null, 4258.0, 7647.0, null, null, 8382.24, null, 3855.0, 2958.0, 1726.3500000000001, null, null, 4069.32, null, 4197.0, null, 3354.0, null, null, null, 5718.42, null, 5400.0, 6796.41, null, null, null, 2674.95, null, 14400.0, 4366.83, 7650.0, 4696.68, null, null, 5281.11, 3133.0, null, 13350.0, 4104.0, 1600.0, 4557.0, null, 4263.0, 3423.0, null, 3550.0, 5349.24, 2318.0, 5502.0, 2268.0, null, null, 2315.0, null, null, null, 3750.18, null, 17809.199999999997, 17809.199999999997, 14242.800000000001, 5400.0, 14242.800000000001, null, 14242.800000000001, null, null, null, 3334.0, 6450.0, null, null, null, null, 3533.0, null, null, 3548.0, 3544.0, 2297.0, null, 3502.0, null, 5100.0, null, 3437.0, null, 2262.0, 3461.0, 3482.0, 4300.0, 5700.0, null, 3167.0, 3706.0, 4409.0, 2795.0, null, 3058.0, 3028.0, null, 14034.900000000001, 3088.0, 4976.0, 9480.0, 4464.75, 3230.0, 6600.0, 5444.549999999999, 9750.0, null, null, null, 5269.08, 13200.0, 5876.07, 6864.18, 4264.0, 7068.599999999999, 5508.0, null, 15300.0, 3087.0, 7464.780000000001, null, null, 3627.0, 8947.23, 3706.0, null, 3188.0, 8160.0, 3204.0, 1312.5, 3762.0, 3058.0, 3684.0, 4409.0, 3355.0, 4552.0, 4519.0, 3141.69, 6207.780000000001, null, 3154.0, 4271.0, null, 4976.0, 3630.0, null, null, 4338.0, 3059.0, null, 4047.0, null, 4300.0, 3543.0, null, null, 3297.0, 4684.950000000001, null, 3007.0, null, 3500.0, 4326.0, null, null, 3905.0, 4759.0, 2500.0, null, 3747.0, null, 3745.0, 3028.0, 2000.0, null, 2000.0, null, null, 6600.0, null, null, null, 4650.0, null, null, null, null, null, null, null, null, 7318.799999999999, null, null, 1965.0, null, 4197.0, 6900.0, 6387.0, null, null, null, null, null, null, null, 3237.0, null, null, null, null, null, null, null, null, null, null, null, null, 1542.0, null, null, null, null, null, null, null, null], \"xaxis\": \"x2\", \"yaxis\": \"y2\"}],\n",
              "                        {\"barmode\": \"relative\", \"legend\": {\"tracegroupgap\": 0}, \"margin\": {\"t\": 60}, \"template\": {\"data\": {\"bar\": [{\"error_x\": {\"color\": \"#2a3f5f\"}, \"error_y\": {\"color\": \"#2a3f5f\"}, \"marker\": {\"line\": {\"color\": \"#E5ECF6\", \"width\": 0.5}}, \"type\": \"bar\"}], \"barpolar\": [{\"marker\": {\"line\": {\"color\": \"#E5ECF6\", \"width\": 0.5}}, \"type\": \"barpolar\"}], \"carpet\": [{\"aaxis\": {\"endlinecolor\": \"#2a3f5f\", \"gridcolor\": \"white\", \"linecolor\": \"white\", \"minorgridcolor\": \"white\", \"startlinecolor\": \"#2a3f5f\"}, \"baxis\": {\"endlinecolor\": \"#2a3f5f\", \"gridcolor\": \"white\", \"linecolor\": \"white\", \"minorgridcolor\": \"white\", \"startlinecolor\": \"#2a3f5f\"}, \"type\": \"carpet\"}], \"choropleth\": [{\"colorbar\": {\"outlinewidth\": 0, \"ticks\": \"\"}, \"type\": \"choropleth\"}], \"contour\": [{\"colorbar\": {\"outlinewidth\": 0, \"ticks\": \"\"}, \"colorscale\": [[0.0, \"#0d0887\"], [0.1111111111111111, \"#46039f\"], [0.2222222222222222, \"#7201a8\"], [0.3333333333333333, \"#9c179e\"], [0.4444444444444444, \"#bd3786\"], [0.5555555555555556, \"#d8576b\"], [0.6666666666666666, \"#ed7953\"], [0.7777777777777778, \"#fb9f3a\"], [0.8888888888888888, \"#fdca26\"], [1.0, \"#f0f921\"]], \"type\": \"contour\"}], \"contourcarpet\": [{\"colorbar\": {\"outlinewidth\": 0, \"ticks\": \"\"}, \"type\": \"contourcarpet\"}], \"heatmap\": [{\"colorbar\": {\"outlinewidth\": 0, \"ticks\": \"\"}, \"colorscale\": [[0.0, \"#0d0887\"], [0.1111111111111111, \"#46039f\"], [0.2222222222222222, \"#7201a8\"], [0.3333333333333333, \"#9c179e\"], [0.4444444444444444, \"#bd3786\"], [0.5555555555555556, \"#d8576b\"], [0.6666666666666666, \"#ed7953\"], [0.7777777777777778, \"#fb9f3a\"], [0.8888888888888888, \"#fdca26\"], [1.0, \"#f0f921\"]], \"type\": \"heatmap\"}], \"heatmapgl\": [{\"colorbar\": {\"outlinewidth\": 0, \"ticks\": \"\"}, \"colorscale\": [[0.0, \"#0d0887\"], [0.1111111111111111, \"#46039f\"], [0.2222222222222222, \"#7201a8\"], [0.3333333333333333, \"#9c179e\"], [0.4444444444444444, \"#bd3786\"], [0.5555555555555556, \"#d8576b\"], [0.6666666666666666, \"#ed7953\"], [0.7777777777777778, \"#fb9f3a\"], [0.8888888888888888, \"#fdca26\"], [1.0, \"#f0f921\"]], \"type\": \"heatmapgl\"}], \"histogram\": [{\"marker\": {\"colorbar\": {\"outlinewidth\": 0, \"ticks\": \"\"}}, \"type\": \"histogram\"}], \"histogram2d\": [{\"colorbar\": {\"outlinewidth\": 0, \"ticks\": \"\"}, \"colorscale\": [[0.0, \"#0d0887\"], [0.1111111111111111, \"#46039f\"], [0.2222222222222222, \"#7201a8\"], [0.3333333333333333, \"#9c179e\"], [0.4444444444444444, \"#bd3786\"], [0.5555555555555556, \"#d8576b\"], [0.6666666666666666, \"#ed7953\"], [0.7777777777777778, \"#fb9f3a\"], [0.8888888888888888, \"#fdca26\"], [1.0, \"#f0f921\"]], \"type\": \"histogram2d\"}], \"histogram2dcontour\": [{\"colorbar\": {\"outlinewidth\": 0, \"ticks\": \"\"}, \"colorscale\": [[0.0, \"#0d0887\"], [0.1111111111111111, \"#46039f\"], [0.2222222222222222, \"#7201a8\"], [0.3333333333333333, \"#9c179e\"], [0.4444444444444444, \"#bd3786\"], [0.5555555555555556, \"#d8576b\"], [0.6666666666666666, \"#ed7953\"], [0.7777777777777778, \"#fb9f3a\"], [0.8888888888888888, \"#fdca26\"], [1.0, \"#f0f921\"]], \"type\": \"histogram2dcontour\"}], \"mesh3d\": [{\"colorbar\": {\"outlinewidth\": 0, \"ticks\": \"\"}, \"type\": \"mesh3d\"}], \"parcoords\": [{\"line\": {\"colorbar\": {\"outlinewidth\": 0, \"ticks\": \"\"}}, \"type\": \"parcoords\"}], \"pie\": [{\"automargin\": true, \"type\": \"pie\"}], \"scatter\": [{\"marker\": {\"colorbar\": {\"outlinewidth\": 0, \"ticks\": \"\"}}, \"type\": \"scatter\"}], \"scatter3d\": [{\"line\": {\"colorbar\": {\"outlinewidth\": 0, \"ticks\": \"\"}}, \"marker\": {\"colorbar\": {\"outlinewidth\": 0, \"ticks\": \"\"}}, \"type\": \"scatter3d\"}], \"scattercarpet\": [{\"marker\": {\"colorbar\": {\"outlinewidth\": 0, \"ticks\": \"\"}}, \"type\": \"scattercarpet\"}], \"scattergeo\": [{\"marker\": {\"colorbar\": {\"outlinewidth\": 0, \"ticks\": \"\"}}, \"type\": \"scattergeo\"}], \"scattergl\": [{\"marker\": {\"colorbar\": {\"outlinewidth\": 0, \"ticks\": \"\"}}, \"type\": \"scattergl\"}], \"scattermapbox\": [{\"marker\": {\"colorbar\": {\"outlinewidth\": 0, \"ticks\": \"\"}}, \"type\": \"scattermapbox\"}], \"scatterpolar\": [{\"marker\": {\"colorbar\": {\"outlinewidth\": 0, \"ticks\": \"\"}}, \"type\": \"scatterpolar\"}], \"scatterpolargl\": [{\"marker\": {\"colorbar\": {\"outlinewidth\": 0, \"ticks\": \"\"}}, \"type\": \"scatterpolargl\"}], \"scatterternary\": [{\"marker\": {\"colorbar\": {\"outlinewidth\": 0, \"ticks\": \"\"}}, \"type\": \"scatterternary\"}], \"surface\": [{\"colorbar\": {\"outlinewidth\": 0, \"ticks\": \"\"}, \"colorscale\": [[0.0, \"#0d0887\"], [0.1111111111111111, \"#46039f\"], [0.2222222222222222, \"#7201a8\"], [0.3333333333333333, \"#9c179e\"], [0.4444444444444444, \"#bd3786\"], [0.5555555555555556, \"#d8576b\"], [0.6666666666666666, \"#ed7953\"], [0.7777777777777778, \"#fb9f3a\"], [0.8888888888888888, \"#fdca26\"], [1.0, \"#f0f921\"]], \"type\": \"surface\"}], \"table\": [{\"cells\": {\"fill\": {\"color\": \"#EBF0F8\"}, \"line\": {\"color\": \"white\"}}, \"header\": {\"fill\": {\"color\": \"#C8D4E3\"}, \"line\": {\"color\": \"white\"}}, \"type\": \"table\"}]}, \"layout\": {\"annotationdefaults\": {\"arrowcolor\": \"#2a3f5f\", \"arrowhead\": 0, \"arrowwidth\": 1}, \"coloraxis\": {\"colorbar\": {\"outlinewidth\": 0, \"ticks\": \"\"}}, \"colorscale\": {\"diverging\": [[0, \"#8e0152\"], [0.1, \"#c51b7d\"], [0.2, \"#de77ae\"], [0.3, \"#f1b6da\"], [0.4, \"#fde0ef\"], [0.5, \"#f7f7f7\"], [0.6, \"#e6f5d0\"], [0.7, \"#b8e186\"], [0.8, \"#7fbc41\"], [0.9, \"#4d9221\"], [1, \"#276419\"]], \"sequential\": [[0.0, \"#0d0887\"], [0.1111111111111111, \"#46039f\"], [0.2222222222222222, \"#7201a8\"], [0.3333333333333333, \"#9c179e\"], [0.4444444444444444, \"#bd3786\"], [0.5555555555555556, \"#d8576b\"], [0.6666666666666666, \"#ed7953\"], [0.7777777777777778, \"#fb9f3a\"], [0.8888888888888888, \"#fdca26\"], [1.0, \"#f0f921\"]], \"sequentialminus\": [[0.0, \"#0d0887\"], [0.1111111111111111, \"#46039f\"], [0.2222222222222222, \"#7201a8\"], [0.3333333333333333, \"#9c179e\"], [0.4444444444444444, \"#bd3786\"], [0.5555555555555556, \"#d8576b\"], [0.6666666666666666, \"#ed7953\"], [0.7777777777777778, \"#fb9f3a\"], [0.8888888888888888, \"#fdca26\"], [1.0, \"#f0f921\"]]}, \"colorway\": [\"#636efa\", \"#EF553B\", \"#00cc96\", \"#ab63fa\", \"#FFA15A\", \"#19d3f3\", \"#FF6692\", \"#B6E880\", \"#FF97FF\", \"#FECB52\"], \"font\": {\"color\": \"#2a3f5f\"}, \"geo\": {\"bgcolor\": \"white\", \"lakecolor\": \"white\", \"landcolor\": \"#E5ECF6\", \"showlakes\": true, \"showland\": true, \"subunitcolor\": \"white\"}, \"hoverlabel\": {\"align\": \"left\"}, \"hovermode\": \"closest\", \"mapbox\": {\"style\": \"light\"}, \"paper_bgcolor\": \"white\", \"plot_bgcolor\": \"#E5ECF6\", \"polar\": {\"angularaxis\": {\"gridcolor\": \"white\", \"linecolor\": \"white\", \"ticks\": \"\"}, \"bgcolor\": \"#E5ECF6\", \"radialaxis\": {\"gridcolor\": \"white\", \"linecolor\": \"white\", \"ticks\": \"\"}}, \"scene\": {\"xaxis\": {\"backgroundcolor\": \"#E5ECF6\", \"gridcolor\": \"white\", \"gridwidth\": 2, \"linecolor\": \"white\", \"showbackground\": true, \"ticks\": \"\", \"zerolinecolor\": \"white\"}, \"yaxis\": {\"backgroundcolor\": \"#E5ECF6\", \"gridcolor\": \"white\", \"gridwidth\": 2, \"linecolor\": \"white\", \"showbackground\": true, \"ticks\": \"\", \"zerolinecolor\": \"white\"}, \"zaxis\": {\"backgroundcolor\": \"#E5ECF6\", \"gridcolor\": \"white\", \"gridwidth\": 2, \"linecolor\": \"white\", \"showbackground\": true, \"ticks\": \"\", \"zerolinecolor\": \"white\"}}, \"shapedefaults\": {\"line\": {\"color\": \"#2a3f5f\"}}, \"ternary\": {\"aaxis\": {\"gridcolor\": \"white\", \"linecolor\": \"white\", \"ticks\": \"\"}, \"baxis\": {\"gridcolor\": \"white\", \"linecolor\": \"white\", \"ticks\": \"\"}, \"bgcolor\": \"#E5ECF6\", \"caxis\": {\"gridcolor\": \"white\", \"linecolor\": \"white\", \"ticks\": \"\"}}, \"title\": {\"x\": 0.05}, \"xaxis\": {\"automargin\": true, \"gridcolor\": \"white\", \"linecolor\": \"white\", \"ticks\": \"\", \"title\": {\"standoff\": 15}, \"zerolinecolor\": \"white\", \"zerolinewidth\": 2}, \"yaxis\": {\"automargin\": true, \"gridcolor\": \"white\", \"linecolor\": \"white\", \"ticks\": \"\", \"title\": {\"standoff\": 15}, \"zerolinecolor\": \"white\", \"zerolinewidth\": 2}}}, \"xaxis\": {\"anchor\": \"y\", \"domain\": [0.0, 1.0], \"title\": {\"text\": \"deposit\"}}, \"xaxis2\": {\"anchor\": \"y2\", \"domain\": [0.0, 1.0], \"matches\": \"x\", \"showgrid\": true, \"showticklabels\": false}, \"yaxis\": {\"anchor\": \"x\", \"domain\": [0.0, 0.8316], \"title\": {\"text\": \"count\"}}, \"yaxis2\": {\"anchor\": \"x2\", \"domain\": [0.8416, 1.0], \"matches\": \"y2\", \"showgrid\": false, \"showline\": false, \"showticklabels\": false, \"ticks\": \"\"}},\n",
              "                        {\"responsive\": true}\n",
              "                    ).then(function(){\n",
              "                            \n",
              "var gd = document.getElementById('657ab70f-a8a7-4b3a-9305-e4222b136dcf');\n",
              "var x = new MutationObserver(function (mutations, observer) {{\n",
              "        var display = window.getComputedStyle(gd).display;\n",
              "        if (!display || display === 'none') {{\n",
              "            console.log([gd, 'removed!']);\n",
              "            Plotly.purge(gd);\n",
              "            observer.disconnect();\n",
              "        }}\n",
              "}});\n",
              "\n",
              "// Listen for the removal of the full notebook cells\n",
              "var notebookContainer = gd.closest('#notebook-container');\n",
              "if (notebookContainer) {{\n",
              "    x.observe(notebookContainer, {childList: true});\n",
              "}}\n",
              "\n",
              "// Listen for the clearing of the current output cell\n",
              "var outputEl = gd.closest('.output');\n",
              "if (outputEl) {{\n",
              "    x.observe(outputEl, {childList: true});\n",
              "}}\n",
              "\n",
              "                        })\n",
              "                };\n",
              "                \n",
              "            </script>\n",
              "        </div>\n",
              "</body>\n",
              "</html>"
            ]
          },
          "metadata": {}
        }
      ]
    },
    {
      "cell_type": "code",
      "metadata": {
        "id": "GK52nKKhbI_d",
        "colab": {
          "base_uri": "https://localhost:8080/"
        },
        "outputId": "c9cb368a-a38e-4c78-a380-41f4e09a243a"
      },
      "source": [
        "df['deposit'].agg(['mean', 'median', 'std', 'min', 'max'])"
      ],
      "execution_count": 126,
      "outputs": [
        {
          "output_type": "execute_result",
          "data": {
            "text/plain": [
              "mean       4670.031169\n",
              "median     3900.000000\n",
              "std        3153.089709\n",
              "min         842.220000\n",
              "max       29322.000000\n",
              "Name: deposit, dtype: float64"
            ]
          },
          "metadata": {},
          "execution_count": 126
        }
      ]
    },
    {
      "cell_type": "markdown",
      "metadata": {
        "id": "6NLx-OKxbI_f"
      },
      "source": [
        "### Filling in missing values (NaN) \n",
        "\n",
        "(Note: these are old advertisements and no longer available)\n",
        "\n",
        " - https://www.immobilienscout24.de/expose/116573177: has all of it's data mising, *will assume three months*\n",
        " - https://www.immobilienscout24.de/expose/115925878: has only some of its data missing, *will assume scraping error and therefore three months*\n",
        " - https://www.immobilienscout24.de/expose/114437800: has only deposit missing, *will assume there is no deposit*\n",
        " \n",
        "**Because the data is missing for different reasons, we should use different fill strategies**"
      ]
    },
    {
      "cell_type": "code",
      "metadata": {
        "id": "PWTfOO-kbI_f",
        "colab": {
          "base_uri": "https://localhost:8080/",
          "height": 391
        },
        "outputId": "af32f83d-4932-4cae-c8da-eb3916d338af"
      },
      "source": [
        "df[df['deposit'].isna()].head()"
      ],
      "execution_count": 127,
      "outputs": [
        {
          "output_type": "execute_result",
          "data": {
            "text/html": [
              "\n",
              "  <div id=\"df-611034a2-25f5-420f-9752-f0aea11211f2\">\n",
              "    <div class=\"colab-df-container\">\n",
              "      <div>\n",
              "<style scoped>\n",
              "    .dataframe tbody tr th:only-of-type {\n",
              "        vertical-align: middle;\n",
              "    }\n",
              "\n",
              "    .dataframe tbody tr th {\n",
              "        vertical-align: top;\n",
              "    }\n",
              "\n",
              "    .dataframe thead th {\n",
              "        text-align: right;\n",
              "    }\n",
              "</style>\n",
              "<table border=\"1\" class=\"dataframe\">\n",
              "  <thead>\n",
              "    <tr style=\"text-align: right;\">\n",
              "      <th></th>\n",
              "      <th>url</th>\n",
              "      <th>region</th>\n",
              "      <th>condition</th>\n",
              "      <th>rooms</th>\n",
              "      <th>rent</th>\n",
              "      <th>year_construction</th>\n",
              "      <th>space</th>\n",
              "      <th>cold_rent</th>\n",
              "      <th>utilities</th>\n",
              "      <th>heating_costs</th>\n",
              "      <th>security_deposit</th>\n",
              "      <th>parking_space</th>\n",
              "      <th>renovated_date</th>\n",
              "      <th>property_condition</th>\n",
              "      <th>furnishing</th>\n",
              "      <th>heating_type</th>\n",
              "      <th>energy_sources</th>\n",
              "      <th>energy_certificate</th>\n",
              "      <th>type_of_certificate</th>\n",
              "      <th>energy_requirement</th>\n",
              "      <th>efficiency_class</th>\n",
              "      <th>deposit</th>\n",
              "    </tr>\n",
              "  </thead>\n",
              "  <tbody>\n",
              "    <tr>\n",
              "      <th>3</th>\n",
              "      <td>https://www.immobilienscout24.de/expose/116573177</td>\n",
              "      <td>Wilmersdorf</td>\n",
              "      <td>well_kept</td>\n",
              "      <td>4.0</td>\n",
              "      <td>1830.22</td>\n",
              "      <td>1900</td>\n",
              "      <td>171.18</td>\n",
              "      <td>NaN</td>\n",
              "      <td>NaN</td>\n",
              "      <td>NaN</td>\n",
              "      <td>NaN</td>\n",
              "      <td>NaN</td>\n",
              "      <td>NaN</td>\n",
              "      <td>NaN</td>\n",
              "      <td>NaN</td>\n",
              "      <td>NaN</td>\n",
              "      <td>NaN</td>\n",
              "      <td>NaN</td>\n",
              "      <td>NaN</td>\n",
              "      <td>NaN</td>\n",
              "      <td>NaN</td>\n",
              "      <td>NaN</td>\n",
              "    </tr>\n",
              "    <tr>\n",
              "      <th>4</th>\n",
              "      <td>https://www.immobilienscout24.de/expose/115925878</td>\n",
              "      <td>Kreuzberg</td>\n",
              "      <td>first_time_use</td>\n",
              "      <td>2.0</td>\n",
              "      <td>2272.00</td>\n",
              "      <td>2020</td>\n",
              "      <td>88.27</td>\n",
              "      <td>NaN</td>\n",
              "      <td>NaN</td>\n",
              "      <td>NaN</td>\n",
              "      <td>NaN</td>\n",
              "      <td>NaN</td>\n",
              "      <td>NaN</td>\n",
              "      <td>New</td>\n",
              "      <td>Gehobene Qualität</td>\n",
              "      <td>Central Heating</td>\n",
              "      <td>Fernwärme Energieausweis liegt zur Besichtigun...</td>\n",
              "      <td>liegt zur Besichtigung vor</td>\n",
              "      <td>NaN</td>\n",
              "      <td>NaN</td>\n",
              "      <td>NaN</td>\n",
              "      <td>NaN</td>\n",
              "    </tr>\n",
              "    <tr>\n",
              "      <th>6</th>\n",
              "      <td>https://www.immobilienscout24.de/expose/108376992</td>\n",
              "      <td>Mitte</td>\n",
              "      <td>mint_condition</td>\n",
              "      <td>2.0</td>\n",
              "      <td>1509.45</td>\n",
              "      <td>2015</td>\n",
              "      <td>61.61</td>\n",
              "      <td>NaN</td>\n",
              "      <td>NaN</td>\n",
              "      <td>NaN</td>\n",
              "      <td>NaN</td>\n",
              "      <td>NaN</td>\n",
              "      <td>NaN</td>\n",
              "      <td>NaN</td>\n",
              "      <td>NaN</td>\n",
              "      <td>NaN</td>\n",
              "      <td>NaN</td>\n",
              "      <td>NaN</td>\n",
              "      <td>NaN</td>\n",
              "      <td>NaN</td>\n",
              "      <td>NaN</td>\n",
              "      <td>NaN</td>\n",
              "    </tr>\n",
              "    <tr>\n",
              "      <th>10</th>\n",
              "      <td>https://www.immobilienscout24.de/expose/114437800</td>\n",
              "      <td>Mitte</td>\n",
              "      <td>first_time_use</td>\n",
              "      <td>4.0</td>\n",
              "      <td>2499.00</td>\n",
              "      <td>2019</td>\n",
              "      <td>125.20</td>\n",
              "      <td>1.999€</td>\n",
              "      <td>+500€</td>\n",
              "      <td>in</td>\n",
              "      <td>NaN</td>\n",
              "      <td>120€</td>\n",
              "      <td>NaN</td>\n",
              "      <td>New</td>\n",
              "      <td>NaN</td>\n",
              "      <td>Underfloor Heating</td>\n",
              "      <td>Fernwärme</td>\n",
              "      <td>NaN</td>\n",
              "      <td>Bedarfsausweis</td>\n",
              "      <td>NaN</td>\n",
              "      <td>B</td>\n",
              "      <td>NaN</td>\n",
              "    </tr>\n",
              "    <tr>\n",
              "      <th>11</th>\n",
              "      <td>https://www.immobilienscout24.de/expose/116205341</td>\n",
              "      <td>Kreuzberg</td>\n",
              "      <td>first_time_use</td>\n",
              "      <td>2.0</td>\n",
              "      <td>2328.00</td>\n",
              "      <td>2020</td>\n",
              "      <td>90.36</td>\n",
              "      <td>NaN</td>\n",
              "      <td>NaN</td>\n",
              "      <td>NaN</td>\n",
              "      <td>NaN</td>\n",
              "      <td>NaN</td>\n",
              "      <td>NaN</td>\n",
              "      <td>New</td>\n",
              "      <td>Gehobene Qualität</td>\n",
              "      <td>Central Heating</td>\n",
              "      <td>Fernwärme Energieausweis liegt zur Besichtigun...</td>\n",
              "      <td>liegt zur Besichtigung vor</td>\n",
              "      <td>NaN</td>\n",
              "      <td>NaN</td>\n",
              "      <td>NaN</td>\n",
              "      <td>NaN</td>\n",
              "    </tr>\n",
              "  </tbody>\n",
              "</table>\n",
              "</div>\n",
              "      <button class=\"colab-df-convert\" onclick=\"convertToInteractive('df-611034a2-25f5-420f-9752-f0aea11211f2')\"\n",
              "              title=\"Convert this dataframe to an interactive table.\"\n",
              "              style=\"display:none;\">\n",
              "        \n",
              "  <svg xmlns=\"http://www.w3.org/2000/svg\" height=\"24px\"viewBox=\"0 0 24 24\"\n",
              "       width=\"24px\">\n",
              "    <path d=\"M0 0h24v24H0V0z\" fill=\"none\"/>\n",
              "    <path d=\"M18.56 5.44l.94 2.06.94-2.06 2.06-.94-2.06-.94-.94-2.06-.94 2.06-2.06.94zm-11 1L8.5 8.5l.94-2.06 2.06-.94-2.06-.94L8.5 2.5l-.94 2.06-2.06.94zm10 10l.94 2.06.94-2.06 2.06-.94-2.06-.94-.94-2.06-.94 2.06-2.06.94z\"/><path d=\"M17.41 7.96l-1.37-1.37c-.4-.4-.92-.59-1.43-.59-.52 0-1.04.2-1.43.59L10.3 9.45l-7.72 7.72c-.78.78-.78 2.05 0 2.83L4 21.41c.39.39.9.59 1.41.59.51 0 1.02-.2 1.41-.59l7.78-7.78 2.81-2.81c.8-.78.8-2.07 0-2.86zM5.41 20L4 18.59l7.72-7.72 1.47 1.35L5.41 20z\"/>\n",
              "  </svg>\n",
              "      </button>\n",
              "      \n",
              "  <style>\n",
              "    .colab-df-container {\n",
              "      display:flex;\n",
              "      flex-wrap:wrap;\n",
              "      gap: 12px;\n",
              "    }\n",
              "\n",
              "    .colab-df-convert {\n",
              "      background-color: #E8F0FE;\n",
              "      border: none;\n",
              "      border-radius: 50%;\n",
              "      cursor: pointer;\n",
              "      display: none;\n",
              "      fill: #1967D2;\n",
              "      height: 32px;\n",
              "      padding: 0 0 0 0;\n",
              "      width: 32px;\n",
              "    }\n",
              "\n",
              "    .colab-df-convert:hover {\n",
              "      background-color: #E2EBFA;\n",
              "      box-shadow: 0px 1px 2px rgba(60, 64, 67, 0.3), 0px 1px 3px 1px rgba(60, 64, 67, 0.15);\n",
              "      fill: #174EA6;\n",
              "    }\n",
              "\n",
              "    [theme=dark] .colab-df-convert {\n",
              "      background-color: #3B4455;\n",
              "      fill: #D2E3FC;\n",
              "    }\n",
              "\n",
              "    [theme=dark] .colab-df-convert:hover {\n",
              "      background-color: #434B5C;\n",
              "      box-shadow: 0px 1px 3px 1px rgba(0, 0, 0, 0.15);\n",
              "      filter: drop-shadow(0px 1px 2px rgba(0, 0, 0, 0.3));\n",
              "      fill: #FFFFFF;\n",
              "    }\n",
              "  </style>\n",
              "\n",
              "      <script>\n",
              "        const buttonEl =\n",
              "          document.querySelector('#df-611034a2-25f5-420f-9752-f0aea11211f2 button.colab-df-convert');\n",
              "        buttonEl.style.display =\n",
              "          google.colab.kernel.accessAllowed ? 'block' : 'none';\n",
              "\n",
              "        async function convertToInteractive(key) {\n",
              "          const element = document.querySelector('#df-611034a2-25f5-420f-9752-f0aea11211f2');\n",
              "          const dataTable =\n",
              "            await google.colab.kernel.invokeFunction('convertToInteractive',\n",
              "                                                     [key], {});\n",
              "          if (!dataTable) return;\n",
              "\n",
              "          const docLinkHtml = 'Like what you see? Visit the ' +\n",
              "            '<a target=\"_blank\" href=https://colab.research.google.com/notebooks/data_table.ipynb>data table notebook</a>'\n",
              "            + ' to learn more about interactive tables.';\n",
              "          element.innerHTML = '';\n",
              "          dataTable['output_type'] = 'display_data';\n",
              "          await google.colab.output.renderOutput(dataTable, element);\n",
              "          const docLink = document.createElement('div');\n",
              "          docLink.innerHTML = docLinkHtml;\n",
              "          element.appendChild(docLink);\n",
              "        }\n",
              "      </script>\n",
              "    </div>\n",
              "  </div>\n",
              "  "
            ],
            "text/plain": [
              "                                                  url  ... deposit\n",
              "3   https://www.immobilienscout24.de/expose/116573177  ...     NaN\n",
              "4   https://www.immobilienscout24.de/expose/115925878  ...     NaN\n",
              "6   https://www.immobilienscout24.de/expose/108376992  ...     NaN\n",
              "10  https://www.immobilienscout24.de/expose/114437800  ...     NaN\n",
              "11  https://www.immobilienscout24.de/expose/116205341  ...     NaN\n",
              "\n",
              "[5 rows x 22 columns]"
            ]
          },
          "metadata": {},
          "execution_count": 127
        }
      ]
    },
    {
      "cell_type": "code",
      "metadata": {
        "id": "SQPIgw7JbI_i",
        "colab": {
          "base_uri": "https://localhost:8080/"
        },
        "outputId": "a62d9c0c-b8f4-433e-bcdb-680d3903e1a8"
      },
      "source": [
        "standard_columns = ['url', 'region', 'condition', 'rooms', 'rent', 'year_construction', 'space', 'cold_rent', 'security_deposit']\n",
        "optional_columns = list(set(df.columns) - set(standard_columns))\n",
        "\n",
        "df['missing_count'] = df[optional_columns].isna().sum(axis=1)\n",
        "df['missing_count']"
      ],
      "execution_count": 128,
      "outputs": [
        {
          "output_type": "execute_result",
          "data": {
            "text/plain": [
              "0       5\n",
              "1       5\n",
              "2       4\n",
              "3      13\n",
              "4       8\n",
              "       ..\n",
              "759     5\n",
              "760     8\n",
              "761    13\n",
              "762     4\n",
              "763    13\n",
              "Name: missing_count, Length: 764, dtype: int64"
            ]
          },
          "metadata": {},
          "execution_count": 128
        }
      ]
    },
    {
      "cell_type": "code",
      "metadata": {
        "id": "OqSUs4g_bI_l",
        "colab": {
          "base_uri": "https://localhost:8080/",
          "height": 311
        },
        "outputId": "3984ca3e-eee9-44e1-a6a5-e4afd773460f"
      },
      "source": [
        "df[df['missing_count'] == 1].head(3)"
      ],
      "execution_count": 129,
      "outputs": [
        {
          "output_type": "execute_result",
          "data": {
            "text/html": [
              "\n",
              "  <div id=\"df-cd5555ac-df96-49b9-a543-59c9117098bf\">\n",
              "    <div class=\"colab-df-container\">\n",
              "      <div>\n",
              "<style scoped>\n",
              "    .dataframe tbody tr th:only-of-type {\n",
              "        vertical-align: middle;\n",
              "    }\n",
              "\n",
              "    .dataframe tbody tr th {\n",
              "        vertical-align: top;\n",
              "    }\n",
              "\n",
              "    .dataframe thead th {\n",
              "        text-align: right;\n",
              "    }\n",
              "</style>\n",
              "<table border=\"1\" class=\"dataframe\">\n",
              "  <thead>\n",
              "    <tr style=\"text-align: right;\">\n",
              "      <th></th>\n",
              "      <th>url</th>\n",
              "      <th>region</th>\n",
              "      <th>condition</th>\n",
              "      <th>rooms</th>\n",
              "      <th>rent</th>\n",
              "      <th>year_construction</th>\n",
              "      <th>space</th>\n",
              "      <th>cold_rent</th>\n",
              "      <th>utilities</th>\n",
              "      <th>heating_costs</th>\n",
              "      <th>security_deposit</th>\n",
              "      <th>parking_space</th>\n",
              "      <th>renovated_date</th>\n",
              "      <th>property_condition</th>\n",
              "      <th>furnishing</th>\n",
              "      <th>heating_type</th>\n",
              "      <th>energy_sources</th>\n",
              "      <th>energy_certificate</th>\n",
              "      <th>type_of_certificate</th>\n",
              "      <th>energy_requirement</th>\n",
              "      <th>efficiency_class</th>\n",
              "      <th>deposit</th>\n",
              "      <th>missing_count</th>\n",
              "    </tr>\n",
              "  </thead>\n",
              "  <tbody>\n",
              "    <tr>\n",
              "      <th>14</th>\n",
              "      <td>https://www.immobilienscout24.de/expose/116361020</td>\n",
              "      <td>Tiergarten</td>\n",
              "      <td>first_time_use</td>\n",
              "      <td>2.0</td>\n",
              "      <td>1399.65</td>\n",
              "      <td>2019</td>\n",
              "      <td>66.65</td>\n",
              "      <td>1.199,70€</td>\n",
              "      <td>+133,30€</td>\n",
              "      <td>+66,65€</td>\n",
              "      <td>2400</td>\n",
              "      <td>NaN</td>\n",
              "      <td>2019.0</td>\n",
              "      <td>New</td>\n",
              "      <td>Gehobene Qualität</td>\n",
              "      <td>District Heating</td>\n",
              "      <td>Fernwärme Energieausweis liegt vor</td>\n",
              "      <td>liegt vor</td>\n",
              "      <td>Bedarfsausweis</td>\n",
              "      <td>66,2 kWh/(m²*a)</td>\n",
              "      <td>B</td>\n",
              "      <td>2400.0</td>\n",
              "      <td>1</td>\n",
              "    </tr>\n",
              "    <tr>\n",
              "      <th>29</th>\n",
              "      <td>https://www.immobilienscout24.de/expose/116326551</td>\n",
              "      <td>Charlottenburg</td>\n",
              "      <td>mint_condition</td>\n",
              "      <td>2.0</td>\n",
              "      <td>1810.00</td>\n",
              "      <td>2016</td>\n",
              "      <td>100.47</td>\n",
              "      <td>1.550€</td>\n",
              "      <td>+250€</td>\n",
              "      <td>in</td>\n",
              "      <td>4.650,00</td>\n",
              "      <td>150€</td>\n",
              "      <td>NaN</td>\n",
              "      <td>Mint Condition</td>\n",
              "      <td>Luxus</td>\n",
              "      <td>Central Heating</td>\n",
              "      <td>Fernwärme Energieausweis liegt vor</td>\n",
              "      <td>liegt vor</td>\n",
              "      <td>Bedarfsausweis</td>\n",
              "      <td>58 kWh/(m²*a)</td>\n",
              "      <td>B</td>\n",
              "      <td>4650.0</td>\n",
              "      <td>1</td>\n",
              "    </tr>\n",
              "    <tr>\n",
              "      <th>43</th>\n",
              "      <td>https://www.immobilienscout24.de/expose/116436290</td>\n",
              "      <td>Mitte</td>\n",
              "      <td>no_information</td>\n",
              "      <td>4.0</td>\n",
              "      <td>3677.70</td>\n",
              "      <td>2016</td>\n",
              "      <td>125.54</td>\n",
              "      <td>3.050€</td>\n",
              "      <td>+426,84€</td>\n",
              "      <td>+200,86€</td>\n",
              "      <td>9.150,-</td>\n",
              "      <td>200€</td>\n",
              "      <td>2016.0</td>\n",
              "      <td>NaN</td>\n",
              "      <td>Luxus</td>\n",
              "      <td>District Heating</td>\n",
              "      <td>Fernwärme Energieausweis liegt vor</td>\n",
              "      <td>liegt vor</td>\n",
              "      <td>Bedarfsausweis</td>\n",
              "      <td>74 kWh/(m²*a)</td>\n",
              "      <td>B</td>\n",
              "      <td>9150.0</td>\n",
              "      <td>1</td>\n",
              "    </tr>\n",
              "  </tbody>\n",
              "</table>\n",
              "</div>\n",
              "      <button class=\"colab-df-convert\" onclick=\"convertToInteractive('df-cd5555ac-df96-49b9-a543-59c9117098bf')\"\n",
              "              title=\"Convert this dataframe to an interactive table.\"\n",
              "              style=\"display:none;\">\n",
              "        \n",
              "  <svg xmlns=\"http://www.w3.org/2000/svg\" height=\"24px\"viewBox=\"0 0 24 24\"\n",
              "       width=\"24px\">\n",
              "    <path d=\"M0 0h24v24H0V0z\" fill=\"none\"/>\n",
              "    <path d=\"M18.56 5.44l.94 2.06.94-2.06 2.06-.94-2.06-.94-.94-2.06-.94 2.06-2.06.94zm-11 1L8.5 8.5l.94-2.06 2.06-.94-2.06-.94L8.5 2.5l-.94 2.06-2.06.94zm10 10l.94 2.06.94-2.06 2.06-.94-2.06-.94-.94-2.06-.94 2.06-2.06.94z\"/><path d=\"M17.41 7.96l-1.37-1.37c-.4-.4-.92-.59-1.43-.59-.52 0-1.04.2-1.43.59L10.3 9.45l-7.72 7.72c-.78.78-.78 2.05 0 2.83L4 21.41c.39.39.9.59 1.41.59.51 0 1.02-.2 1.41-.59l7.78-7.78 2.81-2.81c.8-.78.8-2.07 0-2.86zM5.41 20L4 18.59l7.72-7.72 1.47 1.35L5.41 20z\"/>\n",
              "  </svg>\n",
              "      </button>\n",
              "      \n",
              "  <style>\n",
              "    .colab-df-container {\n",
              "      display:flex;\n",
              "      flex-wrap:wrap;\n",
              "      gap: 12px;\n",
              "    }\n",
              "\n",
              "    .colab-df-convert {\n",
              "      background-color: #E8F0FE;\n",
              "      border: none;\n",
              "      border-radius: 50%;\n",
              "      cursor: pointer;\n",
              "      display: none;\n",
              "      fill: #1967D2;\n",
              "      height: 32px;\n",
              "      padding: 0 0 0 0;\n",
              "      width: 32px;\n",
              "    }\n",
              "\n",
              "    .colab-df-convert:hover {\n",
              "      background-color: #E2EBFA;\n",
              "      box-shadow: 0px 1px 2px rgba(60, 64, 67, 0.3), 0px 1px 3px 1px rgba(60, 64, 67, 0.15);\n",
              "      fill: #174EA6;\n",
              "    }\n",
              "\n",
              "    [theme=dark] .colab-df-convert {\n",
              "      background-color: #3B4455;\n",
              "      fill: #D2E3FC;\n",
              "    }\n",
              "\n",
              "    [theme=dark] .colab-df-convert:hover {\n",
              "      background-color: #434B5C;\n",
              "      box-shadow: 0px 1px 3px 1px rgba(0, 0, 0, 0.15);\n",
              "      filter: drop-shadow(0px 1px 2px rgba(0, 0, 0, 0.3));\n",
              "      fill: #FFFFFF;\n",
              "    }\n",
              "  </style>\n",
              "\n",
              "      <script>\n",
              "        const buttonEl =\n",
              "          document.querySelector('#df-cd5555ac-df96-49b9-a543-59c9117098bf button.colab-df-convert');\n",
              "        buttonEl.style.display =\n",
              "          google.colab.kernel.accessAllowed ? 'block' : 'none';\n",
              "\n",
              "        async function convertToInteractive(key) {\n",
              "          const element = document.querySelector('#df-cd5555ac-df96-49b9-a543-59c9117098bf');\n",
              "          const dataTable =\n",
              "            await google.colab.kernel.invokeFunction('convertToInteractive',\n",
              "                                                     [key], {});\n",
              "          if (!dataTable) return;\n",
              "\n",
              "          const docLinkHtml = 'Like what you see? Visit the ' +\n",
              "            '<a target=\"_blank\" href=https://colab.research.google.com/notebooks/data_table.ipynb>data table notebook</a>'\n",
              "            + ' to learn more about interactive tables.';\n",
              "          element.innerHTML = '';\n",
              "          dataTable['output_type'] = 'display_data';\n",
              "          await google.colab.output.renderOutput(dataTable, element);\n",
              "          const docLink = document.createElement('div');\n",
              "          docLink.innerHTML = docLinkHtml;\n",
              "          element.appendChild(docLink);\n",
              "        }\n",
              "      </script>\n",
              "    </div>\n",
              "  </div>\n",
              "  "
            ],
            "text/plain": [
              "                                                  url  ... missing_count\n",
              "14  https://www.immobilienscout24.de/expose/116361020  ...             1\n",
              "29  https://www.immobilienscout24.de/expose/116326551  ...             1\n",
              "43  https://www.immobilienscout24.de/expose/116436290  ...             1\n",
              "\n",
              "[3 rows x 23 columns]"
            ]
          },
          "metadata": {},
          "execution_count": 129
        }
      ]
    },
    {
      "cell_type": "code",
      "metadata": {
        "id": "qjbpPkoZbI_n"
      },
      "source": [
        "def fill_missing_deposit(row):\n",
        "  \n",
        "    # if the value isn't missing, return the value\n",
        "    if not pd.isna(row['deposit']):\n",
        "        return row['deposit']\n",
        "  \n",
        "    # if there is only one missing value, return 0. Otherwise return 3 months of rent\n",
        "    if row['missing_count'] == 1:\n",
        "        return 0\n",
        "    else:\n",
        "        return row['rent'] * 3"
      ],
      "execution_count": 130,
      "outputs": []
    },
    {
      "cell_type": "code",
      "metadata": {
        "id": "12Ystgy0bI_r"
      },
      "source": [
        "df['deposit'] = df.apply(fill_missing_deposit, axis=1)"
      ],
      "execution_count": 131,
      "outputs": []
    },
    {
      "cell_type": "code",
      "metadata": {
        "id": "56Q8mFJHbI_u",
        "colab": {
          "base_uri": "https://localhost:8080/",
          "height": 542
        },
        "outputId": "eabfa6fc-6fd1-4f9b-fdc5-f969e8e695e4"
      },
      "source": [
        "px.histogram(df, x=\"deposit\", marginal='box')"
      ],
      "execution_count": 132,
      "outputs": [
        {
          "output_type": "display_data",
          "data": {
            "text/html": [
              "<html>\n",
              "<head><meta charset=\"utf-8\" /></head>\n",
              "<body>\n",
              "    <div>\n",
              "            <script src=\"https://cdnjs.cloudflare.com/ajax/libs/mathjax/2.7.5/MathJax.js?config=TeX-AMS-MML_SVG\"></script><script type=\"text/javascript\">if (window.MathJax) {MathJax.Hub.Config({SVG: {font: \"STIX-Web\"}});}</script>\n",
              "                <script type=\"text/javascript\">window.PlotlyConfig = {MathJaxConfig: 'local'};</script>\n",
              "        <script src=\"https://cdn.plot.ly/plotly-latest.min.js\"></script>    \n",
              "            <div id=\"6bb527e1-e225-4902-bae8-8e05f182fecd\" class=\"plotly-graph-div\" style=\"height:525px; width:100%;\"></div>\n",
              "            <script type=\"text/javascript\">\n",
              "                \n",
              "                    window.PLOTLYENV=window.PLOTLYENV || {};\n",
              "                    \n",
              "                if (document.getElementById(\"6bb527e1-e225-4902-bae8-8e05f182fecd\")) {\n",
              "                    Plotly.newPlot(\n",
              "                        '6bb527e1-e225-4902-bae8-8e05f182fecd',\n",
              "                        [{\"alignmentgroup\": \"True\", \"bingroup\": \"x\", \"hoverlabel\": {\"namelength\": 0}, \"hovertemplate\": \"deposit=%{x}<br>count=%{y}\", \"legendgroup\": \"\", \"marker\": {\"color\": \"#636efa\"}, \"name\": \"\", \"offsetgroup\": \"\", \"orientation\": \"v\", \"showlegend\": false, \"type\": \"histogram\", \"x\": [7977.0, 2920.53, 2937.0, 5490.66, 6816.0, 2520.0, 4528.35, 2192.19, 1685.79, 5367.0, 7497.0, 6984.0, 7500.0, 19350.0, 2400.0, 4516.799999999999, 3507.42, 2000.0, 2139.78, 5397.0, 5487.0, 3885.0, 5493.0, 3180.0, 7950.0, 4152.0, 2145.0, 3713.49, 6870.0, 4650.0, 6960.0, 6690.0, 6465.0, 7982.700000000001, 4283.46, 9510.0, 1500.0, 2547.7200000000003, 1974.33, 4020.0, 7299.0, 9825.0, 933.1200000000001, 9150.0, 4545.0, 2809.32, 2316.0, 1439.6100000000001, 3706.66, 1533.4499999999998, 2535.0, 6900.0, 5994.0, 6000.0, 7470.0, 2928.0, 5172.0, 2877.0, 2145.0, 6215.7, 11475.0, 14850.0, 3147.0, 4197.0, 4920.0, 4494.0, 2667.0, 2600.0, 12900.0, 3000.0, 5847.78, 3450.0, 5000.0, 4695.0, 4650.0, 4274.25, 13200.0, 5070.0, 10000.0, 3568.44, 4710.0, 3000.0, 8040.0, 3620.0, 1350.0, 4560.0, 3075.0, 5370.0, 5000.0, 4830.0, 1690.0, 2382.0, 1790.0, 9684.75, 8586.0, 2990.0, 1490.0, 1150.3799999999999, 2616.21, 2700.0, 11197.92, 12864.0, 9754.98, 13500.0, 6713.34, 6000.0, 10087.23, 10992.75, 6240.0, 6681.0, 5250.0, 6900.0, 9960.0, 6960.0, 3159.0, 3627.0, 2970.0, 13425.0, 4350.0, 17790.0, 6229.14, 5010.0, 4497.0, 4333.9, 4650.0, 3000.0, 3960.0, 2013.0, 4365.0, 2841.0, 4846.71, 4440.0, 4000.0, 7665.0, 2850.72, 3300.75, 4899.0, 9885.0, 2344.0, 3900.0, 3900.0, 3645.0, 2397.0, 4500.0, 3900.0, 2970.0, 5120.43, 3900.0, 9718.0, 3597.0, 3900.0, 5649.8099999999995, 1322.82, 2970.0, 3780.0, 10779.51, 3720.0, 2205.0, 6750.0, 5021.85, 4800.0, 2757.0, 1265.6100000000001, 4159.29, 2157.0, 2157.0, 2157.0, 1500.0, 5703.0, 1488.3899999999999, 1947.0, 2685.0, 2157.0, 6597.0, 1749.09, 3582.0, 8997.0, 813.75, 1376.73, 1301.1299999999999, 4691.25, 5100.0, 2012.58, 3630.0, 3798.8999999999996, 4995.0, 9000.0, 3348.0, 5109.0, 6540.0, 2549.79, 7112.13, 4935.0, 2320.8, 3831.0, 2274.0, 9180.0, 2850.0, 2960.0, 5616.0, 5121.0, 4362.54, 2212.4700000000003, 4584.75, 2115.18, 1817.3999999999999, 1222.26, 4199.76, 4199.76, 4771.17, 4680.0, 1226.34, 4396.86, 5073.0, 4875.0, 6372.87, 4350.0, 3500.0, 4080.0, 5691.6, 12577.89, 4350.0, 4050.0, 7586.58, 5400.0, 2338.0, 4440.0, 8010.0, 2073.87, 5805.51, 3279.4800000000005, 5940.0, 2700.69, 2662.59, 1864.1399999999999, 7740.0, 6372.87, 5351.67, 2024.3999999999999, 1307.22, 8100.0, 1134.42, 3859.17, 5630.34, 13500.0, 29322.0, 4191.0, 5692.5, 2630.43, 5961.12, 6552.0, 7232.400000000001, 7038.0, 2700.0, 1797.0, 3774.0, 3345.0, 6750.0, 2005.1999999999998, 4500.0, 3360.0, 5148.0, 4050.0, 4500.0, 2657.04, 1968.3000000000002, 2472.0, 1467.21, 12000.0, 6300.0, 1947.0, 5394.0, 4197.0, 2727.0, 1696.8899999999999, 2667.0, 5400.0, 4845.0, 1058.85, 8991.0, 1213.17, 20566.44, 842.22, 1554.0, 6540.0, 12977.07, 7476.150000000001, 6966.0599999999995, 4950.0, 6600.0, 6833.73, 2535.0, 2313.0, 4714.32, 2040.0, 2409.0, 2379.0, 4671.84, 6960.0, 3903.3900000000003, 2190.0, 3030.93, 5791.14, 1727.76, 3543.8999999999996, 6130.47, 9025.5, 6345.0, 4590.0, 8202.0, 4500.0, 4470.0, 3121.5299999999997, 1643.6999999999998, 10080.0, 3543.8999999999996, 3750.0, 7575.0, 1799.22, 4676.4, 4771.049999999999, 6477.599999999999, 1740.48, 7650.0, 2881.14, 4483.92, 5451.0, 5355.0, 17324.489999999998, 2265.8999999999996, 5850.0, 4350.0, 7215.0, 4479.0, 4170.0, 2277.0, 3900.0, 2633.13, 5535.0, 6180.0, 4320.0, 7455.0, 3600.0, 2340.0, 10140.0, 7494.0, 2850.0, 3166.29, 5160.0, 5940.0, 7125.0, 2902.2, 5355.0, 7305.0, 4050.0, 5910.0, 3870.0, 4077.0, 5100.0, 3410.16, 4500.0, 3750.0, 6330.0, 5670.0, 3120.0, 2925.0, 5998.41, 4470.0, 3600.0, 6120.0, 1538.79, 3750.0, 3500.0, 8397.0, 3480.0, 2850.0, 4963.17, 2760.0, 2981.88, 14625.0, 4285.92, 2953.2, 2744.61, 2329.41, 2658.1499999999996, 2850.0, 7200.0, 1139.85, 2007.0, 4200.0, 1485.0, 2892.0, 2773.32, 3597.0, 3584.82, 5421.0, 2181.0, 1281.0, 3798.84, 1425.0, 5100.0, 8550.0, 4358.4, 3750.0, 4185.0, 5097.0, 6767.52, 2814.0, 4950.0, 4950.0, 8445.0, 4950.0, 3483.0, 5196.6, 1691.73, 1928.31, 4950.0, 1260.27, 2425.38, 1860.0, 6579.0, 2500.0, 2115.0, 2286.45, 1600.0, 2661.0, 4110.0, 1200.0, 2136.0, 2946.0, 3738.0, 5265.0, 3686.25, 5259.0, 3671.94, 2055.0, 4297.799999999999, 4590.0, 6150.0, 7453.86, 4696.200000000001, 5342.700000000001, 6237.0599999999995, 4650.0, 4905.0, 2304.0, 10500.0, 1755.0, 2426.0, 6900.0, 3450.0, 2400.0, 2040.0, 4827.299999999999, 6960.0, 3090.0, 1941.1499999999999, 9271.2, 2085.0, 2097.8999999999996, 2538.0, 3374.79, 6570.0, 8676.75, 6675.0, 5247.96, 9333.0, 6945.0, 4009.2300000000005, 9792.0, 5564.9400000000005, 1710.0, 3973.0, 1000.0, 4506.0, 3045.0, 4200.0, 2475.0, 4497.0, 6210.0, 2628.0, 6960.0, 5100.0, 1969.5, 2250.0, 1755.0, 4650.0, 4500.0, 4980.0, 5070.0, 1074.6, 3900.0, 8997.0, 2010.09, 2580.0, 6807.0, 2844.3, 1974.0, 3685.0, 2907.0, 3527.16, 3600.0, 5502.0, 4048.74, 2253.0, 3230.0, 5775.0, 4698.0, 3158.0, 4341.0, 5310.0, 4029.0, 2250.0, 1688.4, 3844.5, 2929.5, 2953.5, 1695.48, 6510.0, 6510.0, 2985.0, 3750.0, 2985.0, 2764.77, 3710.16, 3270.0, 5506.2, 2564.0, 2487.0, 1600.0, 4482.0, 2487.0, 4258.0, 7647.0, 3546.0, 4050.0, 8382.24, 3481.6499999999996, 3855.0, 2958.0, 1726.3500000000001, 5127.99, 4605.9, 4069.32, 1563.27, 4197.0, 3831.63, 3354.0, 7937.700000000001, 7891.17, 2440.2, 5718.42, 2880.0, 5400.0, 6796.41, 3552.0, 8100.0, 4918.5599999999995, 2674.95, 4467.0, 14400.0, 4366.83, 7650.0, 4696.68, 8596.47, 6042.63, 5281.11, 3133.0, 6840.0, 13350.0, 4104.0, 1600.0, 4557.0, 4950.0, 4263.0, 3423.0, 3285.0, 3550.0, 5349.24, 2318.0, 5502.0, 2268.0, 3489.0, 7725.0, 2315.0, 7281.0, 3606.0, 7665.0, 3750.18, 4587.0, 17809.199999999997, 17809.199999999997, 14242.800000000001, 5400.0, 14242.800000000001, 7950.0, 14242.800000000001, 6416.039999999999, 3567.2699999999995, 2788.02, 3334.0, 6450.0, 3372.0, 2689.38, 6099.299999999999, 3093.0, 3533.0, 1194.0, 5400.0, 3548.0, 3544.0, 2297.0, 6486.0, 3502.0, 3962.19, 5100.0, 4287.299999999999, 3437.0, 2604.18, 2262.0, 3461.0, 3482.0, 4300.0, 5700.0, 4230.0, 3167.0, 3706.0, 4409.0, 2795.0, 4230.0, 3058.0, 3028.0, 6840.0, 14034.900000000001, 3088.0, 4976.0, 9480.0, 4464.75, 3230.0, 6600.0, 5444.549999999999, 9750.0, 5160.0, 6525.0, 4347.72, 5269.08, 13200.0, 5876.07, 6864.18, 4264.0, 7068.599999999999, 5508.0, 6851.9400000000005, 15300.0, 3087.0, 7464.780000000001, 2787.0, 5693.85, 3627.0, 8947.23, 3706.0, 5265.0, 3188.0, 8160.0, 3204.0, 1312.5, 3762.0, 3058.0, 3684.0, 4409.0, 3355.0, 4552.0, 4519.0, 3141.69, 6207.780000000001, 17629.050000000003, 3154.0, 4271.0, 6858.0, 4976.0, 3630.0, 6315.0, 5793.78, 4338.0, 3059.0, 7890.0, 4047.0, 7500.0, 4300.0, 3543.0, 4702.17, 4101.0, 3297.0, 4684.950000000001, 42621.0, 3007.0, 3189.0, 3500.0, 4326.0, 5091.0, 6781.38, 3905.0, 4759.0, 2500.0, 4185.0, 3747.0, 7665.0, 3745.0, 3028.0, 2000.0, 3882.0, 2000.0, 3963.0, 3942.4500000000003, 6600.0, 2697.0, 3709.5, 11120.49, 4650.0, 1980.0, 2742.0, 7666.77, 8220.0, 5379.0, 3798.0, 3847.5, 4364.22, 7318.799999999999, 5910.0, 8434.14, 1965.0, 4572.0, 4197.0, 6900.0, 6387.0, 4050.0, 10500.0, 2529.0, 4072.38, 3021.0, 1830.0, 11775.0, 3237.0, 1866.0, 4098.0, 2340.0, 2223.0, 2313.0, 12120.0, 5184.0, 3237.0, 2310.0, 6540.0, 2160.0, 6466.5, 1542.0, 2316.0, 5910.0, 2079.0, 2877.0, 1947.0, 8250.0, 3777.0, 2664.0], \"xaxis\": \"x\", \"yaxis\": \"y\"}, {\"alignmentgroup\": \"True\", \"hoverlabel\": {\"namelength\": 0}, \"hovertemplate\": \"deposit=%{x}\", \"legendgroup\": \"\", \"marker\": {\"color\": \"#636efa\"}, \"name\": \"\", \"notched\": true, \"offsetgroup\": \"\", \"showlegend\": false, \"type\": \"box\", \"x\": [7977.0, 2920.53, 2937.0, 5490.66, 6816.0, 2520.0, 4528.35, 2192.19, 1685.79, 5367.0, 7497.0, 6984.0, 7500.0, 19350.0, 2400.0, 4516.799999999999, 3507.42, 2000.0, 2139.78, 5397.0, 5487.0, 3885.0, 5493.0, 3180.0, 7950.0, 4152.0, 2145.0, 3713.49, 6870.0, 4650.0, 6960.0, 6690.0, 6465.0, 7982.700000000001, 4283.46, 9510.0, 1500.0, 2547.7200000000003, 1974.33, 4020.0, 7299.0, 9825.0, 933.1200000000001, 9150.0, 4545.0, 2809.32, 2316.0, 1439.6100000000001, 3706.66, 1533.4499999999998, 2535.0, 6900.0, 5994.0, 6000.0, 7470.0, 2928.0, 5172.0, 2877.0, 2145.0, 6215.7, 11475.0, 14850.0, 3147.0, 4197.0, 4920.0, 4494.0, 2667.0, 2600.0, 12900.0, 3000.0, 5847.78, 3450.0, 5000.0, 4695.0, 4650.0, 4274.25, 13200.0, 5070.0, 10000.0, 3568.44, 4710.0, 3000.0, 8040.0, 3620.0, 1350.0, 4560.0, 3075.0, 5370.0, 5000.0, 4830.0, 1690.0, 2382.0, 1790.0, 9684.75, 8586.0, 2990.0, 1490.0, 1150.3799999999999, 2616.21, 2700.0, 11197.92, 12864.0, 9754.98, 13500.0, 6713.34, 6000.0, 10087.23, 10992.75, 6240.0, 6681.0, 5250.0, 6900.0, 9960.0, 6960.0, 3159.0, 3627.0, 2970.0, 13425.0, 4350.0, 17790.0, 6229.14, 5010.0, 4497.0, 4333.9, 4650.0, 3000.0, 3960.0, 2013.0, 4365.0, 2841.0, 4846.71, 4440.0, 4000.0, 7665.0, 2850.72, 3300.75, 4899.0, 9885.0, 2344.0, 3900.0, 3900.0, 3645.0, 2397.0, 4500.0, 3900.0, 2970.0, 5120.43, 3900.0, 9718.0, 3597.0, 3900.0, 5649.8099999999995, 1322.82, 2970.0, 3780.0, 10779.51, 3720.0, 2205.0, 6750.0, 5021.85, 4800.0, 2757.0, 1265.6100000000001, 4159.29, 2157.0, 2157.0, 2157.0, 1500.0, 5703.0, 1488.3899999999999, 1947.0, 2685.0, 2157.0, 6597.0, 1749.09, 3582.0, 8997.0, 813.75, 1376.73, 1301.1299999999999, 4691.25, 5100.0, 2012.58, 3630.0, 3798.8999999999996, 4995.0, 9000.0, 3348.0, 5109.0, 6540.0, 2549.79, 7112.13, 4935.0, 2320.8, 3831.0, 2274.0, 9180.0, 2850.0, 2960.0, 5616.0, 5121.0, 4362.54, 2212.4700000000003, 4584.75, 2115.18, 1817.3999999999999, 1222.26, 4199.76, 4199.76, 4771.17, 4680.0, 1226.34, 4396.86, 5073.0, 4875.0, 6372.87, 4350.0, 3500.0, 4080.0, 5691.6, 12577.89, 4350.0, 4050.0, 7586.58, 5400.0, 2338.0, 4440.0, 8010.0, 2073.87, 5805.51, 3279.4800000000005, 5940.0, 2700.69, 2662.59, 1864.1399999999999, 7740.0, 6372.87, 5351.67, 2024.3999999999999, 1307.22, 8100.0, 1134.42, 3859.17, 5630.34, 13500.0, 29322.0, 4191.0, 5692.5, 2630.43, 5961.12, 6552.0, 7232.400000000001, 7038.0, 2700.0, 1797.0, 3774.0, 3345.0, 6750.0, 2005.1999999999998, 4500.0, 3360.0, 5148.0, 4050.0, 4500.0, 2657.04, 1968.3000000000002, 2472.0, 1467.21, 12000.0, 6300.0, 1947.0, 5394.0, 4197.0, 2727.0, 1696.8899999999999, 2667.0, 5400.0, 4845.0, 1058.85, 8991.0, 1213.17, 20566.44, 842.22, 1554.0, 6540.0, 12977.07, 7476.150000000001, 6966.0599999999995, 4950.0, 6600.0, 6833.73, 2535.0, 2313.0, 4714.32, 2040.0, 2409.0, 2379.0, 4671.84, 6960.0, 3903.3900000000003, 2190.0, 3030.93, 5791.14, 1727.76, 3543.8999999999996, 6130.47, 9025.5, 6345.0, 4590.0, 8202.0, 4500.0, 4470.0, 3121.5299999999997, 1643.6999999999998, 10080.0, 3543.8999999999996, 3750.0, 7575.0, 1799.22, 4676.4, 4771.049999999999, 6477.599999999999, 1740.48, 7650.0, 2881.14, 4483.92, 5451.0, 5355.0, 17324.489999999998, 2265.8999999999996, 5850.0, 4350.0, 7215.0, 4479.0, 4170.0, 2277.0, 3900.0, 2633.13, 5535.0, 6180.0, 4320.0, 7455.0, 3600.0, 2340.0, 10140.0, 7494.0, 2850.0, 3166.29, 5160.0, 5940.0, 7125.0, 2902.2, 5355.0, 7305.0, 4050.0, 5910.0, 3870.0, 4077.0, 5100.0, 3410.16, 4500.0, 3750.0, 6330.0, 5670.0, 3120.0, 2925.0, 5998.41, 4470.0, 3600.0, 6120.0, 1538.79, 3750.0, 3500.0, 8397.0, 3480.0, 2850.0, 4963.17, 2760.0, 2981.88, 14625.0, 4285.92, 2953.2, 2744.61, 2329.41, 2658.1499999999996, 2850.0, 7200.0, 1139.85, 2007.0, 4200.0, 1485.0, 2892.0, 2773.32, 3597.0, 3584.82, 5421.0, 2181.0, 1281.0, 3798.84, 1425.0, 5100.0, 8550.0, 4358.4, 3750.0, 4185.0, 5097.0, 6767.52, 2814.0, 4950.0, 4950.0, 8445.0, 4950.0, 3483.0, 5196.6, 1691.73, 1928.31, 4950.0, 1260.27, 2425.38, 1860.0, 6579.0, 2500.0, 2115.0, 2286.45, 1600.0, 2661.0, 4110.0, 1200.0, 2136.0, 2946.0, 3738.0, 5265.0, 3686.25, 5259.0, 3671.94, 2055.0, 4297.799999999999, 4590.0, 6150.0, 7453.86, 4696.200000000001, 5342.700000000001, 6237.0599999999995, 4650.0, 4905.0, 2304.0, 10500.0, 1755.0, 2426.0, 6900.0, 3450.0, 2400.0, 2040.0, 4827.299999999999, 6960.0, 3090.0, 1941.1499999999999, 9271.2, 2085.0, 2097.8999999999996, 2538.0, 3374.79, 6570.0, 8676.75, 6675.0, 5247.96, 9333.0, 6945.0, 4009.2300000000005, 9792.0, 5564.9400000000005, 1710.0, 3973.0, 1000.0, 4506.0, 3045.0, 4200.0, 2475.0, 4497.0, 6210.0, 2628.0, 6960.0, 5100.0, 1969.5, 2250.0, 1755.0, 4650.0, 4500.0, 4980.0, 5070.0, 1074.6, 3900.0, 8997.0, 2010.09, 2580.0, 6807.0, 2844.3, 1974.0, 3685.0, 2907.0, 3527.16, 3600.0, 5502.0, 4048.74, 2253.0, 3230.0, 5775.0, 4698.0, 3158.0, 4341.0, 5310.0, 4029.0, 2250.0, 1688.4, 3844.5, 2929.5, 2953.5, 1695.48, 6510.0, 6510.0, 2985.0, 3750.0, 2985.0, 2764.77, 3710.16, 3270.0, 5506.2, 2564.0, 2487.0, 1600.0, 4482.0, 2487.0, 4258.0, 7647.0, 3546.0, 4050.0, 8382.24, 3481.6499999999996, 3855.0, 2958.0, 1726.3500000000001, 5127.99, 4605.9, 4069.32, 1563.27, 4197.0, 3831.63, 3354.0, 7937.700000000001, 7891.17, 2440.2, 5718.42, 2880.0, 5400.0, 6796.41, 3552.0, 8100.0, 4918.5599999999995, 2674.95, 4467.0, 14400.0, 4366.83, 7650.0, 4696.68, 8596.47, 6042.63, 5281.11, 3133.0, 6840.0, 13350.0, 4104.0, 1600.0, 4557.0, 4950.0, 4263.0, 3423.0, 3285.0, 3550.0, 5349.24, 2318.0, 5502.0, 2268.0, 3489.0, 7725.0, 2315.0, 7281.0, 3606.0, 7665.0, 3750.18, 4587.0, 17809.199999999997, 17809.199999999997, 14242.800000000001, 5400.0, 14242.800000000001, 7950.0, 14242.800000000001, 6416.039999999999, 3567.2699999999995, 2788.02, 3334.0, 6450.0, 3372.0, 2689.38, 6099.299999999999, 3093.0, 3533.0, 1194.0, 5400.0, 3548.0, 3544.0, 2297.0, 6486.0, 3502.0, 3962.19, 5100.0, 4287.299999999999, 3437.0, 2604.18, 2262.0, 3461.0, 3482.0, 4300.0, 5700.0, 4230.0, 3167.0, 3706.0, 4409.0, 2795.0, 4230.0, 3058.0, 3028.0, 6840.0, 14034.900000000001, 3088.0, 4976.0, 9480.0, 4464.75, 3230.0, 6600.0, 5444.549999999999, 9750.0, 5160.0, 6525.0, 4347.72, 5269.08, 13200.0, 5876.07, 6864.18, 4264.0, 7068.599999999999, 5508.0, 6851.9400000000005, 15300.0, 3087.0, 7464.780000000001, 2787.0, 5693.85, 3627.0, 8947.23, 3706.0, 5265.0, 3188.0, 8160.0, 3204.0, 1312.5, 3762.0, 3058.0, 3684.0, 4409.0, 3355.0, 4552.0, 4519.0, 3141.69, 6207.780000000001, 17629.050000000003, 3154.0, 4271.0, 6858.0, 4976.0, 3630.0, 6315.0, 5793.78, 4338.0, 3059.0, 7890.0, 4047.0, 7500.0, 4300.0, 3543.0, 4702.17, 4101.0, 3297.0, 4684.950000000001, 42621.0, 3007.0, 3189.0, 3500.0, 4326.0, 5091.0, 6781.38, 3905.0, 4759.0, 2500.0, 4185.0, 3747.0, 7665.0, 3745.0, 3028.0, 2000.0, 3882.0, 2000.0, 3963.0, 3942.4500000000003, 6600.0, 2697.0, 3709.5, 11120.49, 4650.0, 1980.0, 2742.0, 7666.77, 8220.0, 5379.0, 3798.0, 3847.5, 4364.22, 7318.799999999999, 5910.0, 8434.14, 1965.0, 4572.0, 4197.0, 6900.0, 6387.0, 4050.0, 10500.0, 2529.0, 4072.38, 3021.0, 1830.0, 11775.0, 3237.0, 1866.0, 4098.0, 2340.0, 2223.0, 2313.0, 12120.0, 5184.0, 3237.0, 2310.0, 6540.0, 2160.0, 6466.5, 1542.0, 2316.0, 5910.0, 2079.0, 2877.0, 1947.0, 8250.0, 3777.0, 2664.0], \"xaxis\": \"x2\", \"yaxis\": \"y2\"}],\n",
              "                        {\"barmode\": \"relative\", \"legend\": {\"tracegroupgap\": 0}, \"margin\": {\"t\": 60}, \"template\": {\"data\": {\"bar\": [{\"error_x\": {\"color\": \"#2a3f5f\"}, \"error_y\": {\"color\": \"#2a3f5f\"}, \"marker\": {\"line\": {\"color\": \"#E5ECF6\", \"width\": 0.5}}, \"type\": \"bar\"}], \"barpolar\": [{\"marker\": {\"line\": {\"color\": \"#E5ECF6\", \"width\": 0.5}}, \"type\": \"barpolar\"}], \"carpet\": [{\"aaxis\": {\"endlinecolor\": \"#2a3f5f\", \"gridcolor\": \"white\", \"linecolor\": \"white\", \"minorgridcolor\": \"white\", \"startlinecolor\": \"#2a3f5f\"}, \"baxis\": {\"endlinecolor\": \"#2a3f5f\", \"gridcolor\": \"white\", \"linecolor\": \"white\", \"minorgridcolor\": \"white\", \"startlinecolor\": \"#2a3f5f\"}, \"type\": \"carpet\"}], \"choropleth\": [{\"colorbar\": {\"outlinewidth\": 0, \"ticks\": \"\"}, \"type\": \"choropleth\"}], \"contour\": [{\"colorbar\": {\"outlinewidth\": 0, \"ticks\": \"\"}, \"colorscale\": [[0.0, \"#0d0887\"], [0.1111111111111111, \"#46039f\"], [0.2222222222222222, \"#7201a8\"], [0.3333333333333333, \"#9c179e\"], [0.4444444444444444, \"#bd3786\"], [0.5555555555555556, \"#d8576b\"], [0.6666666666666666, \"#ed7953\"], [0.7777777777777778, \"#fb9f3a\"], [0.8888888888888888, \"#fdca26\"], [1.0, \"#f0f921\"]], \"type\": \"contour\"}], \"contourcarpet\": [{\"colorbar\": {\"outlinewidth\": 0, \"ticks\": \"\"}, \"type\": \"contourcarpet\"}], \"heatmap\": [{\"colorbar\": {\"outlinewidth\": 0, \"ticks\": \"\"}, \"colorscale\": [[0.0, \"#0d0887\"], [0.1111111111111111, \"#46039f\"], [0.2222222222222222, \"#7201a8\"], [0.3333333333333333, \"#9c179e\"], [0.4444444444444444, \"#bd3786\"], [0.5555555555555556, \"#d8576b\"], [0.6666666666666666, \"#ed7953\"], [0.7777777777777778, \"#fb9f3a\"], [0.8888888888888888, \"#fdca26\"], [1.0, \"#f0f921\"]], \"type\": \"heatmap\"}], \"heatmapgl\": [{\"colorbar\": {\"outlinewidth\": 0, \"ticks\": \"\"}, \"colorscale\": [[0.0, \"#0d0887\"], [0.1111111111111111, \"#46039f\"], [0.2222222222222222, \"#7201a8\"], [0.3333333333333333, \"#9c179e\"], [0.4444444444444444, \"#bd3786\"], [0.5555555555555556, \"#d8576b\"], [0.6666666666666666, \"#ed7953\"], [0.7777777777777778, \"#fb9f3a\"], [0.8888888888888888, \"#fdca26\"], [1.0, \"#f0f921\"]], \"type\": \"heatmapgl\"}], \"histogram\": [{\"marker\": {\"colorbar\": {\"outlinewidth\": 0, \"ticks\": \"\"}}, \"type\": \"histogram\"}], \"histogram2d\": [{\"colorbar\": {\"outlinewidth\": 0, \"ticks\": \"\"}, \"colorscale\": [[0.0, \"#0d0887\"], [0.1111111111111111, \"#46039f\"], [0.2222222222222222, \"#7201a8\"], [0.3333333333333333, \"#9c179e\"], [0.4444444444444444, \"#bd3786\"], [0.5555555555555556, \"#d8576b\"], [0.6666666666666666, \"#ed7953\"], [0.7777777777777778, \"#fb9f3a\"], [0.8888888888888888, \"#fdca26\"], [1.0, \"#f0f921\"]], \"type\": \"histogram2d\"}], \"histogram2dcontour\": [{\"colorbar\": {\"outlinewidth\": 0, \"ticks\": \"\"}, \"colorscale\": [[0.0, \"#0d0887\"], [0.1111111111111111, \"#46039f\"], [0.2222222222222222, \"#7201a8\"], [0.3333333333333333, \"#9c179e\"], [0.4444444444444444, \"#bd3786\"], [0.5555555555555556, \"#d8576b\"], [0.6666666666666666, \"#ed7953\"], [0.7777777777777778, \"#fb9f3a\"], [0.8888888888888888, \"#fdca26\"], [1.0, \"#f0f921\"]], \"type\": \"histogram2dcontour\"}], \"mesh3d\": [{\"colorbar\": {\"outlinewidth\": 0, \"ticks\": \"\"}, \"type\": \"mesh3d\"}], \"parcoords\": [{\"line\": {\"colorbar\": {\"outlinewidth\": 0, \"ticks\": \"\"}}, \"type\": \"parcoords\"}], \"pie\": [{\"automargin\": true, \"type\": \"pie\"}], \"scatter\": [{\"marker\": {\"colorbar\": {\"outlinewidth\": 0, \"ticks\": \"\"}}, \"type\": \"scatter\"}], \"scatter3d\": [{\"line\": {\"colorbar\": {\"outlinewidth\": 0, \"ticks\": \"\"}}, \"marker\": {\"colorbar\": {\"outlinewidth\": 0, \"ticks\": \"\"}}, \"type\": \"scatter3d\"}], \"scattercarpet\": [{\"marker\": {\"colorbar\": {\"outlinewidth\": 0, \"ticks\": \"\"}}, \"type\": \"scattercarpet\"}], \"scattergeo\": [{\"marker\": {\"colorbar\": {\"outlinewidth\": 0, \"ticks\": \"\"}}, \"type\": \"scattergeo\"}], \"scattergl\": [{\"marker\": {\"colorbar\": {\"outlinewidth\": 0, \"ticks\": \"\"}}, \"type\": \"scattergl\"}], \"scattermapbox\": [{\"marker\": {\"colorbar\": {\"outlinewidth\": 0, \"ticks\": \"\"}}, \"type\": \"scattermapbox\"}], \"scatterpolar\": [{\"marker\": {\"colorbar\": {\"outlinewidth\": 0, \"ticks\": \"\"}}, \"type\": \"scatterpolar\"}], \"scatterpolargl\": [{\"marker\": {\"colorbar\": {\"outlinewidth\": 0, \"ticks\": \"\"}}, \"type\": \"scatterpolargl\"}], \"scatterternary\": [{\"marker\": {\"colorbar\": {\"outlinewidth\": 0, \"ticks\": \"\"}}, \"type\": \"scatterternary\"}], \"surface\": [{\"colorbar\": {\"outlinewidth\": 0, \"ticks\": \"\"}, \"colorscale\": [[0.0, \"#0d0887\"], [0.1111111111111111, \"#46039f\"], [0.2222222222222222, \"#7201a8\"], [0.3333333333333333, \"#9c179e\"], [0.4444444444444444, \"#bd3786\"], [0.5555555555555556, \"#d8576b\"], [0.6666666666666666, \"#ed7953\"], [0.7777777777777778, \"#fb9f3a\"], [0.8888888888888888, \"#fdca26\"], [1.0, \"#f0f921\"]], \"type\": \"surface\"}], \"table\": [{\"cells\": {\"fill\": {\"color\": \"#EBF0F8\"}, \"line\": {\"color\": \"white\"}}, \"header\": {\"fill\": {\"color\": \"#C8D4E3\"}, \"line\": {\"color\": \"white\"}}, \"type\": \"table\"}]}, \"layout\": {\"annotationdefaults\": {\"arrowcolor\": \"#2a3f5f\", \"arrowhead\": 0, \"arrowwidth\": 1}, \"coloraxis\": {\"colorbar\": {\"outlinewidth\": 0, \"ticks\": \"\"}}, \"colorscale\": {\"diverging\": [[0, \"#8e0152\"], [0.1, \"#c51b7d\"], [0.2, \"#de77ae\"], [0.3, \"#f1b6da\"], [0.4, \"#fde0ef\"], [0.5, \"#f7f7f7\"], [0.6, \"#e6f5d0\"], [0.7, \"#b8e186\"], [0.8, \"#7fbc41\"], [0.9, \"#4d9221\"], [1, \"#276419\"]], \"sequential\": [[0.0, \"#0d0887\"], [0.1111111111111111, \"#46039f\"], [0.2222222222222222, \"#7201a8\"], [0.3333333333333333, \"#9c179e\"], [0.4444444444444444, \"#bd3786\"], [0.5555555555555556, \"#d8576b\"], [0.6666666666666666, \"#ed7953\"], [0.7777777777777778, \"#fb9f3a\"], [0.8888888888888888, \"#fdca26\"], [1.0, \"#f0f921\"]], \"sequentialminus\": [[0.0, \"#0d0887\"], [0.1111111111111111, \"#46039f\"], [0.2222222222222222, \"#7201a8\"], [0.3333333333333333, \"#9c179e\"], [0.4444444444444444, \"#bd3786\"], [0.5555555555555556, \"#d8576b\"], [0.6666666666666666, \"#ed7953\"], [0.7777777777777778, \"#fb9f3a\"], [0.8888888888888888, \"#fdca26\"], [1.0, \"#f0f921\"]]}, \"colorway\": [\"#636efa\", \"#EF553B\", \"#00cc96\", \"#ab63fa\", \"#FFA15A\", \"#19d3f3\", \"#FF6692\", \"#B6E880\", \"#FF97FF\", \"#FECB52\"], \"font\": {\"color\": \"#2a3f5f\"}, \"geo\": {\"bgcolor\": \"white\", \"lakecolor\": \"white\", \"landcolor\": \"#E5ECF6\", \"showlakes\": true, \"showland\": true, \"subunitcolor\": \"white\"}, \"hoverlabel\": {\"align\": \"left\"}, \"hovermode\": \"closest\", \"mapbox\": {\"style\": \"light\"}, \"paper_bgcolor\": \"white\", \"plot_bgcolor\": \"#E5ECF6\", \"polar\": {\"angularaxis\": {\"gridcolor\": \"white\", \"linecolor\": \"white\", \"ticks\": \"\"}, \"bgcolor\": \"#E5ECF6\", \"radialaxis\": {\"gridcolor\": \"white\", \"linecolor\": \"white\", \"ticks\": \"\"}}, \"scene\": {\"xaxis\": {\"backgroundcolor\": \"#E5ECF6\", \"gridcolor\": \"white\", \"gridwidth\": 2, \"linecolor\": \"white\", \"showbackground\": true, \"ticks\": \"\", \"zerolinecolor\": \"white\"}, \"yaxis\": {\"backgroundcolor\": \"#E5ECF6\", \"gridcolor\": \"white\", \"gridwidth\": 2, \"linecolor\": \"white\", \"showbackground\": true, \"ticks\": \"\", \"zerolinecolor\": \"white\"}, \"zaxis\": {\"backgroundcolor\": \"#E5ECF6\", \"gridcolor\": \"white\", \"gridwidth\": 2, \"linecolor\": \"white\", \"showbackground\": true, \"ticks\": \"\", \"zerolinecolor\": \"white\"}}, \"shapedefaults\": {\"line\": {\"color\": \"#2a3f5f\"}}, \"ternary\": {\"aaxis\": {\"gridcolor\": \"white\", \"linecolor\": \"white\", \"ticks\": \"\"}, \"baxis\": {\"gridcolor\": \"white\", \"linecolor\": \"white\", \"ticks\": \"\"}, \"bgcolor\": \"#E5ECF6\", \"caxis\": {\"gridcolor\": \"white\", \"linecolor\": \"white\", \"ticks\": \"\"}}, \"title\": {\"x\": 0.05}, \"xaxis\": {\"automargin\": true, \"gridcolor\": \"white\", \"linecolor\": \"white\", \"ticks\": \"\", \"title\": {\"standoff\": 15}, \"zerolinecolor\": \"white\", \"zerolinewidth\": 2}, \"yaxis\": {\"automargin\": true, \"gridcolor\": \"white\", \"linecolor\": \"white\", \"ticks\": \"\", \"title\": {\"standoff\": 15}, \"zerolinecolor\": \"white\", \"zerolinewidth\": 2}}}, \"xaxis\": {\"anchor\": \"y\", \"domain\": [0.0, 1.0], \"title\": {\"text\": \"deposit\"}}, \"xaxis2\": {\"anchor\": \"y2\", \"domain\": [0.0, 1.0], \"matches\": \"x\", \"showgrid\": true, \"showticklabels\": false}, \"yaxis\": {\"anchor\": \"x\", \"domain\": [0.0, 0.8316], \"title\": {\"text\": \"count\"}}, \"yaxis2\": {\"anchor\": \"x2\", \"domain\": [0.8416, 1.0], \"matches\": \"y2\", \"showgrid\": false, \"showline\": false, \"showticklabels\": false, \"ticks\": \"\"}},\n",
              "                        {\"responsive\": true}\n",
              "                    ).then(function(){\n",
              "                            \n",
              "var gd = document.getElementById('6bb527e1-e225-4902-bae8-8e05f182fecd');\n",
              "var x = new MutationObserver(function (mutations, observer) {{\n",
              "        var display = window.getComputedStyle(gd).display;\n",
              "        if (!display || display === 'none') {{\n",
              "            console.log([gd, 'removed!']);\n",
              "            Plotly.purge(gd);\n",
              "            observer.disconnect();\n",
              "        }}\n",
              "}});\n",
              "\n",
              "// Listen for the removal of the full notebook cells\n",
              "var notebookContainer = gd.closest('#notebook-container');\n",
              "if (notebookContainer) {{\n",
              "    x.observe(notebookContainer, {childList: true});\n",
              "}}\n",
              "\n",
              "// Listen for the clearing of the current output cell\n",
              "var outputEl = gd.closest('.output');\n",
              "if (outputEl) {{\n",
              "    x.observe(outputEl, {childList: true});\n",
              "}}\n",
              "\n",
              "                        })\n",
              "                };\n",
              "                \n",
              "            </script>\n",
              "        </div>\n",
              "</body>\n",
              "</html>"
            ]
          },
          "metadata": {}
        }
      ]
    },
    {
      "cell_type": "code",
      "metadata": {
        "id": "NeDRk2t9bI_w",
        "colab": {
          "base_uri": "https://localhost:8080/"
        },
        "outputId": "f23ae14c-731e-45ff-e3bb-13fcea5f17a7"
      },
      "source": [
        "df['deposit'].agg(['mean', 'median', 'std', 'min', 'max'])"
      ],
      "execution_count": 133,
      "outputs": [
        {
          "output_type": "execute_result",
          "data": {
            "text/plain": [
              "mean       4854.710955\n",
              "median     4197.000000\n",
              "std        3295.911843\n",
              "min         813.750000\n",
              "max       42621.000000\n",
              "Name: deposit, dtype: float64"
            ]
          },
          "metadata": {},
          "execution_count": 133
        }
      ]
    },
    {
      "cell_type": "code",
      "metadata": {
        "id": "78zmRktIbI_y",
        "colab": {
          "base_uri": "https://localhost:8080/"
        },
        "outputId": "753e8978-fad6-4481-bc9a-478ee265faf0"
      },
      "source": [
        "df['deposit'].isna().sum()"
      ],
      "execution_count": 134,
      "outputs": [
        {
          "output_type": "execute_result",
          "data": {
            "text/plain": [
              "0"
            ]
          },
          "metadata": {},
          "execution_count": 134
        }
      ]
    },
    {
      "cell_type": "markdown",
      "metadata": {
        "id": "6tWur5WUbI_1"
      },
      "source": [
        "## Clean `property_condition`"
      ]
    },
    {
      "cell_type": "code",
      "metadata": {
        "id": "tV1Xo5ODbI_2",
        "colab": {
          "base_uri": "https://localhost:8080/"
        },
        "outputId": "7e861962-0f6c-40ab-fb4d-563a7cb4f7d7"
      },
      "source": [
        "(df.isna().sum() / len(df)).sort_values(ascending = False)"
      ],
      "execution_count": 135,
      "outputs": [
        {
          "output_type": "execute_result",
          "data": {
            "text/plain": [
              "parking_space          0.882199\n",
              "renovated_date         0.744764\n",
              "efficiency_class       0.671466\n",
              "energy_requirement     0.573298\n",
              "security_deposit       0.496073\n",
              "cold_rent              0.442408\n",
              "utilities              0.442408\n",
              "heating_costs          0.442408\n",
              "furnishing             0.417539\n",
              "energy_certificate     0.409686\n",
              "type_of_certificate    0.388743\n",
              "energy_sources         0.353403\n",
              "property_condition     0.344241\n",
              "heating_type           0.325916\n",
              "region                 0.000000\n",
              "rent                   0.000000\n",
              "condition              0.000000\n",
              "rooms                  0.000000\n",
              "missing_count          0.000000\n",
              "year_construction      0.000000\n",
              "space                  0.000000\n",
              "deposit                0.000000\n",
              "url                    0.000000\n",
              "dtype: float64"
            ]
          },
          "metadata": {},
          "execution_count": 135
        }
      ]
    },
    {
      "cell_type": "code",
      "metadata": {
        "colab": {
          "base_uri": "https://localhost:8080/"
        },
        "id": "Qz6oNRzQtLPg",
        "outputId": "bc21dce6-7b29-4b89-d0f0-68bcfe8df458"
      },
      "source": [
        "df['property_condition'].value_counts()"
      ],
      "execution_count": 136,
      "outputs": [
        {
          "output_type": "execute_result",
          "data": {
            "text/plain": [
              "New                     241\n",
              "Mint Condition          103\n",
              "Groomed                  65\n",
              "Refurbished              29\n",
              "After Renovation         26\n",
              "Completely Renovated     21\n",
              "Modernized               13\n",
              "Needs Renovation          2\n",
              "Well Maintained           1\n",
              "Name: property_condition, dtype: int64"
            ]
          },
          "metadata": {},
          "execution_count": 136
        }
      ]
    },
    {
      "cell_type": "code",
      "metadata": {
        "colab": {
          "base_uri": "https://localhost:8080/"
        },
        "id": "CF4dWdz1tTSi",
        "outputId": "d9ab6637-3390-4802-9cc5-9c2c909d5a0a"
      },
      "source": [
        "df['property_condition'].isna().sum()"
      ],
      "execution_count": 137,
      "outputs": [
        {
          "output_type": "execute_result",
          "data": {
            "text/plain": [
              "263"
            ]
          },
          "metadata": {},
          "execution_count": 137
        }
      ]
    },
    {
      "cell_type": "code",
      "metadata": {
        "id": "iUuCkDCqbI_4",
        "colab": {
          "base_uri": "https://localhost:8080/",
          "height": 408
        },
        "outputId": "15b96d49-6720-428d-9332-9d1e39f8cd52"
      },
      "source": [
        "df.head()"
      ],
      "execution_count": 138,
      "outputs": [
        {
          "output_type": "execute_result",
          "data": {
            "text/html": [
              "\n",
              "  <div id=\"df-6bde83e4-dd28-4be3-be71-fbd2c3a87a8f\">\n",
              "    <div class=\"colab-df-container\">\n",
              "      <div>\n",
              "<style scoped>\n",
              "    .dataframe tbody tr th:only-of-type {\n",
              "        vertical-align: middle;\n",
              "    }\n",
              "\n",
              "    .dataframe tbody tr th {\n",
              "        vertical-align: top;\n",
              "    }\n",
              "\n",
              "    .dataframe thead th {\n",
              "        text-align: right;\n",
              "    }\n",
              "</style>\n",
              "<table border=\"1\" class=\"dataframe\">\n",
              "  <thead>\n",
              "    <tr style=\"text-align: right;\">\n",
              "      <th></th>\n",
              "      <th>url</th>\n",
              "      <th>region</th>\n",
              "      <th>condition</th>\n",
              "      <th>rooms</th>\n",
              "      <th>rent</th>\n",
              "      <th>year_construction</th>\n",
              "      <th>space</th>\n",
              "      <th>cold_rent</th>\n",
              "      <th>utilities</th>\n",
              "      <th>heating_costs</th>\n",
              "      <th>security_deposit</th>\n",
              "      <th>parking_space</th>\n",
              "      <th>renovated_date</th>\n",
              "      <th>property_condition</th>\n",
              "      <th>furnishing</th>\n",
              "      <th>heating_type</th>\n",
              "      <th>energy_sources</th>\n",
              "      <th>energy_certificate</th>\n",
              "      <th>type_of_certificate</th>\n",
              "      <th>energy_requirement</th>\n",
              "      <th>efficiency_class</th>\n",
              "      <th>deposit</th>\n",
              "      <th>missing_count</th>\n",
              "    </tr>\n",
              "  </thead>\n",
              "  <tbody>\n",
              "    <tr>\n",
              "      <th>0</th>\n",
              "      <td>https://www.immobilienscout24.de/expose/116051687</td>\n",
              "      <td>Mitte</td>\n",
              "      <td>first_time_use</td>\n",
              "      <td>4.0</td>\n",
              "      <td>2659.00</td>\n",
              "      <td>2019</td>\n",
              "      <td>117.20</td>\n",
              "      <td>2.199€</td>\n",
              "      <td>+460€</td>\n",
              "      <td>in</td>\n",
              "      <td>3</td>\n",
              "      <td>120€</td>\n",
              "      <td>NaN</td>\n",
              "      <td>New</td>\n",
              "      <td>NaN</td>\n",
              "      <td>Underfloor Heating</td>\n",
              "      <td>NaN</td>\n",
              "      <td>NaN</td>\n",
              "      <td>Bedarfsausweis</td>\n",
              "      <td>NaN</td>\n",
              "      <td>B</td>\n",
              "      <td>7977.00</td>\n",
              "      <td>5</td>\n",
              "    </tr>\n",
              "    <tr>\n",
              "      <th>1</th>\n",
              "      <td>https://www.immobilienscout24.de/expose/115338103</td>\n",
              "      <td>Kreuzberg</td>\n",
              "      <td>first_time_use</td>\n",
              "      <td>1.0</td>\n",
              "      <td>1200.00</td>\n",
              "      <td>2020</td>\n",
              "      <td>29.33</td>\n",
              "      <td>973,51€</td>\n",
              "      <td>+226,49€</td>\n",
              "      <td>in</td>\n",
              "      <td>2920,53</td>\n",
              "      <td>NaN</td>\n",
              "      <td>NaN</td>\n",
              "      <td>New</td>\n",
              "      <td>Gehobene Qualität</td>\n",
              "      <td>Central Heating</td>\n",
              "      <td>Fernwärme Energieausweis liegt vor</td>\n",
              "      <td>liegt vor</td>\n",
              "      <td>NaN</td>\n",
              "      <td>NaN</td>\n",
              "      <td>NaN</td>\n",
              "      <td>2920.53</td>\n",
              "      <td>5</td>\n",
              "    </tr>\n",
              "    <tr>\n",
              "      <th>2</th>\n",
              "      <td>https://www.immobilienscout24.de/expose/116458710</td>\n",
              "      <td>Köpenick</td>\n",
              "      <td>well_kept</td>\n",
              "      <td>2.0</td>\n",
              "      <td>979.00</td>\n",
              "      <td>1997</td>\n",
              "      <td>83.61</td>\n",
              "      <td>799€</td>\n",
              "      <td>+90€</td>\n",
              "      <td>+90€</td>\n",
              "      <td>Drei</td>\n",
              "      <td>NaN</td>\n",
              "      <td>NaN</td>\n",
              "      <td>Groomed</td>\n",
              "      <td>Normale Qualität</td>\n",
              "      <td>Central Heating</td>\n",
              "      <td>Fernwärme Energieausweis liegt vor</td>\n",
              "      <td>liegt vor</td>\n",
              "      <td>Verbrauchsausweis Energie­ver­brauchs­kennwert...</td>\n",
              "      <td>NaN</td>\n",
              "      <td>NaN</td>\n",
              "      <td>2937.00</td>\n",
              "      <td>4</td>\n",
              "    </tr>\n",
              "    <tr>\n",
              "      <th>3</th>\n",
              "      <td>https://www.immobilienscout24.de/expose/116573177</td>\n",
              "      <td>Wilmersdorf</td>\n",
              "      <td>well_kept</td>\n",
              "      <td>4.0</td>\n",
              "      <td>1830.22</td>\n",
              "      <td>1900</td>\n",
              "      <td>171.18</td>\n",
              "      <td>NaN</td>\n",
              "      <td>NaN</td>\n",
              "      <td>NaN</td>\n",
              "      <td>NaN</td>\n",
              "      <td>NaN</td>\n",
              "      <td>NaN</td>\n",
              "      <td>NaN</td>\n",
              "      <td>NaN</td>\n",
              "      <td>NaN</td>\n",
              "      <td>NaN</td>\n",
              "      <td>NaN</td>\n",
              "      <td>NaN</td>\n",
              "      <td>NaN</td>\n",
              "      <td>NaN</td>\n",
              "      <td>5490.66</td>\n",
              "      <td>13</td>\n",
              "    </tr>\n",
              "    <tr>\n",
              "      <th>4</th>\n",
              "      <td>https://www.immobilienscout24.de/expose/115925878</td>\n",
              "      <td>Kreuzberg</td>\n",
              "      <td>first_time_use</td>\n",
              "      <td>2.0</td>\n",
              "      <td>2272.00</td>\n",
              "      <td>2020</td>\n",
              "      <td>88.27</td>\n",
              "      <td>NaN</td>\n",
              "      <td>NaN</td>\n",
              "      <td>NaN</td>\n",
              "      <td>NaN</td>\n",
              "      <td>NaN</td>\n",
              "      <td>NaN</td>\n",
              "      <td>New</td>\n",
              "      <td>Gehobene Qualität</td>\n",
              "      <td>Central Heating</td>\n",
              "      <td>Fernwärme Energieausweis liegt zur Besichtigun...</td>\n",
              "      <td>liegt zur Besichtigung vor</td>\n",
              "      <td>NaN</td>\n",
              "      <td>NaN</td>\n",
              "      <td>NaN</td>\n",
              "      <td>6816.00</td>\n",
              "      <td>8</td>\n",
              "    </tr>\n",
              "  </tbody>\n",
              "</table>\n",
              "</div>\n",
              "      <button class=\"colab-df-convert\" onclick=\"convertToInteractive('df-6bde83e4-dd28-4be3-be71-fbd2c3a87a8f')\"\n",
              "              title=\"Convert this dataframe to an interactive table.\"\n",
              "              style=\"display:none;\">\n",
              "        \n",
              "  <svg xmlns=\"http://www.w3.org/2000/svg\" height=\"24px\"viewBox=\"0 0 24 24\"\n",
              "       width=\"24px\">\n",
              "    <path d=\"M0 0h24v24H0V0z\" fill=\"none\"/>\n",
              "    <path d=\"M18.56 5.44l.94 2.06.94-2.06 2.06-.94-2.06-.94-.94-2.06-.94 2.06-2.06.94zm-11 1L8.5 8.5l.94-2.06 2.06-.94-2.06-.94L8.5 2.5l-.94 2.06-2.06.94zm10 10l.94 2.06.94-2.06 2.06-.94-2.06-.94-.94-2.06-.94 2.06-2.06.94z\"/><path d=\"M17.41 7.96l-1.37-1.37c-.4-.4-.92-.59-1.43-.59-.52 0-1.04.2-1.43.59L10.3 9.45l-7.72 7.72c-.78.78-.78 2.05 0 2.83L4 21.41c.39.39.9.59 1.41.59.51 0 1.02-.2 1.41-.59l7.78-7.78 2.81-2.81c.8-.78.8-2.07 0-2.86zM5.41 20L4 18.59l7.72-7.72 1.47 1.35L5.41 20z\"/>\n",
              "  </svg>\n",
              "      </button>\n",
              "      \n",
              "  <style>\n",
              "    .colab-df-container {\n",
              "      display:flex;\n",
              "      flex-wrap:wrap;\n",
              "      gap: 12px;\n",
              "    }\n",
              "\n",
              "    .colab-df-convert {\n",
              "      background-color: #E8F0FE;\n",
              "      border: none;\n",
              "      border-radius: 50%;\n",
              "      cursor: pointer;\n",
              "      display: none;\n",
              "      fill: #1967D2;\n",
              "      height: 32px;\n",
              "      padding: 0 0 0 0;\n",
              "      width: 32px;\n",
              "    }\n",
              "\n",
              "    .colab-df-convert:hover {\n",
              "      background-color: #E2EBFA;\n",
              "      box-shadow: 0px 1px 2px rgba(60, 64, 67, 0.3), 0px 1px 3px 1px rgba(60, 64, 67, 0.15);\n",
              "      fill: #174EA6;\n",
              "    }\n",
              "\n",
              "    [theme=dark] .colab-df-convert {\n",
              "      background-color: #3B4455;\n",
              "      fill: #D2E3FC;\n",
              "    }\n",
              "\n",
              "    [theme=dark] .colab-df-convert:hover {\n",
              "      background-color: #434B5C;\n",
              "      box-shadow: 0px 1px 3px 1px rgba(0, 0, 0, 0.15);\n",
              "      filter: drop-shadow(0px 1px 2px rgba(0, 0, 0, 0.3));\n",
              "      fill: #FFFFFF;\n",
              "    }\n",
              "  </style>\n",
              "\n",
              "      <script>\n",
              "        const buttonEl =\n",
              "          document.querySelector('#df-6bde83e4-dd28-4be3-be71-fbd2c3a87a8f button.colab-df-convert');\n",
              "        buttonEl.style.display =\n",
              "          google.colab.kernel.accessAllowed ? 'block' : 'none';\n",
              "\n",
              "        async function convertToInteractive(key) {\n",
              "          const element = document.querySelector('#df-6bde83e4-dd28-4be3-be71-fbd2c3a87a8f');\n",
              "          const dataTable =\n",
              "            await google.colab.kernel.invokeFunction('convertToInteractive',\n",
              "                                                     [key], {});\n",
              "          if (!dataTable) return;\n",
              "\n",
              "          const docLinkHtml = 'Like what you see? Visit the ' +\n",
              "            '<a target=\"_blank\" href=https://colab.research.google.com/notebooks/data_table.ipynb>data table notebook</a>'\n",
              "            + ' to learn more about interactive tables.';\n",
              "          element.innerHTML = '';\n",
              "          dataTable['output_type'] = 'display_data';\n",
              "          await google.colab.output.renderOutput(dataTable, element);\n",
              "          const docLink = document.createElement('div');\n",
              "          docLink.innerHTML = docLinkHtml;\n",
              "          element.appendChild(docLink);\n",
              "        }\n",
              "      </script>\n",
              "    </div>\n",
              "  </div>\n",
              "  "
            ],
            "text/plain": [
              "                                                 url  ... missing_count\n",
              "0  https://www.immobilienscout24.de/expose/116051687  ...             5\n",
              "1  https://www.immobilienscout24.de/expose/115338103  ...             5\n",
              "2  https://www.immobilienscout24.de/expose/116458710  ...             4\n",
              "3  https://www.immobilienscout24.de/expose/116573177  ...            13\n",
              "4  https://www.immobilienscout24.de/expose/115925878  ...             8\n",
              "\n",
              "[5 rows x 23 columns]"
            ]
          },
          "metadata": {},
          "execution_count": 138
        }
      ]
    },
    {
      "cell_type": "markdown",
      "metadata": {
        "id": "eEfU4G9WbI_6"
      },
      "source": [
        "### Categorical Features need to be handled differently than Continuous"
      ]
    },
    {
      "cell_type": "code",
      "metadata": {
        "id": "uf8K8PLIbI_7",
        "colab": {
          "base_uri": "https://localhost:8080/"
        },
        "outputId": "3a885c1d-ca38-47fc-893f-f8f813674098"
      },
      "source": [
        "df['property_condition'].fillna('MISSING').value_counts()"
      ],
      "execution_count": 139,
      "outputs": [
        {
          "output_type": "execute_result",
          "data": {
            "text/plain": [
              "MISSING                 263\n",
              "New                     241\n",
              "Mint Condition          103\n",
              "Groomed                  65\n",
              "Refurbished              29\n",
              "After Renovation         26\n",
              "Completely Renovated     21\n",
              "Modernized               13\n",
              "Needs Renovation          2\n",
              "Well Maintained           1\n",
              "Name: property_condition, dtype: int64"
            ]
          },
          "metadata": {},
          "execution_count": 139
        }
      ]
    },
    {
      "cell_type": "code",
      "metadata": {
        "id": "AIMGY-RibI_9"
      },
      "source": [
        "df['property_condition'] = df.property_condition.fillna('Unknown')"
      ],
      "execution_count": 140,
      "outputs": []
    },
    {
      "cell_type": "code",
      "metadata": {
        "id": "MwDASxOmSgM7",
        "colab": {
          "base_uri": "https://localhost:8080/",
          "height": 542
        },
        "outputId": "294c5f21-0024-49c6-bef2-265106b0c15b"
      },
      "source": [
        "px.bar(df['property_condition'].value_counts().reset_index(), x='index', y='property_condition')"
      ],
      "execution_count": 141,
      "outputs": [
        {
          "output_type": "display_data",
          "data": {
            "text/html": [
              "<html>\n",
              "<head><meta charset=\"utf-8\" /></head>\n",
              "<body>\n",
              "    <div>\n",
              "            <script src=\"https://cdnjs.cloudflare.com/ajax/libs/mathjax/2.7.5/MathJax.js?config=TeX-AMS-MML_SVG\"></script><script type=\"text/javascript\">if (window.MathJax) {MathJax.Hub.Config({SVG: {font: \"STIX-Web\"}});}</script>\n",
              "                <script type=\"text/javascript\">window.PlotlyConfig = {MathJaxConfig: 'local'};</script>\n",
              "        <script src=\"https://cdn.plot.ly/plotly-latest.min.js\"></script>    \n",
              "            <div id=\"fd092ddb-a1c1-473d-b9e1-2195d7c4a92c\" class=\"plotly-graph-div\" style=\"height:525px; width:100%;\"></div>\n",
              "            <script type=\"text/javascript\">\n",
              "                \n",
              "                    window.PLOTLYENV=window.PLOTLYENV || {};\n",
              "                    \n",
              "                if (document.getElementById(\"fd092ddb-a1c1-473d-b9e1-2195d7c4a92c\")) {\n",
              "                    Plotly.newPlot(\n",
              "                        'fd092ddb-a1c1-473d-b9e1-2195d7c4a92c',\n",
              "                        [{\"alignmentgroup\": \"True\", \"hoverlabel\": {\"namelength\": 0}, \"hovertemplate\": \"index=%{x}<br>property_condition=%{y}\", \"legendgroup\": \"\", \"marker\": {\"color\": \"#636efa\"}, \"name\": \"\", \"offsetgroup\": \"\", \"orientation\": \"v\", \"showlegend\": false, \"textposition\": \"auto\", \"type\": \"bar\", \"x\": [\"Unknown\", \"New\", \"Mint Condition\", \"Groomed\", \"Refurbished\", \"After Renovation\", \"Completely Renovated\", \"Modernized\", \"Needs Renovation\", \"Well Maintained\"], \"xaxis\": \"x\", \"y\": [263, 241, 103, 65, 29, 26, 21, 13, 2, 1], \"yaxis\": \"y\"}],\n",
              "                        {\"barmode\": \"relative\", \"legend\": {\"tracegroupgap\": 0}, \"margin\": {\"t\": 60}, \"template\": {\"data\": {\"bar\": [{\"error_x\": {\"color\": \"#2a3f5f\"}, \"error_y\": {\"color\": \"#2a3f5f\"}, \"marker\": {\"line\": {\"color\": \"#E5ECF6\", \"width\": 0.5}}, \"type\": \"bar\"}], \"barpolar\": [{\"marker\": {\"line\": {\"color\": \"#E5ECF6\", \"width\": 0.5}}, \"type\": \"barpolar\"}], \"carpet\": [{\"aaxis\": {\"endlinecolor\": \"#2a3f5f\", \"gridcolor\": \"white\", \"linecolor\": \"white\", \"minorgridcolor\": \"white\", \"startlinecolor\": \"#2a3f5f\"}, \"baxis\": {\"endlinecolor\": \"#2a3f5f\", \"gridcolor\": \"white\", \"linecolor\": \"white\", \"minorgridcolor\": \"white\", \"startlinecolor\": \"#2a3f5f\"}, \"type\": \"carpet\"}], \"choropleth\": [{\"colorbar\": {\"outlinewidth\": 0, \"ticks\": \"\"}, \"type\": \"choropleth\"}], \"contour\": [{\"colorbar\": {\"outlinewidth\": 0, \"ticks\": \"\"}, \"colorscale\": [[0.0, \"#0d0887\"], [0.1111111111111111, \"#46039f\"], [0.2222222222222222, \"#7201a8\"], [0.3333333333333333, \"#9c179e\"], [0.4444444444444444, \"#bd3786\"], [0.5555555555555556, \"#d8576b\"], [0.6666666666666666, \"#ed7953\"], [0.7777777777777778, \"#fb9f3a\"], [0.8888888888888888, \"#fdca26\"], [1.0, \"#f0f921\"]], \"type\": \"contour\"}], \"contourcarpet\": [{\"colorbar\": {\"outlinewidth\": 0, \"ticks\": \"\"}, \"type\": \"contourcarpet\"}], \"heatmap\": [{\"colorbar\": {\"outlinewidth\": 0, \"ticks\": \"\"}, \"colorscale\": [[0.0, \"#0d0887\"], [0.1111111111111111, \"#46039f\"], [0.2222222222222222, \"#7201a8\"], [0.3333333333333333, \"#9c179e\"], [0.4444444444444444, \"#bd3786\"], [0.5555555555555556, \"#d8576b\"], [0.6666666666666666, \"#ed7953\"], [0.7777777777777778, \"#fb9f3a\"], [0.8888888888888888, \"#fdca26\"], [1.0, \"#f0f921\"]], \"type\": \"heatmap\"}], \"heatmapgl\": [{\"colorbar\": {\"outlinewidth\": 0, \"ticks\": \"\"}, \"colorscale\": [[0.0, \"#0d0887\"], [0.1111111111111111, \"#46039f\"], [0.2222222222222222, \"#7201a8\"], [0.3333333333333333, \"#9c179e\"], [0.4444444444444444, \"#bd3786\"], [0.5555555555555556, \"#d8576b\"], [0.6666666666666666, \"#ed7953\"], [0.7777777777777778, \"#fb9f3a\"], [0.8888888888888888, \"#fdca26\"], [1.0, \"#f0f921\"]], \"type\": \"heatmapgl\"}], \"histogram\": [{\"marker\": {\"colorbar\": {\"outlinewidth\": 0, \"ticks\": \"\"}}, \"type\": \"histogram\"}], \"histogram2d\": [{\"colorbar\": {\"outlinewidth\": 0, \"ticks\": \"\"}, \"colorscale\": [[0.0, \"#0d0887\"], [0.1111111111111111, \"#46039f\"], [0.2222222222222222, \"#7201a8\"], [0.3333333333333333, \"#9c179e\"], [0.4444444444444444, \"#bd3786\"], [0.5555555555555556, \"#d8576b\"], [0.6666666666666666, \"#ed7953\"], [0.7777777777777778, \"#fb9f3a\"], [0.8888888888888888, \"#fdca26\"], [1.0, \"#f0f921\"]], \"type\": \"histogram2d\"}], \"histogram2dcontour\": [{\"colorbar\": {\"outlinewidth\": 0, \"ticks\": \"\"}, \"colorscale\": [[0.0, \"#0d0887\"], [0.1111111111111111, \"#46039f\"], [0.2222222222222222, \"#7201a8\"], [0.3333333333333333, \"#9c179e\"], [0.4444444444444444, \"#bd3786\"], [0.5555555555555556, \"#d8576b\"], [0.6666666666666666, \"#ed7953\"], [0.7777777777777778, \"#fb9f3a\"], [0.8888888888888888, \"#fdca26\"], [1.0, \"#f0f921\"]], \"type\": \"histogram2dcontour\"}], \"mesh3d\": [{\"colorbar\": {\"outlinewidth\": 0, \"ticks\": \"\"}, \"type\": \"mesh3d\"}], \"parcoords\": [{\"line\": {\"colorbar\": {\"outlinewidth\": 0, \"ticks\": \"\"}}, \"type\": \"parcoords\"}], \"pie\": [{\"automargin\": true, \"type\": \"pie\"}], \"scatter\": [{\"marker\": {\"colorbar\": {\"outlinewidth\": 0, \"ticks\": \"\"}}, \"type\": \"scatter\"}], \"scatter3d\": [{\"line\": {\"colorbar\": {\"outlinewidth\": 0, \"ticks\": \"\"}}, \"marker\": {\"colorbar\": {\"outlinewidth\": 0, \"ticks\": \"\"}}, \"type\": \"scatter3d\"}], \"scattercarpet\": [{\"marker\": {\"colorbar\": {\"outlinewidth\": 0, \"ticks\": \"\"}}, \"type\": \"scattercarpet\"}], \"scattergeo\": [{\"marker\": {\"colorbar\": {\"outlinewidth\": 0, \"ticks\": \"\"}}, \"type\": \"scattergeo\"}], \"scattergl\": [{\"marker\": {\"colorbar\": {\"outlinewidth\": 0, \"ticks\": \"\"}}, \"type\": \"scattergl\"}], \"scattermapbox\": [{\"marker\": {\"colorbar\": {\"outlinewidth\": 0, \"ticks\": \"\"}}, \"type\": \"scattermapbox\"}], \"scatterpolar\": [{\"marker\": {\"colorbar\": {\"outlinewidth\": 0, \"ticks\": \"\"}}, \"type\": \"scatterpolar\"}], \"scatterpolargl\": [{\"marker\": {\"colorbar\": {\"outlinewidth\": 0, \"ticks\": \"\"}}, \"type\": \"scatterpolargl\"}], \"scatterternary\": [{\"marker\": {\"colorbar\": {\"outlinewidth\": 0, \"ticks\": \"\"}}, \"type\": \"scatterternary\"}], \"surface\": [{\"colorbar\": {\"outlinewidth\": 0, \"ticks\": \"\"}, \"colorscale\": [[0.0, \"#0d0887\"], [0.1111111111111111, \"#46039f\"], [0.2222222222222222, \"#7201a8\"], [0.3333333333333333, \"#9c179e\"], [0.4444444444444444, \"#bd3786\"], [0.5555555555555556, \"#d8576b\"], [0.6666666666666666, \"#ed7953\"], [0.7777777777777778, \"#fb9f3a\"], [0.8888888888888888, \"#fdca26\"], [1.0, \"#f0f921\"]], \"type\": \"surface\"}], \"table\": [{\"cells\": {\"fill\": {\"color\": \"#EBF0F8\"}, \"line\": {\"color\": \"white\"}}, \"header\": {\"fill\": {\"color\": \"#C8D4E3\"}, \"line\": {\"color\": \"white\"}}, \"type\": \"table\"}]}, \"layout\": {\"annotationdefaults\": {\"arrowcolor\": \"#2a3f5f\", \"arrowhead\": 0, \"arrowwidth\": 1}, \"coloraxis\": {\"colorbar\": {\"outlinewidth\": 0, \"ticks\": \"\"}}, \"colorscale\": {\"diverging\": [[0, \"#8e0152\"], [0.1, \"#c51b7d\"], [0.2, \"#de77ae\"], [0.3, \"#f1b6da\"], [0.4, \"#fde0ef\"], [0.5, \"#f7f7f7\"], [0.6, \"#e6f5d0\"], [0.7, \"#b8e186\"], [0.8, \"#7fbc41\"], [0.9, \"#4d9221\"], [1, \"#276419\"]], \"sequential\": [[0.0, \"#0d0887\"], [0.1111111111111111, \"#46039f\"], [0.2222222222222222, \"#7201a8\"], [0.3333333333333333, \"#9c179e\"], [0.4444444444444444, \"#bd3786\"], [0.5555555555555556, \"#d8576b\"], [0.6666666666666666, \"#ed7953\"], [0.7777777777777778, \"#fb9f3a\"], [0.8888888888888888, \"#fdca26\"], [1.0, \"#f0f921\"]], \"sequentialminus\": [[0.0, \"#0d0887\"], [0.1111111111111111, \"#46039f\"], [0.2222222222222222, \"#7201a8\"], [0.3333333333333333, \"#9c179e\"], [0.4444444444444444, \"#bd3786\"], [0.5555555555555556, \"#d8576b\"], [0.6666666666666666, \"#ed7953\"], [0.7777777777777778, \"#fb9f3a\"], [0.8888888888888888, \"#fdca26\"], [1.0, \"#f0f921\"]]}, \"colorway\": [\"#636efa\", \"#EF553B\", \"#00cc96\", \"#ab63fa\", \"#FFA15A\", \"#19d3f3\", \"#FF6692\", \"#B6E880\", \"#FF97FF\", \"#FECB52\"], \"font\": {\"color\": \"#2a3f5f\"}, \"geo\": {\"bgcolor\": \"white\", \"lakecolor\": \"white\", \"landcolor\": \"#E5ECF6\", \"showlakes\": true, \"showland\": true, \"subunitcolor\": \"white\"}, \"hoverlabel\": {\"align\": \"left\"}, \"hovermode\": \"closest\", \"mapbox\": {\"style\": \"light\"}, \"paper_bgcolor\": \"white\", \"plot_bgcolor\": \"#E5ECF6\", \"polar\": {\"angularaxis\": {\"gridcolor\": \"white\", \"linecolor\": \"white\", \"ticks\": \"\"}, \"bgcolor\": \"#E5ECF6\", \"radialaxis\": {\"gridcolor\": \"white\", \"linecolor\": \"white\", \"ticks\": \"\"}}, \"scene\": {\"xaxis\": {\"backgroundcolor\": \"#E5ECF6\", \"gridcolor\": \"white\", \"gridwidth\": 2, \"linecolor\": \"white\", \"showbackground\": true, \"ticks\": \"\", \"zerolinecolor\": \"white\"}, \"yaxis\": {\"backgroundcolor\": \"#E5ECF6\", \"gridcolor\": \"white\", \"gridwidth\": 2, \"linecolor\": \"white\", \"showbackground\": true, \"ticks\": \"\", \"zerolinecolor\": \"white\"}, \"zaxis\": {\"backgroundcolor\": \"#E5ECF6\", \"gridcolor\": \"white\", \"gridwidth\": 2, \"linecolor\": \"white\", \"showbackground\": true, \"ticks\": \"\", \"zerolinecolor\": \"white\"}}, \"shapedefaults\": {\"line\": {\"color\": \"#2a3f5f\"}}, \"ternary\": {\"aaxis\": {\"gridcolor\": \"white\", \"linecolor\": \"white\", \"ticks\": \"\"}, \"baxis\": {\"gridcolor\": \"white\", \"linecolor\": \"white\", \"ticks\": \"\"}, \"bgcolor\": \"#E5ECF6\", \"caxis\": {\"gridcolor\": \"white\", \"linecolor\": \"white\", \"ticks\": \"\"}}, \"title\": {\"x\": 0.05}, \"xaxis\": {\"automargin\": true, \"gridcolor\": \"white\", \"linecolor\": \"white\", \"ticks\": \"\", \"title\": {\"standoff\": 15}, \"zerolinecolor\": \"white\", \"zerolinewidth\": 2}, \"yaxis\": {\"automargin\": true, \"gridcolor\": \"white\", \"linecolor\": \"white\", \"ticks\": \"\", \"title\": {\"standoff\": 15}, \"zerolinecolor\": \"white\", \"zerolinewidth\": 2}}}, \"xaxis\": {\"anchor\": \"y\", \"domain\": [0.0, 1.0], \"title\": {\"text\": \"index\"}}, \"yaxis\": {\"anchor\": \"x\", \"domain\": [0.0, 1.0], \"title\": {\"text\": \"property_condition\"}}},\n",
              "                        {\"responsive\": true}\n",
              "                    ).then(function(){\n",
              "                            \n",
              "var gd = document.getElementById('fd092ddb-a1c1-473d-b9e1-2195d7c4a92c');\n",
              "var x = new MutationObserver(function (mutations, observer) {{\n",
              "        var display = window.getComputedStyle(gd).display;\n",
              "        if (!display || display === 'none') {{\n",
              "            console.log([gd, 'removed!']);\n",
              "            Plotly.purge(gd);\n",
              "            observer.disconnect();\n",
              "        }}\n",
              "}});\n",
              "\n",
              "// Listen for the removal of the full notebook cells\n",
              "var notebookContainer = gd.closest('#notebook-container');\n",
              "if (notebookContainer) {{\n",
              "    x.observe(notebookContainer, {childList: true});\n",
              "}}\n",
              "\n",
              "// Listen for the clearing of the current output cell\n",
              "var outputEl = gd.closest('.output');\n",
              "if (outputEl) {{\n",
              "    x.observe(outputEl, {childList: true});\n",
              "}}\n",
              "\n",
              "                        })\n",
              "                };\n",
              "                \n",
              "            </script>\n",
              "        </div>\n",
              "</body>\n",
              "</html>"
            ]
          },
          "metadata": {}
        }
      ]
    },
    {
      "cell_type": "markdown",
      "metadata": {
        "id": "MRoozyr8bJAB"
      },
      "source": [
        "## Clean `cold_rent`"
      ]
    },
    {
      "cell_type": "code",
      "metadata": {
        "id": "TqZ6sv7EbJAC",
        "colab": {
          "base_uri": "https://localhost:8080/"
        },
        "outputId": "8048d225-a3f1-4433-e8ea-e1cf9a35279b"
      },
      "source": [
        "(df.isna().sum() / len(df)).sort_values(ascending=False)"
      ],
      "execution_count": 142,
      "outputs": [
        {
          "output_type": "execute_result",
          "data": {
            "text/plain": [
              "parking_space          0.882199\n",
              "renovated_date         0.744764\n",
              "efficiency_class       0.671466\n",
              "energy_requirement     0.573298\n",
              "security_deposit       0.496073\n",
              "cold_rent              0.442408\n",
              "utilities              0.442408\n",
              "heating_costs          0.442408\n",
              "furnishing             0.417539\n",
              "energy_certificate     0.409686\n",
              "type_of_certificate    0.388743\n",
              "energy_sources         0.353403\n",
              "heating_type           0.325916\n",
              "region                 0.000000\n",
              "rent                   0.000000\n",
              "condition              0.000000\n",
              "rooms                  0.000000\n",
              "missing_count          0.000000\n",
              "year_construction      0.000000\n",
              "space                  0.000000\n",
              "deposit                0.000000\n",
              "property_condition     0.000000\n",
              "url                    0.000000\n",
              "dtype: float64"
            ]
          },
          "metadata": {},
          "execution_count": 142
        }
      ]
    },
    {
      "cell_type": "markdown",
      "metadata": {
        "id": "sGDBYvuUbJAF"
      },
      "source": [
        "**Since we have the warm rent for every sample, rather than use the median or mean, a better method might be to get the average warm/cold rent ratio and apply that to all missing values**"
      ]
    },
    {
      "cell_type": "markdown",
      "metadata": {
        "id": "3EBRB6fvDkHu"
      },
      "source": [
        "### Add NaN values"
      ]
    },
    {
      "cell_type": "code",
      "metadata": {
        "id": "Tiqz9bX6aBvR"
      },
      "source": [
        "df['cold_rent'] = df['cold_rent'].replace('nan', np.nan)"
      ],
      "execution_count": 143,
      "outputs": []
    },
    {
      "cell_type": "markdown",
      "metadata": {
        "id": "1RwdStqGDpxO"
      },
      "source": [
        "### Compute cold to warm rent ratio"
      ]
    },
    {
      "cell_type": "code",
      "metadata": {
        "id": "WImgpWYibJAG"
      },
      "source": [
        "df['cold_rent'] = df['cold_rent'].apply(lambda x: str(x).replace('€', ''))\n",
        "df['cold_rent'] = df['cold_rent'].apply(convert_decimal)"
      ],
      "execution_count": 144,
      "outputs": []
    },
    {
      "cell_type": "code",
      "metadata": {
        "id": "guLHeOdlbJAK",
        "colab": {
          "base_uri": "https://localhost:8080/"
        },
        "outputId": "adddb674-6604-4413-f069-970477a1c513"
      },
      "source": [
        "total_warm_and_cold = df[['rent', 'cold_rent']].dropna().astype(float).sum()\n",
        "total_warm_and_cold"
      ],
      "execution_count": 145,
      "outputs": [
        {
          "output_type": "execute_result",
          "data": {
            "text/plain": [
              "rent         1351180.56\n",
              "cold_rent     672957.80\n",
              "dtype: float64"
            ]
          },
          "metadata": {},
          "execution_count": 145
        }
      ]
    },
    {
      "cell_type": "code",
      "metadata": {
        "id": "csXv2ZAQbJAN",
        "colab": {
          "base_uri": "https://localhost:8080/"
        },
        "outputId": "72af6ce1-a863-4c9f-b632-e5f1fcee52f9"
      },
      "source": [
        "warm_cold_rent_ratio = total_warm_and_cold['cold_rent'] / total_warm_and_cold['rent']\n",
        "warm_cold_rent_ratio"
      ],
      "execution_count": 146,
      "outputs": [
        {
          "output_type": "execute_result",
          "data": {
            "text/plain": [
              "0.4980517185652814"
            ]
          },
          "metadata": {},
          "execution_count": 146
        }
      ]
    },
    {
      "cell_type": "code",
      "metadata": {
        "id": "3CECZLxFDLsb"
      },
      "source": [
        "df['cold_rent'] = df['cold_rent'].astype(float)"
      ],
      "execution_count": 147,
      "outputs": []
    },
    {
      "cell_type": "code",
      "metadata": {
        "id": "jhnPY0dLS_Me",
        "colab": {
          "base_uri": "https://localhost:8080/",
          "height": 542
        },
        "outputId": "b3b95916-6aff-4e37-aed4-c86f0d5409bd"
      },
      "source": [
        "px.histogram(df[['cold_rent']], x='cold_rent', marginal='box')"
      ],
      "execution_count": 148,
      "outputs": [
        {
          "output_type": "display_data",
          "data": {
            "text/html": [
              "<html>\n",
              "<head><meta charset=\"utf-8\" /></head>\n",
              "<body>\n",
              "    <div>\n",
              "            <script src=\"https://cdnjs.cloudflare.com/ajax/libs/mathjax/2.7.5/MathJax.js?config=TeX-AMS-MML_SVG\"></script><script type=\"text/javascript\">if (window.MathJax) {MathJax.Hub.Config({SVG: {font: \"STIX-Web\"}});}</script>\n",
              "                <script type=\"text/javascript\">window.PlotlyConfig = {MathJaxConfig: 'local'};</script>\n",
              "        <script src=\"https://cdn.plot.ly/plotly-latest.min.js\"></script>    \n",
              "            <div id=\"5179b04a-938c-4386-a9ec-f1b6f8bd872a\" class=\"plotly-graph-div\" style=\"height:525px; width:100%;\"></div>\n",
              "            <script type=\"text/javascript\">\n",
              "                \n",
              "                    window.PLOTLYENV=window.PLOTLYENV || {};\n",
              "                    \n",
              "                if (document.getElementById(\"5179b04a-938c-4386-a9ec-f1b6f8bd872a\")) {\n",
              "                    Plotly.newPlot(\n",
              "                        '5179b04a-938c-4386-a9ec-f1b6f8bd872a',\n",
              "                        [{\"alignmentgroup\": \"True\", \"bingroup\": \"x\", \"hoverlabel\": {\"namelength\": 0}, \"hovertemplate\": \"cold_rent=%{x}<br>count=%{y}\", \"legendgroup\": \"\", \"marker\": {\"color\": \"#636efa\"}, \"name\": \"\", \"offsetgroup\": \"\", \"orientation\": \"v\", \"showlegend\": false, \"type\": \"histogram\", \"x\": [2199.0, 973.51, 799.0, null, null, 652.0, null, 540.73, 391.93, 1534.0, 1999.0, null, 2150.0, 5700.0, 1199.7, 1279.76, 1169.14, 760.0, 713.26, 1799.0, null, 1295.0, null, null, 2650.0, 1384.0, null, null, null, 1550.0, null, null, null, null, null, null, 901.0, 614.24, 418.11, null, null, null, 271.04, 3050.0, 1515.0, 1164.84, null, null, 1565.03, 361.15, null, 2300.0, 1998.0, 2490.0, 2490.0, null, 1724.85, null, 715.0, 1760.0, 3825.0, 4950.0, null, 1399.0, null, null, null, 1298.0, 4300.0, 1300.0, 1645.83, 1115.0, 2100.0, null, null, null, null, 1490.0, 3000.0, null, null, 880.0, null, 1810.0, null, null, null, 1990.0, 1682.0, null, 1690.0, null, 1790.0, null, 2650.0, 3390.0, 1490.0, null, 602.07, null, null, null, 2873.56, null, null, null, null, null, null, 1750.0, null, 2300.0, 3320.0, null, 1053.0, 1049.0, 875.0, null, 1450.0, null, 1761.17, 1670.0, 1266.6, 1444.64, 1390.0, 1000.0, null, 671.0, null, 947.0, null, null, 1937.0, null, 950.24, 1100.25, null, 2750.0, 1171.97, null, null, 1215.0, 799.0, 1500.0, null, null, 1397.93, null, 3239.46, 1199.0, 1300.0, null, null, null, 1290.0, null, 1090.0, 620.0, 1970.0, null, 1600.0, 759.0, 321.87, null, 579.0, 579.0, 579.0, 901.0, null, null, 529.0, 735.0, 579.0, 1929.0, 433.03, 1194.0, null, null, null, 313.71, 1336.02, 2200.0, null, 1210.0, 1103.3, null, 2500.0, null, null, null, 849.93, null, null, null, 1277.0, 758.0, null, 950.0, 980.0, 1650.0, 1460.0, 1162.08, null, null, null, null, 317.42, null, null, 1142.87, 1560.0, null, 1195.04, null, 1375.0, 1912.54, 1390.0, 1350.0, 1290.0, 1450.0, null, 1450.0, 1350.0, 2113.86, 1450.0, 1168.77, 1150.0, null, 461.29, null, 743.16, 1980.0, 670.23, 607.53, 441.38, null, 1912.54, null, null, 285.74, 2350.0, null, 1336.02, 1602.13, 3950.0, 9500.0, 1199.0, 1553.85, 876.81, 1495.62, 2184.0, 2058.0, 1994.1, 900.0, 599.0, null, 1672.28, null, null, 1500.0, 1120.0, 1716.0, null, null, 605.68, null, 824.0, null, 4000.0, 2100.0, 529.0, 1798.0, 1399.0, 749.0, 445.63, 729.0, null, 1365.0, 272.95, null, 284.39, null, 190.74, 518.0, 1940.0, null, 1960.75, 1872.6, 1346.0, 2200.0, null, null, null, null, null, null, null, 971.0, null, null, null, 805.31, 1521.52, 575.92, null, 1843.16, 3008.15, 1910.0, null, 2485.0, null, null, null, 437.9, 2950.0, null, 1250.0, 2298.0, 419.74, null, null, null, 450.16, 2550.0, 700.38, null, null, 1785.0, 4367.52, 545.3, 1450.0, 1450.0, null, 1320.0, 1390.0, 638.0, null, null, null, 1710.0, null, null, null, 780.0, null, null, 950.0, null, null, null, null, null, null, null, null, 1900.0, null, null, null, null, null, null, 1980.0, 1890.0, null, null, null, null, null, 1632.0, null, null, 1400.0, null, null, null, null, 550.0, null, null, null, null, null, null, null, null, 2050.0, null, null, null, 445.0, 670.0, null, 1199.0, 1422.54, 1807.0, null, null, null, null, null, 2480.0, null, 1250.0, 1395.0, 1699.0, 1911.42, null, 1400.0, 1400.0, null, 1400.0, null, 1732.2, null, null, 1400.0, null, null, null, 1639.0, 750.0, 1057.41, 762.15, 841.19, 699.0, null, 568.48, null, 799.0, null, 1392.0, 975.75, 1392.0, 964.98, null, 1200.2, null, 2050.0, 2077.0, 1333.0, 1491.8, 2077.0, 1550.0, null, null, 3500.0, null, 1212.6, null, 1150.0, 800.0, 680.0, 1448.1, null, null, null, null, 695.0, null, null, null, 2190.0, null, 2225.0, 1477.4, 3111.0, 2315.0, null, 3264.0, null, null, 1986.17, 699.0, 1222.0, 815.0, null, null, null, null, null, null, null, null, 750.0, 585.0, 1550.0, null, null, 1490.0, 358.2, 1300.0, null, null, null, 1999.0, 753.1, 658.0, 1842.43, 799.0, null, null, 1599.0, null, 1126.3, 1614.89, 1925.0, 1466.0, 1578.66, 1280.0, null, null, null, 562.8, 979.0, 749.0, null, 565.16, 1800.0, null, null, null, null, null, null, null, 1835.4, 1281.99, null, 798.09, null, null, 2128.88, 2199.0, null, null, 2794.08, null, 985.0, 1478.7, 427.7, null, null, 1123.44, null, 1399.0, null, 1676.91, null, null, null, 1567.17, null, 1899.0, 1865.21, 1184.0, null, null, 736.49, null, 3200.0, 1218.61, 2250.0, 1300.66, null, null, 1458.42, 1044.35, null, 4000.0, 1368.0, 1033.35, 1339.0, null, 2131.1, 1711.35, null, 1775.0, 1577.34, 1158.84, 1599.0, 1133.65, null, null, 1157.11, null, 443.0, null, 1096.94, null, 5540.64, 5540.64, 4416.4, 1550.0, 4416.4, null, 4416.4, null, null, null, 1666.68, 1800.0, null, null, null, null, 1766.18, 284.62, null, 1773.65, 1771.67, 1148.37, null, 1750.81, null, 1450.0, null, 1718.24, null, 1130.56, 1730.2, 1740.61, 2149.92, 1900.0, null, 1583.5, 1854.81, 2204.19, 1397.4, null, 1528.55, 1513.86, null, 3821.4, 1543.56, 2487.88, 2700.0, 1309.66, 1614.62, 1700.0, 1529.85, 2780.0, null, null, null, 1605.82, 4400.0, 1621.76, 2091.94, 2131.92, 2154.24, 1950.0, null, 5100.0, 1543.19, 2274.98, null, null, 1813.37, 2593.4, 1854.81, null, 1593.93, 2720.0, 1601.71, 525.0, 1880.75, 1528.55, 1841.94, 2204.19, 1677.36, 2275.82, 2259.45, 1047.23, 1820.0, null, 1576.88, 2135.49, null, 2487.88, 1020.0, null, null, 1446.0, 1529.44, null, 1349.0, null, 2149.92, 1771.45, null, 1194.0, 1099.0, 1303.65, null, 1503.07, null, 1299.0, 2162.91, null, null, 1952.44, 2379.41, 1600.0, 1248.0, 1873.01, null, 1872.39, 1513.86, 819.0, null, 850.0, 1198.0, null, 2200.0, null, 1104.5, null, 1330.0, null, null, null, 2491.0, null, 1131.0, 1154.5, null, 2077.0, null, null, 545.0, null, 1299.0, 1960.0, 1899.0, null, null, null, null, null, null, null, 1079.0, null, null, null, null, null, null, 1514.0, 593.23, null, null, null, 1901.5, 514.0, null, null, null, null, null, null, null, null], \"xaxis\": \"x\", \"yaxis\": \"y\"}, {\"alignmentgroup\": \"True\", \"hoverlabel\": {\"namelength\": 0}, \"hovertemplate\": \"cold_rent=%{x}\", \"legendgroup\": \"\", \"marker\": {\"color\": \"#636efa\"}, \"name\": \"\", \"notched\": true, \"offsetgroup\": \"\", \"showlegend\": false, \"type\": \"box\", \"x\": [2199.0, 973.51, 799.0, null, null, 652.0, null, 540.73, 391.93, 1534.0, 1999.0, null, 2150.0, 5700.0, 1199.7, 1279.76, 1169.14, 760.0, 713.26, 1799.0, null, 1295.0, null, null, 2650.0, 1384.0, null, null, null, 1550.0, null, null, null, null, null, null, 901.0, 614.24, 418.11, null, null, null, 271.04, 3050.0, 1515.0, 1164.84, null, null, 1565.03, 361.15, null, 2300.0, 1998.0, 2490.0, 2490.0, null, 1724.85, null, 715.0, 1760.0, 3825.0, 4950.0, null, 1399.0, null, null, null, 1298.0, 4300.0, 1300.0, 1645.83, 1115.0, 2100.0, null, null, null, null, 1490.0, 3000.0, null, null, 880.0, null, 1810.0, null, null, null, 1990.0, 1682.0, null, 1690.0, null, 1790.0, null, 2650.0, 3390.0, 1490.0, null, 602.07, null, null, null, 2873.56, null, null, null, null, null, null, 1750.0, null, 2300.0, 3320.0, null, 1053.0, 1049.0, 875.0, null, 1450.0, null, 1761.17, 1670.0, 1266.6, 1444.64, 1390.0, 1000.0, null, 671.0, null, 947.0, null, null, 1937.0, null, 950.24, 1100.25, null, 2750.0, 1171.97, null, null, 1215.0, 799.0, 1500.0, null, null, 1397.93, null, 3239.46, 1199.0, 1300.0, null, null, null, 1290.0, null, 1090.0, 620.0, 1970.0, null, 1600.0, 759.0, 321.87, null, 579.0, 579.0, 579.0, 901.0, null, null, 529.0, 735.0, 579.0, 1929.0, 433.03, 1194.0, null, null, null, 313.71, 1336.02, 2200.0, null, 1210.0, 1103.3, null, 2500.0, null, null, null, 849.93, null, null, null, 1277.0, 758.0, null, 950.0, 980.0, 1650.0, 1460.0, 1162.08, null, null, null, null, 317.42, null, null, 1142.87, 1560.0, null, 1195.04, null, 1375.0, 1912.54, 1390.0, 1350.0, 1290.0, 1450.0, null, 1450.0, 1350.0, 2113.86, 1450.0, 1168.77, 1150.0, null, 461.29, null, 743.16, 1980.0, 670.23, 607.53, 441.38, null, 1912.54, null, null, 285.74, 2350.0, null, 1336.02, 1602.13, 3950.0, 9500.0, 1199.0, 1553.85, 876.81, 1495.62, 2184.0, 2058.0, 1994.1, 900.0, 599.0, null, 1672.28, null, null, 1500.0, 1120.0, 1716.0, null, null, 605.68, null, 824.0, null, 4000.0, 2100.0, 529.0, 1798.0, 1399.0, 749.0, 445.63, 729.0, null, 1365.0, 272.95, null, 284.39, null, 190.74, 518.0, 1940.0, null, 1960.75, 1872.6, 1346.0, 2200.0, null, null, null, null, null, null, null, 971.0, null, null, null, 805.31, 1521.52, 575.92, null, 1843.16, 3008.15, 1910.0, null, 2485.0, null, null, null, 437.9, 2950.0, null, 1250.0, 2298.0, 419.74, null, null, null, 450.16, 2550.0, 700.38, null, null, 1785.0, 4367.52, 545.3, 1450.0, 1450.0, null, 1320.0, 1390.0, 638.0, null, null, null, 1710.0, null, null, null, 780.0, null, null, 950.0, null, null, null, null, null, null, null, null, 1900.0, null, null, null, null, null, null, 1980.0, 1890.0, null, null, null, null, null, 1632.0, null, null, 1400.0, null, null, null, null, 550.0, null, null, null, null, null, null, null, null, 2050.0, null, null, null, 445.0, 670.0, null, 1199.0, 1422.54, 1807.0, null, null, null, null, null, 2480.0, null, 1250.0, 1395.0, 1699.0, 1911.42, null, 1400.0, 1400.0, null, 1400.0, null, 1732.2, null, null, 1400.0, null, null, null, 1639.0, 750.0, 1057.41, 762.15, 841.19, 699.0, null, 568.48, null, 799.0, null, 1392.0, 975.75, 1392.0, 964.98, null, 1200.2, null, 2050.0, 2077.0, 1333.0, 1491.8, 2077.0, 1550.0, null, null, 3500.0, null, 1212.6, null, 1150.0, 800.0, 680.0, 1448.1, null, null, null, null, 695.0, null, null, null, 2190.0, null, 2225.0, 1477.4, 3111.0, 2315.0, null, 3264.0, null, null, 1986.17, 699.0, 1222.0, 815.0, null, null, null, null, null, null, null, null, 750.0, 585.0, 1550.0, null, null, 1490.0, 358.2, 1300.0, null, null, null, 1999.0, 753.1, 658.0, 1842.43, 799.0, null, null, 1599.0, null, 1126.3, 1614.89, 1925.0, 1466.0, 1578.66, 1280.0, null, null, null, 562.8, 979.0, 749.0, null, 565.16, 1800.0, null, null, null, null, null, null, null, 1835.4, 1281.99, null, 798.09, null, null, 2128.88, 2199.0, null, null, 2794.08, null, 985.0, 1478.7, 427.7, null, null, 1123.44, null, 1399.0, null, 1676.91, null, null, null, 1567.17, null, 1899.0, 1865.21, 1184.0, null, null, 736.49, null, 3200.0, 1218.61, 2250.0, 1300.66, null, null, 1458.42, 1044.35, null, 4000.0, 1368.0, 1033.35, 1339.0, null, 2131.1, 1711.35, null, 1775.0, 1577.34, 1158.84, 1599.0, 1133.65, null, null, 1157.11, null, 443.0, null, 1096.94, null, 5540.64, 5540.64, 4416.4, 1550.0, 4416.4, null, 4416.4, null, null, null, 1666.68, 1800.0, null, null, null, null, 1766.18, 284.62, null, 1773.65, 1771.67, 1148.37, null, 1750.81, null, 1450.0, null, 1718.24, null, 1130.56, 1730.2, 1740.61, 2149.92, 1900.0, null, 1583.5, 1854.81, 2204.19, 1397.4, null, 1528.55, 1513.86, null, 3821.4, 1543.56, 2487.88, 2700.0, 1309.66, 1614.62, 1700.0, 1529.85, 2780.0, null, null, null, 1605.82, 4400.0, 1621.76, 2091.94, 2131.92, 2154.24, 1950.0, null, 5100.0, 1543.19, 2274.98, null, null, 1813.37, 2593.4, 1854.81, null, 1593.93, 2720.0, 1601.71, 525.0, 1880.75, 1528.55, 1841.94, 2204.19, 1677.36, 2275.82, 2259.45, 1047.23, 1820.0, null, 1576.88, 2135.49, null, 2487.88, 1020.0, null, null, 1446.0, 1529.44, null, 1349.0, null, 2149.92, 1771.45, null, 1194.0, 1099.0, 1303.65, null, 1503.07, null, 1299.0, 2162.91, null, null, 1952.44, 2379.41, 1600.0, 1248.0, 1873.01, null, 1872.39, 1513.86, 819.0, null, 850.0, 1198.0, null, 2200.0, null, 1104.5, null, 1330.0, null, null, null, 2491.0, null, 1131.0, 1154.5, null, 2077.0, null, null, 545.0, null, 1299.0, 1960.0, 1899.0, null, null, null, null, null, null, null, 1079.0, null, null, null, null, null, null, 1514.0, 593.23, null, null, null, 1901.5, 514.0, null, null, null, null, null, null, null, null], \"xaxis\": \"x2\", \"yaxis\": \"y2\"}],\n",
              "                        {\"barmode\": \"relative\", \"legend\": {\"tracegroupgap\": 0}, \"margin\": {\"t\": 60}, \"template\": {\"data\": {\"bar\": [{\"error_x\": {\"color\": \"#2a3f5f\"}, \"error_y\": {\"color\": \"#2a3f5f\"}, \"marker\": {\"line\": {\"color\": \"#E5ECF6\", \"width\": 0.5}}, \"type\": \"bar\"}], \"barpolar\": [{\"marker\": {\"line\": {\"color\": \"#E5ECF6\", \"width\": 0.5}}, \"type\": \"barpolar\"}], \"carpet\": [{\"aaxis\": {\"endlinecolor\": \"#2a3f5f\", \"gridcolor\": \"white\", \"linecolor\": \"white\", \"minorgridcolor\": \"white\", \"startlinecolor\": \"#2a3f5f\"}, \"baxis\": {\"endlinecolor\": \"#2a3f5f\", \"gridcolor\": \"white\", \"linecolor\": \"white\", \"minorgridcolor\": \"white\", \"startlinecolor\": \"#2a3f5f\"}, \"type\": \"carpet\"}], \"choropleth\": [{\"colorbar\": {\"outlinewidth\": 0, \"ticks\": \"\"}, \"type\": \"choropleth\"}], \"contour\": [{\"colorbar\": {\"outlinewidth\": 0, \"ticks\": \"\"}, \"colorscale\": [[0.0, \"#0d0887\"], [0.1111111111111111, \"#46039f\"], [0.2222222222222222, \"#7201a8\"], [0.3333333333333333, \"#9c179e\"], [0.4444444444444444, \"#bd3786\"], [0.5555555555555556, \"#d8576b\"], [0.6666666666666666, \"#ed7953\"], [0.7777777777777778, \"#fb9f3a\"], [0.8888888888888888, \"#fdca26\"], [1.0, \"#f0f921\"]], \"type\": \"contour\"}], \"contourcarpet\": [{\"colorbar\": {\"outlinewidth\": 0, \"ticks\": \"\"}, \"type\": \"contourcarpet\"}], \"heatmap\": [{\"colorbar\": {\"outlinewidth\": 0, \"ticks\": \"\"}, \"colorscale\": [[0.0, \"#0d0887\"], [0.1111111111111111, \"#46039f\"], [0.2222222222222222, \"#7201a8\"], [0.3333333333333333, \"#9c179e\"], [0.4444444444444444, \"#bd3786\"], [0.5555555555555556, \"#d8576b\"], [0.6666666666666666, \"#ed7953\"], [0.7777777777777778, \"#fb9f3a\"], [0.8888888888888888, \"#fdca26\"], [1.0, \"#f0f921\"]], \"type\": \"heatmap\"}], \"heatmapgl\": [{\"colorbar\": {\"outlinewidth\": 0, \"ticks\": \"\"}, \"colorscale\": [[0.0, \"#0d0887\"], [0.1111111111111111, \"#46039f\"], [0.2222222222222222, \"#7201a8\"], [0.3333333333333333, \"#9c179e\"], [0.4444444444444444, \"#bd3786\"], [0.5555555555555556, \"#d8576b\"], [0.6666666666666666, \"#ed7953\"], [0.7777777777777778, \"#fb9f3a\"], [0.8888888888888888, \"#fdca26\"], [1.0, \"#f0f921\"]], \"type\": \"heatmapgl\"}], \"histogram\": [{\"marker\": {\"colorbar\": {\"outlinewidth\": 0, \"ticks\": \"\"}}, \"type\": \"histogram\"}], \"histogram2d\": [{\"colorbar\": {\"outlinewidth\": 0, \"ticks\": \"\"}, \"colorscale\": [[0.0, \"#0d0887\"], [0.1111111111111111, \"#46039f\"], [0.2222222222222222, \"#7201a8\"], [0.3333333333333333, \"#9c179e\"], [0.4444444444444444, \"#bd3786\"], [0.5555555555555556, \"#d8576b\"], [0.6666666666666666, \"#ed7953\"], [0.7777777777777778, \"#fb9f3a\"], [0.8888888888888888, \"#fdca26\"], [1.0, \"#f0f921\"]], \"type\": \"histogram2d\"}], \"histogram2dcontour\": [{\"colorbar\": {\"outlinewidth\": 0, \"ticks\": \"\"}, \"colorscale\": [[0.0, \"#0d0887\"], [0.1111111111111111, \"#46039f\"], [0.2222222222222222, \"#7201a8\"], [0.3333333333333333, \"#9c179e\"], [0.4444444444444444, \"#bd3786\"], [0.5555555555555556, \"#d8576b\"], [0.6666666666666666, \"#ed7953\"], [0.7777777777777778, \"#fb9f3a\"], [0.8888888888888888, \"#fdca26\"], [1.0, \"#f0f921\"]], \"type\": \"histogram2dcontour\"}], \"mesh3d\": [{\"colorbar\": {\"outlinewidth\": 0, \"ticks\": \"\"}, \"type\": \"mesh3d\"}], \"parcoords\": [{\"line\": {\"colorbar\": {\"outlinewidth\": 0, \"ticks\": \"\"}}, \"type\": \"parcoords\"}], \"pie\": [{\"automargin\": true, \"type\": \"pie\"}], \"scatter\": [{\"marker\": {\"colorbar\": {\"outlinewidth\": 0, \"ticks\": \"\"}}, \"type\": \"scatter\"}], \"scatter3d\": [{\"line\": {\"colorbar\": {\"outlinewidth\": 0, \"ticks\": \"\"}}, \"marker\": {\"colorbar\": {\"outlinewidth\": 0, \"ticks\": \"\"}}, \"type\": \"scatter3d\"}], \"scattercarpet\": [{\"marker\": {\"colorbar\": {\"outlinewidth\": 0, \"ticks\": \"\"}}, \"type\": \"scattercarpet\"}], \"scattergeo\": [{\"marker\": {\"colorbar\": {\"outlinewidth\": 0, \"ticks\": \"\"}}, \"type\": \"scattergeo\"}], \"scattergl\": [{\"marker\": {\"colorbar\": {\"outlinewidth\": 0, \"ticks\": \"\"}}, \"type\": \"scattergl\"}], \"scattermapbox\": [{\"marker\": {\"colorbar\": {\"outlinewidth\": 0, \"ticks\": \"\"}}, \"type\": \"scattermapbox\"}], \"scatterpolar\": [{\"marker\": {\"colorbar\": {\"outlinewidth\": 0, \"ticks\": \"\"}}, \"type\": \"scatterpolar\"}], \"scatterpolargl\": [{\"marker\": {\"colorbar\": {\"outlinewidth\": 0, \"ticks\": \"\"}}, \"type\": \"scatterpolargl\"}], \"scatterternary\": [{\"marker\": {\"colorbar\": {\"outlinewidth\": 0, \"ticks\": \"\"}}, \"type\": \"scatterternary\"}], \"surface\": [{\"colorbar\": {\"outlinewidth\": 0, \"ticks\": \"\"}, \"colorscale\": [[0.0, \"#0d0887\"], [0.1111111111111111, \"#46039f\"], [0.2222222222222222, \"#7201a8\"], [0.3333333333333333, \"#9c179e\"], [0.4444444444444444, \"#bd3786\"], [0.5555555555555556, \"#d8576b\"], [0.6666666666666666, \"#ed7953\"], [0.7777777777777778, \"#fb9f3a\"], [0.8888888888888888, \"#fdca26\"], [1.0, \"#f0f921\"]], \"type\": \"surface\"}], \"table\": [{\"cells\": {\"fill\": {\"color\": \"#EBF0F8\"}, \"line\": {\"color\": \"white\"}}, \"header\": {\"fill\": {\"color\": \"#C8D4E3\"}, \"line\": {\"color\": \"white\"}}, \"type\": \"table\"}]}, \"layout\": {\"annotationdefaults\": {\"arrowcolor\": \"#2a3f5f\", \"arrowhead\": 0, \"arrowwidth\": 1}, \"coloraxis\": {\"colorbar\": {\"outlinewidth\": 0, \"ticks\": \"\"}}, \"colorscale\": {\"diverging\": [[0, \"#8e0152\"], [0.1, \"#c51b7d\"], [0.2, \"#de77ae\"], [0.3, \"#f1b6da\"], [0.4, \"#fde0ef\"], [0.5, \"#f7f7f7\"], [0.6, \"#e6f5d0\"], [0.7, \"#b8e186\"], [0.8, \"#7fbc41\"], [0.9, \"#4d9221\"], [1, \"#276419\"]], \"sequential\": [[0.0, \"#0d0887\"], [0.1111111111111111, \"#46039f\"], [0.2222222222222222, \"#7201a8\"], [0.3333333333333333, \"#9c179e\"], [0.4444444444444444, \"#bd3786\"], [0.5555555555555556, \"#d8576b\"], [0.6666666666666666, \"#ed7953\"], [0.7777777777777778, \"#fb9f3a\"], [0.8888888888888888, \"#fdca26\"], [1.0, \"#f0f921\"]], \"sequentialminus\": [[0.0, \"#0d0887\"], [0.1111111111111111, \"#46039f\"], [0.2222222222222222, \"#7201a8\"], [0.3333333333333333, \"#9c179e\"], [0.4444444444444444, \"#bd3786\"], [0.5555555555555556, \"#d8576b\"], [0.6666666666666666, \"#ed7953\"], [0.7777777777777778, \"#fb9f3a\"], [0.8888888888888888, \"#fdca26\"], [1.0, \"#f0f921\"]]}, \"colorway\": [\"#636efa\", \"#EF553B\", \"#00cc96\", \"#ab63fa\", \"#FFA15A\", \"#19d3f3\", \"#FF6692\", \"#B6E880\", \"#FF97FF\", \"#FECB52\"], \"font\": {\"color\": \"#2a3f5f\"}, \"geo\": {\"bgcolor\": \"white\", \"lakecolor\": \"white\", \"landcolor\": \"#E5ECF6\", \"showlakes\": true, \"showland\": true, \"subunitcolor\": \"white\"}, \"hoverlabel\": {\"align\": \"left\"}, \"hovermode\": \"closest\", \"mapbox\": {\"style\": \"light\"}, \"paper_bgcolor\": \"white\", \"plot_bgcolor\": \"#E5ECF6\", \"polar\": {\"angularaxis\": {\"gridcolor\": \"white\", \"linecolor\": \"white\", \"ticks\": \"\"}, \"bgcolor\": \"#E5ECF6\", \"radialaxis\": {\"gridcolor\": \"white\", \"linecolor\": \"white\", \"ticks\": \"\"}}, \"scene\": {\"xaxis\": {\"backgroundcolor\": \"#E5ECF6\", \"gridcolor\": \"white\", \"gridwidth\": 2, \"linecolor\": \"white\", \"showbackground\": true, \"ticks\": \"\", \"zerolinecolor\": \"white\"}, \"yaxis\": {\"backgroundcolor\": \"#E5ECF6\", \"gridcolor\": \"white\", \"gridwidth\": 2, \"linecolor\": \"white\", \"showbackground\": true, \"ticks\": \"\", \"zerolinecolor\": \"white\"}, \"zaxis\": {\"backgroundcolor\": \"#E5ECF6\", \"gridcolor\": \"white\", \"gridwidth\": 2, \"linecolor\": \"white\", \"showbackground\": true, \"ticks\": \"\", \"zerolinecolor\": \"white\"}}, \"shapedefaults\": {\"line\": {\"color\": \"#2a3f5f\"}}, \"ternary\": {\"aaxis\": {\"gridcolor\": \"white\", \"linecolor\": \"white\", \"ticks\": \"\"}, \"baxis\": {\"gridcolor\": \"white\", \"linecolor\": \"white\", \"ticks\": \"\"}, \"bgcolor\": \"#E5ECF6\", \"caxis\": {\"gridcolor\": \"white\", \"linecolor\": \"white\", \"ticks\": \"\"}}, \"title\": {\"x\": 0.05}, \"xaxis\": {\"automargin\": true, \"gridcolor\": \"white\", \"linecolor\": \"white\", \"ticks\": \"\", \"title\": {\"standoff\": 15}, \"zerolinecolor\": \"white\", \"zerolinewidth\": 2}, \"yaxis\": {\"automargin\": true, \"gridcolor\": \"white\", \"linecolor\": \"white\", \"ticks\": \"\", \"title\": {\"standoff\": 15}, \"zerolinecolor\": \"white\", \"zerolinewidth\": 2}}}, \"xaxis\": {\"anchor\": \"y\", \"domain\": [0.0, 1.0], \"title\": {\"text\": \"cold_rent\"}}, \"xaxis2\": {\"anchor\": \"y2\", \"domain\": [0.0, 1.0], \"matches\": \"x\", \"showgrid\": true, \"showticklabels\": false}, \"yaxis\": {\"anchor\": \"x\", \"domain\": [0.0, 0.8316], \"title\": {\"text\": \"count\"}}, \"yaxis2\": {\"anchor\": \"x2\", \"domain\": [0.8416, 1.0], \"matches\": \"y2\", \"showgrid\": false, \"showline\": false, \"showticklabels\": false, \"ticks\": \"\"}},\n",
              "                        {\"responsive\": true}\n",
              "                    ).then(function(){\n",
              "                            \n",
              "var gd = document.getElementById('5179b04a-938c-4386-a9ec-f1b6f8bd872a');\n",
              "var x = new MutationObserver(function (mutations, observer) {{\n",
              "        var display = window.getComputedStyle(gd).display;\n",
              "        if (!display || display === 'none') {{\n",
              "            console.log([gd, 'removed!']);\n",
              "            Plotly.purge(gd);\n",
              "            observer.disconnect();\n",
              "        }}\n",
              "}});\n",
              "\n",
              "// Listen for the removal of the full notebook cells\n",
              "var notebookContainer = gd.closest('#notebook-container');\n",
              "if (notebookContainer) {{\n",
              "    x.observe(notebookContainer, {childList: true});\n",
              "}}\n",
              "\n",
              "// Listen for the clearing of the current output cell\n",
              "var outputEl = gd.closest('.output');\n",
              "if (outputEl) {{\n",
              "    x.observe(outputEl, {childList: true});\n",
              "}}\n",
              "\n",
              "                        })\n",
              "                };\n",
              "                \n",
              "            </script>\n",
              "        </div>\n",
              "</body>\n",
              "</html>"
            ]
          },
          "metadata": {}
        }
      ]
    },
    {
      "cell_type": "code",
      "metadata": {
        "id": "fJOTBKQBbJAW"
      },
      "source": [
        "def get_cold_rent(row):\n",
        "    if not pd.isna(row['cold_rent']): \n",
        "        return row['cold_rent']\n",
        "    else:\n",
        "        return row['rent'] * warm_cold_rent_ratio"
      ],
      "execution_count": 149,
      "outputs": []
    },
    {
      "cell_type": "code",
      "metadata": {
        "id": "fMkIdrXKbJAY"
      },
      "source": [
        "df['cold_rent'] = df.apply(get_cold_rent, axis=1)"
      ],
      "execution_count": 150,
      "outputs": []
    },
    {
      "cell_type": "code",
      "metadata": {
        "id": "T1aZVcz6bJAd",
        "colab": {
          "base_uri": "https://localhost:8080/",
          "height": 542
        },
        "outputId": "efa32a78-8b0a-444d-c500-639629fe9ae1"
      },
      "source": [
        "px.histogram(df, x='cold_rent', marginal='box')"
      ],
      "execution_count": 151,
      "outputs": [
        {
          "output_type": "display_data",
          "data": {
            "text/html": [
              "<html>\n",
              "<head><meta charset=\"utf-8\" /></head>\n",
              "<body>\n",
              "    <div>\n",
              "            <script src=\"https://cdnjs.cloudflare.com/ajax/libs/mathjax/2.7.5/MathJax.js?config=TeX-AMS-MML_SVG\"></script><script type=\"text/javascript\">if (window.MathJax) {MathJax.Hub.Config({SVG: {font: \"STIX-Web\"}});}</script>\n",
              "                <script type=\"text/javascript\">window.PlotlyConfig = {MathJaxConfig: 'local'};</script>\n",
              "        <script src=\"https://cdn.plot.ly/plotly-latest.min.js\"></script>    \n",
              "            <div id=\"ede954d6-75b5-4cf4-9cbe-3b5ec4ac64e9\" class=\"plotly-graph-div\" style=\"height:525px; width:100%;\"></div>\n",
              "            <script type=\"text/javascript\">\n",
              "                \n",
              "                    window.PLOTLYENV=window.PLOTLYENV || {};\n",
              "                    \n",
              "                if (document.getElementById(\"ede954d6-75b5-4cf4-9cbe-3b5ec4ac64e9\")) {\n",
              "                    Plotly.newPlot(\n",
              "                        'ede954d6-75b5-4cf4-9cbe-3b5ec4ac64e9',\n",
              "                        [{\"alignmentgroup\": \"True\", \"bingroup\": \"x\", \"hoverlabel\": {\"namelength\": 0}, \"hovertemplate\": \"cold_rent=%{x}<br>count=%{y}\", \"legendgroup\": \"\", \"marker\": {\"color\": \"#636efa\"}, \"name\": \"\", \"offsetgroup\": \"\", \"orientation\": \"v\", \"showlegend\": false, \"type\": \"histogram\", \"x\": [2199.0, 973.51, 799.0, 911.5442163525494, 1131.5735045803194, 652.0, 751.7841665883641, 540.73, 391.93, 1534.0, 1999.0, 1159.464400819975, 2150.0, 5700.0, 1199.7, 1279.76, 1169.14, 760.0, 713.26, 1799.0, 910.9365932558997, 1295.0, 911.9326966930303, 527.9348216791983, 2650.0, 1384.0, 356.1069787741762, 616.5033587916622, 1140.5384355144945, 1550.0, 1155.4799870714528, 1110.6553324005774, 1073.3014535081813, 1325.2658179303573, 711.1282048018801, 1578.823947851942, 901.0, 614.24, 418.11, 667.3893028774771, 1211.7598312693297, 1631.1193783012966, 271.04, 3050.0, 1515.0, 1164.84, 384.49592673239727, 239.0000781879216, 1565.03, 361.15, 420.8537021876628, 2300.0, 1998.0, 2490.0, 2490.0, 486.0984773197147, 1724.85, 477.63159810410485, 715.0, 1760.0, 3825.0, 4950.0, 522.4562527749802, 1399.0, 816.8048184470615, 746.0814744107915, 442.7679778045352, 1298.0, 4300.0, 1300.0, 1645.83, 1115.0, 2100.0, 779.4509395546654, 771.9801637761861, 709.5991860258847, 2191.4275616872383, 1490.0, 3000.0, 592.422558199031, 781.9411981474918, 880.0, 1334.7786057549542, 1810.0, 224.12327335437664, 757.0386122192277, 510.50301152941347, 1990.0, 1682.0, 801.8632668901031, 1690.0, 395.45306454083345, 1790.0, 1607.8354604583697, 2650.0, 3390.0, 1490.0, 190.9829120010428, 602.07, 448.24654670875327, 1859.0477667855118, 2135.6457692079266, 2873.56, 2241.2327335437662, 1114.5301747710155, 996.1034371305628, 1674.6540790210877, 1824.9860097528324, 1035.9475746157852, 1750.0, 871.5905074892424, 2300.0, 3320.0, 1155.4799870714528, 1053.0, 1049.0, 875.0, 2228.7814405796344, 1450.0, 2953.4466910921187, 1761.17, 1670.0, 1266.6, 1444.64, 1390.0, 1000.0, 657.4282685061714, 671.0, 724.6652505124845, 947.0, 804.6374149625117, 737.1165434766165, 1937.0, 1272.522140934294, 950.24, 1100.25, 813.3184564171046, 2750.0, 1171.97, 647.4672341348659, 647.4672341348659, 1215.0, 799.0, 1500.0, 647.4672341348659, 493.0712013796286, 1397.93, 647.4672341348659, 3239.46, 1199.0, 1300.0, 937.9658600224375, 219.61092478417518, 493.0712013796286, 1290.0, 1789.5844935972123, 1090.0, 620.0, 1970.0, 833.7136742923528, 1600.0, 759.0, 321.87, 690.5138441704631, 579.0, 579.0, 579.0, 901.0, 946.7963169925999, 247.09839913179306, 529.0, 735.0, 579.0, 1929.0, 433.03, 1194.0, 1493.657103977279, 135.09652866083258, 228.5609141667933, 313.71, 1336.02, 2200.0, 334.1229759167047, 1210.0, 1103.3, 829.2561114111935, 2500.0, 555.825717918854, 848.1820767166743, 1085.7527464723134, 849.93, 1180.7361897198982, 819.2950770398879, 385.2928094821017, 1277.0, 758.0, 1524.0382588097611, 950.0, 980.0, 1650.0, 1460.0, 1162.08, 367.3081619247094, 761.1475388973913, 351.1563446916373, 301.71973110684746, 317.42, 697.2325618539088, 697.2325618539088, 1142.87, 1560.0, 203.59358151511572, 1195.04, 842.2054560938909, 1375.0, 1912.54, 1390.0, 1350.0, 1290.0, 1450.0, 2088.146576808356, 1450.0, 1350.0, 2113.86, 1450.0, 1168.77, 1150.0, 1329.7980885693014, 461.29, 963.8147442159757, 743.16, 1980.0, 670.23, 607.53, 441.38, 1284.973433898426, 1912.54, 888.4694802314199, 336.0852996878519, 285.74, 2350.0, 188.3332768582755, 1336.02, 1602.13, 3950.0, 9500.0, 1199.0, 1553.85, 876.81, 1495.62, 2184.0, 2058.0, 1994.1, 900.0, 599.0, 626.549061955124, 1672.28, 1120.6163667718831, 332.8977686890341, 1500.0, 1120.0, 1716.0, 672.3698200631299, 747.0775778479222, 605.68, 326.7717325506811, 824.0, 243.58215399872216, 4000.0, 2100.0, 529.0, 1798.0, 1399.0, 749.0, 445.63, 729.0, 896.4930934175065, 1365.0, 272.95, 1492.6610005401483, 284.39, 3414.3835955899153, 190.74, 518.0, 1940.0, 2154.417338480652, 1960.75, 1872.6, 1346.0, 2200.0, 1134.51699023704, 420.8537021876628, 383.99787501383196, 782.6583926222258, 338.67516862439135, 399.935530007921, 394.95501282226815, 971.0, 1155.4799870714528, 648.0300325768446, 363.57775455265545, 805.31, 1521.52, 575.92, 588.348495141167, 1843.16, 3008.15, 1910.0, 762.0191294048806, 2485.0, 747.0775778479222, 742.0970606622693, 518.2277936843609, 437.9, 2950.0, 588.348495141167, 1250.0, 2298.0, 419.74, 776.3630188995606, 792.0765506202953, 1075.3932707261556, 450.16, 2550.0, 700.38, 744.4080206364123, 904.9599726331163, 1785.0, 4367.52, 545.3, 1450.0, 1450.0, 1197.8143831495017, 1320.0, 1390.0, 638.0, 647.4672341348659, 437.14497390193316, 918.9054207529442, 1710.0, 717.1944747340052, 1237.6585206347243, 597.6620622783377, 780.0, 1683.4148087506512, 1244.133192976073, 950.0, 525.658725325355, 856.648955932284, 986.1424027592572, 1182.8728315925434, 481.8152325400532, 889.0223176390273, 1212.7559347064603, 672.3698200631299, 1900.0, 642.486716949213, 676.8522855302174, 846.6879215609785, 566.1453495275267, 747.0775778479222, 622.5646482066018, 1980.0, 1890.0, 517.9737873078926, 485.60042560114937, 995.8394697197232, 742.0970606622693, 597.6620622783377, 1632.0, 255.46566800368976, 622.5646482066018, 1400.0, 1394.0467602642227, 577.7399935357264, 473.1491326370173, 823.971782677216, 550.0, 495.0434861851471, 2428.0021280057467, 711.5366072111037, 490.282111755663, 455.652575763819, 386.7222179143841, 441.2987252347676, 473.1491326370173, 2050.0, 189.23475046887867, 333.19659972017325, 697.272405991394, 445.0, 670.0, 460.4189307104888, 1199.0, 1422.54, 1807.0, 362.0835993969596, 212.66808382737517, 630.6729301848445, 236.57456631850866, 846.6879215609785, 2480.0, 723.5695367316408, 1250.0, 1395.0, 1699.0, 1911.42, 467.172512014234, 1400.0, 1400.0, 1402.0155877612672, 1400.0, 578.2380452542917, 1732.2, 280.85634461614785, 320.1327031422059, 1400.0, 209.22654645208905, 402.65489239128743, 308.79206551047446, 1639.0, 750.0, 1057.41, 762.15, 841.19, 699.0, 682.3308544344355, 568.48, 354.6128236184804, 799.0, 620.5724413323406, 1392.0, 975.75, 1392.0, 964.98, 341.16542721721777, 1200.2, 762.0191294048806, 2050.0, 2077.0, 1333.0, 1491.8, 2077.0, 1550.0, 814.3145598542351, 382.50371985813615, 3500.0, 291.3602553606896, 1212.6, 1145.5189527001473, 1150.0, 800.0, 680.0, 1448.1, 1155.4799870714528, 512.9932701222399, 322.2643644976653, 1539.1790310541458, 695.0, 348.2875667927013, 421.35175390622805, 560.2733197656421, 2190.0, 1440.4900830204351, 2225.0, 1477.4, 3111.0, 2315.0, 665.6012972078278, 3264.0, 923.8759769042257, 283.8894795822104, 1986.17, 699.0, 1222.0, 815.0, 697.272405991394, 410.8926678163572, 746.5795261293569, 1030.9670574301326, 436.2933054631865, 1155.4799870714528, 846.6879215609785, 326.97095323810726, 750.0, 585.0, 1550.0, 747.0775778479222, 826.7658528183672, 1490.0, 358.2, 1300.0, 1493.657103977279, 333.7095929902955, 428.324477966142, 1999.0, 753.1, 658.0, 1842.43, 799.0, 585.5693665515727, 597.6620622783377, 1599.0, 672.1606383413324, 1126.3, 1614.89, 1925.0, 1466.0, 1578.66, 1280.0, 881.5515418605481, 668.8834580331729, 373.5387889239611, 562.8, 979.0, 749.0, 490.33191692751956, 565.16, 1800.0, 1080.7722292866606, 495.561459972455, 622.5646482066018, 495.561459972455, 458.9994833125777, 615.9505213840548, 542.8763732361567, 1835.4, 1281.99, 412.8848746906183, 798.09, 744.0892675365304, 412.8848746906183, 2128.88, 2199.0, 588.6971313441626, 672.3698200631299, 2794.08, 578.0139219809373, 985.0, 1478.7, 427.7, 851.3347440951925, 764.6588035132766, 1123.44, 259.5297700271825, 1399.0, 636.1166354687631, 1676.91, 1317.795042151878, 1310.0702599969304, 405.1152678809999, 1567.17, 478.12964982267016, 1899.0, 1865.21, 1184.0, 1344.7396401262597, 816.5657536221502, 736.49, 741.599008943704, 3200.0, 1218.61, 2250.0, 1300.66, 1427.1622190316282, 1003.1807520513755, 1458.42, 1044.35, 1135.5579183288417, 4000.0, 1368.0, 1033.35, 1339.0, 821.7853356327144, 2131.1, 1711.35, 545.3666318289831, 1775.0, 1577.34, 1158.84, 1599.0, 1133.65, 579.2341486914223, 1282.4831753055996, 1157.11, 1208.771520957938, 443.0, 1272.522140934294, 1096.94, 761.5210776863153, 5540.64, 5540.64, 4416.4, 1550.0, 4416.4, 1319.8370541979957, 4416.4, 1065.173249461196, 592.2283180287905, 462.8593841314586, 1666.68, 1800.0, 559.8101316673763, 446.4834436250322, 1012.5889490150736, 513.4913218408051, 1766.18, 284.62, 896.4930934175065, 1773.65, 1771.67, 1148.37, 1076.7878155381384, 1750.81, 657.7918462607241, 1450.0, 711.7657110016436, 1718.24, 432.33877481777813, 1130.56, 1730.2, 1740.61, 2149.92, 1900.0, 702.2529231770468, 1583.5, 1854.81, 2204.19, 1397.4, 702.2529231770468, 1528.55, 1513.86, 1135.5579183288417, 3821.4, 1543.56, 2487.88, 2700.0, 1309.66, 1614.62, 1700.0, 1529.85, 2780.0, 856.648955932284, 1083.262487879487, 721.7964726135484, 1605.82, 4400.0, 1621.76, 2091.94, 2131.92, 2154.24, 1950.0, 1137.5401641687315, 5100.0, 1543.19, 2274.98, 462.69004654714644, 945.2772592509758, 1813.37, 2593.4, 1854.81, 874.0807660820689, 1593.93, 2720.0, 1601.71, 525.0, 1880.75, 1528.55, 1841.94, 2204.19, 1677.36, 2275.82, 2259.45, 1047.23, 1820.0, 2926.7262163910914, 1576.88, 2135.49, 1138.5462286402333, 2487.88, 1020.0, 1048.3988675799174, 961.8673619963854, 1446.0, 1529.44, 1309.87601982669, 1349.0, 1245.1292964132035, 2149.92, 1771.45, 780.6412831620365, 1194.0, 1099.0, 1303.65, 7075.820765656953, 1503.07, 529.4289768348941, 1299.0, 2162.91, 845.1937664052825, 1125.825987748076, 1952.44, 2379.41, 1600.0, 1248.0, 1873.01, 1272.522140934294, 1872.39, 1513.86, 819.0, 644.4789238234741, 850.0, 1198.0, 654.5146659525647, 2200.0, 447.74849499018796, 1104.5, 1846.1930519293421, 1330.0, 328.7141342530857, 455.21927076866723, 1272.8159914482476, 2491.0, 893.0067313875496, 1131.0, 1154.5, 724.5357570656574, 2077.0, 981.1618855736044, 1400.2126405400609, 545.0, 759.0308190934888, 1299.0, 1960.0, 1899.0, 672.3698200631299, 1743.1810149784849, 419.85759875053225, 676.085285883627, 501.5380805952384, 303.8115483248217, 1954.8529953687296, 1079.0, 309.788168947605, 680.3386475601744, 388.4803404809195, 369.05632345687354, 383.99787501383196, 2012.1289430037368, 1514.0, 593.23, 383.4998232952667, 1085.7527464723134, 358.5972373670026, 1901.5, 514.0, 384.49592673239727, 981.1618855736044, 345.14984096574, 477.63159810410485, 323.2355653488676, 1369.642226054524, 627.0471136736893, 442.26992608596987], \"xaxis\": \"x\", \"yaxis\": \"y\"}, {\"alignmentgroup\": \"True\", \"hoverlabel\": {\"namelength\": 0}, \"hovertemplate\": \"cold_rent=%{x}\", \"legendgroup\": \"\", \"marker\": {\"color\": \"#636efa\"}, \"name\": \"\", \"notched\": true, \"offsetgroup\": \"\", \"showlegend\": false, \"type\": \"box\", \"x\": [2199.0, 973.51, 799.0, 911.5442163525494, 1131.5735045803194, 652.0, 751.7841665883641, 540.73, 391.93, 1534.0, 1999.0, 1159.464400819975, 2150.0, 5700.0, 1199.7, 1279.76, 1169.14, 760.0, 713.26, 1799.0, 910.9365932558997, 1295.0, 911.9326966930303, 527.9348216791983, 2650.0, 1384.0, 356.1069787741762, 616.5033587916622, 1140.5384355144945, 1550.0, 1155.4799870714528, 1110.6553324005774, 1073.3014535081813, 1325.2658179303573, 711.1282048018801, 1578.823947851942, 901.0, 614.24, 418.11, 667.3893028774771, 1211.7598312693297, 1631.1193783012966, 271.04, 3050.0, 1515.0, 1164.84, 384.49592673239727, 239.0000781879216, 1565.03, 361.15, 420.8537021876628, 2300.0, 1998.0, 2490.0, 2490.0, 486.0984773197147, 1724.85, 477.63159810410485, 715.0, 1760.0, 3825.0, 4950.0, 522.4562527749802, 1399.0, 816.8048184470615, 746.0814744107915, 442.7679778045352, 1298.0, 4300.0, 1300.0, 1645.83, 1115.0, 2100.0, 779.4509395546654, 771.9801637761861, 709.5991860258847, 2191.4275616872383, 1490.0, 3000.0, 592.422558199031, 781.9411981474918, 880.0, 1334.7786057549542, 1810.0, 224.12327335437664, 757.0386122192277, 510.50301152941347, 1990.0, 1682.0, 801.8632668901031, 1690.0, 395.45306454083345, 1790.0, 1607.8354604583697, 2650.0, 3390.0, 1490.0, 190.9829120010428, 602.07, 448.24654670875327, 1859.0477667855118, 2135.6457692079266, 2873.56, 2241.2327335437662, 1114.5301747710155, 996.1034371305628, 1674.6540790210877, 1824.9860097528324, 1035.9475746157852, 1750.0, 871.5905074892424, 2300.0, 3320.0, 1155.4799870714528, 1053.0, 1049.0, 875.0, 2228.7814405796344, 1450.0, 2953.4466910921187, 1761.17, 1670.0, 1266.6, 1444.64, 1390.0, 1000.0, 657.4282685061714, 671.0, 724.6652505124845, 947.0, 804.6374149625117, 737.1165434766165, 1937.0, 1272.522140934294, 950.24, 1100.25, 813.3184564171046, 2750.0, 1171.97, 647.4672341348659, 647.4672341348659, 1215.0, 799.0, 1500.0, 647.4672341348659, 493.0712013796286, 1397.93, 647.4672341348659, 3239.46, 1199.0, 1300.0, 937.9658600224375, 219.61092478417518, 493.0712013796286, 1290.0, 1789.5844935972123, 1090.0, 620.0, 1970.0, 833.7136742923528, 1600.0, 759.0, 321.87, 690.5138441704631, 579.0, 579.0, 579.0, 901.0, 946.7963169925999, 247.09839913179306, 529.0, 735.0, 579.0, 1929.0, 433.03, 1194.0, 1493.657103977279, 135.09652866083258, 228.5609141667933, 313.71, 1336.02, 2200.0, 334.1229759167047, 1210.0, 1103.3, 829.2561114111935, 2500.0, 555.825717918854, 848.1820767166743, 1085.7527464723134, 849.93, 1180.7361897198982, 819.2950770398879, 385.2928094821017, 1277.0, 758.0, 1524.0382588097611, 950.0, 980.0, 1650.0, 1460.0, 1162.08, 367.3081619247094, 761.1475388973913, 351.1563446916373, 301.71973110684746, 317.42, 697.2325618539088, 697.2325618539088, 1142.87, 1560.0, 203.59358151511572, 1195.04, 842.2054560938909, 1375.0, 1912.54, 1390.0, 1350.0, 1290.0, 1450.0, 2088.146576808356, 1450.0, 1350.0, 2113.86, 1450.0, 1168.77, 1150.0, 1329.7980885693014, 461.29, 963.8147442159757, 743.16, 1980.0, 670.23, 607.53, 441.38, 1284.973433898426, 1912.54, 888.4694802314199, 336.0852996878519, 285.74, 2350.0, 188.3332768582755, 1336.02, 1602.13, 3950.0, 9500.0, 1199.0, 1553.85, 876.81, 1495.62, 2184.0, 2058.0, 1994.1, 900.0, 599.0, 626.549061955124, 1672.28, 1120.6163667718831, 332.8977686890341, 1500.0, 1120.0, 1716.0, 672.3698200631299, 747.0775778479222, 605.68, 326.7717325506811, 824.0, 243.58215399872216, 4000.0, 2100.0, 529.0, 1798.0, 1399.0, 749.0, 445.63, 729.0, 896.4930934175065, 1365.0, 272.95, 1492.6610005401483, 284.39, 3414.3835955899153, 190.74, 518.0, 1940.0, 2154.417338480652, 1960.75, 1872.6, 1346.0, 2200.0, 1134.51699023704, 420.8537021876628, 383.99787501383196, 782.6583926222258, 338.67516862439135, 399.935530007921, 394.95501282226815, 971.0, 1155.4799870714528, 648.0300325768446, 363.57775455265545, 805.31, 1521.52, 575.92, 588.348495141167, 1843.16, 3008.15, 1910.0, 762.0191294048806, 2485.0, 747.0775778479222, 742.0970606622693, 518.2277936843609, 437.9, 2950.0, 588.348495141167, 1250.0, 2298.0, 419.74, 776.3630188995606, 792.0765506202953, 1075.3932707261556, 450.16, 2550.0, 700.38, 744.4080206364123, 904.9599726331163, 1785.0, 4367.52, 545.3, 1450.0, 1450.0, 1197.8143831495017, 1320.0, 1390.0, 638.0, 647.4672341348659, 437.14497390193316, 918.9054207529442, 1710.0, 717.1944747340052, 1237.6585206347243, 597.6620622783377, 780.0, 1683.4148087506512, 1244.133192976073, 950.0, 525.658725325355, 856.648955932284, 986.1424027592572, 1182.8728315925434, 481.8152325400532, 889.0223176390273, 1212.7559347064603, 672.3698200631299, 1900.0, 642.486716949213, 676.8522855302174, 846.6879215609785, 566.1453495275267, 747.0775778479222, 622.5646482066018, 1980.0, 1890.0, 517.9737873078926, 485.60042560114937, 995.8394697197232, 742.0970606622693, 597.6620622783377, 1632.0, 255.46566800368976, 622.5646482066018, 1400.0, 1394.0467602642227, 577.7399935357264, 473.1491326370173, 823.971782677216, 550.0, 495.0434861851471, 2428.0021280057467, 711.5366072111037, 490.282111755663, 455.652575763819, 386.7222179143841, 441.2987252347676, 473.1491326370173, 2050.0, 189.23475046887867, 333.19659972017325, 697.272405991394, 445.0, 670.0, 460.4189307104888, 1199.0, 1422.54, 1807.0, 362.0835993969596, 212.66808382737517, 630.6729301848445, 236.57456631850866, 846.6879215609785, 2480.0, 723.5695367316408, 1250.0, 1395.0, 1699.0, 1911.42, 467.172512014234, 1400.0, 1400.0, 1402.0155877612672, 1400.0, 578.2380452542917, 1732.2, 280.85634461614785, 320.1327031422059, 1400.0, 209.22654645208905, 402.65489239128743, 308.79206551047446, 1639.0, 750.0, 1057.41, 762.15, 841.19, 699.0, 682.3308544344355, 568.48, 354.6128236184804, 799.0, 620.5724413323406, 1392.0, 975.75, 1392.0, 964.98, 341.16542721721777, 1200.2, 762.0191294048806, 2050.0, 2077.0, 1333.0, 1491.8, 2077.0, 1550.0, 814.3145598542351, 382.50371985813615, 3500.0, 291.3602553606896, 1212.6, 1145.5189527001473, 1150.0, 800.0, 680.0, 1448.1, 1155.4799870714528, 512.9932701222399, 322.2643644976653, 1539.1790310541458, 695.0, 348.2875667927013, 421.35175390622805, 560.2733197656421, 2190.0, 1440.4900830204351, 2225.0, 1477.4, 3111.0, 2315.0, 665.6012972078278, 3264.0, 923.8759769042257, 283.8894795822104, 1986.17, 699.0, 1222.0, 815.0, 697.272405991394, 410.8926678163572, 746.5795261293569, 1030.9670574301326, 436.2933054631865, 1155.4799870714528, 846.6879215609785, 326.97095323810726, 750.0, 585.0, 1550.0, 747.0775778479222, 826.7658528183672, 1490.0, 358.2, 1300.0, 1493.657103977279, 333.7095929902955, 428.324477966142, 1999.0, 753.1, 658.0, 1842.43, 799.0, 585.5693665515727, 597.6620622783377, 1599.0, 672.1606383413324, 1126.3, 1614.89, 1925.0, 1466.0, 1578.66, 1280.0, 881.5515418605481, 668.8834580331729, 373.5387889239611, 562.8, 979.0, 749.0, 490.33191692751956, 565.16, 1800.0, 1080.7722292866606, 495.561459972455, 622.5646482066018, 495.561459972455, 458.9994833125777, 615.9505213840548, 542.8763732361567, 1835.4, 1281.99, 412.8848746906183, 798.09, 744.0892675365304, 412.8848746906183, 2128.88, 2199.0, 588.6971313441626, 672.3698200631299, 2794.08, 578.0139219809373, 985.0, 1478.7, 427.7, 851.3347440951925, 764.6588035132766, 1123.44, 259.5297700271825, 1399.0, 636.1166354687631, 1676.91, 1317.795042151878, 1310.0702599969304, 405.1152678809999, 1567.17, 478.12964982267016, 1899.0, 1865.21, 1184.0, 1344.7396401262597, 816.5657536221502, 736.49, 741.599008943704, 3200.0, 1218.61, 2250.0, 1300.66, 1427.1622190316282, 1003.1807520513755, 1458.42, 1044.35, 1135.5579183288417, 4000.0, 1368.0, 1033.35, 1339.0, 821.7853356327144, 2131.1, 1711.35, 545.3666318289831, 1775.0, 1577.34, 1158.84, 1599.0, 1133.65, 579.2341486914223, 1282.4831753055996, 1157.11, 1208.771520957938, 443.0, 1272.522140934294, 1096.94, 761.5210776863153, 5540.64, 5540.64, 4416.4, 1550.0, 4416.4, 1319.8370541979957, 4416.4, 1065.173249461196, 592.2283180287905, 462.8593841314586, 1666.68, 1800.0, 559.8101316673763, 446.4834436250322, 1012.5889490150736, 513.4913218408051, 1766.18, 284.62, 896.4930934175065, 1773.65, 1771.67, 1148.37, 1076.7878155381384, 1750.81, 657.7918462607241, 1450.0, 711.7657110016436, 1718.24, 432.33877481777813, 1130.56, 1730.2, 1740.61, 2149.92, 1900.0, 702.2529231770468, 1583.5, 1854.81, 2204.19, 1397.4, 702.2529231770468, 1528.55, 1513.86, 1135.5579183288417, 3821.4, 1543.56, 2487.88, 2700.0, 1309.66, 1614.62, 1700.0, 1529.85, 2780.0, 856.648955932284, 1083.262487879487, 721.7964726135484, 1605.82, 4400.0, 1621.76, 2091.94, 2131.92, 2154.24, 1950.0, 1137.5401641687315, 5100.0, 1543.19, 2274.98, 462.69004654714644, 945.2772592509758, 1813.37, 2593.4, 1854.81, 874.0807660820689, 1593.93, 2720.0, 1601.71, 525.0, 1880.75, 1528.55, 1841.94, 2204.19, 1677.36, 2275.82, 2259.45, 1047.23, 1820.0, 2926.7262163910914, 1576.88, 2135.49, 1138.5462286402333, 2487.88, 1020.0, 1048.3988675799174, 961.8673619963854, 1446.0, 1529.44, 1309.87601982669, 1349.0, 1245.1292964132035, 2149.92, 1771.45, 780.6412831620365, 1194.0, 1099.0, 1303.65, 7075.820765656953, 1503.07, 529.4289768348941, 1299.0, 2162.91, 845.1937664052825, 1125.825987748076, 1952.44, 2379.41, 1600.0, 1248.0, 1873.01, 1272.522140934294, 1872.39, 1513.86, 819.0, 644.4789238234741, 850.0, 1198.0, 654.5146659525647, 2200.0, 447.74849499018796, 1104.5, 1846.1930519293421, 1330.0, 328.7141342530857, 455.21927076866723, 1272.8159914482476, 2491.0, 893.0067313875496, 1131.0, 1154.5, 724.5357570656574, 2077.0, 981.1618855736044, 1400.2126405400609, 545.0, 759.0308190934888, 1299.0, 1960.0, 1899.0, 672.3698200631299, 1743.1810149784849, 419.85759875053225, 676.085285883627, 501.5380805952384, 303.8115483248217, 1954.8529953687296, 1079.0, 309.788168947605, 680.3386475601744, 388.4803404809195, 369.05632345687354, 383.99787501383196, 2012.1289430037368, 1514.0, 593.23, 383.4998232952667, 1085.7527464723134, 358.5972373670026, 1901.5, 514.0, 384.49592673239727, 981.1618855736044, 345.14984096574, 477.63159810410485, 323.2355653488676, 1369.642226054524, 627.0471136736893, 442.26992608596987], \"xaxis\": \"x2\", \"yaxis\": \"y2\"}],\n",
              "                        {\"barmode\": \"relative\", \"legend\": {\"tracegroupgap\": 0}, \"margin\": {\"t\": 60}, \"template\": {\"data\": {\"bar\": [{\"error_x\": {\"color\": \"#2a3f5f\"}, \"error_y\": {\"color\": \"#2a3f5f\"}, \"marker\": {\"line\": {\"color\": \"#E5ECF6\", \"width\": 0.5}}, \"type\": \"bar\"}], \"barpolar\": [{\"marker\": {\"line\": {\"color\": \"#E5ECF6\", \"width\": 0.5}}, \"type\": \"barpolar\"}], \"carpet\": [{\"aaxis\": {\"endlinecolor\": \"#2a3f5f\", \"gridcolor\": \"white\", \"linecolor\": \"white\", \"minorgridcolor\": \"white\", \"startlinecolor\": \"#2a3f5f\"}, \"baxis\": {\"endlinecolor\": \"#2a3f5f\", \"gridcolor\": \"white\", \"linecolor\": \"white\", \"minorgridcolor\": \"white\", \"startlinecolor\": \"#2a3f5f\"}, \"type\": \"carpet\"}], \"choropleth\": [{\"colorbar\": {\"outlinewidth\": 0, \"ticks\": \"\"}, \"type\": \"choropleth\"}], \"contour\": [{\"colorbar\": {\"outlinewidth\": 0, \"ticks\": \"\"}, \"colorscale\": [[0.0, \"#0d0887\"], [0.1111111111111111, \"#46039f\"], [0.2222222222222222, \"#7201a8\"], [0.3333333333333333, \"#9c179e\"], [0.4444444444444444, \"#bd3786\"], [0.5555555555555556, \"#d8576b\"], [0.6666666666666666, \"#ed7953\"], [0.7777777777777778, \"#fb9f3a\"], [0.8888888888888888, \"#fdca26\"], [1.0, \"#f0f921\"]], \"type\": \"contour\"}], \"contourcarpet\": [{\"colorbar\": {\"outlinewidth\": 0, \"ticks\": \"\"}, \"type\": \"contourcarpet\"}], \"heatmap\": [{\"colorbar\": {\"outlinewidth\": 0, \"ticks\": \"\"}, \"colorscale\": [[0.0, \"#0d0887\"], [0.1111111111111111, \"#46039f\"], [0.2222222222222222, \"#7201a8\"], [0.3333333333333333, \"#9c179e\"], [0.4444444444444444, \"#bd3786\"], [0.5555555555555556, \"#d8576b\"], [0.6666666666666666, \"#ed7953\"], [0.7777777777777778, \"#fb9f3a\"], [0.8888888888888888, \"#fdca26\"], [1.0, \"#f0f921\"]], \"type\": \"heatmap\"}], \"heatmapgl\": [{\"colorbar\": {\"outlinewidth\": 0, \"ticks\": \"\"}, \"colorscale\": [[0.0, \"#0d0887\"], [0.1111111111111111, \"#46039f\"], [0.2222222222222222, \"#7201a8\"], [0.3333333333333333, \"#9c179e\"], [0.4444444444444444, \"#bd3786\"], [0.5555555555555556, \"#d8576b\"], [0.6666666666666666, \"#ed7953\"], [0.7777777777777778, \"#fb9f3a\"], [0.8888888888888888, \"#fdca26\"], [1.0, \"#f0f921\"]], \"type\": \"heatmapgl\"}], \"histogram\": [{\"marker\": {\"colorbar\": {\"outlinewidth\": 0, \"ticks\": \"\"}}, \"type\": \"histogram\"}], \"histogram2d\": [{\"colorbar\": {\"outlinewidth\": 0, \"ticks\": \"\"}, \"colorscale\": [[0.0, \"#0d0887\"], [0.1111111111111111, \"#46039f\"], [0.2222222222222222, \"#7201a8\"], [0.3333333333333333, \"#9c179e\"], [0.4444444444444444, \"#bd3786\"], [0.5555555555555556, \"#d8576b\"], [0.6666666666666666, \"#ed7953\"], [0.7777777777777778, \"#fb9f3a\"], [0.8888888888888888, \"#fdca26\"], [1.0, \"#f0f921\"]], \"type\": \"histogram2d\"}], \"histogram2dcontour\": [{\"colorbar\": {\"outlinewidth\": 0, \"ticks\": \"\"}, \"colorscale\": [[0.0, \"#0d0887\"], [0.1111111111111111, \"#46039f\"], [0.2222222222222222, \"#7201a8\"], [0.3333333333333333, \"#9c179e\"], [0.4444444444444444, \"#bd3786\"], [0.5555555555555556, \"#d8576b\"], [0.6666666666666666, \"#ed7953\"], [0.7777777777777778, \"#fb9f3a\"], [0.8888888888888888, \"#fdca26\"], [1.0, \"#f0f921\"]], \"type\": \"histogram2dcontour\"}], \"mesh3d\": [{\"colorbar\": {\"outlinewidth\": 0, \"ticks\": \"\"}, \"type\": \"mesh3d\"}], \"parcoords\": [{\"line\": {\"colorbar\": {\"outlinewidth\": 0, \"ticks\": \"\"}}, \"type\": \"parcoords\"}], \"pie\": [{\"automargin\": true, \"type\": \"pie\"}], \"scatter\": [{\"marker\": {\"colorbar\": {\"outlinewidth\": 0, \"ticks\": \"\"}}, \"type\": \"scatter\"}], \"scatter3d\": [{\"line\": {\"colorbar\": {\"outlinewidth\": 0, \"ticks\": \"\"}}, \"marker\": {\"colorbar\": {\"outlinewidth\": 0, \"ticks\": \"\"}}, \"type\": \"scatter3d\"}], \"scattercarpet\": [{\"marker\": {\"colorbar\": {\"outlinewidth\": 0, \"ticks\": \"\"}}, \"type\": \"scattercarpet\"}], \"scattergeo\": [{\"marker\": {\"colorbar\": {\"outlinewidth\": 0, \"ticks\": \"\"}}, \"type\": \"scattergeo\"}], \"scattergl\": [{\"marker\": {\"colorbar\": {\"outlinewidth\": 0, \"ticks\": \"\"}}, \"type\": \"scattergl\"}], \"scattermapbox\": [{\"marker\": {\"colorbar\": {\"outlinewidth\": 0, \"ticks\": \"\"}}, \"type\": \"scattermapbox\"}], \"scatterpolar\": [{\"marker\": {\"colorbar\": {\"outlinewidth\": 0, \"ticks\": \"\"}}, \"type\": \"scatterpolar\"}], \"scatterpolargl\": [{\"marker\": {\"colorbar\": {\"outlinewidth\": 0, \"ticks\": \"\"}}, \"type\": \"scatterpolargl\"}], \"scatterternary\": [{\"marker\": {\"colorbar\": {\"outlinewidth\": 0, \"ticks\": \"\"}}, \"type\": \"scatterternary\"}], \"surface\": [{\"colorbar\": {\"outlinewidth\": 0, \"ticks\": \"\"}, \"colorscale\": [[0.0, \"#0d0887\"], [0.1111111111111111, \"#46039f\"], [0.2222222222222222, \"#7201a8\"], [0.3333333333333333, \"#9c179e\"], [0.4444444444444444, \"#bd3786\"], [0.5555555555555556, \"#d8576b\"], [0.6666666666666666, \"#ed7953\"], [0.7777777777777778, \"#fb9f3a\"], [0.8888888888888888, \"#fdca26\"], [1.0, \"#f0f921\"]], \"type\": \"surface\"}], \"table\": [{\"cells\": {\"fill\": {\"color\": \"#EBF0F8\"}, \"line\": {\"color\": \"white\"}}, \"header\": {\"fill\": {\"color\": \"#C8D4E3\"}, \"line\": {\"color\": \"white\"}}, \"type\": \"table\"}]}, \"layout\": {\"annotationdefaults\": {\"arrowcolor\": \"#2a3f5f\", \"arrowhead\": 0, \"arrowwidth\": 1}, \"coloraxis\": {\"colorbar\": {\"outlinewidth\": 0, \"ticks\": \"\"}}, \"colorscale\": {\"diverging\": [[0, \"#8e0152\"], [0.1, \"#c51b7d\"], [0.2, \"#de77ae\"], [0.3, \"#f1b6da\"], [0.4, \"#fde0ef\"], [0.5, \"#f7f7f7\"], [0.6, \"#e6f5d0\"], [0.7, \"#b8e186\"], [0.8, \"#7fbc41\"], [0.9, \"#4d9221\"], [1, \"#276419\"]], \"sequential\": [[0.0, \"#0d0887\"], [0.1111111111111111, \"#46039f\"], [0.2222222222222222, \"#7201a8\"], [0.3333333333333333, \"#9c179e\"], [0.4444444444444444, \"#bd3786\"], [0.5555555555555556, \"#d8576b\"], [0.6666666666666666, \"#ed7953\"], [0.7777777777777778, \"#fb9f3a\"], [0.8888888888888888, \"#fdca26\"], [1.0, \"#f0f921\"]], \"sequentialminus\": [[0.0, \"#0d0887\"], [0.1111111111111111, \"#46039f\"], [0.2222222222222222, \"#7201a8\"], [0.3333333333333333, \"#9c179e\"], [0.4444444444444444, \"#bd3786\"], [0.5555555555555556, \"#d8576b\"], [0.6666666666666666, \"#ed7953\"], [0.7777777777777778, \"#fb9f3a\"], [0.8888888888888888, \"#fdca26\"], [1.0, \"#f0f921\"]]}, \"colorway\": [\"#636efa\", \"#EF553B\", \"#00cc96\", \"#ab63fa\", \"#FFA15A\", \"#19d3f3\", \"#FF6692\", \"#B6E880\", \"#FF97FF\", \"#FECB52\"], \"font\": {\"color\": \"#2a3f5f\"}, \"geo\": {\"bgcolor\": \"white\", \"lakecolor\": \"white\", \"landcolor\": \"#E5ECF6\", \"showlakes\": true, \"showland\": true, \"subunitcolor\": \"white\"}, \"hoverlabel\": {\"align\": \"left\"}, \"hovermode\": \"closest\", \"mapbox\": {\"style\": \"light\"}, \"paper_bgcolor\": \"white\", \"plot_bgcolor\": \"#E5ECF6\", \"polar\": {\"angularaxis\": {\"gridcolor\": \"white\", \"linecolor\": \"white\", \"ticks\": \"\"}, \"bgcolor\": \"#E5ECF6\", \"radialaxis\": {\"gridcolor\": \"white\", \"linecolor\": \"white\", \"ticks\": \"\"}}, \"scene\": {\"xaxis\": {\"backgroundcolor\": \"#E5ECF6\", \"gridcolor\": \"white\", \"gridwidth\": 2, \"linecolor\": \"white\", \"showbackground\": true, \"ticks\": \"\", \"zerolinecolor\": \"white\"}, \"yaxis\": {\"backgroundcolor\": \"#E5ECF6\", \"gridcolor\": \"white\", \"gridwidth\": 2, \"linecolor\": \"white\", \"showbackground\": true, \"ticks\": \"\", \"zerolinecolor\": \"white\"}, \"zaxis\": {\"backgroundcolor\": \"#E5ECF6\", \"gridcolor\": \"white\", \"gridwidth\": 2, \"linecolor\": \"white\", \"showbackground\": true, \"ticks\": \"\", \"zerolinecolor\": \"white\"}}, \"shapedefaults\": {\"line\": {\"color\": \"#2a3f5f\"}}, \"ternary\": {\"aaxis\": {\"gridcolor\": \"white\", \"linecolor\": \"white\", \"ticks\": \"\"}, \"baxis\": {\"gridcolor\": \"white\", \"linecolor\": \"white\", \"ticks\": \"\"}, \"bgcolor\": \"#E5ECF6\", \"caxis\": {\"gridcolor\": \"white\", \"linecolor\": \"white\", \"ticks\": \"\"}}, \"title\": {\"x\": 0.05}, \"xaxis\": {\"automargin\": true, \"gridcolor\": \"white\", \"linecolor\": \"white\", \"ticks\": \"\", \"title\": {\"standoff\": 15}, \"zerolinecolor\": \"white\", \"zerolinewidth\": 2}, \"yaxis\": {\"automargin\": true, \"gridcolor\": \"white\", \"linecolor\": \"white\", \"ticks\": \"\", \"title\": {\"standoff\": 15}, \"zerolinecolor\": \"white\", \"zerolinewidth\": 2}}}, \"xaxis\": {\"anchor\": \"y\", \"domain\": [0.0, 1.0], \"title\": {\"text\": \"cold_rent\"}}, \"xaxis2\": {\"anchor\": \"y2\", \"domain\": [0.0, 1.0], \"matches\": \"x\", \"showgrid\": true, \"showticklabels\": false}, \"yaxis\": {\"anchor\": \"x\", \"domain\": [0.0, 0.8316], \"title\": {\"text\": \"count\"}}, \"yaxis2\": {\"anchor\": \"x2\", \"domain\": [0.8416, 1.0], \"matches\": \"y2\", \"showgrid\": false, \"showline\": false, \"showticklabels\": false, \"ticks\": \"\"}},\n",
              "                        {\"responsive\": true}\n",
              "                    ).then(function(){\n",
              "                            \n",
              "var gd = document.getElementById('ede954d6-75b5-4cf4-9cbe-3b5ec4ac64e9');\n",
              "var x = new MutationObserver(function (mutations, observer) {{\n",
              "        var display = window.getComputedStyle(gd).display;\n",
              "        if (!display || display === 'none') {{\n",
              "            console.log([gd, 'removed!']);\n",
              "            Plotly.purge(gd);\n",
              "            observer.disconnect();\n",
              "        }}\n",
              "}});\n",
              "\n",
              "// Listen for the removal of the full notebook cells\n",
              "var notebookContainer = gd.closest('#notebook-container');\n",
              "if (notebookContainer) {{\n",
              "    x.observe(notebookContainer, {childList: true});\n",
              "}}\n",
              "\n",
              "// Listen for the clearing of the current output cell\n",
              "var outputEl = gd.closest('.output');\n",
              "if (outputEl) {{\n",
              "    x.observe(outputEl, {childList: true});\n",
              "}}\n",
              "\n",
              "                        })\n",
              "                };\n",
              "                \n",
              "            </script>\n",
              "        </div>\n",
              "</body>\n",
              "</html>"
            ]
          },
          "metadata": {}
        }
      ]
    },
    {
      "cell_type": "markdown",
      "metadata": {
        "id": "PZmVxvM_4C5V"
      },
      "source": [
        "*italicized text*## 0. Before further cleaning, print out how many missing values (sorted for readability) each column still has. Also check how many unique values there are for each column"
      ]
    },
    {
      "cell_type": "code",
      "metadata": {
        "id": "OELxGQNs-AhR",
        "colab": {
          "base_uri": "https://localhost:8080/"
        },
        "outputId": "2ef4ade5-fa5a-4a8c-a4ab-34d02ea4338b"
      },
      "source": [
        "\n",
        "df.info()"
      ],
      "execution_count": 152,
      "outputs": [
        {
          "output_type": "stream",
          "name": "stdout",
          "text": [
            "<class 'pandas.core.frame.DataFrame'>\n",
            "RangeIndex: 764 entries, 0 to 763\n",
            "Data columns (total 23 columns):\n",
            " #   Column               Non-Null Count  Dtype  \n",
            "---  ------               --------------  -----  \n",
            " 0   url                  764 non-null    object \n",
            " 1   region               764 non-null    object \n",
            " 2   condition            764 non-null    object \n",
            " 3   rooms                764 non-null    float64\n",
            " 4   rent                 764 non-null    float64\n",
            " 5   year_construction    764 non-null    int64  \n",
            " 6   space                764 non-null    float64\n",
            " 7   cold_rent            764 non-null    float64\n",
            " 8   utilities            426 non-null    object \n",
            " 9   heating_costs        426 non-null    object \n",
            " 10  security_deposit     385 non-null    object \n",
            " 11  parking_space        90 non-null     object \n",
            " 12  renovated_date       195 non-null    float64\n",
            " 13  property_condition   764 non-null    object \n",
            " 14  furnishing           445 non-null    object \n",
            " 15  heating_type         515 non-null    object \n",
            " 16  energy_sources       494 non-null    object \n",
            " 17  energy_certificate   451 non-null    object \n",
            " 18  type_of_certificate  467 non-null    object \n",
            " 19  energy_requirement   326 non-null    object \n",
            " 20  efficiency_class     251 non-null    object \n",
            " 21  deposit              764 non-null    float64\n",
            " 22  missing_count        764 non-null    int64  \n",
            "dtypes: float64(6), int64(2), object(15)\n",
            "memory usage: 137.4+ KB\n"
          ]
        }
      ]
    },
    {
      "cell_type": "code",
      "metadata": {
        "colab": {
          "base_uri": "https://localhost:8080/"
        },
        "id": "q30Z-kLKYt00",
        "outputId": "7dc51d58-05f8-459b-9614-ae530fb40ac8"
      },
      "source": [
        "# to get the count of null/NaN values for each column \n",
        "df.isna().sum().sort_values(ascending=False)"
      ],
      "execution_count": 153,
      "outputs": [
        {
          "output_type": "execute_result",
          "data": {
            "text/plain": [
              "parking_space          674\n",
              "renovated_date         569\n",
              "efficiency_class       513\n",
              "energy_requirement     438\n",
              "security_deposit       379\n",
              "utilities              338\n",
              "heating_costs          338\n",
              "furnishing             319\n",
              "energy_certificate     313\n",
              "type_of_certificate    297\n",
              "energy_sources         270\n",
              "heating_type           249\n",
              "year_construction        0\n",
              "region                   0\n",
              "condition                0\n",
              "rooms                    0\n",
              "rent                     0\n",
              "missing_count            0\n",
              "space                    0\n",
              "cold_rent                0\n",
              "deposit                  0\n",
              "property_condition       0\n",
              "url                      0\n",
              "dtype: int64"
            ]
          },
          "metadata": {},
          "execution_count": 153
        }
      ]
    },
    {
      "cell_type": "code",
      "metadata": {
        "colab": {
          "base_uri": "https://localhost:8080/"
        },
        "id": "Buu2IAurZeAl",
        "outputId": "195486cb-5072-4ef0-8d08-3221957c2b39"
      },
      "source": [
        "# get the number of unique values for each column\n",
        "df.nunique().sort_values()"
      ],
      "execution_count": 154,
      "outputs": [
        {
          "output_type": "execute_result",
          "data": {
            "text/plain": [
              "energy_certificate       3\n",
              "heating_type             7\n",
              "efficiency_class         8\n",
              "furnishing               8\n",
              "condition                9\n",
              "region                  10\n",
              "property_condition      10\n",
              "rooms                   11\n",
              "renovated_date          12\n",
              "missing_count           13\n",
              "parking_space           21\n",
              "energy_sources          29\n",
              "type_of_certificate     85\n",
              "year_construction       93\n",
              "heating_costs          111\n",
              "energy_requirement     113\n",
              "security_deposit       216\n",
              "utilities              261\n",
              "space                  571\n",
              "deposit                626\n",
              "rent                   639\n",
              "cold_rent              650\n",
              "url                    764\n",
              "dtype: int64"
            ]
          },
          "metadata": {},
          "execution_count": 154
        }
      ]
    },
    {
      "cell_type": "markdown",
      "metadata": {
        "id": "UeSRMJD94EZ7"
      },
      "source": [
        "## 1. Clean: `heating_type`\n"
      ]
    },
    {
      "cell_type": "code",
      "metadata": {
        "colab": {
          "base_uri": "https://localhost:8080/"
        },
        "id": "IQNsypmjZy65",
        "outputId": "e21984bc-00cd-4fd5-ed20-2134239db83b"
      },
      "source": [
        "# From the previous cell, it's noticable that there are very few distinct heating types \n",
        "# (only 7 unique values). That means we're dealing with a discrete/categorical value here. \n",
        "df['heating_type'].unique()"
      ],
      "execution_count": 155,
      "outputs": [
        {
          "output_type": "execute_result",
          "data": {
            "text/plain": [
              "array(['Underfloor Heating', 'Central Heating', nan, 'District Heating',\n",
              "       'Floor Heating', 'Gas Heating', 'CHP Plants',\n",
              "       'Wood Pellet Heating'], dtype=object)"
            ]
          },
          "metadata": {},
          "execution_count": 155
        }
      ]
    },
    {
      "cell_type": "code",
      "metadata": {
        "colab": {
          "base_uri": "https://localhost:8080/",
          "height": 542
        },
        "id": "AYvIEWUzaJl2",
        "outputId": "46c65bc7-1214-4bfe-a197-24d023a34d4a"
      },
      "source": [
        "# The 'update_xaxes' is just there to sort the bars\n",
        "px.histogram(df, x='heating_type').update_xaxes(categoryorder=\"total descending\")"
      ],
      "execution_count": 156,
      "outputs": [
        {
          "output_type": "display_data",
          "data": {
            "text/html": [
              "<html>\n",
              "<head><meta charset=\"utf-8\" /></head>\n",
              "<body>\n",
              "    <div>\n",
              "            <script src=\"https://cdnjs.cloudflare.com/ajax/libs/mathjax/2.7.5/MathJax.js?config=TeX-AMS-MML_SVG\"></script><script type=\"text/javascript\">if (window.MathJax) {MathJax.Hub.Config({SVG: {font: \"STIX-Web\"}});}</script>\n",
              "                <script type=\"text/javascript\">window.PlotlyConfig = {MathJaxConfig: 'local'};</script>\n",
              "        <script src=\"https://cdn.plot.ly/plotly-latest.min.js\"></script>    \n",
              "            <div id=\"3352da96-91db-4470-a846-b4622ffa8d76\" class=\"plotly-graph-div\" style=\"height:525px; width:100%;\"></div>\n",
              "            <script type=\"text/javascript\">\n",
              "                \n",
              "                    window.PLOTLYENV=window.PLOTLYENV || {};\n",
              "                    \n",
              "                if (document.getElementById(\"3352da96-91db-4470-a846-b4622ffa8d76\")) {\n",
              "                    Plotly.newPlot(\n",
              "                        '3352da96-91db-4470-a846-b4622ffa8d76',\n",
              "                        [{\"alignmentgroup\": \"True\", \"bingroup\": \"x\", \"hoverlabel\": {\"namelength\": 0}, \"hovertemplate\": \"heating_type=%{x}<br>count=%{y}\", \"legendgroup\": \"\", \"marker\": {\"color\": \"#636efa\"}, \"name\": \"\", \"offsetgroup\": \"\", \"orientation\": \"v\", \"showlegend\": false, \"type\": \"histogram\", \"x\": [\"Underfloor Heating\", \"Central Heating\", \"Central Heating\", null, \"Central Heating\", \"Central Heating\", null, \"Central Heating\", \"District Heating\", \"Underfloor Heating\", \"Underfloor Heating\", \"Central Heating\", \"Underfloor Heating\", \"Underfloor Heating\", \"District Heating\", \"Underfloor Heating\", null, null, null, \"Underfloor Heating\", null, \"Central Heating\", null, null, \"Central Heating\", null, \"Central Heating\", null, \"Underfloor Heating\", \"Central Heating\", \"Underfloor Heating\", \"Underfloor Heating\", \"District Heating\", null, null, \"Underfloor Heating\", \"Underfloor Heating\", \"Central Heating\", \"Central Heating\", \"Underfloor Heating\", \"Central Heating\", \"District Heating\", \"Floor Heating\", \"District Heating\", \"Central Heating\", \"Underfloor Heating\", \"Central Heating\", null, \"Underfloor Heating\", \"Central Heating\", \"Central Heating\", \"Central Heating\", \"Central Heating\", \"Floor Heating\", \"Central Heating\", null, \"District Heating\", \"Central Heating\", \"Central Heating\", \"Central Heating\", \"Central Heating\", \"Central Heating\", null, \"Central Heating\", null, null, \"Central Heating\", \"Underfloor Heating\", \"Central Heating\", \"Central Heating\", \"Central Heating\", \"District Heating\", \"Underfloor Heating\", \"District Heating\", null, null, null, \"Central Heating\", \"District Heating\", null, \"Underfloor Heating\", \"Central Heating\", null, \"Gas Heating\", null, null, null, \"Central Heating\", \"Central Heating\", \"Underfloor Heating\", \"Underfloor Heating\", null, \"Underfloor Heating\", null, null, \"Underfloor Heating\", \"District Heating\", null, \"Central Heating\", null, null, null, \"Floor Heating\", null, null, null, null, null, \"Underfloor Heating\", \"Central Heating\", null, \"Central Heating\", \"Central Heating\", null, \"Central Heating\", \"District Heating\", \"Central Heating\", null, \"Central Heating\", null, \"Underfloor Heating\", \"Gas Heating\", \"Underfloor Heating\", \"Floor Heating\", \"Central Heating\", \"Floor Heating\", \"Underfloor Heating\", \"Central Heating\", \"District Heating\", null, null, null, null, null, \"District Heating\", \"District Heating\", null, \"District Heating\", \"District Heating\", \"Underfloor Heating\", \"Underfloor Heating\", \"District Heating\", null, \"Underfloor Heating\", \"Underfloor Heating\", \"Underfloor Heating\", \"District Heating\", \"Underfloor Heating\", \"Central Heating\", \"Underfloor Heating\", \"Underfloor Heating\", \"Central Heating\", null, \"Underfloor Heating\", \"District Heating\", \"Central Heating\", \"District Heating\", \"Central Heating\", \"Underfloor Heating\", \"Central Heating\", null, \"Central Heating\", \"Central Heating\", \"Central Heating\", \"Central Heating\", \"Central Heating\", \"Central Heating\", \"Underfloor Heating\", null, null, \"Central Heating\", \"Central Heating\", \"Central Heating\", \"Central Heating\", \"Central Heating\", \"District Heating\", \"District Heating\", null, null, \"Central Heating\", \"Underfloor Heating\", null, null, \"District Heating\", \"Central Heating\", null, \"Floor Heating\", \"District Heating\", \"District Heating\", \"District Heating\", \"Central Heating\", null, \"District Heating\", \"Underfloor Heating\", null, \"Central Heating\", \"District Heating\", \"Central Heating\", null, \"Underfloor Heating\", \"Underfloor Heating\", \"District Heating\", null, \"Central Heating\", null, null, \"Central Heating\", \"Central Heating\", \"Central Heating\", \"District Heating\", \"District Heating\", null, \"Central Heating\", null, null, \"Floor Heating\", \"Floor Heating\", \"Underfloor Heating\", \"Floor Heating\", \"Central Heating\", null, \"Floor Heating\", \"Floor Heating\", \"Central Heating\", null, \"District Heating\", \"District Heating\", null, \"Central Heating\", \"Central Heating\", \"Central Heating\", \"Central Heating\", \"District Heating\", \"District Heating\", \"Central Heating\", \"Underfloor Heating\", \"Floor Heating\", null, null, \"Central Heating\", \"Central Heating\", null, \"District Heating\", \"Underfloor Heating\", \"Central Heating\", null, \"Central Heating\", \"Underfloor Heating\", \"Central Heating\", \"Central Heating\", \"Underfloor Heating\", \"Underfloor Heating\", \"Underfloor Heating\", \"Underfloor Heating\", \"CHP Plants\", \"District Heating\", \"District Heating\", \"District Heating\", \"Central Heating\", null, null, null, \"Underfloor Heating\", \"Underfloor Heating\", \"District Heating\", null, \"Central Heating\", null, \"Underfloor Heating\", \"Underfloor Heating\", \"Central Heating\", \"Central Heating\", \"Underfloor Heating\", \"Central Heating\", \"Floor Heating\", \"Central Heating\", null, \"Central Heating\", \"Central Heating\", \"Central Heating\", \"District Heating\", \"Central Heating\", \"District Heating\", \"Central Heating\", \"Central Heating\", null, \"Central Heating\", \"Central Heating\", \"Underfloor Heating\", null, \"Central Heating\", \"Central Heating\", \"Central Heating\", null, \"Central Heating\", \"Central Heating\", \"Central Heating\", \"Central Heating\", null, null, \"Central Heating\", \"Central Heating\", \"Central Heating\", \"Floor Heating\", \"Central Heating\", \"Central Heating\", \"Central Heating\", null, \"Central Heating\", null, \"Underfloor Heating\", \"Central Heating\", \"Central Heating\", \"Floor Heating\", \"Floor Heating\", \"Central Heating\", \"Underfloor Heating\", \"Underfloor Heating\", \"District Heating\", \"District Heating\", \"District Heating\", \"District Heating\", \"Central Heating\", \"Central Heating\", \"Central Heating\", \"District Heating\", \"Central Heating\", \"Central Heating\", \"Underfloor Heating\", \"Central Heating\", \"Central Heating\", \"Gas Heating\", \"Central Heating\", \"Central Heating\", \"Central Heating\", \"CHP Plants\", null, null, null, \"Underfloor Heating\", null, null, null, \"District Heating\", null, null, \"Underfloor Heating\", null, null, null, null, null, null, null, null, \"District Heating\", \"Underfloor Heating\", null, null, null, \"Underfloor Heating\", null, \"District Heating\", \"District Heating\", null, null, null, \"Underfloor Heating\", null, \"Floor Heating\", null, null, \"Floor Heating\", null, null, null, null, \"Gas Heating\", null, \"Floor Heating\", null, null, null, null, null, null, \"Underfloor Heating\", \"Central Heating\", null, null, \"Underfloor Heating\", \"Central Heating\", null, \"Underfloor Heating\", \"Underfloor Heating\", \"Underfloor Heating\", null, null, \"Floor Heating\", null, null, \"Central Heating\", null, \"Underfloor Heating\", \"Central Heating\", \"Underfloor Heating\", \"Central Heating\", null, \"Central Heating\", \"Central Heating\", null, \"Central Heating\", null, \"District Heating\", null, null, \"Central Heating\", null, null, null, \"District Heating\", \"Underfloor Heating\", \"District Heating\", null, \"Central Heating\", \"District Heating\", null, \"Central Heating\", null, \"District Heating\", null, \"Underfloor Heating\", \"Underfloor Heating\", \"Underfloor Heating\", \"Underfloor Heating\", null, \"Underfloor Heating\", null, \"Underfloor Heating\", \"Underfloor Heating\", \"Underfloor Heating\", \"Underfloor Heating\", \"Underfloor Heating\", \"Underfloor Heating\", null, null, \"Central Heating\", null, \"District Heating\", null, \"Underfloor Heating\", \"Underfloor Heating\", \"Underfloor Heating\", null, null, \"Central Heating\", \"Central Heating\", \"Central Heating\", \"Underfloor Heating\", null, null, null, \"Underfloor Heating\", \"Central Heating\", \"Underfloor Heating\", \"District Heating\", \"Underfloor Heating\", \"Gas Heating\", \"District Heating\", \"Underfloor Heating\", null, null, \"District Heating\", \"Central Heating\", null, null, null, null, null, null, null, null, null, null, \"Underfloor Heating\", \"Underfloor Heating\", \"Underfloor Heating\", \"District Heating\", null, \"Central Heating\", \"Central Heating\", \"Central Heating\", null, null, null, \"Central Heating\", null, \"Central Heating\", \"District Heating\", \"Central Heating\", null, null, \"Central Heating\", \"Underfloor Heating\", \"District Heating\", \"District Heating\", \"Central Heating\", \"Underfloor Heating\", \"District Heating\", \"Central Heating\", null, null, null, null, \"Gas Heating\", \"Gas Heating\", null, null, \"District Heating\", null, null, null, null, null, null, null, \"Central Heating\", \"District Heating\", null, \"Central Heating\", \"Central Heating\", null, \"District Heating\", \"Central Heating\", null, null, \"Floor Heating\", null, \"District Heating\", \"District Heating\", null, null, null, \"Underfloor Heating\", \"Central Heating\", \"Underfloor Heating\", null, \"District Heating\", null, null, null, \"District Heating\", null, \"Floor Heating\", \"District Heating\", \"Central Heating\", \"Central Heating\", null, \"District Heating\", null, \"Gas Heating\", \"Underfloor Heating\", \"Central Heating\", \"District Heating\", null, \"Underfloor Heating\", \"District Heating\", \"District Heating\", \"District Heating\", \"Underfloor Heating\", \"Central Heating\", \"Central Heating\", \"Central Heating\", null, \"District Heating\", \"District Heating\", \"Central Heating\", \"District Heating\", \"Central Heating\", \"District Heating\", \"Central Heating\", \"District Heating\", \"District Heating\", null, \"District Heating\", \"District Heating\", \"Central Heating\", \"District Heating\", \"Underfloor Heating\", null, \"Central Heating\", \"Central Heating\", \"Central Heating\", \"Underfloor Heating\", \"Central Heating\", null, \"Central Heating\", null, null, null, \"District Heating\", \"Underfloor Heating\", \"Central Heating\", null, null, null, \"District Heating\", \"Underfloor Heating\", \"Underfloor Heating\", \"District Heating\", \"District Heating\", \"District Heating\", null, \"District Heating\", null, \"Underfloor Heating\", null, \"District Heating\", null, \"District Heating\", \"District Heating\", \"District Heating\", \"District Heating\", \"Floor Heating\", \"District Heating\", \"District Heating\", \"District Heating\", \"District Heating\", \"District Heating\", \"District Heating\", \"District Heating\", \"District Heating\", \"District Heating\", null, \"District Heating\", \"District Heating\", \"District Heating\", \"Central Heating\", \"District Heating\", \"Gas Heating\", \"Underfloor Heating\", \"District Heating\", null, \"District Heating\", \"Underfloor Heating\", \"Central Heating\", \"Underfloor Heating\", \"District Heating\", \"Central Heating\", \"District Heating\", \"Central Heating\", \"Central Heating\", null, \"Underfloor Heating\", \"District Heating\", \"Central Heating\", null, null, \"District Heating\", \"Central Heating\", \"District Heating\", null, \"District Heating\", \"Underfloor Heating\", \"District Heating\", \"Central Heating\", \"District Heating\", \"District Heating\", \"District Heating\", \"District Heating\", \"District Heating\", \"District Heating\", \"District Heating\", \"Central Heating\", \"Central Heating\", \"Central Heating\", \"District Heating\", \"District Heating\", \"District Heating\", \"District Heating\", \"Gas Heating\", \"Underfloor Heating\", \"Underfloor Heating\", \"District Heating\", \"District Heating\", \"District Heating\", \"Central Heating\", null, \"District Heating\", \"District Heating\", null, \"Central Heating\", \"Central Heating\", \"Underfloor Heating\", null, \"District Heating\", null, null, \"District Heating\", null, \"Underfloor Heating\", \"District Heating\", \"District Heating\", \"Central Heating\", null, \"District Heating\", \"District Heating\", \"District Heating\", \"District Heating\", \"Central Heating\", null, \"District Heating\", null, \"Underfloor Heating\", \"District Heating\", \"Central Heating\", \"Central Heating\", \"Underfloor Heating\", \"Underfloor Heating\", null, null, \"Underfloor Heating\", null, null, \"Central Heating\", \"Central Heating\", \"District Heating\", \"Underfloor Heating\", null, null, null, \"Underfloor Heating\", \"Central Heating\", \"Underfloor Heating\", \"Underfloor Heating\", null, \"Underfloor Heating\", null, null, null, \"Wood Pellet Heating\", \"District Heating\", \"Central Heating\", null, null, \"Wood Pellet Heating\", \"Central Heating\", \"Central Heating\", \"Underfloor Heating\", \"Central Heating\", \"Central Heating\", \"District Heating\", null, \"Central Heating\", \"Central Heating\", \"Floor Heating\", \"Central Heating\", null, null, \"Central Heating\", \"Central Heating\", null, \"Underfloor Heating\", null], \"xaxis\": \"x\", \"yaxis\": \"y\"}],\n",
              "                        {\"barmode\": \"relative\", \"legend\": {\"tracegroupgap\": 0}, \"margin\": {\"t\": 60}, \"template\": {\"data\": {\"bar\": [{\"error_x\": {\"color\": \"#2a3f5f\"}, \"error_y\": {\"color\": \"#2a3f5f\"}, \"marker\": {\"line\": {\"color\": \"#E5ECF6\", \"width\": 0.5}}, \"type\": \"bar\"}], \"barpolar\": [{\"marker\": {\"line\": {\"color\": \"#E5ECF6\", \"width\": 0.5}}, \"type\": \"barpolar\"}], \"carpet\": [{\"aaxis\": {\"endlinecolor\": \"#2a3f5f\", \"gridcolor\": \"white\", \"linecolor\": \"white\", \"minorgridcolor\": \"white\", \"startlinecolor\": \"#2a3f5f\"}, \"baxis\": {\"endlinecolor\": \"#2a3f5f\", \"gridcolor\": \"white\", \"linecolor\": \"white\", \"minorgridcolor\": \"white\", \"startlinecolor\": \"#2a3f5f\"}, \"type\": \"carpet\"}], \"choropleth\": [{\"colorbar\": {\"outlinewidth\": 0, \"ticks\": \"\"}, \"type\": \"choropleth\"}], \"contour\": [{\"colorbar\": {\"outlinewidth\": 0, \"ticks\": \"\"}, \"colorscale\": [[0.0, \"#0d0887\"], [0.1111111111111111, \"#46039f\"], [0.2222222222222222, \"#7201a8\"], [0.3333333333333333, \"#9c179e\"], [0.4444444444444444, \"#bd3786\"], [0.5555555555555556, \"#d8576b\"], [0.6666666666666666, \"#ed7953\"], [0.7777777777777778, \"#fb9f3a\"], [0.8888888888888888, \"#fdca26\"], [1.0, \"#f0f921\"]], \"type\": \"contour\"}], \"contourcarpet\": [{\"colorbar\": {\"outlinewidth\": 0, \"ticks\": \"\"}, \"type\": \"contourcarpet\"}], \"heatmap\": [{\"colorbar\": {\"outlinewidth\": 0, \"ticks\": \"\"}, \"colorscale\": [[0.0, \"#0d0887\"], [0.1111111111111111, \"#46039f\"], [0.2222222222222222, \"#7201a8\"], [0.3333333333333333, \"#9c179e\"], [0.4444444444444444, \"#bd3786\"], [0.5555555555555556, \"#d8576b\"], [0.6666666666666666, \"#ed7953\"], [0.7777777777777778, \"#fb9f3a\"], [0.8888888888888888, \"#fdca26\"], [1.0, \"#f0f921\"]], \"type\": \"heatmap\"}], \"heatmapgl\": [{\"colorbar\": {\"outlinewidth\": 0, \"ticks\": \"\"}, \"colorscale\": [[0.0, \"#0d0887\"], [0.1111111111111111, \"#46039f\"], [0.2222222222222222, \"#7201a8\"], [0.3333333333333333, \"#9c179e\"], [0.4444444444444444, \"#bd3786\"], [0.5555555555555556, \"#d8576b\"], [0.6666666666666666, \"#ed7953\"], [0.7777777777777778, \"#fb9f3a\"], [0.8888888888888888, \"#fdca26\"], [1.0, \"#f0f921\"]], \"type\": \"heatmapgl\"}], \"histogram\": [{\"marker\": {\"colorbar\": {\"outlinewidth\": 0, \"ticks\": \"\"}}, \"type\": \"histogram\"}], \"histogram2d\": [{\"colorbar\": {\"outlinewidth\": 0, \"ticks\": \"\"}, \"colorscale\": [[0.0, \"#0d0887\"], [0.1111111111111111, \"#46039f\"], [0.2222222222222222, \"#7201a8\"], [0.3333333333333333, \"#9c179e\"], [0.4444444444444444, \"#bd3786\"], [0.5555555555555556, \"#d8576b\"], [0.6666666666666666, \"#ed7953\"], [0.7777777777777778, \"#fb9f3a\"], [0.8888888888888888, \"#fdca26\"], [1.0, \"#f0f921\"]], \"type\": \"histogram2d\"}], \"histogram2dcontour\": [{\"colorbar\": {\"outlinewidth\": 0, \"ticks\": \"\"}, \"colorscale\": [[0.0, \"#0d0887\"], [0.1111111111111111, \"#46039f\"], [0.2222222222222222, \"#7201a8\"], [0.3333333333333333, \"#9c179e\"], [0.4444444444444444, \"#bd3786\"], [0.5555555555555556, \"#d8576b\"], [0.6666666666666666, \"#ed7953\"], [0.7777777777777778, \"#fb9f3a\"], [0.8888888888888888, \"#fdca26\"], [1.0, \"#f0f921\"]], \"type\": \"histogram2dcontour\"}], \"mesh3d\": [{\"colorbar\": {\"outlinewidth\": 0, \"ticks\": \"\"}, \"type\": \"mesh3d\"}], \"parcoords\": [{\"line\": {\"colorbar\": {\"outlinewidth\": 0, \"ticks\": \"\"}}, \"type\": \"parcoords\"}], \"pie\": [{\"automargin\": true, \"type\": \"pie\"}], \"scatter\": [{\"marker\": {\"colorbar\": {\"outlinewidth\": 0, \"ticks\": \"\"}}, \"type\": \"scatter\"}], \"scatter3d\": [{\"line\": {\"colorbar\": {\"outlinewidth\": 0, \"ticks\": \"\"}}, \"marker\": {\"colorbar\": {\"outlinewidth\": 0, \"ticks\": \"\"}}, \"type\": \"scatter3d\"}], \"scattercarpet\": [{\"marker\": {\"colorbar\": {\"outlinewidth\": 0, \"ticks\": \"\"}}, \"type\": \"scattercarpet\"}], \"scattergeo\": [{\"marker\": {\"colorbar\": {\"outlinewidth\": 0, \"ticks\": \"\"}}, \"type\": \"scattergeo\"}], \"scattergl\": [{\"marker\": {\"colorbar\": {\"outlinewidth\": 0, \"ticks\": \"\"}}, \"type\": \"scattergl\"}], \"scattermapbox\": [{\"marker\": {\"colorbar\": {\"outlinewidth\": 0, \"ticks\": \"\"}}, \"type\": \"scattermapbox\"}], \"scatterpolar\": [{\"marker\": {\"colorbar\": {\"outlinewidth\": 0, \"ticks\": \"\"}}, \"type\": \"scatterpolar\"}], \"scatterpolargl\": [{\"marker\": {\"colorbar\": {\"outlinewidth\": 0, \"ticks\": \"\"}}, \"type\": \"scatterpolargl\"}], \"scatterternary\": [{\"marker\": {\"colorbar\": {\"outlinewidth\": 0, \"ticks\": \"\"}}, \"type\": \"scatterternary\"}], \"surface\": [{\"colorbar\": {\"outlinewidth\": 0, \"ticks\": \"\"}, \"colorscale\": [[0.0, \"#0d0887\"], [0.1111111111111111, \"#46039f\"], [0.2222222222222222, \"#7201a8\"], [0.3333333333333333, \"#9c179e\"], [0.4444444444444444, \"#bd3786\"], [0.5555555555555556, \"#d8576b\"], [0.6666666666666666, \"#ed7953\"], [0.7777777777777778, \"#fb9f3a\"], [0.8888888888888888, \"#fdca26\"], [1.0, \"#f0f921\"]], \"type\": \"surface\"}], \"table\": [{\"cells\": {\"fill\": {\"color\": \"#EBF0F8\"}, \"line\": {\"color\": \"white\"}}, \"header\": {\"fill\": {\"color\": \"#C8D4E3\"}, \"line\": {\"color\": \"white\"}}, \"type\": \"table\"}]}, \"layout\": {\"annotationdefaults\": {\"arrowcolor\": \"#2a3f5f\", \"arrowhead\": 0, \"arrowwidth\": 1}, \"coloraxis\": {\"colorbar\": {\"outlinewidth\": 0, \"ticks\": \"\"}}, \"colorscale\": {\"diverging\": [[0, \"#8e0152\"], [0.1, \"#c51b7d\"], [0.2, \"#de77ae\"], [0.3, \"#f1b6da\"], [0.4, \"#fde0ef\"], [0.5, \"#f7f7f7\"], [0.6, \"#e6f5d0\"], [0.7, \"#b8e186\"], [0.8, \"#7fbc41\"], [0.9, \"#4d9221\"], [1, \"#276419\"]], \"sequential\": [[0.0, \"#0d0887\"], [0.1111111111111111, \"#46039f\"], [0.2222222222222222, \"#7201a8\"], [0.3333333333333333, \"#9c179e\"], [0.4444444444444444, \"#bd3786\"], [0.5555555555555556, \"#d8576b\"], [0.6666666666666666, \"#ed7953\"], [0.7777777777777778, \"#fb9f3a\"], [0.8888888888888888, \"#fdca26\"], [1.0, \"#f0f921\"]], \"sequentialminus\": [[0.0, \"#0d0887\"], [0.1111111111111111, \"#46039f\"], [0.2222222222222222, \"#7201a8\"], [0.3333333333333333, \"#9c179e\"], [0.4444444444444444, \"#bd3786\"], [0.5555555555555556, \"#d8576b\"], [0.6666666666666666, \"#ed7953\"], [0.7777777777777778, \"#fb9f3a\"], [0.8888888888888888, \"#fdca26\"], [1.0, \"#f0f921\"]]}, \"colorway\": [\"#636efa\", \"#EF553B\", \"#00cc96\", \"#ab63fa\", \"#FFA15A\", \"#19d3f3\", \"#FF6692\", \"#B6E880\", \"#FF97FF\", \"#FECB52\"], \"font\": {\"color\": \"#2a3f5f\"}, \"geo\": {\"bgcolor\": \"white\", \"lakecolor\": \"white\", \"landcolor\": \"#E5ECF6\", \"showlakes\": true, \"showland\": true, \"subunitcolor\": \"white\"}, \"hoverlabel\": {\"align\": \"left\"}, \"hovermode\": \"closest\", \"mapbox\": {\"style\": \"light\"}, \"paper_bgcolor\": \"white\", \"plot_bgcolor\": \"#E5ECF6\", \"polar\": {\"angularaxis\": {\"gridcolor\": \"white\", \"linecolor\": \"white\", \"ticks\": \"\"}, \"bgcolor\": \"#E5ECF6\", \"radialaxis\": {\"gridcolor\": \"white\", \"linecolor\": \"white\", \"ticks\": \"\"}}, \"scene\": {\"xaxis\": {\"backgroundcolor\": \"#E5ECF6\", \"gridcolor\": \"white\", \"gridwidth\": 2, \"linecolor\": \"white\", \"showbackground\": true, \"ticks\": \"\", \"zerolinecolor\": \"white\"}, \"yaxis\": {\"backgroundcolor\": \"#E5ECF6\", \"gridcolor\": \"white\", \"gridwidth\": 2, \"linecolor\": \"white\", \"showbackground\": true, \"ticks\": \"\", \"zerolinecolor\": \"white\"}, \"zaxis\": {\"backgroundcolor\": \"#E5ECF6\", \"gridcolor\": \"white\", \"gridwidth\": 2, \"linecolor\": \"white\", \"showbackground\": true, \"ticks\": \"\", \"zerolinecolor\": \"white\"}}, \"shapedefaults\": {\"line\": {\"color\": \"#2a3f5f\"}}, \"ternary\": {\"aaxis\": {\"gridcolor\": \"white\", \"linecolor\": \"white\", \"ticks\": \"\"}, \"baxis\": {\"gridcolor\": \"white\", \"linecolor\": \"white\", \"ticks\": \"\"}, \"bgcolor\": \"#E5ECF6\", \"caxis\": {\"gridcolor\": \"white\", \"linecolor\": \"white\", \"ticks\": \"\"}}, \"title\": {\"x\": 0.05}, \"xaxis\": {\"automargin\": true, \"gridcolor\": \"white\", \"linecolor\": \"white\", \"ticks\": \"\", \"title\": {\"standoff\": 15}, \"zerolinecolor\": \"white\", \"zerolinewidth\": 2}, \"yaxis\": {\"automargin\": true, \"gridcolor\": \"white\", \"linecolor\": \"white\", \"ticks\": \"\", \"title\": {\"standoff\": 15}, \"zerolinecolor\": \"white\", \"zerolinewidth\": 2}}}, \"xaxis\": {\"anchor\": \"y\", \"categoryorder\": \"total descending\", \"domain\": [0.0, 1.0], \"title\": {\"text\": \"heating_type\"}}, \"yaxis\": {\"anchor\": \"x\", \"domain\": [0.0, 1.0], \"title\": {\"text\": \"count\"}}},\n",
              "                        {\"responsive\": true}\n",
              "                    ).then(function(){\n",
              "                            \n",
              "var gd = document.getElementById('3352da96-91db-4470-a846-b4622ffa8d76');\n",
              "var x = new MutationObserver(function (mutations, observer) {{\n",
              "        var display = window.getComputedStyle(gd).display;\n",
              "        if (!display || display === 'none') {{\n",
              "            console.log([gd, 'removed!']);\n",
              "            Plotly.purge(gd);\n",
              "            observer.disconnect();\n",
              "        }}\n",
              "}});\n",
              "\n",
              "// Listen for the removal of the full notebook cells\n",
              "var notebookContainer = gd.closest('#notebook-container');\n",
              "if (notebookContainer) {{\n",
              "    x.observe(notebookContainer, {childList: true});\n",
              "}}\n",
              "\n",
              "// Listen for the clearing of the current output cell\n",
              "var outputEl = gd.closest('.output');\n",
              "if (outputEl) {{\n",
              "    x.observe(outputEl, {childList: true});\n",
              "}}\n",
              "\n",
              "                        })\n",
              "                };\n",
              "                \n",
              "            </script>\n",
              "        </div>\n",
              "</body>\n",
              "</html>"
            ]
          },
          "metadata": {}
        }
      ]
    },
    {
      "cell_type": "code",
      "metadata": {
        "colab": {
          "base_uri": "https://localhost:8080/",
          "height": 542
        },
        "id": "NrirB8qmbKL4",
        "outputId": "681718b1-32ce-47bb-cfbe-1ab8d31c312f"
      },
      "source": [
        "# Notice that the heating_type actually has 249 NaN values. The plotting doesn't reflect this by default.\n",
        "# You can fill in all NaN values with some custom default value to make it visible in the plot.\n",
        "df['heating_type'] = df['heating_type'].fillna('UNKOWN')\n",
        "px.histogram(df, x='heating_type').update_xaxes(categoryorder=\"total descending\")"
      ],
      "execution_count": 157,
      "outputs": [
        {
          "output_type": "display_data",
          "data": {
            "text/html": [
              "<html>\n",
              "<head><meta charset=\"utf-8\" /></head>\n",
              "<body>\n",
              "    <div>\n",
              "            <script src=\"https://cdnjs.cloudflare.com/ajax/libs/mathjax/2.7.5/MathJax.js?config=TeX-AMS-MML_SVG\"></script><script type=\"text/javascript\">if (window.MathJax) {MathJax.Hub.Config({SVG: {font: \"STIX-Web\"}});}</script>\n",
              "                <script type=\"text/javascript\">window.PlotlyConfig = {MathJaxConfig: 'local'};</script>\n",
              "        <script src=\"https://cdn.plot.ly/plotly-latest.min.js\"></script>    \n",
              "            <div id=\"fea8190f-3c7e-438a-abe7-6d1b60c2566d\" class=\"plotly-graph-div\" style=\"height:525px; width:100%;\"></div>\n",
              "            <script type=\"text/javascript\">\n",
              "                \n",
              "                    window.PLOTLYENV=window.PLOTLYENV || {};\n",
              "                    \n",
              "                if (document.getElementById(\"fea8190f-3c7e-438a-abe7-6d1b60c2566d\")) {\n",
              "                    Plotly.newPlot(\n",
              "                        'fea8190f-3c7e-438a-abe7-6d1b60c2566d',\n",
              "                        [{\"alignmentgroup\": \"True\", \"bingroup\": \"x\", \"hoverlabel\": {\"namelength\": 0}, \"hovertemplate\": \"heating_type=%{x}<br>count=%{y}\", \"legendgroup\": \"\", \"marker\": {\"color\": \"#636efa\"}, \"name\": \"\", \"offsetgroup\": \"\", \"orientation\": \"v\", \"showlegend\": false, \"type\": \"histogram\", \"x\": [\"Underfloor Heating\", \"Central Heating\", \"Central Heating\", \"UNKOWN\", \"Central Heating\", \"Central Heating\", \"UNKOWN\", \"Central Heating\", \"District Heating\", \"Underfloor Heating\", \"Underfloor Heating\", \"Central Heating\", \"Underfloor Heating\", \"Underfloor Heating\", \"District Heating\", \"Underfloor Heating\", \"UNKOWN\", \"UNKOWN\", \"UNKOWN\", \"Underfloor Heating\", \"UNKOWN\", \"Central Heating\", \"UNKOWN\", \"UNKOWN\", \"Central Heating\", \"UNKOWN\", \"Central Heating\", \"UNKOWN\", \"Underfloor Heating\", \"Central Heating\", \"Underfloor Heating\", \"Underfloor Heating\", \"District Heating\", \"UNKOWN\", \"UNKOWN\", \"Underfloor Heating\", \"Underfloor Heating\", \"Central Heating\", \"Central Heating\", \"Underfloor Heating\", \"Central Heating\", \"District Heating\", \"Floor Heating\", \"District Heating\", \"Central Heating\", \"Underfloor Heating\", \"Central Heating\", \"UNKOWN\", \"Underfloor Heating\", \"Central Heating\", \"Central Heating\", \"Central Heating\", \"Central Heating\", \"Floor Heating\", \"Central Heating\", \"UNKOWN\", \"District Heating\", \"Central Heating\", \"Central Heating\", \"Central Heating\", \"Central Heating\", \"Central Heating\", \"UNKOWN\", \"Central Heating\", \"UNKOWN\", \"UNKOWN\", \"Central Heating\", \"Underfloor Heating\", \"Central Heating\", \"Central Heating\", \"Central Heating\", \"District Heating\", \"Underfloor Heating\", \"District Heating\", \"UNKOWN\", \"UNKOWN\", \"UNKOWN\", \"Central Heating\", \"District Heating\", \"UNKOWN\", \"Underfloor Heating\", \"Central Heating\", \"UNKOWN\", \"Gas Heating\", \"UNKOWN\", \"UNKOWN\", \"UNKOWN\", \"Central Heating\", \"Central Heating\", \"Underfloor Heating\", \"Underfloor Heating\", \"UNKOWN\", \"Underfloor Heating\", \"UNKOWN\", \"UNKOWN\", \"Underfloor Heating\", \"District Heating\", \"UNKOWN\", \"Central Heating\", \"UNKOWN\", \"UNKOWN\", \"UNKOWN\", \"Floor Heating\", \"UNKOWN\", \"UNKOWN\", \"UNKOWN\", \"UNKOWN\", \"UNKOWN\", \"Underfloor Heating\", \"Central Heating\", \"UNKOWN\", \"Central Heating\", \"Central Heating\", \"UNKOWN\", \"Central Heating\", \"District Heating\", \"Central Heating\", \"UNKOWN\", \"Central Heating\", \"UNKOWN\", \"Underfloor Heating\", \"Gas Heating\", \"Underfloor Heating\", \"Floor Heating\", \"Central Heating\", \"Floor Heating\", \"Underfloor Heating\", \"Central Heating\", \"District Heating\", \"UNKOWN\", \"UNKOWN\", \"UNKOWN\", \"UNKOWN\", \"UNKOWN\", \"District Heating\", \"District Heating\", \"UNKOWN\", \"District Heating\", \"District Heating\", \"Underfloor Heating\", \"Underfloor Heating\", \"District Heating\", \"UNKOWN\", \"Underfloor Heating\", \"Underfloor Heating\", \"Underfloor Heating\", \"District Heating\", \"Underfloor Heating\", \"Central Heating\", \"Underfloor Heating\", \"Underfloor Heating\", \"Central Heating\", \"UNKOWN\", \"Underfloor Heating\", \"District Heating\", \"Central Heating\", \"District Heating\", \"Central Heating\", \"Underfloor Heating\", \"Central Heating\", \"UNKOWN\", \"Central Heating\", \"Central Heating\", \"Central Heating\", \"Central Heating\", \"Central Heating\", \"Central Heating\", \"Underfloor Heating\", \"UNKOWN\", \"UNKOWN\", \"Central Heating\", \"Central Heating\", \"Central Heating\", \"Central Heating\", \"Central Heating\", \"District Heating\", \"District Heating\", \"UNKOWN\", \"UNKOWN\", \"Central Heating\", \"Underfloor Heating\", \"UNKOWN\", \"UNKOWN\", \"District Heating\", \"Central Heating\", \"UNKOWN\", \"Floor Heating\", \"District Heating\", \"District Heating\", \"District Heating\", \"Central Heating\", \"UNKOWN\", \"District Heating\", \"Underfloor Heating\", \"UNKOWN\", \"Central Heating\", \"District Heating\", \"Central Heating\", \"UNKOWN\", \"Underfloor Heating\", \"Underfloor Heating\", \"District Heating\", \"UNKOWN\", \"Central Heating\", \"UNKOWN\", \"UNKOWN\", \"Central Heating\", \"Central Heating\", \"Central Heating\", \"District Heating\", \"District Heating\", \"UNKOWN\", \"Central Heating\", \"UNKOWN\", \"UNKOWN\", \"Floor Heating\", \"Floor Heating\", \"Underfloor Heating\", \"Floor Heating\", \"Central Heating\", \"UNKOWN\", \"Floor Heating\", \"Floor Heating\", \"Central Heating\", \"UNKOWN\", \"District Heating\", \"District Heating\", \"UNKOWN\", \"Central Heating\", \"Central Heating\", \"Central Heating\", \"Central Heating\", \"District Heating\", \"District Heating\", \"Central Heating\", \"Underfloor Heating\", \"Floor Heating\", \"UNKOWN\", \"UNKOWN\", \"Central Heating\", \"Central Heating\", \"UNKOWN\", \"District Heating\", \"Underfloor Heating\", \"Central Heating\", \"UNKOWN\", \"Central Heating\", \"Underfloor Heating\", \"Central Heating\", \"Central Heating\", \"Underfloor Heating\", \"Underfloor Heating\", \"Underfloor Heating\", \"Underfloor Heating\", \"CHP Plants\", \"District Heating\", \"District Heating\", \"District Heating\", \"Central Heating\", \"UNKOWN\", \"UNKOWN\", \"UNKOWN\", \"Underfloor Heating\", \"Underfloor Heating\", \"District Heating\", \"UNKOWN\", \"Central Heating\", \"UNKOWN\", \"Underfloor Heating\", \"Underfloor Heating\", \"Central Heating\", \"Central Heating\", \"Underfloor Heating\", \"Central Heating\", \"Floor Heating\", \"Central Heating\", \"UNKOWN\", \"Central Heating\", \"Central Heating\", \"Central Heating\", \"District Heating\", \"Central Heating\", \"District Heating\", \"Central Heating\", \"Central Heating\", \"UNKOWN\", \"Central Heating\", \"Central Heating\", \"Underfloor Heating\", \"UNKOWN\", \"Central Heating\", \"Central Heating\", \"Central Heating\", \"UNKOWN\", \"Central Heating\", \"Central Heating\", \"Central Heating\", \"Central Heating\", \"UNKOWN\", \"UNKOWN\", \"Central Heating\", \"Central Heating\", \"Central Heating\", \"Floor Heating\", \"Central Heating\", \"Central Heating\", \"Central Heating\", \"UNKOWN\", \"Central Heating\", \"UNKOWN\", \"Underfloor Heating\", \"Central Heating\", \"Central Heating\", \"Floor Heating\", \"Floor Heating\", \"Central Heating\", \"Underfloor Heating\", \"Underfloor Heating\", \"District Heating\", \"District Heating\", \"District Heating\", \"District Heating\", \"Central Heating\", \"Central Heating\", \"Central Heating\", \"District Heating\", \"Central Heating\", \"Central Heating\", \"Underfloor Heating\", \"Central Heating\", \"Central Heating\", \"Gas Heating\", \"Central Heating\", \"Central Heating\", \"Central Heating\", \"CHP Plants\", \"UNKOWN\", \"UNKOWN\", \"UNKOWN\", \"Underfloor Heating\", \"UNKOWN\", \"UNKOWN\", \"UNKOWN\", \"District Heating\", \"UNKOWN\", \"UNKOWN\", \"Underfloor Heating\", \"UNKOWN\", \"UNKOWN\", \"UNKOWN\", \"UNKOWN\", \"UNKOWN\", \"UNKOWN\", \"UNKOWN\", \"UNKOWN\", \"District Heating\", \"Underfloor Heating\", \"UNKOWN\", \"UNKOWN\", \"UNKOWN\", \"Underfloor Heating\", \"UNKOWN\", \"District Heating\", \"District Heating\", \"UNKOWN\", \"UNKOWN\", \"UNKOWN\", \"Underfloor Heating\", \"UNKOWN\", \"Floor Heating\", \"UNKOWN\", \"UNKOWN\", \"Floor Heating\", \"UNKOWN\", \"UNKOWN\", \"UNKOWN\", \"UNKOWN\", \"Gas Heating\", \"UNKOWN\", \"Floor Heating\", \"UNKOWN\", \"UNKOWN\", \"UNKOWN\", \"UNKOWN\", \"UNKOWN\", \"UNKOWN\", \"Underfloor Heating\", \"Central Heating\", \"UNKOWN\", \"UNKOWN\", \"Underfloor Heating\", \"Central Heating\", \"UNKOWN\", \"Underfloor Heating\", \"Underfloor Heating\", \"Underfloor Heating\", \"UNKOWN\", \"UNKOWN\", \"Floor Heating\", \"UNKOWN\", \"UNKOWN\", \"Central Heating\", \"UNKOWN\", \"Underfloor Heating\", \"Central Heating\", \"Underfloor Heating\", \"Central Heating\", \"UNKOWN\", \"Central Heating\", \"Central Heating\", \"UNKOWN\", \"Central Heating\", \"UNKOWN\", \"District Heating\", \"UNKOWN\", \"UNKOWN\", \"Central Heating\", \"UNKOWN\", \"UNKOWN\", \"UNKOWN\", \"District Heating\", \"Underfloor Heating\", \"District Heating\", \"UNKOWN\", \"Central Heating\", \"District Heating\", \"UNKOWN\", \"Central Heating\", \"UNKOWN\", \"District Heating\", \"UNKOWN\", \"Underfloor Heating\", \"Underfloor Heating\", \"Underfloor Heating\", \"Underfloor Heating\", \"UNKOWN\", \"Underfloor Heating\", \"UNKOWN\", \"Underfloor Heating\", \"Underfloor Heating\", \"Underfloor Heating\", \"Underfloor Heating\", \"Underfloor Heating\", \"Underfloor Heating\", \"UNKOWN\", \"UNKOWN\", \"Central Heating\", \"UNKOWN\", \"District Heating\", \"UNKOWN\", \"Underfloor Heating\", \"Underfloor Heating\", \"Underfloor Heating\", \"UNKOWN\", \"UNKOWN\", \"Central Heating\", \"Central Heating\", \"Central Heating\", \"Underfloor Heating\", \"UNKOWN\", \"UNKOWN\", \"UNKOWN\", \"Underfloor Heating\", \"Central Heating\", \"Underfloor Heating\", \"District Heating\", \"Underfloor Heating\", \"Gas Heating\", \"District Heating\", \"Underfloor Heating\", \"UNKOWN\", \"UNKOWN\", \"District Heating\", \"Central Heating\", \"UNKOWN\", \"UNKOWN\", \"UNKOWN\", \"UNKOWN\", \"UNKOWN\", \"UNKOWN\", \"UNKOWN\", \"UNKOWN\", \"UNKOWN\", \"UNKOWN\", \"Underfloor Heating\", \"Underfloor Heating\", \"Underfloor Heating\", \"District Heating\", \"UNKOWN\", \"Central Heating\", \"Central Heating\", \"Central Heating\", \"UNKOWN\", \"UNKOWN\", \"UNKOWN\", \"Central Heating\", \"UNKOWN\", \"Central Heating\", \"District Heating\", \"Central Heating\", \"UNKOWN\", \"UNKOWN\", \"Central Heating\", \"Underfloor Heating\", \"District Heating\", \"District Heating\", \"Central Heating\", \"Underfloor Heating\", \"District Heating\", \"Central Heating\", \"UNKOWN\", \"UNKOWN\", \"UNKOWN\", \"UNKOWN\", \"Gas Heating\", \"Gas Heating\", \"UNKOWN\", \"UNKOWN\", \"District Heating\", \"UNKOWN\", \"UNKOWN\", \"UNKOWN\", \"UNKOWN\", \"UNKOWN\", \"UNKOWN\", \"UNKOWN\", \"Central Heating\", \"District Heating\", \"UNKOWN\", \"Central Heating\", \"Central Heating\", \"UNKOWN\", \"District Heating\", \"Central Heating\", \"UNKOWN\", \"UNKOWN\", \"Floor Heating\", \"UNKOWN\", \"District Heating\", \"District Heating\", \"UNKOWN\", \"UNKOWN\", \"UNKOWN\", \"Underfloor Heating\", \"Central Heating\", \"Underfloor Heating\", \"UNKOWN\", \"District Heating\", \"UNKOWN\", \"UNKOWN\", \"UNKOWN\", \"District Heating\", \"UNKOWN\", \"Floor Heating\", \"District Heating\", \"Central Heating\", \"Central Heating\", \"UNKOWN\", \"District Heating\", \"UNKOWN\", \"Gas Heating\", \"Underfloor Heating\", \"Central Heating\", \"District Heating\", \"UNKOWN\", \"Underfloor Heating\", \"District Heating\", \"District Heating\", \"District Heating\", \"Underfloor Heating\", \"Central Heating\", \"Central Heating\", \"Central Heating\", \"UNKOWN\", \"District Heating\", \"District Heating\", \"Central Heating\", \"District Heating\", \"Central Heating\", \"District Heating\", \"Central Heating\", \"District Heating\", \"District Heating\", \"UNKOWN\", \"District Heating\", \"District Heating\", \"Central Heating\", \"District Heating\", \"Underfloor Heating\", \"UNKOWN\", \"Central Heating\", \"Central Heating\", \"Central Heating\", \"Underfloor Heating\", \"Central Heating\", \"UNKOWN\", \"Central Heating\", \"UNKOWN\", \"UNKOWN\", \"UNKOWN\", \"District Heating\", \"Underfloor Heating\", \"Central Heating\", \"UNKOWN\", \"UNKOWN\", \"UNKOWN\", \"District Heating\", \"Underfloor Heating\", \"Underfloor Heating\", \"District Heating\", \"District Heating\", \"District Heating\", \"UNKOWN\", \"District Heating\", \"UNKOWN\", \"Underfloor Heating\", \"UNKOWN\", \"District Heating\", \"UNKOWN\", \"District Heating\", \"District Heating\", \"District Heating\", \"District Heating\", \"Floor Heating\", \"District Heating\", \"District Heating\", \"District Heating\", \"District Heating\", \"District Heating\", \"District Heating\", \"District Heating\", \"District Heating\", \"District Heating\", \"UNKOWN\", \"District Heating\", \"District Heating\", \"District Heating\", \"Central Heating\", \"District Heating\", \"Gas Heating\", \"Underfloor Heating\", \"District Heating\", \"UNKOWN\", \"District Heating\", \"Underfloor Heating\", \"Central Heating\", \"Underfloor Heating\", \"District Heating\", \"Central Heating\", \"District Heating\", \"Central Heating\", \"Central Heating\", \"UNKOWN\", \"Underfloor Heating\", \"District Heating\", \"Central Heating\", \"UNKOWN\", \"UNKOWN\", \"District Heating\", \"Central Heating\", \"District Heating\", \"UNKOWN\", \"District Heating\", \"Underfloor Heating\", \"District Heating\", \"Central Heating\", \"District Heating\", \"District Heating\", \"District Heating\", \"District Heating\", \"District Heating\", \"District Heating\", \"District Heating\", \"Central Heating\", \"Central Heating\", \"Central Heating\", \"District Heating\", \"District Heating\", \"District Heating\", \"District Heating\", \"Gas Heating\", \"Underfloor Heating\", \"Underfloor Heating\", \"District Heating\", \"District Heating\", \"District Heating\", \"Central Heating\", \"UNKOWN\", \"District Heating\", \"District Heating\", \"UNKOWN\", \"Central Heating\", \"Central Heating\", \"Underfloor Heating\", \"UNKOWN\", \"District Heating\", \"UNKOWN\", \"UNKOWN\", \"District Heating\", \"UNKOWN\", \"Underfloor Heating\", \"District Heating\", \"District Heating\", \"Central Heating\", \"UNKOWN\", \"District Heating\", \"District Heating\", \"District Heating\", \"District Heating\", \"Central Heating\", \"UNKOWN\", \"District Heating\", \"UNKOWN\", \"Underfloor Heating\", \"District Heating\", \"Central Heating\", \"Central Heating\", \"Underfloor Heating\", \"Underfloor Heating\", \"UNKOWN\", \"UNKOWN\", \"Underfloor Heating\", \"UNKOWN\", \"UNKOWN\", \"Central Heating\", \"Central Heating\", \"District Heating\", \"Underfloor Heating\", \"UNKOWN\", \"UNKOWN\", \"UNKOWN\", \"Underfloor Heating\", \"Central Heating\", \"Underfloor Heating\", \"Underfloor Heating\", \"UNKOWN\", \"Underfloor Heating\", \"UNKOWN\", \"UNKOWN\", \"UNKOWN\", \"Wood Pellet Heating\", \"District Heating\", \"Central Heating\", \"UNKOWN\", \"UNKOWN\", \"Wood Pellet Heating\", \"Central Heating\", \"Central Heating\", \"Underfloor Heating\", \"Central Heating\", \"Central Heating\", \"District Heating\", \"UNKOWN\", \"Central Heating\", \"Central Heating\", \"Floor Heating\", \"Central Heating\", \"UNKOWN\", \"UNKOWN\", \"Central Heating\", \"Central Heating\", \"UNKOWN\", \"Underfloor Heating\", \"UNKOWN\"], \"xaxis\": \"x\", \"yaxis\": \"y\"}],\n",
              "                        {\"barmode\": \"relative\", \"legend\": {\"tracegroupgap\": 0}, \"margin\": {\"t\": 60}, \"template\": {\"data\": {\"bar\": [{\"error_x\": {\"color\": \"#2a3f5f\"}, \"error_y\": {\"color\": \"#2a3f5f\"}, \"marker\": {\"line\": {\"color\": \"#E5ECF6\", \"width\": 0.5}}, \"type\": \"bar\"}], \"barpolar\": [{\"marker\": {\"line\": {\"color\": \"#E5ECF6\", \"width\": 0.5}}, \"type\": \"barpolar\"}], \"carpet\": [{\"aaxis\": {\"endlinecolor\": \"#2a3f5f\", \"gridcolor\": \"white\", \"linecolor\": \"white\", \"minorgridcolor\": \"white\", \"startlinecolor\": \"#2a3f5f\"}, \"baxis\": {\"endlinecolor\": \"#2a3f5f\", \"gridcolor\": \"white\", \"linecolor\": \"white\", \"minorgridcolor\": \"white\", \"startlinecolor\": \"#2a3f5f\"}, \"type\": \"carpet\"}], \"choropleth\": [{\"colorbar\": {\"outlinewidth\": 0, \"ticks\": \"\"}, \"type\": \"choropleth\"}], \"contour\": [{\"colorbar\": {\"outlinewidth\": 0, \"ticks\": \"\"}, \"colorscale\": [[0.0, \"#0d0887\"], [0.1111111111111111, \"#46039f\"], [0.2222222222222222, \"#7201a8\"], [0.3333333333333333, \"#9c179e\"], [0.4444444444444444, \"#bd3786\"], [0.5555555555555556, \"#d8576b\"], [0.6666666666666666, \"#ed7953\"], [0.7777777777777778, \"#fb9f3a\"], [0.8888888888888888, \"#fdca26\"], [1.0, \"#f0f921\"]], \"type\": \"contour\"}], \"contourcarpet\": [{\"colorbar\": {\"outlinewidth\": 0, \"ticks\": \"\"}, \"type\": \"contourcarpet\"}], \"heatmap\": [{\"colorbar\": {\"outlinewidth\": 0, \"ticks\": \"\"}, \"colorscale\": [[0.0, \"#0d0887\"], [0.1111111111111111, \"#46039f\"], [0.2222222222222222, \"#7201a8\"], [0.3333333333333333, \"#9c179e\"], [0.4444444444444444, \"#bd3786\"], [0.5555555555555556, \"#d8576b\"], [0.6666666666666666, \"#ed7953\"], [0.7777777777777778, \"#fb9f3a\"], [0.8888888888888888, \"#fdca26\"], [1.0, \"#f0f921\"]], \"type\": \"heatmap\"}], \"heatmapgl\": [{\"colorbar\": {\"outlinewidth\": 0, \"ticks\": \"\"}, \"colorscale\": [[0.0, \"#0d0887\"], [0.1111111111111111, \"#46039f\"], [0.2222222222222222, \"#7201a8\"], [0.3333333333333333, \"#9c179e\"], [0.4444444444444444, \"#bd3786\"], [0.5555555555555556, \"#d8576b\"], [0.6666666666666666, \"#ed7953\"], [0.7777777777777778, \"#fb9f3a\"], [0.8888888888888888, \"#fdca26\"], [1.0, \"#f0f921\"]], \"type\": \"heatmapgl\"}], \"histogram\": [{\"marker\": {\"colorbar\": {\"outlinewidth\": 0, \"ticks\": \"\"}}, \"type\": \"histogram\"}], \"histogram2d\": [{\"colorbar\": {\"outlinewidth\": 0, \"ticks\": \"\"}, \"colorscale\": [[0.0, \"#0d0887\"], [0.1111111111111111, \"#46039f\"], [0.2222222222222222, \"#7201a8\"], [0.3333333333333333, \"#9c179e\"], [0.4444444444444444, \"#bd3786\"], [0.5555555555555556, \"#d8576b\"], [0.6666666666666666, \"#ed7953\"], [0.7777777777777778, \"#fb9f3a\"], [0.8888888888888888, \"#fdca26\"], [1.0, \"#f0f921\"]], \"type\": \"histogram2d\"}], \"histogram2dcontour\": [{\"colorbar\": {\"outlinewidth\": 0, \"ticks\": \"\"}, \"colorscale\": [[0.0, \"#0d0887\"], [0.1111111111111111, \"#46039f\"], [0.2222222222222222, \"#7201a8\"], [0.3333333333333333, \"#9c179e\"], [0.4444444444444444, \"#bd3786\"], [0.5555555555555556, \"#d8576b\"], [0.6666666666666666, \"#ed7953\"], [0.7777777777777778, \"#fb9f3a\"], [0.8888888888888888, \"#fdca26\"], [1.0, \"#f0f921\"]], \"type\": \"histogram2dcontour\"}], \"mesh3d\": [{\"colorbar\": {\"outlinewidth\": 0, \"ticks\": \"\"}, \"type\": \"mesh3d\"}], \"parcoords\": [{\"line\": {\"colorbar\": {\"outlinewidth\": 0, \"ticks\": \"\"}}, \"type\": \"parcoords\"}], \"pie\": [{\"automargin\": true, \"type\": \"pie\"}], \"scatter\": [{\"marker\": {\"colorbar\": {\"outlinewidth\": 0, \"ticks\": \"\"}}, \"type\": \"scatter\"}], \"scatter3d\": [{\"line\": {\"colorbar\": {\"outlinewidth\": 0, \"ticks\": \"\"}}, \"marker\": {\"colorbar\": {\"outlinewidth\": 0, \"ticks\": \"\"}}, \"type\": \"scatter3d\"}], \"scattercarpet\": [{\"marker\": {\"colorbar\": {\"outlinewidth\": 0, \"ticks\": \"\"}}, \"type\": \"scattercarpet\"}], \"scattergeo\": [{\"marker\": {\"colorbar\": {\"outlinewidth\": 0, \"ticks\": \"\"}}, \"type\": \"scattergeo\"}], \"scattergl\": [{\"marker\": {\"colorbar\": {\"outlinewidth\": 0, \"ticks\": \"\"}}, \"type\": \"scattergl\"}], \"scattermapbox\": [{\"marker\": {\"colorbar\": {\"outlinewidth\": 0, \"ticks\": \"\"}}, \"type\": \"scattermapbox\"}], \"scatterpolar\": [{\"marker\": {\"colorbar\": {\"outlinewidth\": 0, \"ticks\": \"\"}}, \"type\": \"scatterpolar\"}], \"scatterpolargl\": [{\"marker\": {\"colorbar\": {\"outlinewidth\": 0, \"ticks\": \"\"}}, \"type\": \"scatterpolargl\"}], \"scatterternary\": [{\"marker\": {\"colorbar\": {\"outlinewidth\": 0, \"ticks\": \"\"}}, \"type\": \"scatterternary\"}], \"surface\": [{\"colorbar\": {\"outlinewidth\": 0, \"ticks\": \"\"}, \"colorscale\": [[0.0, \"#0d0887\"], [0.1111111111111111, \"#46039f\"], [0.2222222222222222, \"#7201a8\"], [0.3333333333333333, \"#9c179e\"], [0.4444444444444444, \"#bd3786\"], [0.5555555555555556, \"#d8576b\"], [0.6666666666666666, \"#ed7953\"], [0.7777777777777778, \"#fb9f3a\"], [0.8888888888888888, \"#fdca26\"], [1.0, \"#f0f921\"]], \"type\": \"surface\"}], \"table\": [{\"cells\": {\"fill\": {\"color\": \"#EBF0F8\"}, \"line\": {\"color\": \"white\"}}, \"header\": {\"fill\": {\"color\": \"#C8D4E3\"}, \"line\": {\"color\": \"white\"}}, \"type\": \"table\"}]}, \"layout\": {\"annotationdefaults\": {\"arrowcolor\": \"#2a3f5f\", \"arrowhead\": 0, \"arrowwidth\": 1}, \"coloraxis\": {\"colorbar\": {\"outlinewidth\": 0, \"ticks\": \"\"}}, \"colorscale\": {\"diverging\": [[0, \"#8e0152\"], [0.1, \"#c51b7d\"], [0.2, \"#de77ae\"], [0.3, \"#f1b6da\"], [0.4, \"#fde0ef\"], [0.5, \"#f7f7f7\"], [0.6, \"#e6f5d0\"], [0.7, \"#b8e186\"], [0.8, \"#7fbc41\"], [0.9, \"#4d9221\"], [1, \"#276419\"]], \"sequential\": [[0.0, \"#0d0887\"], [0.1111111111111111, \"#46039f\"], [0.2222222222222222, \"#7201a8\"], [0.3333333333333333, \"#9c179e\"], [0.4444444444444444, \"#bd3786\"], [0.5555555555555556, \"#d8576b\"], [0.6666666666666666, \"#ed7953\"], [0.7777777777777778, \"#fb9f3a\"], [0.8888888888888888, \"#fdca26\"], [1.0, \"#f0f921\"]], \"sequentialminus\": [[0.0, \"#0d0887\"], [0.1111111111111111, \"#46039f\"], [0.2222222222222222, \"#7201a8\"], [0.3333333333333333, \"#9c179e\"], [0.4444444444444444, \"#bd3786\"], [0.5555555555555556, \"#d8576b\"], [0.6666666666666666, \"#ed7953\"], [0.7777777777777778, \"#fb9f3a\"], [0.8888888888888888, \"#fdca26\"], [1.0, \"#f0f921\"]]}, \"colorway\": [\"#636efa\", \"#EF553B\", \"#00cc96\", \"#ab63fa\", \"#FFA15A\", \"#19d3f3\", \"#FF6692\", \"#B6E880\", \"#FF97FF\", \"#FECB52\"], \"font\": {\"color\": \"#2a3f5f\"}, \"geo\": {\"bgcolor\": \"white\", \"lakecolor\": \"white\", \"landcolor\": \"#E5ECF6\", \"showlakes\": true, \"showland\": true, \"subunitcolor\": \"white\"}, \"hoverlabel\": {\"align\": \"left\"}, \"hovermode\": \"closest\", \"mapbox\": {\"style\": \"light\"}, \"paper_bgcolor\": \"white\", \"plot_bgcolor\": \"#E5ECF6\", \"polar\": {\"angularaxis\": {\"gridcolor\": \"white\", \"linecolor\": \"white\", \"ticks\": \"\"}, \"bgcolor\": \"#E5ECF6\", \"radialaxis\": {\"gridcolor\": \"white\", \"linecolor\": \"white\", \"ticks\": \"\"}}, \"scene\": {\"xaxis\": {\"backgroundcolor\": \"#E5ECF6\", \"gridcolor\": \"white\", \"gridwidth\": 2, \"linecolor\": \"white\", \"showbackground\": true, \"ticks\": \"\", \"zerolinecolor\": \"white\"}, \"yaxis\": {\"backgroundcolor\": \"#E5ECF6\", \"gridcolor\": \"white\", \"gridwidth\": 2, \"linecolor\": \"white\", \"showbackground\": true, \"ticks\": \"\", \"zerolinecolor\": \"white\"}, \"zaxis\": {\"backgroundcolor\": \"#E5ECF6\", \"gridcolor\": \"white\", \"gridwidth\": 2, \"linecolor\": \"white\", \"showbackground\": true, \"ticks\": \"\", \"zerolinecolor\": \"white\"}}, \"shapedefaults\": {\"line\": {\"color\": \"#2a3f5f\"}}, \"ternary\": {\"aaxis\": {\"gridcolor\": \"white\", \"linecolor\": \"white\", \"ticks\": \"\"}, \"baxis\": {\"gridcolor\": \"white\", \"linecolor\": \"white\", \"ticks\": \"\"}, \"bgcolor\": \"#E5ECF6\", \"caxis\": {\"gridcolor\": \"white\", \"linecolor\": \"white\", \"ticks\": \"\"}}, \"title\": {\"x\": 0.05}, \"xaxis\": {\"automargin\": true, \"gridcolor\": \"white\", \"linecolor\": \"white\", \"ticks\": \"\", \"title\": {\"standoff\": 15}, \"zerolinecolor\": \"white\", \"zerolinewidth\": 2}, \"yaxis\": {\"automargin\": true, \"gridcolor\": \"white\", \"linecolor\": \"white\", \"ticks\": \"\", \"title\": {\"standoff\": 15}, \"zerolinecolor\": \"white\", \"zerolinewidth\": 2}}}, \"xaxis\": {\"anchor\": \"y\", \"categoryorder\": \"total descending\", \"domain\": [0.0, 1.0], \"title\": {\"text\": \"heating_type\"}}, \"yaxis\": {\"anchor\": \"x\", \"domain\": [0.0, 1.0], \"title\": {\"text\": \"count\"}}},\n",
              "                        {\"responsive\": true}\n",
              "                    ).then(function(){\n",
              "                            \n",
              "var gd = document.getElementById('fea8190f-3c7e-438a-abe7-6d1b60c2566d');\n",
              "var x = new MutationObserver(function (mutations, observer) {{\n",
              "        var display = window.getComputedStyle(gd).display;\n",
              "        if (!display || display === 'none') {{\n",
              "            console.log([gd, 'removed!']);\n",
              "            Plotly.purge(gd);\n",
              "            observer.disconnect();\n",
              "        }}\n",
              "}});\n",
              "\n",
              "// Listen for the removal of the full notebook cells\n",
              "var notebookContainer = gd.closest('#notebook-container');\n",
              "if (notebookContainer) {{\n",
              "    x.observe(notebookContainer, {childList: true});\n",
              "}}\n",
              "\n",
              "// Listen for the clearing of the current output cell\n",
              "var outputEl = gd.closest('.output');\n",
              "if (outputEl) {{\n",
              "    x.observe(outputEl, {childList: true});\n",
              "}}\n",
              "\n",
              "                        })\n",
              "                };\n",
              "                \n",
              "            </script>\n",
              "        </div>\n",
              "</body>\n",
              "</html>"
            ]
          },
          "metadata": {}
        }
      ]
    },
    {
      "cell_type": "markdown",
      "metadata": {
        "id": "RLAa7wgu4E0V"
      },
      "source": [
        "## 2. Clean: `renovated_date`\n",
        "\n"
      ]
    },
    {
      "cell_type": "code",
      "metadata": {
        "id": "HOpffadx-EhM",
        "colab": {
          "base_uri": "https://localhost:8080/",
          "height": 542
        },
        "outputId": "516d14f1-3847-4384-cc53-564ff9745f04"
      },
      "source": [
        "# renovated_date has a lot of missing values. The existing renovations are concentrated\n",
        "# after 2015 as the plot shows. \n",
        "px.histogram(df, x='renovated_date')"
      ],
      "execution_count": 158,
      "outputs": [
        {
          "output_type": "display_data",
          "data": {
            "text/html": [
              "<html>\n",
              "<head><meta charset=\"utf-8\" /></head>\n",
              "<body>\n",
              "    <div>\n",
              "            <script src=\"https://cdnjs.cloudflare.com/ajax/libs/mathjax/2.7.5/MathJax.js?config=TeX-AMS-MML_SVG\"></script><script type=\"text/javascript\">if (window.MathJax) {MathJax.Hub.Config({SVG: {font: \"STIX-Web\"}});}</script>\n",
              "                <script type=\"text/javascript\">window.PlotlyConfig = {MathJaxConfig: 'local'};</script>\n",
              "        <script src=\"https://cdn.plot.ly/plotly-latest.min.js\"></script>    \n",
              "            <div id=\"6dfe6ab0-11d4-4a1d-bee5-63bc72e6d6a3\" class=\"plotly-graph-div\" style=\"height:525px; width:100%;\"></div>\n",
              "            <script type=\"text/javascript\">\n",
              "                \n",
              "                    window.PLOTLYENV=window.PLOTLYENV || {};\n",
              "                    \n",
              "                if (document.getElementById(\"6dfe6ab0-11d4-4a1d-bee5-63bc72e6d6a3\")) {\n",
              "                    Plotly.newPlot(\n",
              "                        '6dfe6ab0-11d4-4a1d-bee5-63bc72e6d6a3',\n",
              "                        [{\"alignmentgroup\": \"True\", \"bingroup\": \"x\", \"hoverlabel\": {\"namelength\": 0}, \"hovertemplate\": \"renovated_date=%{x}<br>count=%{y}\", \"legendgroup\": \"\", \"marker\": {\"color\": \"#636efa\"}, \"name\": \"\", \"offsetgroup\": \"\", \"orientation\": \"v\", \"showlegend\": false, \"type\": \"histogram\", \"x\": [null, null, null, null, null, 2019.0, null, null, null, null, null, null, null, null, 2019.0, null, null, null, null, null, null, 2019.0, null, null, 2019.0, null, null, null, null, null, null, null, null, null, null, null, null, null, null, null, null, null, null, 2016.0, null, null, null, null, null, null, null, 2019.0, null, 2016.0, null, null, null, null, null, null, 2019.0, null, null, null, null, null, null, null, null, null, 2020.0, 2020.0, 2018.0, null, null, null, null, null, 2015.0, null, null, null, null, null, null, null, null, null, null, null, null, null, null, null, 2020.0, null, null, null, null, null, null, null, null, null, null, null, null, null, null, 2017.0, null, null, 2019.0, null, null, null, 2019.0, null, null, null, null, 2018.0, null, null, 2019.0, null, 2019.0, null, 2020.0, null, null, null, null, null, null, null, null, null, 2019.0, null, null, null, null, 2019.0, null, null, 2019.0, null, null, null, 2020.0, null, null, null, null, null, 2016.0, null, null, null, 2020.0, null, null, null, null, null, null, null, null, null, null, null, null, 2019.0, null, null, 2019.0, null, null, null, null, null, null, null, 2019.0, null, 2016.0, 2014.0, 2020.0, 2020.0, null, null, null, 2019.0, null, 2020.0, null, null, 2017.0, null, null, 2019.0, null, null, null, null, null, 2017.0, 2017.0, 2019.0, null, null, null, null, null, 2016.0, null, 2016.0, null, null, null, null, null, 2019.0, 2015.0, 2019.0, null, null, null, null, null, null, null, null, null, null, 2016.0, null, null, null, null, null, 2019.0, null, null, null, 2019.0, null, 2016.0, null, null, null, null, null, null, 2020.0, 2019.0, 2020.0, null, null, null, 2019.0, 2019.0, 2011.0, null, null, 2018.0, null, null, null, null, null, null, null, null, null, null, 2016.0, null, null, null, null, null, null, 2016.0, null, null, null, 2017.0, null, null, null, null, null, null, null, null, null, null, null, null, null, null, 2019.0, null, null, null, null, 2018.0, null, null, 2016.0, null, null, null, null, null, null, null, 2019.0, 2019.0, 2019.0, null, 2017.0, null, 2019.0, null, 2011.0, null, null, 2017.0, 2018.0, 2015.0, 2020.0, null, null, null, null, null, null, null, null, null, 2020.0, null, null, null, null, null, null, null, null, null, null, null, null, null, null, null, null, 2018.0, null, 2020.0, null, null, null, null, null, null, null, null, null, null, null, null, null, null, 2020.0, null, null, null, null, null, null, null, null, 2020.0, null, null, null, 2020.0, null, null, null, null, null, null, null, null, null, null, 2016.0, null, null, 2019.0, null, 2019.0, null, null, null, null, null, null, 2017.0, null, null, null, null, null, null, null, 2015.0, 2019.0, null, null, null, null, null, null, null, null, null, null, null, null, null, null, null, null, null, null, null, null, 2020.0, null, null, null, null, 2019.0, null, null, 2020.0, null, null, null, null, null, 2019.0, null, null, null, null, null, 2019.0, null, null, null, 2019.0, null, null, null, null, 2019.0, null, null, null, null, null, null, null, null, null, null, null, null, null, null, 2017.0, null, null, null, null, null, null, null, 2020.0, null, null, 2019.0, 2020.0, null, null, 2020.0, 2020.0, 2019.0, 2019.0, null, null, 2019.0, 2020.0, null, null, null, null, null, null, null, null, null, null, null, null, null, null, null, null, 2019.0, 2019.0, null, null, null, null, 2019.0, 2020.0, null, null, null, null, 2010.0, 2019.0, null, null, null, null, null, null, null, 2019.0, null, null, null, 2019.0, null, 2018.0, 2019.0, 2019.0, 2019.0, null, 2019.0, null, 2019.0, null, 2020.0, 2019.0, null, null, 2019.0, null, null, null, 2019.0, null, null, null, 2019.0, 2019.0, null, 2019.0, null, 2019.0, 2019.0, 2019.0, null, null, 2019.0, null, null, null, null, null, null, null, null, 2019.0, null, null, null, null, null, null, 2019.0, null, null, null, null, null, 2019.0, null, null, 2019.0, 2019.0, 2019.0, null, 2019.0, null, null, null, 2019.0, null, 2019.0, 2019.0, 2019.0, 2019.0, 2019.0, 2019.0, 2019.0, 2019.0, 2019.0, 2019.0, 2019.0, 2019.0, 2019.0, null, null, 2019.0, 2019.0, null, null, 2019.0, 2019.0, null, null, null, null, null, null, null, 2019.0, null, 2019.0, null, null, null, null, 2019.0, null, null, null, 2019.0, null, 2019.0, null, 2019.0, null, 2019.0, null, 2019.0, 2019.0, 2019.0, 2019.0, 2019.0, 2019.0, 2019.0, null, null, 2006.0, 2019.0, 2019.0, null, 2019.0, 2019.0, null, null, 2019.0, 2019.0, null, 1995.0, null, 2019.0, 2019.0, null, null, 1995.0, null, null, 2019.0, null, 2019.0, 2019.0, null, null, 2019.0, 2019.0, null, null, 2019.0, null, 2019.0, 2019.0, 2019.0, null, null, null, null, 2019.0, null, null, null, null, null, null, null, null, null, null, null, null, null, null, null, null, null, null, null, null, null, 2012.0, null, null, null, 2018.0, 2017.0, null, 2016.0, null, 2018.0, null, null, null, null, null, 2018.0, 2018.0, null, null, 2017.0, null, null, null, null, null, null, 2017.0, null], \"xaxis\": \"x\", \"yaxis\": \"y\"}],\n",
              "                        {\"barmode\": \"relative\", \"legend\": {\"tracegroupgap\": 0}, \"margin\": {\"t\": 60}, \"template\": {\"data\": {\"bar\": [{\"error_x\": {\"color\": \"#2a3f5f\"}, \"error_y\": {\"color\": \"#2a3f5f\"}, \"marker\": {\"line\": {\"color\": \"#E5ECF6\", \"width\": 0.5}}, \"type\": \"bar\"}], \"barpolar\": [{\"marker\": {\"line\": {\"color\": \"#E5ECF6\", \"width\": 0.5}}, \"type\": \"barpolar\"}], \"carpet\": [{\"aaxis\": {\"endlinecolor\": \"#2a3f5f\", \"gridcolor\": \"white\", \"linecolor\": \"white\", \"minorgridcolor\": \"white\", \"startlinecolor\": \"#2a3f5f\"}, \"baxis\": {\"endlinecolor\": \"#2a3f5f\", \"gridcolor\": \"white\", \"linecolor\": \"white\", \"minorgridcolor\": \"white\", \"startlinecolor\": \"#2a3f5f\"}, \"type\": \"carpet\"}], \"choropleth\": [{\"colorbar\": {\"outlinewidth\": 0, \"ticks\": \"\"}, \"type\": \"choropleth\"}], \"contour\": [{\"colorbar\": {\"outlinewidth\": 0, \"ticks\": \"\"}, \"colorscale\": [[0.0, \"#0d0887\"], [0.1111111111111111, \"#46039f\"], [0.2222222222222222, \"#7201a8\"], [0.3333333333333333, \"#9c179e\"], [0.4444444444444444, \"#bd3786\"], [0.5555555555555556, \"#d8576b\"], [0.6666666666666666, \"#ed7953\"], [0.7777777777777778, \"#fb9f3a\"], [0.8888888888888888, \"#fdca26\"], [1.0, \"#f0f921\"]], \"type\": \"contour\"}], \"contourcarpet\": [{\"colorbar\": {\"outlinewidth\": 0, \"ticks\": \"\"}, \"type\": \"contourcarpet\"}], \"heatmap\": [{\"colorbar\": {\"outlinewidth\": 0, \"ticks\": \"\"}, \"colorscale\": [[0.0, \"#0d0887\"], [0.1111111111111111, \"#46039f\"], [0.2222222222222222, \"#7201a8\"], [0.3333333333333333, \"#9c179e\"], [0.4444444444444444, \"#bd3786\"], [0.5555555555555556, \"#d8576b\"], [0.6666666666666666, \"#ed7953\"], [0.7777777777777778, \"#fb9f3a\"], [0.8888888888888888, \"#fdca26\"], [1.0, \"#f0f921\"]], \"type\": \"heatmap\"}], \"heatmapgl\": [{\"colorbar\": {\"outlinewidth\": 0, \"ticks\": \"\"}, \"colorscale\": [[0.0, \"#0d0887\"], [0.1111111111111111, \"#46039f\"], [0.2222222222222222, \"#7201a8\"], [0.3333333333333333, \"#9c179e\"], [0.4444444444444444, \"#bd3786\"], [0.5555555555555556, \"#d8576b\"], [0.6666666666666666, \"#ed7953\"], [0.7777777777777778, \"#fb9f3a\"], [0.8888888888888888, \"#fdca26\"], [1.0, \"#f0f921\"]], \"type\": \"heatmapgl\"}], \"histogram\": [{\"marker\": {\"colorbar\": {\"outlinewidth\": 0, \"ticks\": \"\"}}, \"type\": \"histogram\"}], \"histogram2d\": [{\"colorbar\": {\"outlinewidth\": 0, \"ticks\": \"\"}, \"colorscale\": [[0.0, \"#0d0887\"], [0.1111111111111111, \"#46039f\"], [0.2222222222222222, \"#7201a8\"], [0.3333333333333333, \"#9c179e\"], [0.4444444444444444, \"#bd3786\"], [0.5555555555555556, \"#d8576b\"], [0.6666666666666666, \"#ed7953\"], [0.7777777777777778, \"#fb9f3a\"], [0.8888888888888888, \"#fdca26\"], [1.0, \"#f0f921\"]], \"type\": \"histogram2d\"}], \"histogram2dcontour\": [{\"colorbar\": {\"outlinewidth\": 0, \"ticks\": \"\"}, \"colorscale\": [[0.0, \"#0d0887\"], [0.1111111111111111, \"#46039f\"], [0.2222222222222222, \"#7201a8\"], [0.3333333333333333, \"#9c179e\"], [0.4444444444444444, \"#bd3786\"], [0.5555555555555556, \"#d8576b\"], [0.6666666666666666, \"#ed7953\"], [0.7777777777777778, \"#fb9f3a\"], [0.8888888888888888, \"#fdca26\"], [1.0, \"#f0f921\"]], \"type\": \"histogram2dcontour\"}], \"mesh3d\": [{\"colorbar\": {\"outlinewidth\": 0, \"ticks\": \"\"}, \"type\": \"mesh3d\"}], \"parcoords\": [{\"line\": {\"colorbar\": {\"outlinewidth\": 0, \"ticks\": \"\"}}, \"type\": \"parcoords\"}], \"pie\": [{\"automargin\": true, \"type\": \"pie\"}], \"scatter\": [{\"marker\": {\"colorbar\": {\"outlinewidth\": 0, \"ticks\": \"\"}}, \"type\": \"scatter\"}], \"scatter3d\": [{\"line\": {\"colorbar\": {\"outlinewidth\": 0, \"ticks\": \"\"}}, \"marker\": {\"colorbar\": {\"outlinewidth\": 0, \"ticks\": \"\"}}, \"type\": \"scatter3d\"}], \"scattercarpet\": [{\"marker\": {\"colorbar\": {\"outlinewidth\": 0, \"ticks\": \"\"}}, \"type\": \"scattercarpet\"}], \"scattergeo\": [{\"marker\": {\"colorbar\": {\"outlinewidth\": 0, \"ticks\": \"\"}}, \"type\": \"scattergeo\"}], \"scattergl\": [{\"marker\": {\"colorbar\": {\"outlinewidth\": 0, \"ticks\": \"\"}}, \"type\": \"scattergl\"}], \"scattermapbox\": [{\"marker\": {\"colorbar\": {\"outlinewidth\": 0, \"ticks\": \"\"}}, \"type\": \"scattermapbox\"}], \"scatterpolar\": [{\"marker\": {\"colorbar\": {\"outlinewidth\": 0, \"ticks\": \"\"}}, \"type\": \"scatterpolar\"}], \"scatterpolargl\": [{\"marker\": {\"colorbar\": {\"outlinewidth\": 0, \"ticks\": \"\"}}, \"type\": \"scatterpolargl\"}], \"scatterternary\": [{\"marker\": {\"colorbar\": {\"outlinewidth\": 0, \"ticks\": \"\"}}, \"type\": \"scatterternary\"}], \"surface\": [{\"colorbar\": {\"outlinewidth\": 0, \"ticks\": \"\"}, \"colorscale\": [[0.0, \"#0d0887\"], [0.1111111111111111, \"#46039f\"], [0.2222222222222222, \"#7201a8\"], [0.3333333333333333, \"#9c179e\"], [0.4444444444444444, \"#bd3786\"], [0.5555555555555556, \"#d8576b\"], [0.6666666666666666, \"#ed7953\"], [0.7777777777777778, \"#fb9f3a\"], [0.8888888888888888, \"#fdca26\"], [1.0, \"#f0f921\"]], \"type\": \"surface\"}], \"table\": [{\"cells\": {\"fill\": {\"color\": \"#EBF0F8\"}, \"line\": {\"color\": \"white\"}}, \"header\": {\"fill\": {\"color\": \"#C8D4E3\"}, \"line\": {\"color\": \"white\"}}, \"type\": \"table\"}]}, \"layout\": {\"annotationdefaults\": {\"arrowcolor\": \"#2a3f5f\", \"arrowhead\": 0, \"arrowwidth\": 1}, \"coloraxis\": {\"colorbar\": {\"outlinewidth\": 0, \"ticks\": \"\"}}, \"colorscale\": {\"diverging\": [[0, \"#8e0152\"], [0.1, \"#c51b7d\"], [0.2, \"#de77ae\"], [0.3, \"#f1b6da\"], [0.4, \"#fde0ef\"], [0.5, \"#f7f7f7\"], [0.6, \"#e6f5d0\"], [0.7, \"#b8e186\"], [0.8, \"#7fbc41\"], [0.9, \"#4d9221\"], [1, \"#276419\"]], \"sequential\": [[0.0, \"#0d0887\"], [0.1111111111111111, \"#46039f\"], [0.2222222222222222, \"#7201a8\"], [0.3333333333333333, \"#9c179e\"], [0.4444444444444444, \"#bd3786\"], [0.5555555555555556, \"#d8576b\"], [0.6666666666666666, \"#ed7953\"], [0.7777777777777778, \"#fb9f3a\"], [0.8888888888888888, \"#fdca26\"], [1.0, \"#f0f921\"]], \"sequentialminus\": [[0.0, \"#0d0887\"], [0.1111111111111111, \"#46039f\"], [0.2222222222222222, \"#7201a8\"], [0.3333333333333333, \"#9c179e\"], [0.4444444444444444, \"#bd3786\"], [0.5555555555555556, \"#d8576b\"], [0.6666666666666666, \"#ed7953\"], [0.7777777777777778, \"#fb9f3a\"], [0.8888888888888888, \"#fdca26\"], [1.0, \"#f0f921\"]]}, \"colorway\": [\"#636efa\", \"#EF553B\", \"#00cc96\", \"#ab63fa\", \"#FFA15A\", \"#19d3f3\", \"#FF6692\", \"#B6E880\", \"#FF97FF\", \"#FECB52\"], \"font\": {\"color\": \"#2a3f5f\"}, \"geo\": {\"bgcolor\": \"white\", \"lakecolor\": \"white\", \"landcolor\": \"#E5ECF6\", \"showlakes\": true, \"showland\": true, \"subunitcolor\": \"white\"}, \"hoverlabel\": {\"align\": \"left\"}, \"hovermode\": \"closest\", \"mapbox\": {\"style\": \"light\"}, \"paper_bgcolor\": \"white\", \"plot_bgcolor\": \"#E5ECF6\", \"polar\": {\"angularaxis\": {\"gridcolor\": \"white\", \"linecolor\": \"white\", \"ticks\": \"\"}, \"bgcolor\": \"#E5ECF6\", \"radialaxis\": {\"gridcolor\": \"white\", \"linecolor\": \"white\", \"ticks\": \"\"}}, \"scene\": {\"xaxis\": {\"backgroundcolor\": \"#E5ECF6\", \"gridcolor\": \"white\", \"gridwidth\": 2, \"linecolor\": \"white\", \"showbackground\": true, \"ticks\": \"\", \"zerolinecolor\": \"white\"}, \"yaxis\": {\"backgroundcolor\": \"#E5ECF6\", \"gridcolor\": \"white\", \"gridwidth\": 2, \"linecolor\": \"white\", \"showbackground\": true, \"ticks\": \"\", \"zerolinecolor\": \"white\"}, \"zaxis\": {\"backgroundcolor\": \"#E5ECF6\", \"gridcolor\": \"white\", \"gridwidth\": 2, \"linecolor\": \"white\", \"showbackground\": true, \"ticks\": \"\", \"zerolinecolor\": \"white\"}}, \"shapedefaults\": {\"line\": {\"color\": \"#2a3f5f\"}}, \"ternary\": {\"aaxis\": {\"gridcolor\": \"white\", \"linecolor\": \"white\", \"ticks\": \"\"}, \"baxis\": {\"gridcolor\": \"white\", \"linecolor\": \"white\", \"ticks\": \"\"}, \"bgcolor\": \"#E5ECF6\", \"caxis\": {\"gridcolor\": \"white\", \"linecolor\": \"white\", \"ticks\": \"\"}}, \"title\": {\"x\": 0.05}, \"xaxis\": {\"automargin\": true, \"gridcolor\": \"white\", \"linecolor\": \"white\", \"ticks\": \"\", \"title\": {\"standoff\": 15}, \"zerolinecolor\": \"white\", \"zerolinewidth\": 2}, \"yaxis\": {\"automargin\": true, \"gridcolor\": \"white\", \"linecolor\": \"white\", \"ticks\": \"\", \"title\": {\"standoff\": 15}, \"zerolinecolor\": \"white\", \"zerolinewidth\": 2}}}, \"xaxis\": {\"anchor\": \"y\", \"domain\": [0.0, 1.0], \"title\": {\"text\": \"renovated_date\"}}, \"yaxis\": {\"anchor\": \"x\", \"domain\": [0.0, 1.0], \"title\": {\"text\": \"count\"}}},\n",
              "                        {\"responsive\": true}\n",
              "                    ).then(function(){\n",
              "                            \n",
              "var gd = document.getElementById('6dfe6ab0-11d4-4a1d-bee5-63bc72e6d6a3');\n",
              "var x = new MutationObserver(function (mutations, observer) {{\n",
              "        var display = window.getComputedStyle(gd).display;\n",
              "        if (!display || display === 'none') {{\n",
              "            console.log([gd, 'removed!']);\n",
              "            Plotly.purge(gd);\n",
              "            observer.disconnect();\n",
              "        }}\n",
              "}});\n",
              "\n",
              "// Listen for the removal of the full notebook cells\n",
              "var notebookContainer = gd.closest('#notebook-container');\n",
              "if (notebookContainer) {{\n",
              "    x.observe(notebookContainer, {childList: true});\n",
              "}}\n",
              "\n",
              "// Listen for the clearing of the current output cell\n",
              "var outputEl = gd.closest('.output');\n",
              "if (outputEl) {{\n",
              "    x.observe(outputEl, {childList: true});\n",
              "}}\n",
              "\n",
              "                        })\n",
              "                };\n",
              "                \n",
              "            </script>\n",
              "        </div>\n",
              "</body>\n",
              "</html>"
            ]
          },
          "metadata": {}
        }
      ]
    },
    {
      "cell_type": "code",
      "metadata": {
        "colab": {
          "base_uri": "https://localhost:8080/",
          "height": 990
        },
        "id": "XzwvYgnAcSAw",
        "outputId": "e6c932ba-80e8-450d-8fd4-9ec901d0b6c2"
      },
      "source": [
        "# From the .info() call you see that there is no mix between numeric and string values.\n",
        "# So each date represents a correct numeric value. \n",
        "# Here it doesn't make much sense to replace NaN values with any sort of hardcoded \n",
        "# custom value. Depending on the context, NaN might mean that the appartment was never\n",
        "# renovated. \n",
        "# For an exercise we could simply replace missing values with the corresponding \n",
        "# construction year. We know that the construction year is also a valid numeric column.\n",
        "# Additionally, it does not have any missing values. \n",
        "\n",
        "# The 'fillna' function is flexible enough and can also take a series of values\n",
        "# that will be used if the value in the target column (this case 'renovated_date') \n",
        "# is missing. \n",
        "df['renovated_date_filled'] = df['renovated_date'].fillna(df['year_construction'])\n",
        "\n",
        "# To make sure that the missing values are replaced with the construction year,\n",
        "# but the non-missing values stay the same\n",
        "df[['year_construction', 'renovated_date', 'renovated_date_filled']].head(30)"
      ],
      "execution_count": 159,
      "outputs": [
        {
          "output_type": "execute_result",
          "data": {
            "text/html": [
              "\n",
              "  <div id=\"df-f3e98e7f-28d9-4af5-b24a-3d8383732ea6\">\n",
              "    <div class=\"colab-df-container\">\n",
              "      <div>\n",
              "<style scoped>\n",
              "    .dataframe tbody tr th:only-of-type {\n",
              "        vertical-align: middle;\n",
              "    }\n",
              "\n",
              "    .dataframe tbody tr th {\n",
              "        vertical-align: top;\n",
              "    }\n",
              "\n",
              "    .dataframe thead th {\n",
              "        text-align: right;\n",
              "    }\n",
              "</style>\n",
              "<table border=\"1\" class=\"dataframe\">\n",
              "  <thead>\n",
              "    <tr style=\"text-align: right;\">\n",
              "      <th></th>\n",
              "      <th>year_construction</th>\n",
              "      <th>renovated_date</th>\n",
              "      <th>renovated_date_filled</th>\n",
              "    </tr>\n",
              "  </thead>\n",
              "  <tbody>\n",
              "    <tr>\n",
              "      <th>0</th>\n",
              "      <td>2019</td>\n",
              "      <td>NaN</td>\n",
              "      <td>2019.0</td>\n",
              "    </tr>\n",
              "    <tr>\n",
              "      <th>1</th>\n",
              "      <td>2020</td>\n",
              "      <td>NaN</td>\n",
              "      <td>2020.0</td>\n",
              "    </tr>\n",
              "    <tr>\n",
              "      <th>2</th>\n",
              "      <td>1997</td>\n",
              "      <td>NaN</td>\n",
              "      <td>1997.0</td>\n",
              "    </tr>\n",
              "    <tr>\n",
              "      <th>3</th>\n",
              "      <td>1900</td>\n",
              "      <td>NaN</td>\n",
              "      <td>1900.0</td>\n",
              "    </tr>\n",
              "    <tr>\n",
              "      <th>4</th>\n",
              "      <td>2020</td>\n",
              "      <td>NaN</td>\n",
              "      <td>2020.0</td>\n",
              "    </tr>\n",
              "    <tr>\n",
              "      <th>5</th>\n",
              "      <td>1997</td>\n",
              "      <td>2019.0</td>\n",
              "      <td>2019.0</td>\n",
              "    </tr>\n",
              "    <tr>\n",
              "      <th>6</th>\n",
              "      <td>2015</td>\n",
              "      <td>NaN</td>\n",
              "      <td>2015.0</td>\n",
              "    </tr>\n",
              "    <tr>\n",
              "      <th>7</th>\n",
              "      <td>1900</td>\n",
              "      <td>NaN</td>\n",
              "      <td>1900.0</td>\n",
              "    </tr>\n",
              "    <tr>\n",
              "      <th>8</th>\n",
              "      <td>1971</td>\n",
              "      <td>NaN</td>\n",
              "      <td>1971.0</td>\n",
              "    </tr>\n",
              "    <tr>\n",
              "      <th>9</th>\n",
              "      <td>2020</td>\n",
              "      <td>NaN</td>\n",
              "      <td>2020.0</td>\n",
              "    </tr>\n",
              "    <tr>\n",
              "      <th>10</th>\n",
              "      <td>2019</td>\n",
              "      <td>NaN</td>\n",
              "      <td>2019.0</td>\n",
              "    </tr>\n",
              "    <tr>\n",
              "      <th>11</th>\n",
              "      <td>2020</td>\n",
              "      <td>NaN</td>\n",
              "      <td>2020.0</td>\n",
              "    </tr>\n",
              "    <tr>\n",
              "      <th>12</th>\n",
              "      <td>2019</td>\n",
              "      <td>NaN</td>\n",
              "      <td>2019.0</td>\n",
              "    </tr>\n",
              "    <tr>\n",
              "      <th>13</th>\n",
              "      <td>2016</td>\n",
              "      <td>NaN</td>\n",
              "      <td>2016.0</td>\n",
              "    </tr>\n",
              "    <tr>\n",
              "      <th>14</th>\n",
              "      <td>2019</td>\n",
              "      <td>2019.0</td>\n",
              "      <td>2019.0</td>\n",
              "    </tr>\n",
              "    <tr>\n",
              "      <th>15</th>\n",
              "      <td>2018</td>\n",
              "      <td>NaN</td>\n",
              "      <td>2018.0</td>\n",
              "    </tr>\n",
              "    <tr>\n",
              "      <th>16</th>\n",
              "      <td>2020</td>\n",
              "      <td>NaN</td>\n",
              "      <td>2020.0</td>\n",
              "    </tr>\n",
              "    <tr>\n",
              "      <th>17</th>\n",
              "      <td>2018</td>\n",
              "      <td>NaN</td>\n",
              "      <td>2018.0</td>\n",
              "    </tr>\n",
              "    <tr>\n",
              "      <th>18</th>\n",
              "      <td>2020</td>\n",
              "      <td>NaN</td>\n",
              "      <td>2020.0</td>\n",
              "    </tr>\n",
              "    <tr>\n",
              "      <th>19</th>\n",
              "      <td>2019</td>\n",
              "      <td>NaN</td>\n",
              "      <td>2019.0</td>\n",
              "    </tr>\n",
              "    <tr>\n",
              "      <th>20</th>\n",
              "      <td>2019</td>\n",
              "      <td>NaN</td>\n",
              "      <td>2019.0</td>\n",
              "    </tr>\n",
              "    <tr>\n",
              "      <th>21</th>\n",
              "      <td>1994</td>\n",
              "      <td>2019.0</td>\n",
              "      <td>2019.0</td>\n",
              "    </tr>\n",
              "    <tr>\n",
              "      <th>22</th>\n",
              "      <td>2019</td>\n",
              "      <td>NaN</td>\n",
              "      <td>2019.0</td>\n",
              "    </tr>\n",
              "    <tr>\n",
              "      <th>23</th>\n",
              "      <td>2020</td>\n",
              "      <td>NaN</td>\n",
              "      <td>2020.0</td>\n",
              "    </tr>\n",
              "    <tr>\n",
              "      <th>24</th>\n",
              "      <td>1918</td>\n",
              "      <td>2019.0</td>\n",
              "      <td>2019.0</td>\n",
              "    </tr>\n",
              "    <tr>\n",
              "      <th>25</th>\n",
              "      <td>2020</td>\n",
              "      <td>NaN</td>\n",
              "      <td>2020.0</td>\n",
              "    </tr>\n",
              "    <tr>\n",
              "      <th>26</th>\n",
              "      <td>2014</td>\n",
              "      <td>NaN</td>\n",
              "      <td>2014.0</td>\n",
              "    </tr>\n",
              "    <tr>\n",
              "      <th>27</th>\n",
              "      <td>2015</td>\n",
              "      <td>NaN</td>\n",
              "      <td>2015.0</td>\n",
              "    </tr>\n",
              "    <tr>\n",
              "      <th>28</th>\n",
              "      <td>2019</td>\n",
              "      <td>NaN</td>\n",
              "      <td>2019.0</td>\n",
              "    </tr>\n",
              "    <tr>\n",
              "      <th>29</th>\n",
              "      <td>2016</td>\n",
              "      <td>NaN</td>\n",
              "      <td>2016.0</td>\n",
              "    </tr>\n",
              "  </tbody>\n",
              "</table>\n",
              "</div>\n",
              "      <button class=\"colab-df-convert\" onclick=\"convertToInteractive('df-f3e98e7f-28d9-4af5-b24a-3d8383732ea6')\"\n",
              "              title=\"Convert this dataframe to an interactive table.\"\n",
              "              style=\"display:none;\">\n",
              "        \n",
              "  <svg xmlns=\"http://www.w3.org/2000/svg\" height=\"24px\"viewBox=\"0 0 24 24\"\n",
              "       width=\"24px\">\n",
              "    <path d=\"M0 0h24v24H0V0z\" fill=\"none\"/>\n",
              "    <path d=\"M18.56 5.44l.94 2.06.94-2.06 2.06-.94-2.06-.94-.94-2.06-.94 2.06-2.06.94zm-11 1L8.5 8.5l.94-2.06 2.06-.94-2.06-.94L8.5 2.5l-.94 2.06-2.06.94zm10 10l.94 2.06.94-2.06 2.06-.94-2.06-.94-.94-2.06-.94 2.06-2.06.94z\"/><path d=\"M17.41 7.96l-1.37-1.37c-.4-.4-.92-.59-1.43-.59-.52 0-1.04.2-1.43.59L10.3 9.45l-7.72 7.72c-.78.78-.78 2.05 0 2.83L4 21.41c.39.39.9.59 1.41.59.51 0 1.02-.2 1.41-.59l7.78-7.78 2.81-2.81c.8-.78.8-2.07 0-2.86zM5.41 20L4 18.59l7.72-7.72 1.47 1.35L5.41 20z\"/>\n",
              "  </svg>\n",
              "      </button>\n",
              "      \n",
              "  <style>\n",
              "    .colab-df-container {\n",
              "      display:flex;\n",
              "      flex-wrap:wrap;\n",
              "      gap: 12px;\n",
              "    }\n",
              "\n",
              "    .colab-df-convert {\n",
              "      background-color: #E8F0FE;\n",
              "      border: none;\n",
              "      border-radius: 50%;\n",
              "      cursor: pointer;\n",
              "      display: none;\n",
              "      fill: #1967D2;\n",
              "      height: 32px;\n",
              "      padding: 0 0 0 0;\n",
              "      width: 32px;\n",
              "    }\n",
              "\n",
              "    .colab-df-convert:hover {\n",
              "      background-color: #E2EBFA;\n",
              "      box-shadow: 0px 1px 2px rgba(60, 64, 67, 0.3), 0px 1px 3px 1px rgba(60, 64, 67, 0.15);\n",
              "      fill: #174EA6;\n",
              "    }\n",
              "\n",
              "    [theme=dark] .colab-df-convert {\n",
              "      background-color: #3B4455;\n",
              "      fill: #D2E3FC;\n",
              "    }\n",
              "\n",
              "    [theme=dark] .colab-df-convert:hover {\n",
              "      background-color: #434B5C;\n",
              "      box-shadow: 0px 1px 3px 1px rgba(0, 0, 0, 0.15);\n",
              "      filter: drop-shadow(0px 1px 2px rgba(0, 0, 0, 0.3));\n",
              "      fill: #FFFFFF;\n",
              "    }\n",
              "  </style>\n",
              "\n",
              "      <script>\n",
              "        const buttonEl =\n",
              "          document.querySelector('#df-f3e98e7f-28d9-4af5-b24a-3d8383732ea6 button.colab-df-convert');\n",
              "        buttonEl.style.display =\n",
              "          google.colab.kernel.accessAllowed ? 'block' : 'none';\n",
              "\n",
              "        async function convertToInteractive(key) {\n",
              "          const element = document.querySelector('#df-f3e98e7f-28d9-4af5-b24a-3d8383732ea6');\n",
              "          const dataTable =\n",
              "            await google.colab.kernel.invokeFunction('convertToInteractive',\n",
              "                                                     [key], {});\n",
              "          if (!dataTable) return;\n",
              "\n",
              "          const docLinkHtml = 'Like what you see? Visit the ' +\n",
              "            '<a target=\"_blank\" href=https://colab.research.google.com/notebooks/data_table.ipynb>data table notebook</a>'\n",
              "            + ' to learn more about interactive tables.';\n",
              "          element.innerHTML = '';\n",
              "          dataTable['output_type'] = 'display_data';\n",
              "          await google.colab.output.renderOutput(dataTable, element);\n",
              "          const docLink = document.createElement('div');\n",
              "          docLink.innerHTML = docLinkHtml;\n",
              "          element.appendChild(docLink);\n",
              "        }\n",
              "      </script>\n",
              "    </div>\n",
              "  </div>\n",
              "  "
            ],
            "text/plain": [
              "    year_construction  renovated_date  renovated_date_filled\n",
              "0                2019             NaN                 2019.0\n",
              "1                2020             NaN                 2020.0\n",
              "2                1997             NaN                 1997.0\n",
              "3                1900             NaN                 1900.0\n",
              "4                2020             NaN                 2020.0\n",
              "5                1997          2019.0                 2019.0\n",
              "6                2015             NaN                 2015.0\n",
              "7                1900             NaN                 1900.0\n",
              "8                1971             NaN                 1971.0\n",
              "9                2020             NaN                 2020.0\n",
              "10               2019             NaN                 2019.0\n",
              "11               2020             NaN                 2020.0\n",
              "12               2019             NaN                 2019.0\n",
              "13               2016             NaN                 2016.0\n",
              "14               2019          2019.0                 2019.0\n",
              "15               2018             NaN                 2018.0\n",
              "16               2020             NaN                 2020.0\n",
              "17               2018             NaN                 2018.0\n",
              "18               2020             NaN                 2020.0\n",
              "19               2019             NaN                 2019.0\n",
              "20               2019             NaN                 2019.0\n",
              "21               1994          2019.0                 2019.0\n",
              "22               2019             NaN                 2019.0\n",
              "23               2020             NaN                 2020.0\n",
              "24               1918          2019.0                 2019.0\n",
              "25               2020             NaN                 2020.0\n",
              "26               2014             NaN                 2014.0\n",
              "27               2015             NaN                 2015.0\n",
              "28               2019             NaN                 2019.0\n",
              "29               2016             NaN                 2016.0"
            ]
          },
          "metadata": {},
          "execution_count": 159
        }
      ]
    },
    {
      "cell_type": "code",
      "metadata": {
        "colab": {
          "base_uri": "https://localhost:8080/",
          "height": 676
        },
        "id": "1AjY32yPd49m",
        "outputId": "81ebb853-3c2e-409b-d3a4-4198c4af9718"
      },
      "source": [
        "# A more complex approach could be to apply some sort of interpolation \n",
        "# based on the construction year. A simple initial check could be to compute\n",
        "# the difference between the renovation and construction (only for existing renovated_date values).\n",
        "# Based on that you could derive a function that takes the construction year as input and \n",
        "# returns the estimated renovated_date as output\n",
        "\n",
        "# Again, if this makes sense or not depends on the context (maybe a missing value just means there wasn't a renovation at all)\n",
        "\n",
        "# get the construction year and renovated date columns only for rows where we have an existing renovated_date value\n",
        "dates = df.loc[~df['renovated_date'].isna(), ['year_construction', 'renovated_date']] \n",
        "# compute the difference and check the results\n",
        "dates['diff'] = dates['renovated_date'] - dates['year_construction']\n",
        "dates.head(20)"
      ],
      "execution_count": 160,
      "outputs": [
        {
          "output_type": "execute_result",
          "data": {
            "text/html": [
              "\n",
              "  <div id=\"df-31a24073-bb60-436b-9b70-8fe038d51219\">\n",
              "    <div class=\"colab-df-container\">\n",
              "      <div>\n",
              "<style scoped>\n",
              "    .dataframe tbody tr th:only-of-type {\n",
              "        vertical-align: middle;\n",
              "    }\n",
              "\n",
              "    .dataframe tbody tr th {\n",
              "        vertical-align: top;\n",
              "    }\n",
              "\n",
              "    .dataframe thead th {\n",
              "        text-align: right;\n",
              "    }\n",
              "</style>\n",
              "<table border=\"1\" class=\"dataframe\">\n",
              "  <thead>\n",
              "    <tr style=\"text-align: right;\">\n",
              "      <th></th>\n",
              "      <th>year_construction</th>\n",
              "      <th>renovated_date</th>\n",
              "      <th>diff</th>\n",
              "    </tr>\n",
              "  </thead>\n",
              "  <tbody>\n",
              "    <tr>\n",
              "      <th>5</th>\n",
              "      <td>1997</td>\n",
              "      <td>2019.0</td>\n",
              "      <td>22.0</td>\n",
              "    </tr>\n",
              "    <tr>\n",
              "      <th>14</th>\n",
              "      <td>2019</td>\n",
              "      <td>2019.0</td>\n",
              "      <td>0.0</td>\n",
              "    </tr>\n",
              "    <tr>\n",
              "      <th>21</th>\n",
              "      <td>1994</td>\n",
              "      <td>2019.0</td>\n",
              "      <td>25.0</td>\n",
              "    </tr>\n",
              "    <tr>\n",
              "      <th>24</th>\n",
              "      <td>1918</td>\n",
              "      <td>2019.0</td>\n",
              "      <td>101.0</td>\n",
              "    </tr>\n",
              "    <tr>\n",
              "      <th>43</th>\n",
              "      <td>2016</td>\n",
              "      <td>2016.0</td>\n",
              "      <td>0.0</td>\n",
              "    </tr>\n",
              "    <tr>\n",
              "      <th>51</th>\n",
              "      <td>1918</td>\n",
              "      <td>2019.0</td>\n",
              "      <td>101.0</td>\n",
              "    </tr>\n",
              "    <tr>\n",
              "      <th>53</th>\n",
              "      <td>1905</td>\n",
              "      <td>2016.0</td>\n",
              "      <td>111.0</td>\n",
              "    </tr>\n",
              "    <tr>\n",
              "      <th>60</th>\n",
              "      <td>1918</td>\n",
              "      <td>2019.0</td>\n",
              "      <td>101.0</td>\n",
              "    </tr>\n",
              "    <tr>\n",
              "      <th>70</th>\n",
              "      <td>1902</td>\n",
              "      <td>2020.0</td>\n",
              "      <td>118.0</td>\n",
              "    </tr>\n",
              "    <tr>\n",
              "      <th>71</th>\n",
              "      <td>1900</td>\n",
              "      <td>2020.0</td>\n",
              "      <td>120.0</td>\n",
              "    </tr>\n",
              "    <tr>\n",
              "      <th>72</th>\n",
              "      <td>1910</td>\n",
              "      <td>2018.0</td>\n",
              "      <td>108.0</td>\n",
              "    </tr>\n",
              "    <tr>\n",
              "      <th>78</th>\n",
              "      <td>2015</td>\n",
              "      <td>2015.0</td>\n",
              "      <td>0.0</td>\n",
              "    </tr>\n",
              "    <tr>\n",
              "      <th>94</th>\n",
              "      <td>2020</td>\n",
              "      <td>2020.0</td>\n",
              "      <td>0.0</td>\n",
              "    </tr>\n",
              "    <tr>\n",
              "      <th>109</th>\n",
              "      <td>1998</td>\n",
              "      <td>2017.0</td>\n",
              "      <td>19.0</td>\n",
              "    </tr>\n",
              "    <tr>\n",
              "      <th>112</th>\n",
              "      <td>1904</td>\n",
              "      <td>2019.0</td>\n",
              "      <td>115.0</td>\n",
              "    </tr>\n",
              "    <tr>\n",
              "      <th>116</th>\n",
              "      <td>1900</td>\n",
              "      <td>2019.0</td>\n",
              "      <td>119.0</td>\n",
              "    </tr>\n",
              "    <tr>\n",
              "      <th>121</th>\n",
              "      <td>1919</td>\n",
              "      <td>2018.0</td>\n",
              "      <td>99.0</td>\n",
              "    </tr>\n",
              "    <tr>\n",
              "      <th>124</th>\n",
              "      <td>1959</td>\n",
              "      <td>2019.0</td>\n",
              "      <td>60.0</td>\n",
              "    </tr>\n",
              "    <tr>\n",
              "      <th>126</th>\n",
              "      <td>1887</td>\n",
              "      <td>2019.0</td>\n",
              "      <td>132.0</td>\n",
              "    </tr>\n",
              "    <tr>\n",
              "      <th>128</th>\n",
              "      <td>2018</td>\n",
              "      <td>2020.0</td>\n",
              "      <td>2.0</td>\n",
              "    </tr>\n",
              "  </tbody>\n",
              "</table>\n",
              "</div>\n",
              "      <button class=\"colab-df-convert\" onclick=\"convertToInteractive('df-31a24073-bb60-436b-9b70-8fe038d51219')\"\n",
              "              title=\"Convert this dataframe to an interactive table.\"\n",
              "              style=\"display:none;\">\n",
              "        \n",
              "  <svg xmlns=\"http://www.w3.org/2000/svg\" height=\"24px\"viewBox=\"0 0 24 24\"\n",
              "       width=\"24px\">\n",
              "    <path d=\"M0 0h24v24H0V0z\" fill=\"none\"/>\n",
              "    <path d=\"M18.56 5.44l.94 2.06.94-2.06 2.06-.94-2.06-.94-.94-2.06-.94 2.06-2.06.94zm-11 1L8.5 8.5l.94-2.06 2.06-.94-2.06-.94L8.5 2.5l-.94 2.06-2.06.94zm10 10l.94 2.06.94-2.06 2.06-.94-2.06-.94-.94-2.06-.94 2.06-2.06.94z\"/><path d=\"M17.41 7.96l-1.37-1.37c-.4-.4-.92-.59-1.43-.59-.52 0-1.04.2-1.43.59L10.3 9.45l-7.72 7.72c-.78.78-.78 2.05 0 2.83L4 21.41c.39.39.9.59 1.41.59.51 0 1.02-.2 1.41-.59l7.78-7.78 2.81-2.81c.8-.78.8-2.07 0-2.86zM5.41 20L4 18.59l7.72-7.72 1.47 1.35L5.41 20z\"/>\n",
              "  </svg>\n",
              "      </button>\n",
              "      \n",
              "  <style>\n",
              "    .colab-df-container {\n",
              "      display:flex;\n",
              "      flex-wrap:wrap;\n",
              "      gap: 12px;\n",
              "    }\n",
              "\n",
              "    .colab-df-convert {\n",
              "      background-color: #E8F0FE;\n",
              "      border: none;\n",
              "      border-radius: 50%;\n",
              "      cursor: pointer;\n",
              "      display: none;\n",
              "      fill: #1967D2;\n",
              "      height: 32px;\n",
              "      padding: 0 0 0 0;\n",
              "      width: 32px;\n",
              "    }\n",
              "\n",
              "    .colab-df-convert:hover {\n",
              "      background-color: #E2EBFA;\n",
              "      box-shadow: 0px 1px 2px rgba(60, 64, 67, 0.3), 0px 1px 3px 1px rgba(60, 64, 67, 0.15);\n",
              "      fill: #174EA6;\n",
              "    }\n",
              "\n",
              "    [theme=dark] .colab-df-convert {\n",
              "      background-color: #3B4455;\n",
              "      fill: #D2E3FC;\n",
              "    }\n",
              "\n",
              "    [theme=dark] .colab-df-convert:hover {\n",
              "      background-color: #434B5C;\n",
              "      box-shadow: 0px 1px 3px 1px rgba(0, 0, 0, 0.15);\n",
              "      filter: drop-shadow(0px 1px 2px rgba(0, 0, 0, 0.3));\n",
              "      fill: #FFFFFF;\n",
              "    }\n",
              "  </style>\n",
              "\n",
              "      <script>\n",
              "        const buttonEl =\n",
              "          document.querySelector('#df-31a24073-bb60-436b-9b70-8fe038d51219 button.colab-df-convert');\n",
              "        buttonEl.style.display =\n",
              "          google.colab.kernel.accessAllowed ? 'block' : 'none';\n",
              "\n",
              "        async function convertToInteractive(key) {\n",
              "          const element = document.querySelector('#df-31a24073-bb60-436b-9b70-8fe038d51219');\n",
              "          const dataTable =\n",
              "            await google.colab.kernel.invokeFunction('convertToInteractive',\n",
              "                                                     [key], {});\n",
              "          if (!dataTable) return;\n",
              "\n",
              "          const docLinkHtml = 'Like what you see? Visit the ' +\n",
              "            '<a target=\"_blank\" href=https://colab.research.google.com/notebooks/data_table.ipynb>data table notebook</a>'\n",
              "            + ' to learn more about interactive tables.';\n",
              "          element.innerHTML = '';\n",
              "          dataTable['output_type'] = 'display_data';\n",
              "          await google.colab.output.renderOutput(dataTable, element);\n",
              "          const docLink = document.createElement('div');\n",
              "          docLink.innerHTML = docLinkHtml;\n",
              "          element.appendChild(docLink);\n",
              "        }\n",
              "      </script>\n",
              "    </div>\n",
              "  </div>\n",
              "  "
            ],
            "text/plain": [
              "     year_construction  renovated_date   diff\n",
              "5                 1997          2019.0   22.0\n",
              "14                2019          2019.0    0.0\n",
              "21                1994          2019.0   25.0\n",
              "24                1918          2019.0  101.0\n",
              "43                2016          2016.0    0.0\n",
              "51                1918          2019.0  101.0\n",
              "53                1905          2016.0  111.0\n",
              "60                1918          2019.0  101.0\n",
              "70                1902          2020.0  118.0\n",
              "71                1900          2020.0  120.0\n",
              "72                1910          2018.0  108.0\n",
              "78                2015          2015.0    0.0\n",
              "94                2020          2020.0    0.0\n",
              "109               1998          2017.0   19.0\n",
              "112               1904          2019.0  115.0\n",
              "116               1900          2019.0  119.0\n",
              "121               1919          2018.0   99.0\n",
              "124               1959          2019.0   60.0\n",
              "126               1887          2019.0  132.0\n",
              "128               2018          2020.0    2.0"
            ]
          },
          "metadata": {},
          "execution_count": 160
        }
      ]
    },
    {
      "cell_type": "markdown",
      "metadata": {
        "id": "BMqdgnI3Y7BN"
      },
      "source": [
        "## 3. Clean: `parking_space`\n"
      ]
    },
    {
      "cell_type": "code",
      "metadata": {
        "id": "PjMfP4MvY5Fr",
        "colab": {
          "base_uri": "https://localhost:8080/"
        },
        "outputId": "141c69f1-e189-4e33-eed4-e020a697e6e3"
      },
      "source": [
        "# The parking_space column clearly shows the costs. However, the values are strings,\n",
        "# many having a € suffix. Additionally, they are using the german formatting which\n",
        "# makes it difficult to parse the values directly. \n",
        "# To get the values into a workable, they'll have to be transformed by removing \n",
        "# the €-symbol and correcting the formatting. \n",
        "df['parking_space'].unique()"
      ],
      "execution_count": 161,
      "outputs": [
        {
          "output_type": "execute_result",
          "data": {
            "text/plain": [
              "array(['120€', nan, '150€', '200€', '0€', '130€', '90€', '350€', '119€',\n",
              "       '100€', '60€', '140€', '220€', '70€', '110€', '145€', '166,6€',\n",
              "       '180€', '250€', '149€', '280€', '75€'], dtype=object)"
            ]
          },
          "metadata": {},
          "execution_count": 161
        }
      ]
    },
    {
      "cell_type": "code",
      "metadata": {
        "id": "7isttONDl1PN"
      },
      "source": [
        "# helper function from the lecture to adjust the formatting \n",
        "def convert_decimal(value):\n",
        "    \"\"\"Convert numeric string to a decimal number.\"\"\"\n",
        "\n",
        "    def convert_string_to_numeric_representation(value):\n",
        "      \"\"\"Replace a period with empty stringm and comma with period (decimal point).\"\"\"\n",
        "      return value.replace(\".\", \"\").replace(\",\", \".\")\n",
        "    \n",
        "    # return NaN if missing\n",
        "    if pd.isna(value):\n",
        "        return np.nan       \n",
        "    \n",
        "    # check if wrong format without decimal i.e. 3.500\n",
        "    if len(value.split('.')[-1]) == 3:\n",
        "        return convert_string_to_numeric_representation(value)\n",
        "\n",
        "    # if it's convertable to float, just return the value\n",
        "    # otherwise correct the formatting\n",
        "    try:                               \n",
        "        float(value)\n",
        "        return value\n",
        "    except:\n",
        "        return convert_string_to_numeric_representation(value)"
      ],
      "execution_count": 162,
      "outputs": []
    },
    {
      "cell_type": "code",
      "metadata": {
        "colab": {
          "base_uri": "https://localhost:8080/"
        },
        "id": "Qvpw7t64mFdB",
        "outputId": "0d6aa941-7dc6-4546-8c3c-967c4a6fdcf5"
      },
      "source": [
        "# strip removes leading and trailing whitespace characters\n",
        "with_removed_symbol = df['parking_space'].str.replace('€', '').str.strip() \n",
        "\n",
        "with_removed_symbol.unique()"
      ],
      "execution_count": 163,
      "outputs": [
        {
          "output_type": "execute_result",
          "data": {
            "text/plain": [
              "array(['120', nan, '150', '200', '0', '130', '90', '350', '119', '100',\n",
              "       '60', '140', '220', '70', '110', '145', '166,6', '180', '250',\n",
              "       '149', '280', '75'], dtype=object)"
            ]
          },
          "metadata": {},
          "execution_count": 163
        }
      ]
    },
    {
      "cell_type": "code",
      "metadata": {
        "colab": {
          "base_uri": "https://localhost:8080/"
        },
        "id": "xvyiuCxYmS8b",
        "outputId": "2cc16ae6-b404-4d44-e346-317d9bb501f2"
      },
      "source": [
        "# Transform the formatting\n",
        "# After this step all values can easily be cast to their numeric representation \n",
        "cleaned_parking_space = with_removed_symbol.apply(convert_decimal)\n",
        "cleaned_parking_space.unique()"
      ],
      "execution_count": 164,
      "outputs": [
        {
          "output_type": "execute_result",
          "data": {
            "text/plain": [
              "array(['120', nan, '150', '200', '0', '130', '90', '350', '119', '100',\n",
              "       '60', '140', '220', '70', '110', '145', '166.6', '180', '250',\n",
              "       '149', '280', '75'], dtype=object)"
            ]
          },
          "metadata": {},
          "execution_count": 164
        }
      ]
    },
    {
      "cell_type": "code",
      "metadata": {
        "colab": {
          "base_uri": "https://localhost:8080/"
        },
        "id": "iH-7uv2knK-6",
        "outputId": "6a73c8c6-a62c-4ea9-ce97-39fe352cec3b"
      },
      "source": [
        "cleaned_parking_space = cleaned_parking_space.astype(float)\n",
        "\n",
        "# Note the type of the columns 'dtype: float64'. This means all values are of type float.\n",
        "cleaned_parking_space"
      ],
      "execution_count": 165,
      "outputs": [
        {
          "output_type": "execute_result",
          "data": {
            "text/plain": [
              "0      120.0\n",
              "1        NaN\n",
              "2        NaN\n",
              "3        NaN\n",
              "4        NaN\n",
              "       ...  \n",
              "759      NaN\n",
              "760      NaN\n",
              "761      NaN\n",
              "762      NaN\n",
              "763      NaN\n",
              "Name: parking_space, Length: 764, dtype: float64"
            ]
          },
          "metadata": {},
          "execution_count": 165
        }
      ]
    },
    {
      "cell_type": "code",
      "metadata": {
        "colab": {
          "base_uri": "https://localhost:8080/"
        },
        "id": "BOjG8QNmoGjU",
        "outputId": "3eb377fe-dafa-4408-8b17-3895f7490037"
      },
      "source": [
        "# Note that missing NaN values are also interpreted as float by pandas. That does not mean\n",
        "# you can do any \"numeric computations\" on it.\n",
        "type(np.nan)"
      ],
      "execution_count": 166,
      "outputs": [
        {
          "output_type": "execute_result",
          "data": {
            "text/plain": [
              "float"
            ]
          },
          "metadata": {},
          "execution_count": 166
        }
      ]
    },
    {
      "cell_type": "code",
      "metadata": {
        "colab": {
          "base_uri": "https://localhost:8080/"
        },
        "id": "tqfbqOpvoU4V",
        "outputId": "004dfb1e-a13c-4499-ef83-d40ccdfef439"
      },
      "source": [
        "# Different approaches can be taken to fill in the missing values. \n",
        "# But note that this column is very sparse, meaning there are far more\n",
        "# missing than existing values. So a more real-world approach should also take this into account.\n",
        "print(cleaned_parking_space.isna().sum())\n",
        "print((~cleaned_parking_space.isna()).sum())"
      ],
      "execution_count": 167,
      "outputs": [
        {
          "output_type": "stream",
          "name": "stdout",
          "text": [
            "674\n",
            "90\n"
          ]
        }
      ]
    },
    {
      "cell_type": "code",
      "metadata": {
        "colab": {
          "base_uri": "https://localhost:8080/"
        },
        "id": "nt1v2rR2pJH2",
        "outputId": "0d70ec5c-40ad-4eaa-ce34-5457222ce2c4"
      },
      "source": [
        "# This shows some summary statistics based on the existing parking_space values. \n",
        "cleaned_parking_space.describe()"
      ],
      "execution_count": 168,
      "outputs": [
        {
          "output_type": "execute_result",
          "data": {
            "text/plain": [
              "count     90.000000\n",
              "mean     139.662222\n",
              "std       71.774795\n",
              "min        0.000000\n",
              "25%      100.000000\n",
              "50%      120.000000\n",
              "75%      150.000000\n",
              "max      350.000000\n",
              "Name: parking_space, dtype: float64"
            ]
          },
          "metadata": {},
          "execution_count": 168
        }
      ]
    },
    {
      "cell_type": "code",
      "metadata": {
        "colab": {
          "base_uri": "https://localhost:8080/",
          "height": 542
        },
        "id": "rHbaWzCopmGr",
        "outputId": "4248094a-7d45-4a3d-a84a-2949fef9b5f9"
      },
      "source": [
        "# Replace missing parking_space values with the median (50% above) \n",
        "df['parking_space_cleaned'] = cleaned_parking_space.fillna(cleaned_parking_space.median())\n",
        "\n",
        "# This is one approach, but notice how this completely distorts the values. \n",
        "# We're filling in a derived value from a very small set (90 existing values overall)\n",
        "# and using it to fill in the remaining 674 values. This is probably too simplistic\n",
        "# and in a real-world scenario it would be interesting to explore more complex approaches further\n",
        "# For example, maybe there is some relation between other parameters (rent, size of apartment, area)\n",
        "# and the cost for parking. Based on that, a more realistic replacement could be applied.\n",
        "\n",
        "# See the next section about 'utilities' for a different approach. \n",
        "px.histogram(df, x='parking_space_cleaned')"
      ],
      "execution_count": 169,
      "outputs": [
        {
          "output_type": "display_data",
          "data": {
            "text/html": [
              "<html>\n",
              "<head><meta charset=\"utf-8\" /></head>\n",
              "<body>\n",
              "    <div>\n",
              "            <script src=\"https://cdnjs.cloudflare.com/ajax/libs/mathjax/2.7.5/MathJax.js?config=TeX-AMS-MML_SVG\"></script><script type=\"text/javascript\">if (window.MathJax) {MathJax.Hub.Config({SVG: {font: \"STIX-Web\"}});}</script>\n",
              "                <script type=\"text/javascript\">window.PlotlyConfig = {MathJaxConfig: 'local'};</script>\n",
              "        <script src=\"https://cdn.plot.ly/plotly-latest.min.js\"></script>    \n",
              "            <div id=\"d6f507f0-f9c4-4ed2-96ce-39def5c05fdc\" class=\"plotly-graph-div\" style=\"height:525px; width:100%;\"></div>\n",
              "            <script type=\"text/javascript\">\n",
              "                \n",
              "                    window.PLOTLYENV=window.PLOTLYENV || {};\n",
              "                    \n",
              "                if (document.getElementById(\"d6f507f0-f9c4-4ed2-96ce-39def5c05fdc\")) {\n",
              "                    Plotly.newPlot(\n",
              "                        'd6f507f0-f9c4-4ed2-96ce-39def5c05fdc',\n",
              "                        [{\"alignmentgroup\": \"True\", \"bingroup\": \"x\", \"hoverlabel\": {\"namelength\": 0}, \"hovertemplate\": \"parking_space_cleaned=%{x}<br>count=%{y}\", \"legendgroup\": \"\", \"marker\": {\"color\": \"#636efa\"}, \"name\": \"\", \"offsetgroup\": \"\", \"orientation\": \"v\", \"showlegend\": false, \"type\": \"histogram\", \"x\": [120.0, 120.0, 120.0, 120.0, 120.0, 120.0, 120.0, 120.0, 120.0, 120.0, 120.0, 120.0, 120.0, 120.0, 120.0, 150.0, 120.0, 120.0, 120.0, 120.0, 120.0, 120.0, 120.0, 120.0, 120.0, 120.0, 120.0, 120.0, 120.0, 150.0, 120.0, 120.0, 120.0, 120.0, 120.0, 120.0, 120.0, 120.0, 120.0, 120.0, 120.0, 120.0, 120.0, 200.0, 120.0, 120.0, 120.0, 120.0, 120.0, 120.0, 120.0, 120.0, 120.0, 120.0, 120.0, 120.0, 0.0, 120.0, 120.0, 150.0, 120.0, 120.0, 120.0, 130.0, 120.0, 120.0, 120.0, 0.0, 120.0, 120.0, 120.0, 120.0, 0.0, 120.0, 120.0, 120.0, 120.0, 90.0, 120.0, 120.0, 120.0, 90.0, 120.0, 120.0, 120.0, 120.0, 120.0, 350.0, 119.0, 120.0, 350.0, 120.0, 350.0, 120.0, 150.0, 350.0, 350.0, 120.0, 100.0, 120.0, 120.0, 120.0, 120.0, 120.0, 120.0, 120.0, 120.0, 120.0, 120.0, 120.0, 120.0, 150.0, 120.0, 120.0, 60.0, 120.0, 120.0, 120.0, 120.0, 120.0, 120.0, 120.0, 120.0, 120.0, 120.0, 120.0, 120.0, 120.0, 120.0, 120.0, 120.0, 120.0, 120.0, 120.0, 120.0, 120.0, 120.0, 100.0, 120.0, 120.0, 120.0, 120.0, 120.0, 120.0, 120.0, 120.0, 120.0, 120.0, 120.0, 120.0, 120.0, 120.0, 120.0, 120.0, 120.0, 120.0, 120.0, 120.0, 140.0, 120.0, 120.0, 120.0, 120.0, 120.0, 120.0, 120.0, 120.0, 120.0, 120.0, 120.0, 120.0, 120.0, 120.0, 120.0, 120.0, 120.0, 120.0, 120.0, 120.0, 120.0, 120.0, 120.0, 120.0, 120.0, 120.0, 120.0, 120.0, 120.0, 120.0, 120.0, 120.0, 120.0, 120.0, 120.0, 120.0, 120.0, 120.0, 120.0, 120.0, 220.0, 220.0, 120.0, 120.0, 120.0, 120.0, 120.0, 120.0, 120.0, 120.0, 120.0, 120.0, 120.0, 120.0, 120.0, 120.0, 120.0, 120.0, 120.0, 120.0, 120.0, 120.0, 120.0, 120.0, 120.0, 120.0, 120.0, 120.0, 120.0, 120.0, 120.0, 120.0, 120.0, 120.0, 120.0, 120.0, 120.0, 120.0, 120.0, 120.0, 120.0, 150.0, 120.0, 120.0, 120.0, 70.0, 120.0, 120.0, 120.0, 120.0, 120.0, 130.0, 120.0, 120.0, 120.0, 120.0, 120.0, 120.0, 120.0, 120.0, 120.0, 120.0, 120.0, 120.0, 120.0, 120.0, 120.0, 120.0, 120.0, 120.0, 150.0, 120.0, 120.0, 120.0, 120.0, 120.0, 120.0, 120.0, 110.0, 120.0, 120.0, 120.0, 120.0, 120.0, 120.0, 120.0, 120.0, 120.0, 120.0, 100.0, 120.0, 120.0, 120.0, 120.0, 120.0, 120.0, 120.0, 120.0, 120.0, 120.0, 120.0, 120.0, 120.0, 145.0, 120.0, 120.0, 120.0, 166.6, 120.0, 120.0, 120.0, 120.0, 120.0, 120.0, 120.0, 120.0, 120.0, 120.0, 120.0, 120.0, 120.0, 120.0, 120.0, 120.0, 120.0, 120.0, 120.0, 120.0, 120.0, 150.0, 100.0, 120.0, 120.0, 120.0, 120.0, 200.0, 120.0, 120.0, 120.0, 120.0, 120.0, 120.0, 120.0, 120.0, 120.0, 120.0, 120.0, 180.0, 120.0, 120.0, 120.0, 120.0, 120.0, 120.0, 120.0, 120.0, 120.0, 120.0, 120.0, 120.0, 120.0, 120.0, 120.0, 130.0, 150.0, 120.0, 120.0, 120.0, 120.0, 120.0, 120.0, 120.0, 120.0, 120.0, 120.0, 120.0, 120.0, 120.0, 120.0, 120.0, 120.0, 120.0, 120.0, 120.0, 120.0, 120.0, 120.0, 130.0, 120.0, 120.0, 120.0, 120.0, 120.0, 120.0, 120.0, 150.0, 120.0, 120.0, 120.0, 120.0, 120.0, 120.0, 120.0, 120.0, 120.0, 120.0, 120.0, 120.0, 120.0, 120.0, 120.0, 120.0, 120.0, 120.0, 130.0, 120.0, 120.0, 120.0, 120.0, 120.0, 120.0, 120.0, 120.0, 120.0, 120.0, 120.0, 120.0, 120.0, 120.0, 120.0, 120.0, 120.0, 120.0, 120.0, 120.0, 120.0, 120.0, 120.0, 120.0, 250.0, 120.0, 120.0, 120.0, 120.0, 150.0, 120.0, 120.0, 120.0, 120.0, 120.0, 120.0, 120.0, 120.0, 120.0, 120.0, 120.0, 120.0, 120.0, 120.0, 120.0, 120.0, 120.0, 120.0, 120.0, 120.0, 120.0, 90.0, 120.0, 120.0, 120.0, 120.0, 120.0, 120.0, 120.0, 120.0, 120.0, 120.0, 120.0, 120.0, 120.0, 120.0, 120.0, 120.0, 120.0, 120.0, 120.0, 120.0, 120.0, 120.0, 120.0, 90.0, 120.0, 120.0, 120.0, 120.0, 120.0, 120.0, 120.0, 120.0, 120.0, 120.0, 120.0, 120.0, 120.0, 120.0, 120.0, 120.0, 100.0, 100.0, 120.0, 120.0, 120.0, 120.0, 120.0, 120.0, 120.0, 120.0, 120.0, 120.0, 120.0, 120.0, 120.0, 120.0, 120.0, 120.0, 120.0, 120.0, 120.0, 120.0, 120.0, 120.0, 120.0, 120.0, 120.0, 120.0, 120.0, 120.0, 120.0, 120.0, 149.0, 120.0, 120.0, 120.0, 120.0, 120.0, 120.0, 120.0, 120.0, 120.0, 120.0, 120.0, 120.0, 100.0, 120.0, 120.0, 100.0, 120.0, 120.0, 120.0, 100.0, 120.0, 120.0, 120.0, 120.0, 100.0, 120.0, 120.0, 100.0, 0.0, 120.0, 150.0, 150.0, 120.0, 120.0, 120.0, 120.0, 120.0, 120.0, 120.0, 120.0, 120.0, 120.0, 120.0, 120.0, 120.0, 120.0, 120.0, 120.0, 120.0, 150.0, 120.0, 120.0, 120.0, 120.0, 120.0, 120.0, 120.0, 120.0, 120.0, 120.0, 120.0, 120.0, 150.0, 120.0, 120.0, 120.0, 120.0, 120.0, 120.0, 120.0, 120.0, 120.0, 120.0, 120.0, 120.0, 120.0, 120.0, 120.0, 120.0, 120.0, 120.0, 120.0, 120.0, 120.0, 120.0, 120.0, 120.0, 120.0, 120.0, 120.0, 120.0, 120.0, 120.0, 120.0, 150.0, 120.0, 120.0, 120.0, 120.0, 120.0, 120.0, 120.0, 120.0, 120.0, 120.0, 120.0, 120.0, 280.0, 100.0, 120.0, 120.0, 120.0, 100.0, 120.0, 280.0, 120.0, 120.0, 120.0, 120.0, 120.0, 120.0, 120.0, 120.0, 120.0, 280.0, 120.0, 120.0, 120.0, 120.0, 120.0, 120.0, 120.0, 120.0, 120.0, 120.0, 120.0, 120.0, 120.0, 120.0, 120.0, 120.0, 120.0, 120.0, 120.0, 90.0, 120.0, 120.0, 75.0, 120.0, 120.0, 120.0, 120.0, 120.0, 75.0, 120.0, 120.0, 120.0, 120.0, 120.0, 120.0, 120.0, 120.0, 120.0, 120.0, 150.0, 120.0, 120.0, 120.0, 120.0, 120.0, 120.0, 120.0, 120.0, 120.0, 120.0, 120.0, 120.0, 120.0, 120.0, 120.0, 120.0, 120.0, 120.0, 120.0, 120.0, 120.0, 120.0, 120.0, 120.0, 120.0, 120.0, 120.0, 120.0, 120.0, 150.0, 100.0, 120.0, 120.0, 120.0, 120.0, 120.0, 120.0, 120.0, 120.0, 120.0, 120.0, 120.0, 120.0, 120.0, 120.0, 120.0, 120.0, 120.0, 120.0, 120.0, 120.0, 120.0, 120.0, 120.0, 120.0, 120.0, 120.0, 120.0, 120.0, 120.0], \"xaxis\": \"x\", \"yaxis\": \"y\"}],\n",
              "                        {\"barmode\": \"relative\", \"legend\": {\"tracegroupgap\": 0}, \"margin\": {\"t\": 60}, \"template\": {\"data\": {\"bar\": [{\"error_x\": {\"color\": \"#2a3f5f\"}, \"error_y\": {\"color\": \"#2a3f5f\"}, \"marker\": {\"line\": {\"color\": \"#E5ECF6\", \"width\": 0.5}}, \"type\": \"bar\"}], \"barpolar\": [{\"marker\": {\"line\": {\"color\": \"#E5ECF6\", \"width\": 0.5}}, \"type\": \"barpolar\"}], \"carpet\": [{\"aaxis\": {\"endlinecolor\": \"#2a3f5f\", \"gridcolor\": \"white\", \"linecolor\": \"white\", \"minorgridcolor\": \"white\", \"startlinecolor\": \"#2a3f5f\"}, \"baxis\": {\"endlinecolor\": \"#2a3f5f\", \"gridcolor\": \"white\", \"linecolor\": \"white\", \"minorgridcolor\": \"white\", \"startlinecolor\": \"#2a3f5f\"}, \"type\": \"carpet\"}], \"choropleth\": [{\"colorbar\": {\"outlinewidth\": 0, \"ticks\": \"\"}, \"type\": \"choropleth\"}], \"contour\": [{\"colorbar\": {\"outlinewidth\": 0, \"ticks\": \"\"}, \"colorscale\": [[0.0, \"#0d0887\"], [0.1111111111111111, \"#46039f\"], [0.2222222222222222, \"#7201a8\"], [0.3333333333333333, \"#9c179e\"], [0.4444444444444444, \"#bd3786\"], [0.5555555555555556, \"#d8576b\"], [0.6666666666666666, \"#ed7953\"], [0.7777777777777778, \"#fb9f3a\"], [0.8888888888888888, \"#fdca26\"], [1.0, \"#f0f921\"]], \"type\": \"contour\"}], \"contourcarpet\": [{\"colorbar\": {\"outlinewidth\": 0, \"ticks\": \"\"}, \"type\": \"contourcarpet\"}], \"heatmap\": [{\"colorbar\": {\"outlinewidth\": 0, \"ticks\": \"\"}, \"colorscale\": [[0.0, \"#0d0887\"], [0.1111111111111111, \"#46039f\"], [0.2222222222222222, \"#7201a8\"], [0.3333333333333333, \"#9c179e\"], [0.4444444444444444, \"#bd3786\"], [0.5555555555555556, \"#d8576b\"], [0.6666666666666666, \"#ed7953\"], [0.7777777777777778, \"#fb9f3a\"], [0.8888888888888888, \"#fdca26\"], [1.0, \"#f0f921\"]], \"type\": \"heatmap\"}], \"heatmapgl\": [{\"colorbar\": {\"outlinewidth\": 0, \"ticks\": \"\"}, \"colorscale\": [[0.0, \"#0d0887\"], [0.1111111111111111, \"#46039f\"], [0.2222222222222222, \"#7201a8\"], [0.3333333333333333, \"#9c179e\"], [0.4444444444444444, \"#bd3786\"], [0.5555555555555556, \"#d8576b\"], [0.6666666666666666, \"#ed7953\"], [0.7777777777777778, \"#fb9f3a\"], [0.8888888888888888, \"#fdca26\"], [1.0, \"#f0f921\"]], \"type\": \"heatmapgl\"}], \"histogram\": [{\"marker\": {\"colorbar\": {\"outlinewidth\": 0, \"ticks\": \"\"}}, \"type\": \"histogram\"}], \"histogram2d\": [{\"colorbar\": {\"outlinewidth\": 0, \"ticks\": \"\"}, \"colorscale\": [[0.0, \"#0d0887\"], [0.1111111111111111, \"#46039f\"], [0.2222222222222222, \"#7201a8\"], [0.3333333333333333, \"#9c179e\"], [0.4444444444444444, \"#bd3786\"], [0.5555555555555556, \"#d8576b\"], [0.6666666666666666, \"#ed7953\"], [0.7777777777777778, \"#fb9f3a\"], [0.8888888888888888, \"#fdca26\"], [1.0, \"#f0f921\"]], \"type\": \"histogram2d\"}], \"histogram2dcontour\": [{\"colorbar\": {\"outlinewidth\": 0, \"ticks\": \"\"}, \"colorscale\": [[0.0, \"#0d0887\"], [0.1111111111111111, \"#46039f\"], [0.2222222222222222, \"#7201a8\"], [0.3333333333333333, \"#9c179e\"], [0.4444444444444444, \"#bd3786\"], [0.5555555555555556, \"#d8576b\"], [0.6666666666666666, \"#ed7953\"], [0.7777777777777778, \"#fb9f3a\"], [0.8888888888888888, \"#fdca26\"], [1.0, \"#f0f921\"]], \"type\": \"histogram2dcontour\"}], \"mesh3d\": [{\"colorbar\": {\"outlinewidth\": 0, \"ticks\": \"\"}, \"type\": \"mesh3d\"}], \"parcoords\": [{\"line\": {\"colorbar\": {\"outlinewidth\": 0, \"ticks\": \"\"}}, \"type\": \"parcoords\"}], \"pie\": [{\"automargin\": true, \"type\": \"pie\"}], \"scatter\": [{\"marker\": {\"colorbar\": {\"outlinewidth\": 0, \"ticks\": \"\"}}, \"type\": \"scatter\"}], \"scatter3d\": [{\"line\": {\"colorbar\": {\"outlinewidth\": 0, \"ticks\": \"\"}}, \"marker\": {\"colorbar\": {\"outlinewidth\": 0, \"ticks\": \"\"}}, \"type\": \"scatter3d\"}], \"scattercarpet\": [{\"marker\": {\"colorbar\": {\"outlinewidth\": 0, \"ticks\": \"\"}}, \"type\": \"scattercarpet\"}], \"scattergeo\": [{\"marker\": {\"colorbar\": {\"outlinewidth\": 0, \"ticks\": \"\"}}, \"type\": \"scattergeo\"}], \"scattergl\": [{\"marker\": {\"colorbar\": {\"outlinewidth\": 0, \"ticks\": \"\"}}, \"type\": \"scattergl\"}], \"scattermapbox\": [{\"marker\": {\"colorbar\": {\"outlinewidth\": 0, \"ticks\": \"\"}}, \"type\": \"scattermapbox\"}], \"scatterpolar\": [{\"marker\": {\"colorbar\": {\"outlinewidth\": 0, \"ticks\": \"\"}}, \"type\": \"scatterpolar\"}], \"scatterpolargl\": [{\"marker\": {\"colorbar\": {\"outlinewidth\": 0, \"ticks\": \"\"}}, \"type\": \"scatterpolargl\"}], \"scatterternary\": [{\"marker\": {\"colorbar\": {\"outlinewidth\": 0, \"ticks\": \"\"}}, \"type\": \"scatterternary\"}], \"surface\": [{\"colorbar\": {\"outlinewidth\": 0, \"ticks\": \"\"}, \"colorscale\": [[0.0, \"#0d0887\"], [0.1111111111111111, \"#46039f\"], [0.2222222222222222, \"#7201a8\"], [0.3333333333333333, \"#9c179e\"], [0.4444444444444444, \"#bd3786\"], [0.5555555555555556, \"#d8576b\"], [0.6666666666666666, \"#ed7953\"], [0.7777777777777778, \"#fb9f3a\"], [0.8888888888888888, \"#fdca26\"], [1.0, \"#f0f921\"]], \"type\": \"surface\"}], \"table\": [{\"cells\": {\"fill\": {\"color\": \"#EBF0F8\"}, \"line\": {\"color\": \"white\"}}, \"header\": {\"fill\": {\"color\": \"#C8D4E3\"}, \"line\": {\"color\": \"white\"}}, \"type\": \"table\"}]}, \"layout\": {\"annotationdefaults\": {\"arrowcolor\": \"#2a3f5f\", \"arrowhead\": 0, \"arrowwidth\": 1}, \"coloraxis\": {\"colorbar\": {\"outlinewidth\": 0, \"ticks\": \"\"}}, \"colorscale\": {\"diverging\": [[0, \"#8e0152\"], [0.1, \"#c51b7d\"], [0.2, \"#de77ae\"], [0.3, \"#f1b6da\"], [0.4, \"#fde0ef\"], [0.5, \"#f7f7f7\"], [0.6, \"#e6f5d0\"], [0.7, \"#b8e186\"], [0.8, \"#7fbc41\"], [0.9, \"#4d9221\"], [1, \"#276419\"]], \"sequential\": [[0.0, \"#0d0887\"], [0.1111111111111111, \"#46039f\"], [0.2222222222222222, \"#7201a8\"], [0.3333333333333333, \"#9c179e\"], [0.4444444444444444, \"#bd3786\"], [0.5555555555555556, \"#d8576b\"], [0.6666666666666666, \"#ed7953\"], [0.7777777777777778, \"#fb9f3a\"], [0.8888888888888888, \"#fdca26\"], [1.0, \"#f0f921\"]], \"sequentialminus\": [[0.0, \"#0d0887\"], [0.1111111111111111, \"#46039f\"], [0.2222222222222222, \"#7201a8\"], [0.3333333333333333, \"#9c179e\"], [0.4444444444444444, \"#bd3786\"], [0.5555555555555556, \"#d8576b\"], [0.6666666666666666, \"#ed7953\"], [0.7777777777777778, \"#fb9f3a\"], [0.8888888888888888, \"#fdca26\"], [1.0, \"#f0f921\"]]}, \"colorway\": [\"#636efa\", \"#EF553B\", \"#00cc96\", \"#ab63fa\", \"#FFA15A\", \"#19d3f3\", \"#FF6692\", \"#B6E880\", \"#FF97FF\", \"#FECB52\"], \"font\": {\"color\": \"#2a3f5f\"}, \"geo\": {\"bgcolor\": \"white\", \"lakecolor\": \"white\", \"landcolor\": \"#E5ECF6\", \"showlakes\": true, \"showland\": true, \"subunitcolor\": \"white\"}, \"hoverlabel\": {\"align\": \"left\"}, \"hovermode\": \"closest\", \"mapbox\": {\"style\": \"light\"}, \"paper_bgcolor\": \"white\", \"plot_bgcolor\": \"#E5ECF6\", \"polar\": {\"angularaxis\": {\"gridcolor\": \"white\", \"linecolor\": \"white\", \"ticks\": \"\"}, \"bgcolor\": \"#E5ECF6\", \"radialaxis\": {\"gridcolor\": \"white\", \"linecolor\": \"white\", \"ticks\": \"\"}}, \"scene\": {\"xaxis\": {\"backgroundcolor\": \"#E5ECF6\", \"gridcolor\": \"white\", \"gridwidth\": 2, \"linecolor\": \"white\", \"showbackground\": true, \"ticks\": \"\", \"zerolinecolor\": \"white\"}, \"yaxis\": {\"backgroundcolor\": \"#E5ECF6\", \"gridcolor\": \"white\", \"gridwidth\": 2, \"linecolor\": \"white\", \"showbackground\": true, \"ticks\": \"\", \"zerolinecolor\": \"white\"}, \"zaxis\": {\"backgroundcolor\": \"#E5ECF6\", \"gridcolor\": \"white\", \"gridwidth\": 2, \"linecolor\": \"white\", \"showbackground\": true, \"ticks\": \"\", \"zerolinecolor\": \"white\"}}, \"shapedefaults\": {\"line\": {\"color\": \"#2a3f5f\"}}, \"ternary\": {\"aaxis\": {\"gridcolor\": \"white\", \"linecolor\": \"white\", \"ticks\": \"\"}, \"baxis\": {\"gridcolor\": \"white\", \"linecolor\": \"white\", \"ticks\": \"\"}, \"bgcolor\": \"#E5ECF6\", \"caxis\": {\"gridcolor\": \"white\", \"linecolor\": \"white\", \"ticks\": \"\"}}, \"title\": {\"x\": 0.05}, \"xaxis\": {\"automargin\": true, \"gridcolor\": \"white\", \"linecolor\": \"white\", \"ticks\": \"\", \"title\": {\"standoff\": 15}, \"zerolinecolor\": \"white\", \"zerolinewidth\": 2}, \"yaxis\": {\"automargin\": true, \"gridcolor\": \"white\", \"linecolor\": \"white\", \"ticks\": \"\", \"title\": {\"standoff\": 15}, \"zerolinecolor\": \"white\", \"zerolinewidth\": 2}}}, \"xaxis\": {\"anchor\": \"y\", \"domain\": [0.0, 1.0], \"title\": {\"text\": \"parking_space_cleaned\"}}, \"yaxis\": {\"anchor\": \"x\", \"domain\": [0.0, 1.0], \"title\": {\"text\": \"count\"}}},\n",
              "                        {\"responsive\": true}\n",
              "                    ).then(function(){\n",
              "                            \n",
              "var gd = document.getElementById('d6f507f0-f9c4-4ed2-96ce-39def5c05fdc');\n",
              "var x = new MutationObserver(function (mutations, observer) {{\n",
              "        var display = window.getComputedStyle(gd).display;\n",
              "        if (!display || display === 'none') {{\n",
              "            console.log([gd, 'removed!']);\n",
              "            Plotly.purge(gd);\n",
              "            observer.disconnect();\n",
              "        }}\n",
              "}});\n",
              "\n",
              "// Listen for the removal of the full notebook cells\n",
              "var notebookContainer = gd.closest('#notebook-container');\n",
              "if (notebookContainer) {{\n",
              "    x.observe(notebookContainer, {childList: true});\n",
              "}}\n",
              "\n",
              "// Listen for the clearing of the current output cell\n",
              "var outputEl = gd.closest('.output');\n",
              "if (outputEl) {{\n",
              "    x.observe(outputEl, {childList: true});\n",
              "}}\n",
              "\n",
              "                        })\n",
              "                };\n",
              "                \n",
              "            </script>\n",
              "        </div>\n",
              "</body>\n",
              "</html>"
            ]
          },
          "metadata": {}
        }
      ]
    },
    {
      "cell_type": "markdown",
      "metadata": {
        "id": "d-FJavHVZM16"
      },
      "source": [
        "## 4. Clean: `utilities`\n",
        "\n"
      ]
    },
    {
      "cell_type": "code",
      "metadata": {
        "id": "1gCHzQ5JY5IS",
        "colab": {
          "base_uri": "https://localhost:8080/"
        },
        "outputId": "d316923c-9084-4a3a-c799-2fbbffeaeb42"
      },
      "source": [
        "# Similar cleaning as for the parking space\n",
        "# Symbols like + and € have to be removed and the formatting needs to be adjusted\n",
        "# before the existing values can be correctly parsed to numbers\n",
        "df['utilities'].head(20)"
      ],
      "execution_count": 170,
      "outputs": [
        {
          "output_type": "execute_result",
          "data": {
            "text/plain": [
              "0        +460€\n",
              "1     +226,49€\n",
              "2         +90€\n",
              "3          NaN\n",
              "4          NaN\n",
              "5        +110€\n",
              "6          NaN\n",
              "7        +110€\n",
              "8        +110€\n",
              "9        +255€\n",
              "10       +500€\n",
              "11         NaN\n",
              "12       +250€\n",
              "13       +750€\n",
              "14    +133,30€\n",
              "15    +225,84€\n",
              "16    +164,09€\n",
              "17       +170€\n",
              "18     +98,38€\n",
              "19       +380€\n",
              "Name: utilities, dtype: object"
            ]
          },
          "metadata": {},
          "execution_count": 170
        }
      ]
    },
    {
      "cell_type": "code",
      "metadata": {
        "colab": {
          "base_uri": "https://localhost:8080/"
        },
        "id": "m3_BlO59czPn",
        "outputId": "554a9a14-2341-4d02-d4c9-5d38e1f0b08f"
      },
      "source": [
        "# remove the irrelevant symbols from the values\n",
        "utilities_cleaned = df['utilities'].str.replace('+', '').str.replace('€', '').str.strip()\n",
        "\n",
        "utilities_cleaned.head(20)"
      ],
      "execution_count": 171,
      "outputs": [
        {
          "output_type": "execute_result",
          "data": {
            "text/plain": [
              "0        460\n",
              "1     226,49\n",
              "2         90\n",
              "3        NaN\n",
              "4        NaN\n",
              "5        110\n",
              "6        NaN\n",
              "7        110\n",
              "8        110\n",
              "9        255\n",
              "10       500\n",
              "11       NaN\n",
              "12       250\n",
              "13       750\n",
              "14    133,30\n",
              "15    225,84\n",
              "16    164,09\n",
              "17       170\n",
              "18     98,38\n",
              "19       380\n",
              "Name: utilities, dtype: object"
            ]
          },
          "metadata": {},
          "execution_count": 171
        }
      ]
    },
    {
      "cell_type": "code",
      "metadata": {
        "colab": {
          "base_uri": "https://localhost:8080/"
        },
        "id": "fS2i29KxdCZr",
        "outputId": "38b51aa2-429c-4202-aa4b-39a423f8e367"
      },
      "source": [
        "# reformat each number to a parseable format and replace values of 'keine' (= none in german)\n",
        "# with 0\n",
        "utilities_cleaned = utilities_cleaned.apply(convert_decimal)\n",
        "\n",
        "utilities_cleaned = utilities_cleaned.apply(lambda x: '0' if x == 'keine' else x)\n",
        "\n",
        "utilities_cleaned.head(20)"
      ],
      "execution_count": 172,
      "outputs": [
        {
          "output_type": "execute_result",
          "data": {
            "text/plain": [
              "0        460\n",
              "1     226.49\n",
              "2         90\n",
              "3        NaN\n",
              "4        NaN\n",
              "5        110\n",
              "6        NaN\n",
              "7        110\n",
              "8        110\n",
              "9        255\n",
              "10       500\n",
              "11       NaN\n",
              "12       250\n",
              "13       750\n",
              "14    133.30\n",
              "15    225.84\n",
              "16    164.09\n",
              "17       170\n",
              "18     98.38\n",
              "19       380\n",
              "Name: utilities, dtype: object"
            ]
          },
          "metadata": {},
          "execution_count": 172
        }
      ]
    },
    {
      "cell_type": "code",
      "metadata": {
        "id": "SH3QQZnJdnLS"
      },
      "source": [
        "# cast all values to numeric types\n",
        "utilities_cleaned = utilities_cleaned.astype(float)"
      ],
      "execution_count": 181,
      "outputs": []
    },
    {
      "cell_type": "markdown",
      "metadata": {
        "id": "BZrL7CM4ZRuA"
      },
      "source": [
        "## 5. Clean: `energy_requirement`\n"
      ]
    },
    {
      "cell_type": "code",
      "metadata": {
        "id": "A__3sJhWZR3P",
        "colab": {
          "base_uri": "https://localhost:8080/"
        },
        "outputId": "587f2a3b-95c9-40d7-a78f-d932c04c634d"
      },
      "source": [
        "print(f\"Missing  values: {df['energy_requirement'].isna().sum()}\")\n",
        "print(f\"Existing values: {(~df['energy_requirement'].isna()).sum()}\")\n",
        "\n",
        "df['energy_requirement'].sample(20)"
      ],
      "execution_count": 174,
      "outputs": [
        {
          "output_type": "stream",
          "name": "stdout",
          "text": [
            "Missing  values: 438\n",
            "Existing values: 326\n"
          ]
        },
        {
          "output_type": "execute_result",
          "data": {
            "text/plain": [
              "37     76,9 kWh/(m²*a)\n",
              "303                NaN\n",
              "165                NaN\n",
              "368                NaN\n",
              "327                NaN\n",
              "586                NaN\n",
              "414                NaN\n",
              "286                NaN\n",
              "562                NaN\n",
              "448    66,2 kWh/(m²*a)\n",
              "310      59 kWh/(m²*a)\n",
              "284                NaN\n",
              "346      72 kWh/(m²*a)\n",
              "32                 NaN\n",
              "699                NaN\n",
              "531                NaN\n",
              "480                NaN\n",
              "737                NaN\n",
              "246                NaN\n",
              "207     170 kWh/(m²*a)\n",
              "Name: energy_requirement, dtype: object"
            ]
          },
          "metadata": {},
          "execution_count": 174
        }
      ]
    },
    {
      "cell_type": "code",
      "metadata": {
        "colab": {
          "base_uri": "https://localhost:8080/"
        },
        "id": "6PTgE201p8xY",
        "outputId": "a066b4dd-5ee4-4666-9224-2845e0b7976b"
      },
      "source": [
        "# Similar to the previous examples, there are some symbols and formatting\n",
        "# that have to be adjusted to make the existing values parseable to numbers.\n",
        "# Note the regex=False flag. By default, the replace function treats the target\n",
        "# string that should be replaced as a regex https://en.wikipedia.org/wiki/Regular_expression.\n",
        "# Because the string that we want to replace contains some special regex-specific characters,\n",
        "# the replacement doesn't work without turning off the flag.\n",
        "energy_req = df['energy_requirement'].str.replace('kWh/(m²*a)', '', regex=False).str.strip()\n",
        "\n",
        "energy_req.sample(10)"
      ],
      "execution_count": 175,
      "outputs": [
        {
          "output_type": "execute_result",
          "data": {
            "text/plain": [
              "344      NaN\n",
              "675      NaN\n",
              "43        74\n",
              "725      NaN\n",
              "169      NaN\n",
              "331    155,5\n",
              "261      NaN\n",
              "575     66,2\n",
              "48        68\n",
              "121    128,1\n",
              "Name: energy_requirement, dtype: object"
            ]
          },
          "metadata": {},
          "execution_count": 175
        }
      ]
    },
    {
      "cell_type": "code",
      "metadata": {
        "colab": {
          "base_uri": "https://localhost:8080/"
        },
        "id": "a05J4MIFq-om",
        "outputId": "74fdcbed-7ccd-435c-e0a6-c055cbc0639a"
      },
      "source": [
        "# The other steps are just as before. Reformatting and casting to float. \n",
        "energy_req_cleaned = energy_req.apply(convert_decimal)\n",
        "energy_req_cleaned = energy_req_cleaned.astype(float)\n",
        "energy_req_cleaned.sample(10)"
      ],
      "execution_count": 176,
      "outputs": [
        {
          "output_type": "execute_result",
          "data": {
            "text/plain": [
              "117     NaN\n",
              "288    66.0\n",
              "335     NaN\n",
              "328     NaN\n",
              "412     NaN\n",
              "157     NaN\n",
              "562     NaN\n",
              "690     NaN\n",
              "452    42.8\n",
              "174     NaN\n",
              "Name: energy_requirement, dtype: float64"
            ]
          },
          "metadata": {},
          "execution_count": 176
        }
      ]
    },
    {
      "cell_type": "code",
      "metadata": {
        "colab": {
          "base_uri": "https://localhost:8080/"
        },
        "id": "usJD9NIqrnqg",
        "outputId": "0b21a6a7-c618-4ef9-d19f-e58badc7f55a"
      },
      "source": [
        "df.info()"
      ],
      "execution_count": 177,
      "outputs": [
        {
          "output_type": "stream",
          "name": "stdout",
          "text": [
            "<class 'pandas.core.frame.DataFrame'>\n",
            "RangeIndex: 764 entries, 0 to 763\n",
            "Data columns (total 25 columns):\n",
            " #   Column                 Non-Null Count  Dtype  \n",
            "---  ------                 --------------  -----  \n",
            " 0   url                    764 non-null    object \n",
            " 1   region                 764 non-null    object \n",
            " 2   condition              764 non-null    object \n",
            " 3   rooms                  764 non-null    float64\n",
            " 4   rent                   764 non-null    float64\n",
            " 5   year_construction      764 non-null    int64  \n",
            " 6   space                  764 non-null    float64\n",
            " 7   cold_rent              764 non-null    float64\n",
            " 8   utilities              426 non-null    object \n",
            " 9   heating_costs          426 non-null    object \n",
            " 10  security_deposit       385 non-null    object \n",
            " 11  parking_space          90 non-null     object \n",
            " 12  renovated_date         195 non-null    float64\n",
            " 13  property_condition     764 non-null    object \n",
            " 14  furnishing             445 non-null    object \n",
            " 15  heating_type           764 non-null    object \n",
            " 16  energy_sources         494 non-null    object \n",
            " 17  energy_certificate     451 non-null    object \n",
            " 18  type_of_certificate    467 non-null    object \n",
            " 19  energy_requirement     326 non-null    object \n",
            " 20  efficiency_class       251 non-null    object \n",
            " 21  deposit                764 non-null    float64\n",
            " 22  missing_count          764 non-null    int64  \n",
            " 23  renovated_date_filled  764 non-null    float64\n",
            " 24  parking_space_cleaned  764 non-null    float64\n",
            "dtypes: float64(8), int64(2), object(15)\n",
            "memory usage: 149.3+ KB\n"
          ]
        }
      ]
    },
    {
      "cell_type": "code",
      "metadata": {
        "colab": {
          "base_uri": "https://localhost:8080/",
          "height": 542
        },
        "id": "hp211xTAre4Q",
        "outputId": "0e422fb2-fb39-48af-c282-9992f0093673"
      },
      "source": [
        "df['energy_req_cleaned'] = energy_req_cleaned\n",
        "\n",
        "# In this case the relationship is not that clear (you can try it out with different columns except rent)\n",
        "# So this would need a more complex approach to fill in the missing values\n",
        "px.scatter(df, x='rent', y='energy_req_cleaned')"
      ],
      "execution_count": 178,
      "outputs": [
        {
          "output_type": "display_data",
          "data": {
            "text/html": [
              "<html>\n",
              "<head><meta charset=\"utf-8\" /></head>\n",
              "<body>\n",
              "    <div>\n",
              "            <script src=\"https://cdnjs.cloudflare.com/ajax/libs/mathjax/2.7.5/MathJax.js?config=TeX-AMS-MML_SVG\"></script><script type=\"text/javascript\">if (window.MathJax) {MathJax.Hub.Config({SVG: {font: \"STIX-Web\"}});}</script>\n",
              "                <script type=\"text/javascript\">window.PlotlyConfig = {MathJaxConfig: 'local'};</script>\n",
              "        <script src=\"https://cdn.plot.ly/plotly-latest.min.js\"></script>    \n",
              "            <div id=\"7967c5b0-29a7-495d-8715-374c24ab0ef4\" class=\"plotly-graph-div\" style=\"height:525px; width:100%;\"></div>\n",
              "            <script type=\"text/javascript\">\n",
              "                \n",
              "                    window.PLOTLYENV=window.PLOTLYENV || {};\n",
              "                    \n",
              "                if (document.getElementById(\"7967c5b0-29a7-495d-8715-374c24ab0ef4\")) {\n",
              "                    Plotly.newPlot(\n",
              "                        '7967c5b0-29a7-495d-8715-374c24ab0ef4',\n",
              "                        [{\"hoverlabel\": {\"namelength\": 0}, \"hovertemplate\": \"rent=%{x}<br>energy_req_cleaned=%{y}\", \"legendgroup\": \"\", \"marker\": {\"color\": \"#636efa\", \"symbol\": \"circle\"}, \"mode\": \"markers\", \"name\": \"\", \"showlegend\": false, \"type\": \"scatter\", \"x\": [2659.0, 1200.0, 979.0, 1830.22, 2272.0, 840.0, 1509.45, 730.73, 561.93, 1789.0, 2499.0, 2328.0, 2500.0, 6450.0, 1399.65, 1505.6, 1429.1, 930.0, 868.06, 2179.0, 1829.0, 1589.0, 1831.0, 1060.0, 3103.0, 1619.0, 715.0, 1237.83, 2290.0, 1810.0, 2320.0, 2230.0, 2155.0, 2660.9, 1427.82, 3170.0, 999.0, 849.24, 658.11, 1340.0, 2433.0, 3275.0, 311.04, 3677.7, 1740.0, 1404.66, 772.0, 479.87, 1853.33, 511.15, 845.0, 2724.17, 2251.0, 3195.0, 2812.0, 976.0, 2044.85, 959.0, 850.0, 2071.9, 4500.0, 5530.0, 1049.0, 1629.0, 1640.0, 1498.0, 889.0, 1598.0, 4945.0, 1500.0, 1949.26, 1265.0, 2500.0, 1565.0, 1550.0, 1424.75, 4400.0, 1690.0, 3400.0, 1189.48, 1570.0, 1000.0, 2680.0, 2100.0, 450.0, 1520.0, 1025.0, 1790.0, 1960.0, 1610.0, 1690.0, 794.0, 1790.0, 3228.25, 2862.0, 3390.0, 1490.0, 383.46, 872.07, 900.0, 3732.64, 4288.0, 3251.66, 4500.0, 2237.78, 2000.0, 3362.41, 3664.25, 2080.0, 2227.0, 1750.0, 2879.0, 3780.0, 2320.0, 1318.0, 1209.0, 990.0, 4475.0, 1850.0, 5930.0, 2076.38, 1820.0, 1499.0, 1609.64, 1550.0, 1215.0, 1320.0, 836.0, 1455.0, 1038.0, 1615.57, 1480.0, 2244.0, 2555.0, 1095.0, 1265.0, 1633.0, 3295.0, 1368.17, 1300.0, 1300.0, 1683.0, 969.0, 1784.0, 1300.0, 990.0, 1706.81, 1300.0, 3739.46, 1388.0, 1533.0, 1883.27, 440.94, 990.0, 1490.0, 3593.17, 1240.0, 735.0, 2250.0, 1673.95, 1950.0, 919.0, 421.87, 1386.43, 719.0, 719.0, 719.0, 999.0, 1901.0, 496.13, 649.0, 895.0, 719.0, 2199.0, 583.03, 1397.0, 2999.0, 271.25, 458.91, 433.71, 1563.75, 2550.0, 670.86, 1405.0, 1266.3, 1665.0, 3000.0, 1116.0, 1703.0, 2180.0, 960.0, 2370.71, 1645.0, 773.6, 1478.0, 914.0, 3060.0, 1159.0, 1180.0, 1872.0, 1707.0, 1454.18, 737.49, 1528.25, 705.06, 605.8, 407.42, 1399.92, 1399.92, 1590.39, 1800.0, 408.78, 1465.62, 1691.0, 1625.0, 2124.29, 1510.0, 1600.0, 1410.0, 1897.2, 4192.63, 1570.0, 1470.0, 2528.86, 1800.0, 1359.33, 1480.0, 2670.0, 691.29, 1935.17, 1093.16, 2260.0, 900.23, 887.53, 621.38, 2580.0, 2124.29, 1783.89, 674.8, 435.74, 2990.0, 378.14, 1563.75, 1876.78, 4500.0, 9774.0, 1397.0, 1897.5, 1189.27, 1987.04, 2434.0, 2410.8, 2346.0, 1069.26, 699.0, 1258.0, 1942.72, 2250.0, 668.4, 1777.0, 1265.0, 2096.0, 1350.0, 1500.0, 885.68, 656.1, 1007.0, 489.07, 4600.0, 2450.0, 649.0, 2148.0, 1639.0, 909.0, 565.63, 889.0, 1800.0, 1615.0, 352.95, 2997.0, 404.39, 6855.48, 280.74, 720.0, 2180.0, 4325.69, 2492.05, 2322.02, 1650.0, 2567.0, 2277.91, 845.0, 771.0, 1571.44, 680.0, 803.0, 793.0, 1557.28, 2320.0, 1301.13, 730.0, 1010.31, 1930.38, 705.92, 1181.3, 2043.49, 3568.5, 2115.0, 1530.0, 2734.0, 1500.0, 1490.0, 1040.51, 547.9, 3360.0, 1181.3, 1500.0, 2752.0, 599.74, 1558.8, 1590.35, 2159.2, 580.16, 2950.0, 960.38, 1494.64, 1817.0, 2105.0, 5774.83, 755.3, 1650.0, 1570.0, 2405.0, 1493.0, 1685.0, 759.0, 1300.0, 877.71, 1845.0, 2060.0, 1440.0, 2485.0, 1200.0, 780.0, 3380.0, 2498.0, 1040.0, 1055.43, 1720.0, 1980.0, 2375.0, 967.4, 1785.0, 2435.0, 1350.0, 2310.0, 1290.0, 1359.0, 1700.0, 1136.72, 1500.0, 1250.0, 2380.0, 2170.0, 1040.0, 975.0, 1999.47, 1490.0, 1200.0, 2040.0, 512.93, 1250.0, 1600.0, 2799.0, 1160.0, 950.0, 1654.39, 920.0, 993.96, 4875.0, 1428.64, 984.4, 914.87, 776.47, 886.05, 950.0, 2400.0, 379.95, 669.0, 1400.0, 558.06, 964.0, 924.44, 1394.0, 1632.54, 2202.0, 727.0, 427.0, 1266.28, 475.0, 1700.0, 2850.0, 1452.8, 1480.0, 1395.0, 1959.0, 2255.84, 938.0, 1650.0, 1650.0, 2815.0, 1650.0, 1161.0, 2028.2, 563.91, 642.77, 1650.0, 420.09, 808.46, 620.0, 2193.0, 900.0, 1231.23, 971.15, 991.19, 887.0, 1370.0, 690.0, 712.0, 982.0, 1246.0, 1755.0, 1228.75, 1753.0, 1223.98, 685.0, 1432.6, 1530.0, 2620.0, 2484.62, 1565.4, 1780.9, 2079.02, 1800.0, 1635.0, 768.0, 4800.0, 585.0, 1413.03, 2300.0, 1380.05, 1200.0, 811.1, 1609.1, 2320.0, 1030.0, 647.05, 3090.4, 816.49, 699.3, 846.0, 1124.93, 2807.0, 2892.25, 2488.0, 1749.32, 3994.0, 2708.0, 1336.41, 4184.0, 1854.98, 570.0, 2293.31, 1200.0, 1502.0, 1015.0, 1400.0, 825.0, 1499.0, 2070.0, 876.0, 2320.0, 1700.0, 656.5, 886.05, 703.86, 1886.81, 1500.0, 1660.0, 1690.0, 478.52, 1600.0, 2999.0, 670.03, 860.0, 2269.0, 948.1, 873.0, 2130.31, 969.0, 1175.72, 1200.0, 1834.0, 1349.58, 1320.49, 1886.3, 2295.0, 1980.0, 1846.23, 1447.0, 1770.0, 1343.0, 750.0, 730.36, 1281.5, 976.5, 984.5, 719.56, 2170.0, 2170.0, 995.0, 1250.0, 995.0, 921.59, 1236.72, 1090.0, 2105.4, 1497.45, 829.0, 948.09, 1494.0, 829.0, 2475.98, 2549.0, 1182.0, 1350.0, 3104.0, 1160.55, 1285.0, 1725.15, 575.45, 1709.33, 1535.3, 1356.44, 521.09, 1890.0, 1277.21, 1939.2, 2645.9, 2630.39, 813.4, 1906.14, 960.0, 2039.0, 2265.47, 1184.0, 2700.0, 1639.52, 891.65, 1489.0, 4800.0, 1455.61, 2550.0, 1565.56, 2865.49, 2014.21, 1760.37, 1191.35, 2280.0, 4450.0, 1558.0, 1174.25, 1519.0, 1650.0, 2499.59, 1997.37, 1095.0, 2073.32, 1783.08, 1358.64, 1834.0, 1327.99, 1163.0, 2575.0, 1356.04, 2427.0, 1202.0, 2555.0, 1250.06, 1529.0, 5936.4, 5936.4, 4747.6, 1800.0, 4747.6, 2650.0, 4747.6, 2138.68, 1189.09, 929.34, 1960.8, 2150.0, 1124.0, 896.46, 2033.1, 1031.0, 2039.3, 398.0, 1800.0, 2075.12, 2067.77, 1347.51, 2162.0, 2041.0, 1320.73, 1700.0, 1429.1, 2007.02, 868.06, 1326.61, 2020.99, 2031.52, 2508.24, 2125.0, 1410.0, 1841.68, 2130.96, 2525.97, 1627.11, 1410.0, 1774.43, 1768.29, 2280.0, 4678.3, 1788.57, 2851.96, 3160.0, 1488.25, 1869.56, 2200.0, 1814.85, 3250.0, 1720.0, 2175.0, 1449.24, 1756.36, 5322.5, 1958.69, 2288.06, 2436.48, 2356.2, 2525.0, 2283.98, 6022.5, 1788.14, 2488.26, 929.0, 1897.95, 2107.43, 2982.41, 2130.96, 1755.0, 1839.78, 3230.0, 1846.87, 525.0, 2158.01, 1774.43, 2119.62, 2525.97, 1959.27, 2642.69, 2622.9, 1383.23, 2069.26, 5876.35, 1833.98, 2440.56, 2286.0, 2851.96, 1200.0, 2105.0, 1931.26, 1716.0, 1774.15, 2630.0, 1349.0, 2500.0, 2508.24, 2065.06, 1567.39, 1367.0, 1099.0, 1561.65, 14207.0, 1757.11, 1063.0, 1399.0, 2497.38, 1697.0, 2260.46, 2264.83, 2747.36, 1990.0, 1395.0, 2198.75, 2555.0, 2198.97, 1768.29, 869.0, 1294.0, 1100.0, 1321.0, 1314.15, 2390.0, 899.0, 1236.5, 3706.83, 1550.0, 660.0, 914.0, 2555.59, 2740.0, 1793.0, 1266.0, 1282.5, 1454.74, 2439.6, 1970.0, 2811.38, 655.0, 1524.0, 1489.0, 2300.0, 2129.0, 1350.0, 3500.0, 843.0, 1357.46, 1007.0, 610.0, 3925.0, 1283.71, 622.0, 1366.0, 780.0, 741.0, 771.0, 4040.0, 1728.0, 1079.0, 770.0, 2180.0, 720.0, 2155.5, 577.0, 772.0, 1970.0, 693.0, 959.0, 649.0, 2750.0, 1259.0, 888.0], \"xaxis\": \"x\", \"y\": [null, null, null, null, null, null, null, null, null, 81.6, null, null, 64.2, null, 66.2, null, 40.0, null, 40.0, null, null, null, null, null, null, null, 51.0, null, 81.0, 58.0, 80.0, 50.0, null, 102.0, 113.0, 68.0, 16.3, 76.9, null, 79.0, null, null, 149.0, 74.0, 66.7, 68.0, 61.0, null, 68.0, 118.2, 61.0, null, null, null, null, null, 70.0, 61.0, null, 58.0, null, 45.7, null, 61.7, null, null, 60.0, null, 116.0, null, null, null, null, null, null, null, null, 35.61, null, null, 53.0, 36.61, null, 34.6, null, null, null, null, 42.6, 53.0, 101.19, null, 101.19, null, null, 101.19, 101.19, null, null, null, null, null, 79.0, null, null, null, null, null, null, null, null, null, null, null, null, null, null, null, null, null, 61.9, 128.1, 61.0, null, null, null, null, null, null, null, null, null, null, null, null, null, null, 54.9, 66.2, null, null, 69.0, null, 61.0, null, null, null, null, 59.8, null, 66.7, 61.0, null, null, 67.0, null, 66.0, null, 60.0, 61.0, null, null, 113.7, 74.6, null, null, null, 16.3, 65.99, null, null, null, null, null, null, 68.0, null, null, null, 150.4, null, null, null, 60.0, null, null, null, null, null, null, null, null, null, null, null, null, 70.3, null, null, 40.41, 40.41, null, null, null, null, null, 148.7, 170.0, 170.0, null, 62.2, null, null, null, null, 228.0, 134.5, null, 134.5, null, null, 134.5, 134.5, null, 76.0, 77.3, null, null, 139.0, null, null, null, null, null, null, 59.0, 228.0, 65.99, null, null, 80.5, null, 56.88, null, null, 76.4, null, null, null, null, 80.5, null, null, 42.8, 28.0, null, 77.3, null, null, 50.0, null, null, 54.0, null, null, null, null, null, 76.0, 70.8, null, null, 65.0, null, 135.9, null, null, 68.0, 163.5, null, null, 118.0, 82.4, null, null, null, null, null, 66.0, null, 118.0, 61.0, 61.0, null, 61.0, 61.0, 61.0, null, null, null, 61.0, null, null, null, 61.0, null, 132.0, 87.8, null, 87.8, 59.0, null, 61.0, 158.6, 79.0, 61.0, null, null, null, null, null, null, null, null, 160.8, null, 61.0, null, null, null, null, 155.5, 70.4, null, null, null, null, null, null, 62.2, null, null, null, null, null, null, 72.0, null, null, null, null, null, null, null, null, 64.1, null, null, null, null, 59.0, null, 66.7, null, null, null, null, null, null, null, null, null, null, null, null, null, 30.0, null, 30.0, null, 30.0, 30.0, 30.0, 30.0, 30.0, null, null, 116.0, null, null, 42.8, 62.8, null, 65.0, null, 39.5, null, null, 49.5, null, null, null, null, 71.4, 125.0, 76.0, null, null, null, null, null, null, null, 125.0, null, null, null, null, null, null, null, null, 77.3, null, 23.3, null, null, 23.3, null, null, null, null, null, null, null, null, 61.7, null, 104.6, 61.7, 61.7, 61.7, 61.7, 66.0, null, null, null, null, 66.2, null, 42.8, null, 42.8, null, null, null, 92.0, 236.68, 42.8, null, null, null, 65.0, 236.68, null, null, 65.0, null, 38.5, 65.0, 113.0, null, 66.2, 112.0, 59.9, 59.9, null, null, null, null, null, null, null, null, 42.8, 42.8, 42.8, 66.0, null, null, null, 31.4, null, null, null, null, null, 157.7, 66.2, null, null, null, null, 52.2, 66.2, 66.2, 49.2, 66.7, 77.3, null, null, null, null, 48.0, null, null, null, 48.0, null, null, null, null, null, null, 30.0, null, null, 66.2, null, 23.3, null, null, 66.2, null, null, null, null, 30.0, null, 66.2, null, 30.0, 30.0, 54.0, 132.0, 66.7, 30.0, 77.3, null, null, 30.0, 100.0, null, null, 100.0, 125.0, 59.0, null, 100.0, null, null, 55.0, null, 100.0, 103.0, 64.3, 100.0, 52.0, null, null, 49.0, 23.3, null, null, 66.2, 66.2, 66.0, 66.2, 239.2, 66.2, null, 66.2, null, null, 66.2, null, null, null, null, null, 239.2, 239.2, 239.2, null, 239.2, null, 239.2, 40.0, 40.0, 40.0, 66.2, 68.0, 66.0, 40.0, 40.0, null, 66.2, null, 60.1, 66.2, 66.2, 66.2, null, 66.2, 40.0, 59.1, 40.0, 66.2, 40.0, 66.2, 66.2, 66.2, 74.6, null, 119.0, 75.9, 75.9, 75.9, 77.3, 119.0, 75.9, 74.6, null, null, 75.9, 75.9, null, 239.2, 77.3, null, 55.0, null, null, null, 64.3, 239.2, 104.6, 100.0, 239.2, 75.9, 239.2, null, null, 104.6, 75.9, 239.2, null, null, 75.9, 237.7, 75.9, null, 75.9, 104.6, 75.9, 47.0, 75.9, 75.9, 75.9, 75.9, 74.6, 74.6, 75.9, null, null, null, 75.9, 75.9, null, 75.9, null, 64.3, 64.3, null, 74.6, null, null, null, 74.6, 74.6, null, null, null, 55.0, null, 74.6, null, null, 74.6, null, 64.3, 74.6, 74.6, null, 87.8, 74.6, null, 74.6, 74.6, null, null, 22.8, 87.8, 64.3, 42.0, 60.0, null, 64.3, 48.0, null, null, 64.3, 87.8, null, null, null, 64.3, 61.7, null, null, null, null, null, null, 62.0, null, 59.0, null, null, null, 71.9, 76.0, 79.9, 44.5, null, 71.9, 61.0, 61.0, 83.3, null, null, null, null, 61.0, 151.8, null, 51.43, null, null, 61.0, null, null, 66.0, null], \"yaxis\": \"y\"}],\n",
              "                        {\"legend\": {\"tracegroupgap\": 0}, \"margin\": {\"t\": 60}, \"template\": {\"data\": {\"bar\": [{\"error_x\": {\"color\": \"#2a3f5f\"}, \"error_y\": {\"color\": \"#2a3f5f\"}, \"marker\": {\"line\": {\"color\": \"#E5ECF6\", \"width\": 0.5}}, \"type\": \"bar\"}], \"barpolar\": [{\"marker\": {\"line\": {\"color\": \"#E5ECF6\", \"width\": 0.5}}, \"type\": \"barpolar\"}], \"carpet\": [{\"aaxis\": {\"endlinecolor\": \"#2a3f5f\", \"gridcolor\": \"white\", \"linecolor\": \"white\", \"minorgridcolor\": \"white\", \"startlinecolor\": \"#2a3f5f\"}, \"baxis\": {\"endlinecolor\": \"#2a3f5f\", \"gridcolor\": \"white\", \"linecolor\": \"white\", \"minorgridcolor\": \"white\", \"startlinecolor\": \"#2a3f5f\"}, \"type\": \"carpet\"}], \"choropleth\": [{\"colorbar\": {\"outlinewidth\": 0, \"ticks\": \"\"}, \"type\": \"choropleth\"}], \"contour\": [{\"colorbar\": {\"outlinewidth\": 0, \"ticks\": \"\"}, \"colorscale\": [[0.0, \"#0d0887\"], [0.1111111111111111, \"#46039f\"], [0.2222222222222222, \"#7201a8\"], [0.3333333333333333, \"#9c179e\"], [0.4444444444444444, \"#bd3786\"], [0.5555555555555556, \"#d8576b\"], [0.6666666666666666, \"#ed7953\"], [0.7777777777777778, \"#fb9f3a\"], [0.8888888888888888, \"#fdca26\"], [1.0, \"#f0f921\"]], \"type\": \"contour\"}], \"contourcarpet\": [{\"colorbar\": {\"outlinewidth\": 0, \"ticks\": \"\"}, \"type\": \"contourcarpet\"}], \"heatmap\": [{\"colorbar\": {\"outlinewidth\": 0, \"ticks\": \"\"}, \"colorscale\": [[0.0, \"#0d0887\"], [0.1111111111111111, \"#46039f\"], [0.2222222222222222, \"#7201a8\"], [0.3333333333333333, \"#9c179e\"], [0.4444444444444444, \"#bd3786\"], [0.5555555555555556, \"#d8576b\"], [0.6666666666666666, \"#ed7953\"], [0.7777777777777778, \"#fb9f3a\"], [0.8888888888888888, \"#fdca26\"], [1.0, \"#f0f921\"]], \"type\": \"heatmap\"}], \"heatmapgl\": [{\"colorbar\": {\"outlinewidth\": 0, \"ticks\": \"\"}, \"colorscale\": [[0.0, \"#0d0887\"], [0.1111111111111111, \"#46039f\"], [0.2222222222222222, \"#7201a8\"], [0.3333333333333333, \"#9c179e\"], [0.4444444444444444, \"#bd3786\"], [0.5555555555555556, \"#d8576b\"], [0.6666666666666666, \"#ed7953\"], [0.7777777777777778, \"#fb9f3a\"], [0.8888888888888888, \"#fdca26\"], [1.0, \"#f0f921\"]], \"type\": \"heatmapgl\"}], \"histogram\": [{\"marker\": {\"colorbar\": {\"outlinewidth\": 0, \"ticks\": \"\"}}, \"type\": \"histogram\"}], \"histogram2d\": [{\"colorbar\": {\"outlinewidth\": 0, \"ticks\": \"\"}, \"colorscale\": [[0.0, \"#0d0887\"], [0.1111111111111111, \"#46039f\"], [0.2222222222222222, \"#7201a8\"], [0.3333333333333333, \"#9c179e\"], [0.4444444444444444, \"#bd3786\"], [0.5555555555555556, \"#d8576b\"], [0.6666666666666666, \"#ed7953\"], [0.7777777777777778, \"#fb9f3a\"], [0.8888888888888888, \"#fdca26\"], [1.0, \"#f0f921\"]], \"type\": \"histogram2d\"}], \"histogram2dcontour\": [{\"colorbar\": {\"outlinewidth\": 0, \"ticks\": \"\"}, \"colorscale\": [[0.0, \"#0d0887\"], [0.1111111111111111, \"#46039f\"], [0.2222222222222222, \"#7201a8\"], [0.3333333333333333, \"#9c179e\"], [0.4444444444444444, \"#bd3786\"], [0.5555555555555556, \"#d8576b\"], [0.6666666666666666, \"#ed7953\"], [0.7777777777777778, \"#fb9f3a\"], [0.8888888888888888, \"#fdca26\"], [1.0, \"#f0f921\"]], \"type\": \"histogram2dcontour\"}], \"mesh3d\": [{\"colorbar\": {\"outlinewidth\": 0, \"ticks\": \"\"}, \"type\": \"mesh3d\"}], \"parcoords\": [{\"line\": {\"colorbar\": {\"outlinewidth\": 0, \"ticks\": \"\"}}, \"type\": \"parcoords\"}], \"pie\": [{\"automargin\": true, \"type\": \"pie\"}], \"scatter\": [{\"marker\": {\"colorbar\": {\"outlinewidth\": 0, \"ticks\": \"\"}}, \"type\": \"scatter\"}], \"scatter3d\": [{\"line\": {\"colorbar\": {\"outlinewidth\": 0, \"ticks\": \"\"}}, \"marker\": {\"colorbar\": {\"outlinewidth\": 0, \"ticks\": \"\"}}, \"type\": \"scatter3d\"}], \"scattercarpet\": [{\"marker\": {\"colorbar\": {\"outlinewidth\": 0, \"ticks\": \"\"}}, \"type\": \"scattercarpet\"}], \"scattergeo\": [{\"marker\": {\"colorbar\": {\"outlinewidth\": 0, \"ticks\": \"\"}}, \"type\": \"scattergeo\"}], \"scattergl\": [{\"marker\": {\"colorbar\": {\"outlinewidth\": 0, \"ticks\": \"\"}}, \"type\": \"scattergl\"}], \"scattermapbox\": [{\"marker\": {\"colorbar\": {\"outlinewidth\": 0, \"ticks\": \"\"}}, \"type\": \"scattermapbox\"}], \"scatterpolar\": [{\"marker\": {\"colorbar\": {\"outlinewidth\": 0, \"ticks\": \"\"}}, \"type\": \"scatterpolar\"}], \"scatterpolargl\": [{\"marker\": {\"colorbar\": {\"outlinewidth\": 0, \"ticks\": \"\"}}, \"type\": \"scatterpolargl\"}], \"scatterternary\": [{\"marker\": {\"colorbar\": {\"outlinewidth\": 0, \"ticks\": \"\"}}, \"type\": \"scatterternary\"}], \"surface\": [{\"colorbar\": {\"outlinewidth\": 0, \"ticks\": \"\"}, \"colorscale\": [[0.0, \"#0d0887\"], [0.1111111111111111, \"#46039f\"], [0.2222222222222222, \"#7201a8\"], [0.3333333333333333, \"#9c179e\"], [0.4444444444444444, \"#bd3786\"], [0.5555555555555556, \"#d8576b\"], [0.6666666666666666, \"#ed7953\"], [0.7777777777777778, \"#fb9f3a\"], [0.8888888888888888, \"#fdca26\"], [1.0, \"#f0f921\"]], \"type\": \"surface\"}], \"table\": [{\"cells\": {\"fill\": {\"color\": \"#EBF0F8\"}, \"line\": {\"color\": \"white\"}}, \"header\": {\"fill\": {\"color\": \"#C8D4E3\"}, \"line\": {\"color\": \"white\"}}, \"type\": \"table\"}]}, \"layout\": {\"annotationdefaults\": {\"arrowcolor\": \"#2a3f5f\", \"arrowhead\": 0, \"arrowwidth\": 1}, \"coloraxis\": {\"colorbar\": {\"outlinewidth\": 0, \"ticks\": \"\"}}, \"colorscale\": {\"diverging\": [[0, \"#8e0152\"], [0.1, \"#c51b7d\"], [0.2, \"#de77ae\"], [0.3, \"#f1b6da\"], [0.4, \"#fde0ef\"], [0.5, \"#f7f7f7\"], [0.6, \"#e6f5d0\"], [0.7, \"#b8e186\"], [0.8, \"#7fbc41\"], [0.9, \"#4d9221\"], [1, \"#276419\"]], \"sequential\": [[0.0, \"#0d0887\"], [0.1111111111111111, \"#46039f\"], [0.2222222222222222, \"#7201a8\"], [0.3333333333333333, \"#9c179e\"], [0.4444444444444444, \"#bd3786\"], [0.5555555555555556, \"#d8576b\"], [0.6666666666666666, \"#ed7953\"], [0.7777777777777778, \"#fb9f3a\"], [0.8888888888888888, \"#fdca26\"], [1.0, \"#f0f921\"]], \"sequentialminus\": [[0.0, \"#0d0887\"], [0.1111111111111111, \"#46039f\"], [0.2222222222222222, \"#7201a8\"], [0.3333333333333333, \"#9c179e\"], [0.4444444444444444, \"#bd3786\"], [0.5555555555555556, \"#d8576b\"], [0.6666666666666666, \"#ed7953\"], [0.7777777777777778, \"#fb9f3a\"], [0.8888888888888888, \"#fdca26\"], [1.0, \"#f0f921\"]]}, \"colorway\": [\"#636efa\", \"#EF553B\", \"#00cc96\", \"#ab63fa\", \"#FFA15A\", \"#19d3f3\", \"#FF6692\", \"#B6E880\", \"#FF97FF\", \"#FECB52\"], \"font\": {\"color\": \"#2a3f5f\"}, \"geo\": {\"bgcolor\": \"white\", \"lakecolor\": \"white\", \"landcolor\": \"#E5ECF6\", \"showlakes\": true, \"showland\": true, \"subunitcolor\": \"white\"}, \"hoverlabel\": {\"align\": \"left\"}, \"hovermode\": \"closest\", \"mapbox\": {\"style\": \"light\"}, \"paper_bgcolor\": \"white\", \"plot_bgcolor\": \"#E5ECF6\", \"polar\": {\"angularaxis\": {\"gridcolor\": \"white\", \"linecolor\": \"white\", \"ticks\": \"\"}, \"bgcolor\": \"#E5ECF6\", \"radialaxis\": {\"gridcolor\": \"white\", \"linecolor\": \"white\", \"ticks\": \"\"}}, \"scene\": {\"xaxis\": {\"backgroundcolor\": \"#E5ECF6\", \"gridcolor\": \"white\", \"gridwidth\": 2, \"linecolor\": \"white\", \"showbackground\": true, \"ticks\": \"\", \"zerolinecolor\": \"white\"}, \"yaxis\": {\"backgroundcolor\": \"#E5ECF6\", \"gridcolor\": \"white\", \"gridwidth\": 2, \"linecolor\": \"white\", \"showbackground\": true, \"ticks\": \"\", \"zerolinecolor\": \"white\"}, \"zaxis\": {\"backgroundcolor\": \"#E5ECF6\", \"gridcolor\": \"white\", \"gridwidth\": 2, \"linecolor\": \"white\", \"showbackground\": true, \"ticks\": \"\", \"zerolinecolor\": \"white\"}}, \"shapedefaults\": {\"line\": {\"color\": \"#2a3f5f\"}}, \"ternary\": {\"aaxis\": {\"gridcolor\": \"white\", \"linecolor\": \"white\", \"ticks\": \"\"}, \"baxis\": {\"gridcolor\": \"white\", \"linecolor\": \"white\", \"ticks\": \"\"}, \"bgcolor\": \"#E5ECF6\", \"caxis\": {\"gridcolor\": \"white\", \"linecolor\": \"white\", \"ticks\": \"\"}}, \"title\": {\"x\": 0.05}, \"xaxis\": {\"automargin\": true, \"gridcolor\": \"white\", \"linecolor\": \"white\", \"ticks\": \"\", \"title\": {\"standoff\": 15}, \"zerolinecolor\": \"white\", \"zerolinewidth\": 2}, \"yaxis\": {\"automargin\": true, \"gridcolor\": \"white\", \"linecolor\": \"white\", \"ticks\": \"\", \"title\": {\"standoff\": 15}, \"zerolinecolor\": \"white\", \"zerolinewidth\": 2}}}, \"xaxis\": {\"anchor\": \"y\", \"domain\": [0.0, 1.0], \"title\": {\"text\": \"rent\"}}, \"yaxis\": {\"anchor\": \"x\", \"domain\": [0.0, 1.0], \"title\": {\"text\": \"energy_req_cleaned\"}}},\n",
              "                        {\"responsive\": true}\n",
              "                    ).then(function(){\n",
              "                            \n",
              "var gd = document.getElementById('7967c5b0-29a7-495d-8715-374c24ab0ef4');\n",
              "var x = new MutationObserver(function (mutations, observer) {{\n",
              "        var display = window.getComputedStyle(gd).display;\n",
              "        if (!display || display === 'none') {{\n",
              "            console.log([gd, 'removed!']);\n",
              "            Plotly.purge(gd);\n",
              "            observer.disconnect();\n",
              "        }}\n",
              "}});\n",
              "\n",
              "// Listen for the removal of the full notebook cells\n",
              "var notebookContainer = gd.closest('#notebook-container');\n",
              "if (notebookContainer) {{\n",
              "    x.observe(notebookContainer, {childList: true});\n",
              "}}\n",
              "\n",
              "// Listen for the clearing of the current output cell\n",
              "var outputEl = gd.closest('.output');\n",
              "if (outputEl) {{\n",
              "    x.observe(outputEl, {childList: true});\n",
              "}}\n",
              "\n",
              "                        })\n",
              "                };\n",
              "                \n",
              "            </script>\n",
              "        </div>\n",
              "</body>\n",
              "</html>"
            ]
          },
          "metadata": {}
        }
      ]
    },
    {
      "cell_type": "markdown",
      "metadata": {
        "id": "HtIY4a3v9uas"
      },
      "source": [
        "##  Clean: `type_of_certificate`\n",
        "\n"
      ]
    },
    {
      "cell_type": "code",
      "metadata": {
        "id": "letuSY50-9w3",
        "colab": {
          "base_uri": "https://localhost:8080/"
        },
        "outputId": "414ebba3-edb3-4942-a4ad-fe0481b94e2d"
      },
      "source": [
        "# We see that most values also contain the concrete amount for the energy requirement (basically what is in the energy_requirement column already).\n",
        "\n",
        "# It's possible to extract the numeric amount from the string and create a \n",
        "# discrete categorical value that just describes the type of certificate. \n",
        "df['type_of_certificate'].unique()"
      ],
      "execution_count": 179,
      "outputs": [
        {
          "output_type": "execute_result",
          "data": {
            "text/plain": [
              "array(['Bedarfsausweis', nan,\n",
              "       'Verbrauchsausweis Energie\\xadver\\xadbrauchs\\xadkennwert 98,5 kWh/(m²*a)',\n",
              "       'Verbrauchsausweis Energie\\xadver\\xadbrauchs\\xadkennwert 84 kWh/(m²*a)',\n",
              "       'Verbrauchsausweis End\\xadenergie\\xadverbrauch 171,7 kWh/(m²*a)',\n",
              "       'Verbrauchsausweis Energie\\xadver\\xadbrauchs\\xadkennwert 74 kWh/(m²*a) Energieverbrauch für Warmwasser enthalten',\n",
              "       'Verbrauchsausweis End\\xadenergie\\xadverbrauch 109 kWh/(m²*a)',\n",
              "       'Verbrauchsausweis Energie\\xadver\\xadbrauchs\\xadkennwert 120,8 kWh/(m²*a)',\n",
              "       'Verbrauchsausweis End\\xadenergie\\xadverbrauch 204,3 kWh/(m²*a)',\n",
              "       'Verbrauchsausweis Energie\\xadver\\xadbrauchs\\xadkennwert 215 kWh/(m²*a)',\n",
              "       'Verbrauchsausweis End\\xadenergie\\xadverbrauch 218,2 kWh/(m²*a)',\n",
              "       'Verbrauchsausweis End\\xadenergie\\xadverbrauch 120 kWh/(m²*a)',\n",
              "       'Verbrauchsausweis',\n",
              "       'Verbrauchsausweis End\\xadenergie\\xadverbrauch 215 kWh/(m²*a)',\n",
              "       'Verbrauchsausweis End\\xadenergie\\xadverbrauch 219,5 kWh/(m²*a)',\n",
              "       'Verbrauchsausweis End\\xadenergie\\xadverbrauch 53 kWh/(m²*a)',\n",
              "       'Verbrauchsausweis End\\xadenergie\\xadverbrauch 113 kWh/(m²*a)',\n",
              "       'Verbrauchsausweis End\\xadenergie\\xadverbrauch 104,67 kWh/(m²*a)',\n",
              "       'Verbrauchsausweis End\\xadenergie\\xadverbrauch 132 kWh/(m²*a)',\n",
              "       'Verbrauchsausweis Energie\\xadver\\xadbrauchs\\xadkennwert 163 kWh/(m²*a)',\n",
              "       'Verbrauchsausweis End\\xadenergie\\xadverbrauch 128,1 kWh/(m²*a)',\n",
              "       'Verbrauchsausweis End\\xadenergie\\xadverbrauch 70 kWh/(m²*a)',\n",
              "       'Verbrauchsausweis End\\xadenergie\\xadverbrauch 126,4 kWh/(m²*a)',\n",
              "       'Verbrauchsausweis End\\xadenergie\\xadverbrauch 80 kWh/(m²*a)',\n",
              "       'Verbrauchsausweis End\\xadenergie\\xadverbrauch 101 kWh/(m²*a)',\n",
              "       'Verbrauchsausweis End\\xadenergie\\xadverbrauch 65,3 kWh/(m²*a)',\n",
              "       'Verbrauchsausweis Energie\\xadver\\xadbrauchs\\xadkennwert 123,9 kWh/(m²*a) Energieverbrauch für Warmwasser enthalten',\n",
              "       'Verbrauchsausweis Energie\\xadver\\xadbrauchs\\xadkennwert 123 kWh/(m²*a)',\n",
              "       'Verbrauchsausweis End\\xadenergie\\xadverbrauch 144,4 kWh/(m²*a)',\n",
              "       'Verbrauchsausweis End\\xadenergie\\xadverbrauch 78,34 kWh/(m²*a)',\n",
              "       'Verbrauchsausweis End\\xadenergie\\xadverbrauch 56,2 kWh/(m²*a)',\n",
              "       'Verbrauchsausweis End\\xadenergie\\xadverbrauch 136 kWh/(m²*a)',\n",
              "       'Verbrauchsausweis Energie\\xadver\\xadbrauchs\\xadkennwert 92 kWh/(m²*a) Energieverbrauch für Warmwasser enthalten',\n",
              "       'Verbrauchsausweis Energie\\xadver\\xadbrauchs\\xadkennwert 158,7 kWh/(m²*a) Energieverbrauch für Warmwasser enthalten',\n",
              "       'Verbrauchsausweis Energie\\xadver\\xadbrauchs\\xadkennwert 125 kWh/(m²*a)',\n",
              "       'Verbrauchsausweis End\\xadenergie\\xadverbrauch 97 kWh/(m²*a)',\n",
              "       'Verbrauchsausweis Energie\\xadver\\xadbrauchs\\xadkennwert 121 kWh/(m²*a) Energieverbrauch für Warmwasser enthalten',\n",
              "       'Verbrauchsausweis Energie\\xadver\\xadbrauchs\\xadkennwert 112,9 kWh/(m²*a)',\n",
              "       'Verbrauchsausweis Energie\\xadver\\xadbrauchs\\xadkennwert 123,9 kWh/(m²*a)',\n",
              "       'Verbrauchsausweis Energie\\xadver\\xadbrauchs\\xadkennwert 102 kWh/(m²*a) Energieverbrauch für Warmwasser enthalten',\n",
              "       'Verbrauchsausweis End\\xadenergie\\xadverbrauch 209 kWh/(m²*a)',\n",
              "       'Verbrauchsausweis Energie\\xadver\\xadbrauchs\\xadkennwert 144 kWh/(m²*a)',\n",
              "       'Verbrauchsausweis End\\xadenergie\\xadverbrauch 105,1 kWh/(m²*a)',\n",
              "       'Verbrauchsausweis End\\xadenergie\\xadverbrauch 105 kWh/(m²*a)',\n",
              "       'Verbrauchsausweis Energie\\xadver\\xadbrauchs\\xadkennwert 136,3 kWh/(m²*a)',\n",
              "       'Verbrauchsausweis Energie\\xadver\\xadbrauchs\\xadkennwert 144,2 kWh/(m²*a)',\n",
              "       'Verbrauchsausweis Energie\\xadver\\xadbrauchs\\xadkennwert 139 kWh/(m²*a)',\n",
              "       'Verbrauchsausweis End\\xadenergie\\xadverbrauch 177,5 kWh/(m²*a)',\n",
              "       'Verbrauchsausweis End\\xadenergie\\xadverbrauch 128,51 kWh/(m²*a)',\n",
              "       'Verbrauchsausweis End\\xadenergie\\xadverbrauch 62 kWh/(m²*a)',\n",
              "       'Verbrauchsausweis End\\xadenergie\\xadverbrauch 146,9 kWh/(m²*a)',\n",
              "       'Verbrauchsausweis Energie\\xadver\\xadbrauchs\\xadkennwert 192,92 kWh/(m²*a) Energieverbrauch für Warmwasser enthalten',\n",
              "       'Verbrauchsausweis Energie\\xadver\\xadbrauchs\\xadkennwert 126 kWh/(m²*a) Energieverbrauch für Warmwasser enthalten',\n",
              "       'Verbrauchsausweis End\\xadenergie\\xadverbrauch 72,82 kWh/(m²*a)',\n",
              "       'Verbrauchsausweis Energie\\xadver\\xadbrauchs\\xadkennwert 120 kWh/(m²*a)',\n",
              "       'Verbrauchsausweis End\\xadenergie\\xadverbrauch 87,98 kWh/(m²*a)',\n",
              "       'Verbrauchsausweis Energie\\xadver\\xadbrauchs\\xadkennwert 128 kWh/(m²*a)',\n",
              "       'Verbrauchsausweis End\\xadenergie\\xadverbrauch 170,8 kWh/(m²*a)',\n",
              "       'Verbrauchsausweis End\\xadenergie\\xadverbrauch 103,8 kWh/(m²*a)',\n",
              "       'Verbrauchsausweis End\\xadenergie\\xadverbrauch 93,7 kWh/(m²*a)',\n",
              "       'Verbrauchsausweis Energie\\xadver\\xadbrauchs\\xadkennwert 148 kWh/(m²*a) Energieverbrauch für Warmwasser enthalten',\n",
              "       'Verbrauchsausweis Energie\\xadver\\xadbrauchs\\xadkennwert 146,8 kWh/(m²*a)',\n",
              "       'Verbrauchsausweis Energie\\xadver\\xadbrauchs\\xadkennwert 109 kWh/(m²*a)',\n",
              "       'Verbrauchsausweis End\\xadenergie\\xadverbrauch 63,4 kWh/(m²*a)',\n",
              "       'Verbrauchsausweis Energie\\xadver\\xadbrauchs\\xadkennwert 98,6 kWh/(m²*a)',\n",
              "       'Verbrauchsausweis Energie\\xadver\\xadbrauchs\\xadkennwert 174 kWh/(m²*a) Energieverbrauch für Warmwasser enthalten',\n",
              "       'Verbrauchsausweis End\\xadenergie\\xadverbrauch 172,5 kWh/(m²*a)',\n",
              "       'Verbrauchsausweis Energie\\xadver\\xadbrauchs\\xadkennwert 130,9 kWh/(m²*a) Energieverbrauch für Warmwasser enthalten',\n",
              "       'Verbrauchsausweis End\\xadenergie\\xadverbrauch 66,21 kWh/(m²*a)',\n",
              "       'Verbrauchsausweis Energie\\xadver\\xadbrauchs\\xadkennwert 81,9 kWh/(m²*a)',\n",
              "       'Verbrauchsausweis End\\xadenergie\\xadverbrauch 128 kWh/(m²*a)',\n",
              "       'Verbrauchsausweis Energie\\xadver\\xadbrauchs\\xadkennwert 64 kWh/(m²*a)',\n",
              "       'Verbrauchsausweis Energie\\xadver\\xadbrauchs\\xadkennwert 116,1 kWh/(m²*a)',\n",
              "       'Verbrauchsausweis End\\xadenergie\\xadverbrauch 141 kWh/(m²*a)',\n",
              "       'Verbrauchsausweis End\\xadenergie\\xadverbrauch 197 kWh/(m²*a)',\n",
              "       'Verbrauchsausweis End\\xadenergie\\xadverbrauch 186 kWh/(m²*a)',\n",
              "       'Verbrauchsausweis Energie\\xadver\\xadbrauchs\\xadkennwert 131 kWh/(m²*a) Energieverbrauch für Warmwasser enthalten',\n",
              "       'Verbrauchsausweis End\\xadenergie\\xadverbrauch 65,4 kWh/(m²*a)',\n",
              "       'Verbrauchsausweis End\\xadenergie\\xadverbrauch 97,4 kWh/(m²*a)',\n",
              "       'Verbrauchsausweis Energie\\xadver\\xadbrauchs\\xadkennwert 207,5 kWh/(m²*a)',\n",
              "       'Verbrauchsausweis Energie\\xadver\\xadbrauchs\\xadkennwert 187,9 kWh/(m²*a)',\n",
              "       'Verbrauchsausweis Energie\\xadver\\xadbrauchs\\xadkennwert 82,5 kWh/(m²*a)',\n",
              "       'Verbrauchsausweis End\\xadenergie\\xadverbrauch 89 kWh/(m²*a)',\n",
              "       'Verbrauchsausweis Energie\\xadver\\xadbrauchs\\xadkennwert 119,1 kWh/(m²*a)',\n",
              "       'Verbrauchsausweis End\\xadenergie\\xadverbrauch 86 kWh/(m²*a)',\n",
              "       'Verbrauchsausweis Energie\\xadver\\xadbrauchs\\xadkennwert 91,4 kWh/(m²*a)'],\n",
              "      dtype=object)"
            ]
          },
          "metadata": {},
          "execution_count": 179
        }
      ]
    },
    {
      "cell_type": "code",
      "metadata": {
        "colab": {
          "base_uri": "https://localhost:8080/",
          "height": 363
        },
        "id": "JsMWSwkPpbVV",
        "outputId": "d4d07e8c-1d3c-4cbe-8a09-bc0595b88d5d"
      },
      "source": [
        "# First, try to extract the digits from the text.\n",
        "# The provided regex [0-9]+ matches 1 or more consecutive digits.\n",
        "# 'extract' only returns the first match of the regex pattern. \n",
        "# For example, for a value 172,5 this would only extract 172 and not 5\n",
        "# (because there is a non-digit ',' and 172 is the first match of consecutive digits). \n",
        "# In this case this is good enough, since we don't have values that go beyond\n",
        "# hundreds. To make it more robust, it would be good to keep all matches of the regex ('extractall' can do that, but the output is than a bit more complex)\n",
        "# and/or have a more complex regex pattern \n",
        "extracted_numbers = df['type_of_certificate'].str.extract('([0-9]+)')\n",
        "\n",
        "# The extracted numbers can for example be used to fill in some missing values\n",
        "# for the \"energy_requirements\" columns. So if the energy_requirement value is missing\n",
        "# but the corresponding extracted number from here exists, that can be used. \n",
        "\n",
        "# Just to show a couple of the extracted values\n",
        "extracted_numbers.astype(float).dropna().sample(10)"
      ],
      "execution_count": 180,
      "outputs": [
        {
          "output_type": "execute_result",
          "data": {
            "text/html": [
              "\n",
              "  <div id=\"df-34be2cb8-8bc6-4db7-85af-dc42b23aec64\">\n",
              "    <div class=\"colab-df-container\">\n",
              "      <div>\n",
              "<style scoped>\n",
              "    .dataframe tbody tr th:only-of-type {\n",
              "        vertical-align: middle;\n",
              "    }\n",
              "\n",
              "    .dataframe tbody tr th {\n",
              "        vertical-align: top;\n",
              "    }\n",
              "\n",
              "    .dataframe thead th {\n",
              "        text-align: right;\n",
              "    }\n",
              "</style>\n",
              "<table border=\"1\" class=\"dataframe\">\n",
              "  <thead>\n",
              "    <tr style=\"text-align: right;\">\n",
              "      <th></th>\n",
              "      <th>0</th>\n",
              "    </tr>\n",
              "  </thead>\n",
              "  <tbody>\n",
              "    <tr>\n",
              "      <th>334</th>\n",
              "      <td>72.0</td>\n",
              "    </tr>\n",
              "    <tr>\n",
              "      <th>109</th>\n",
              "      <td>219.0</td>\n",
              "    </tr>\n",
              "    <tr>\n",
              "      <th>569</th>\n",
              "      <td>64.0</td>\n",
              "    </tr>\n",
              "    <tr>\n",
              "      <th>171</th>\n",
              "      <td>98.0</td>\n",
              "    </tr>\n",
              "    <tr>\n",
              "      <th>232</th>\n",
              "      <td>121.0</td>\n",
              "    </tr>\n",
              "    <tr>\n",
              "      <th>289</th>\n",
              "      <td>105.0</td>\n",
              "    </tr>\n",
              "    <tr>\n",
              "      <th>192</th>\n",
              "      <td>78.0</td>\n",
              "    </tr>\n",
              "    <tr>\n",
              "      <th>509</th>\n",
              "      <td>126.0</td>\n",
              "    </tr>\n",
              "    <tr>\n",
              "      <th>134</th>\n",
              "      <td>126.0</td>\n",
              "    </tr>\n",
              "    <tr>\n",
              "      <th>124</th>\n",
              "      <td>163.0</td>\n",
              "    </tr>\n",
              "  </tbody>\n",
              "</table>\n",
              "</div>\n",
              "      <button class=\"colab-df-convert\" onclick=\"convertToInteractive('df-34be2cb8-8bc6-4db7-85af-dc42b23aec64')\"\n",
              "              title=\"Convert this dataframe to an interactive table.\"\n",
              "              style=\"display:none;\">\n",
              "        \n",
              "  <svg xmlns=\"http://www.w3.org/2000/svg\" height=\"24px\"viewBox=\"0 0 24 24\"\n",
              "       width=\"24px\">\n",
              "    <path d=\"M0 0h24v24H0V0z\" fill=\"none\"/>\n",
              "    <path d=\"M18.56 5.44l.94 2.06.94-2.06 2.06-.94-2.06-.94-.94-2.06-.94 2.06-2.06.94zm-11 1L8.5 8.5l.94-2.06 2.06-.94-2.06-.94L8.5 2.5l-.94 2.06-2.06.94zm10 10l.94 2.06.94-2.06 2.06-.94-2.06-.94-.94-2.06-.94 2.06-2.06.94z\"/><path d=\"M17.41 7.96l-1.37-1.37c-.4-.4-.92-.59-1.43-.59-.52 0-1.04.2-1.43.59L10.3 9.45l-7.72 7.72c-.78.78-.78 2.05 0 2.83L4 21.41c.39.39.9.59 1.41.59.51 0 1.02-.2 1.41-.59l7.78-7.78 2.81-2.81c.8-.78.8-2.07 0-2.86zM5.41 20L4 18.59l7.72-7.72 1.47 1.35L5.41 20z\"/>\n",
              "  </svg>\n",
              "      </button>\n",
              "      \n",
              "  <style>\n",
              "    .colab-df-container {\n",
              "      display:flex;\n",
              "      flex-wrap:wrap;\n",
              "      gap: 12px;\n",
              "    }\n",
              "\n",
              "    .colab-df-convert {\n",
              "      background-color: #E8F0FE;\n",
              "      border: none;\n",
              "      border-radius: 50%;\n",
              "      cursor: pointer;\n",
              "      display: none;\n",
              "      fill: #1967D2;\n",
              "      height: 32px;\n",
              "      padding: 0 0 0 0;\n",
              "      width: 32px;\n",
              "    }\n",
              "\n",
              "    .colab-df-convert:hover {\n",
              "      background-color: #E2EBFA;\n",
              "      box-shadow: 0px 1px 2px rgba(60, 64, 67, 0.3), 0px 1px 3px 1px rgba(60, 64, 67, 0.15);\n",
              "      fill: #174EA6;\n",
              "    }\n",
              "\n",
              "    [theme=dark] .colab-df-convert {\n",
              "      background-color: #3B4455;\n",
              "      fill: #D2E3FC;\n",
              "    }\n",
              "\n",
              "    [theme=dark] .colab-df-convert:hover {\n",
              "      background-color: #434B5C;\n",
              "      box-shadow: 0px 1px 3px 1px rgba(0, 0, 0, 0.15);\n",
              "      filter: drop-shadow(0px 1px 2px rgba(0, 0, 0, 0.3));\n",
              "      fill: #FFFFFF;\n",
              "    }\n",
              "  </style>\n",
              "\n",
              "      <script>\n",
              "        const buttonEl =\n",
              "          document.querySelector('#df-34be2cb8-8bc6-4db7-85af-dc42b23aec64 button.colab-df-convert');\n",
              "        buttonEl.style.display =\n",
              "          google.colab.kernel.accessAllowed ? 'block' : 'none';\n",
              "\n",
              "        async function convertToInteractive(key) {\n",
              "          const element = document.querySelector('#df-34be2cb8-8bc6-4db7-85af-dc42b23aec64');\n",
              "          const dataTable =\n",
              "            await google.colab.kernel.invokeFunction('convertToInteractive',\n",
              "                                                     [key], {});\n",
              "          if (!dataTable) return;\n",
              "\n",
              "          const docLinkHtml = 'Like what you see? Visit the ' +\n",
              "            '<a target=\"_blank\" href=https://colab.research.google.com/notebooks/data_table.ipynb>data table notebook</a>'\n",
              "            + ' to learn more about interactive tables.';\n",
              "          element.innerHTML = '';\n",
              "          dataTable['output_type'] = 'display_data';\n",
              "          await google.colab.output.renderOutput(dataTable, element);\n",
              "          const docLink = document.createElement('div');\n",
              "          docLink.innerHTML = docLinkHtml;\n",
              "          element.appendChild(docLink);\n",
              "        }\n",
              "      </script>\n",
              "    </div>\n",
              "  </div>\n",
              "  "
            ],
            "text/plain": [
              "         0\n",
              "334   72.0\n",
              "109  219.0\n",
              "569   64.0\n",
              "171   98.0\n",
              "232  121.0\n",
              "289  105.0\n",
              "192   78.0\n",
              "509  126.0\n",
              "134  126.0\n",
              "124  163.0"
            ]
          },
          "metadata": {},
          "execution_count": 180
        }
      ]
    }
  ]
}